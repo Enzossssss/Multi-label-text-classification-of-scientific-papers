{
  "cells": [
    {
      "cell_type": "markdown",
      "metadata": {
        "id": "a7yvTqqBKJ-D"
      },
      "source": [
        "# TEXT MINING Project 2022-202: Multi-label text classification of scientific papers\n",
        "\n",
        "**Author**: Vincenzo Collura\n",
        "\n",
        "**Mail**: vincenzo.collura2@studio.unibo.it"
      ]
    },
    {
      "cell_type": "markdown",
      "metadata": {
        "id": "hpgoO8PAoQeM"
      },
      "source": [
        "# SECTION 0: Initial part and pre-processing\n"
      ]
    },
    {
      "cell_type": "code",
      "execution_count": null,
      "metadata": {
        "colab": {
          "base_uri": "https://localhost:8080/"
        },
        "id": "gvIcojrtM3d7",
        "outputId": "7818cead-5556-47eb-9f8d-5412e0e9fd48"
      },
      "outputs": [
        {
          "name": "stdout",
          "output_type": "stream",
          "text": [
            "Looking in indexes: https://pypi.org/simple, https://us-python.pkg.dev/colab-wheels/public/simple/\n",
            "Requirement already satisfied: datasets in /usr/local/lib/python3.8/dist-packages (2.8.0)\n",
            "Requirement already satisfied: tqdm>=4.62.1 in /usr/local/lib/python3.8/dist-packages (from datasets) (4.64.1)\n",
            "Requirement already satisfied: packaging in /usr/local/lib/python3.8/dist-packages (from datasets) (21.3)\n",
            "Requirement already satisfied: responses<0.19 in /usr/local/lib/python3.8/dist-packages (from datasets) (0.18.0)\n",
            "Requirement already satisfied: fsspec[http]>=2021.11.1 in /usr/local/lib/python3.8/dist-packages (from datasets) (2022.11.0)\n",
            "Requirement already satisfied: huggingface-hub<1.0.0,>=0.2.0 in /usr/local/lib/python3.8/dist-packages (from datasets) (0.11.1)\n",
            "Requirement already satisfied: requests>=2.19.0 in /usr/local/lib/python3.8/dist-packages (from datasets) (2.25.1)\n",
            "Requirement already satisfied: pyyaml>=5.1 in /usr/local/lib/python3.8/dist-packages (from datasets) (6.0)\n",
            "Requirement already satisfied: pandas in /usr/local/lib/python3.8/dist-packages (from datasets) (1.3.5)\n",
            "Requirement already satisfied: xxhash in /usr/local/lib/python3.8/dist-packages (from datasets) (3.2.0)\n",
            "Requirement already satisfied: aiohttp in /usr/local/lib/python3.8/dist-packages (from datasets) (3.8.3)\n",
            "Requirement already satisfied: dill<0.3.7 in /usr/local/lib/python3.8/dist-packages (from datasets) (0.3.6)\n",
            "Requirement already satisfied: pyarrow>=6.0.0 in /usr/local/lib/python3.8/dist-packages (from datasets) (9.0.0)\n",
            "Requirement already satisfied: multiprocess in /usr/local/lib/python3.8/dist-packages (from datasets) (0.70.14)\n",
            "Requirement already satisfied: numpy>=1.17 in /usr/local/lib/python3.8/dist-packages (from datasets) (1.21.6)\n",
            "Requirement already satisfied: attrs>=17.3.0 in /usr/local/lib/python3.8/dist-packages (from aiohttp->datasets) (22.2.0)\n",
            "Requirement already satisfied: charset-normalizer<3.0,>=2.0 in /usr/local/lib/python3.8/dist-packages (from aiohttp->datasets) (2.1.1)\n",
            "Requirement already satisfied: yarl<2.0,>=1.0 in /usr/local/lib/python3.8/dist-packages (from aiohttp->datasets) (1.8.2)\n",
            "Requirement already satisfied: aiosignal>=1.1.2 in /usr/local/lib/python3.8/dist-packages (from aiohttp->datasets) (1.3.1)\n",
            "Requirement already satisfied: multidict<7.0,>=4.5 in /usr/local/lib/python3.8/dist-packages (from aiohttp->datasets) (6.0.4)\n",
            "Requirement already satisfied: frozenlist>=1.1.1 in /usr/local/lib/python3.8/dist-packages (from aiohttp->datasets) (1.3.3)\n",
            "Requirement already satisfied: async-timeout<5.0,>=4.0.0a3 in /usr/local/lib/python3.8/dist-packages (from aiohttp->datasets) (4.0.2)\n",
            "Requirement already satisfied: typing-extensions>=3.7.4.3 in /usr/local/lib/python3.8/dist-packages (from huggingface-hub<1.0.0,>=0.2.0->datasets) (4.4.0)\n",
            "Requirement already satisfied: filelock in /usr/local/lib/python3.8/dist-packages (from huggingface-hub<1.0.0,>=0.2.0->datasets) (3.9.0)\n",
            "Requirement already satisfied: pyparsing!=3.0.5,>=2.0.2 in /usr/local/lib/python3.8/dist-packages (from packaging->datasets) (3.0.9)\n",
            "Requirement already satisfied: certifi>=2017.4.17 in /usr/local/lib/python3.8/dist-packages (from requests>=2.19.0->datasets) (2022.12.7)\n",
            "Requirement already satisfied: idna<3,>=2.5 in /usr/local/lib/python3.8/dist-packages (from requests>=2.19.0->datasets) (2.10)\n",
            "Requirement already satisfied: urllib3<1.27,>=1.21.1 in /usr/local/lib/python3.8/dist-packages (from requests>=2.19.0->datasets) (1.26.14)\n",
            "Requirement already satisfied: chardet<5,>=3.0.2 in /usr/local/lib/python3.8/dist-packages (from requests>=2.19.0->datasets) (4.0.0)\n",
            "Requirement already satisfied: pytz>=2017.3 in /usr/local/lib/python3.8/dist-packages (from pandas->datasets) (2022.7)\n",
            "Requirement already satisfied: python-dateutil>=2.7.3 in /usr/local/lib/python3.8/dist-packages (from pandas->datasets) (2.8.2)\n",
            "Requirement already satisfied: six>=1.5 in /usr/local/lib/python3.8/dist-packages (from python-dateutil>=2.7.3->pandas->datasets) (1.15.0)\n"
          ]
        }
      ],
      "source": [
        "! pip install datasets"
      ]
    },
    {
      "cell_type": "code",
      "execution_count": null,
      "metadata": {
        "colab": {
          "base_uri": "https://localhost:8080/"
        },
        "id": "HO9FRutIMfKI",
        "outputId": "8542a23b-d8fd-4810-82a9-2eb8e6384de5"
      },
      "outputs": [
        {
          "name": "stdout",
          "output_type": "stream",
          "text": [
            "Looking in indexes: https://pypi.org/simple, https://us-python.pkg.dev/colab-wheels/public/simple/\n",
            "Requirement already satisfied: transformers in /usr/local/lib/python3.8/dist-packages (4.25.1)\n",
            "Requirement already satisfied: tqdm>=4.27 in /usr/local/lib/python3.8/dist-packages (from transformers) (4.64.1)\n",
            "Requirement already satisfied: requests in /usr/local/lib/python3.8/dist-packages (from transformers) (2.25.1)\n",
            "Requirement already satisfied: pyyaml>=5.1 in /usr/local/lib/python3.8/dist-packages (from transformers) (6.0)\n",
            "Requirement already satisfied: huggingface-hub<1.0,>=0.10.0 in /usr/local/lib/python3.8/dist-packages (from transformers) (0.11.1)\n",
            "Requirement already satisfied: tokenizers!=0.11.3,<0.14,>=0.11.1 in /usr/local/lib/python3.8/dist-packages (from transformers) (0.13.2)\n",
            "Requirement already satisfied: numpy>=1.17 in /usr/local/lib/python3.8/dist-packages (from transformers) (1.21.6)\n",
            "Requirement already satisfied: filelock in /usr/local/lib/python3.8/dist-packages (from transformers) (3.9.0)\n",
            "Requirement already satisfied: packaging>=20.0 in /usr/local/lib/python3.8/dist-packages (from transformers) (21.3)\n",
            "Requirement already satisfied: regex!=2019.12.17 in /usr/local/lib/python3.8/dist-packages (from transformers) (2022.6.2)\n",
            "Requirement already satisfied: typing-extensions>=3.7.4.3 in /usr/local/lib/python3.8/dist-packages (from huggingface-hub<1.0,>=0.10.0->transformers) (4.4.0)\n",
            "Requirement already satisfied: pyparsing!=3.0.5,>=2.0.2 in /usr/local/lib/python3.8/dist-packages (from packaging>=20.0->transformers) (3.0.9)\n",
            "Requirement already satisfied: certifi>=2017.4.17 in /usr/local/lib/python3.8/dist-packages (from requests->transformers) (2022.12.7)\n",
            "Requirement already satisfied: idna<3,>=2.5 in /usr/local/lib/python3.8/dist-packages (from requests->transformers) (2.10)\n",
            "Requirement already satisfied: urllib3<1.27,>=1.21.1 in /usr/local/lib/python3.8/dist-packages (from requests->transformers) (1.26.14)\n",
            "Requirement already satisfied: chardet<5,>=3.0.2 in /usr/local/lib/python3.8/dist-packages (from requests->transformers) (4.0.0)\n"
          ]
        }
      ],
      "source": [
        "! pip install transformers"
      ]
    },
    {
      "cell_type": "code",
      "execution_count": null,
      "metadata": {
        "colab": {
          "base_uri": "https://localhost:8080/"
        },
        "id": "IlgfViJZid74",
        "outputId": "50459e6f-e5b8-4e40-eba1-10ba61a28774"
      },
      "outputs": [
        {
          "name": "stdout",
          "output_type": "stream",
          "text": [
            "Looking in indexes: https://pypi.org/simple, https://us-python.pkg.dev/colab-wheels/public/simple/\n",
            "Requirement already satisfied: pytorch_lightning in /usr/local/lib/python3.8/dist-packages (1.8.6)\n",
            "Requirement already satisfied: lightning-utilities!=0.4.0,>=0.3.0 in /usr/local/lib/python3.8/dist-packages (from pytorch_lightning) (0.5.0)\n",
            "Requirement already satisfied: packaging>=17.0 in /usr/local/lib/python3.8/dist-packages (from pytorch_lightning) (21.3)\n",
            "Requirement already satisfied: fsspec[http]>2021.06.0 in /usr/local/lib/python3.8/dist-packages (from pytorch_lightning) (2022.11.0)\n",
            "Requirement already satisfied: tqdm>=4.57.0 in /usr/local/lib/python3.8/dist-packages (from pytorch_lightning) (4.64.1)\n",
            "Requirement already satisfied: PyYAML>=5.4 in /usr/local/lib/python3.8/dist-packages (from pytorch_lightning) (6.0)\n",
            "Requirement already satisfied: torchmetrics>=0.7.0 in /usr/local/lib/python3.8/dist-packages (from pytorch_lightning) (0.11.0)\n",
            "Requirement already satisfied: tensorboardX>=2.2 in /usr/local/lib/python3.8/dist-packages (from pytorch_lightning) (2.5.1)\n",
            "Requirement already satisfied: typing-extensions>=4.0.0 in /usr/local/lib/python3.8/dist-packages (from pytorch_lightning) (4.4.0)\n",
            "Requirement already satisfied: numpy>=1.17.2 in /usr/local/lib/python3.8/dist-packages (from pytorch_lightning) (1.21.6)\n",
            "Requirement already satisfied: torch>=1.9.0 in /usr/local/lib/python3.8/dist-packages (from pytorch_lightning) (1.13.0+cu116)\n",
            "Requirement already satisfied: aiohttp!=4.0.0a0,!=4.0.0a1 in /usr/local/lib/python3.8/dist-packages (from fsspec[http]>2021.06.0->pytorch_lightning) (3.8.3)\n",
            "Requirement already satisfied: requests in /usr/local/lib/python3.8/dist-packages (from fsspec[http]>2021.06.0->pytorch_lightning) (2.25.1)\n",
            "Requirement already satisfied: pyparsing!=3.0.5,>=2.0.2 in /usr/local/lib/python3.8/dist-packages (from packaging>=17.0->pytorch_lightning) (3.0.9)\n",
            "Requirement already satisfied: protobuf<=3.20.1,>=3.8.0 in /usr/local/lib/python3.8/dist-packages (from tensorboardX>=2.2->pytorch_lightning) (3.19.6)\n",
            "Requirement already satisfied: yarl<2.0,>=1.0 in /usr/local/lib/python3.8/dist-packages (from aiohttp!=4.0.0a0,!=4.0.0a1->fsspec[http]>2021.06.0->pytorch_lightning) (1.8.2)\n",
            "Requirement already satisfied: multidict<7.0,>=4.5 in /usr/local/lib/python3.8/dist-packages (from aiohttp!=4.0.0a0,!=4.0.0a1->fsspec[http]>2021.06.0->pytorch_lightning) (6.0.4)\n",
            "Requirement already satisfied: charset-normalizer<3.0,>=2.0 in /usr/local/lib/python3.8/dist-packages (from aiohttp!=4.0.0a0,!=4.0.0a1->fsspec[http]>2021.06.0->pytorch_lightning) (2.1.1)\n",
            "Requirement already satisfied: attrs>=17.3.0 in /usr/local/lib/python3.8/dist-packages (from aiohttp!=4.0.0a0,!=4.0.0a1->fsspec[http]>2021.06.0->pytorch_lightning) (22.2.0)\n",
            "Requirement already satisfied: async-timeout<5.0,>=4.0.0a3 in /usr/local/lib/python3.8/dist-packages (from aiohttp!=4.0.0a0,!=4.0.0a1->fsspec[http]>2021.06.0->pytorch_lightning) (4.0.2)\n",
            "Requirement already satisfied: aiosignal>=1.1.2 in /usr/local/lib/python3.8/dist-packages (from aiohttp!=4.0.0a0,!=4.0.0a1->fsspec[http]>2021.06.0->pytorch_lightning) (1.3.1)\n",
            "Requirement already satisfied: frozenlist>=1.1.1 in /usr/local/lib/python3.8/dist-packages (from aiohttp!=4.0.0a0,!=4.0.0a1->fsspec[http]>2021.06.0->pytorch_lightning) (1.3.3)\n",
            "Requirement already satisfied: idna<3,>=2.5 in /usr/local/lib/python3.8/dist-packages (from requests->fsspec[http]>2021.06.0->pytorch_lightning) (2.10)\n",
            "Requirement already satisfied: chardet<5,>=3.0.2 in /usr/local/lib/python3.8/dist-packages (from requests->fsspec[http]>2021.06.0->pytorch_lightning) (4.0.0)\n",
            "Requirement already satisfied: urllib3<1.27,>=1.21.1 in /usr/local/lib/python3.8/dist-packages (from requests->fsspec[http]>2021.06.0->pytorch_lightning) (1.26.14)\n",
            "Requirement already satisfied: certifi>=2017.4.17 in /usr/local/lib/python3.8/dist-packages (from requests->fsspec[http]>2021.06.0->pytorch_lightning) (2022.12.7)\n"
          ]
        }
      ],
      "source": [
        "! pip install pytorch_lightning"
      ]
    },
    {
      "cell_type": "markdown",
      "metadata": {
        "id": "HeOl5tJOMWp3"
      },
      "source": [
        "## Libraries"
      ]
    },
    {
      "cell_type": "code",
      "execution_count": null,
      "metadata": {
        "colab": {
          "base_uri": "https://localhost:8080/"
        },
        "id": "6mKAHa__oQeO",
        "outputId": "5d24cf05-25d7-4979-ab5a-3b38af16962c"
      },
      "outputs": [
        {
          "name": "stderr",
          "output_type": "stream",
          "text": [
            "[nltk_data] Downloading package stopwords to /root/nltk_data...\n",
            "[nltk_data]   Package stopwords is already up-to-date!\n",
            "[nltk_data] Downloading package punkt to /root/nltk_data...\n",
            "[nltk_data]   Package punkt is already up-to-date!\n",
            "[nltk_data] Downloading package wordnet to /root/nltk_data...\n",
            "[nltk_data]   Package wordnet is already up-to-date!\n",
            "[nltk_data] Downloading package omw-1.4 to /root/nltk_data...\n",
            "[nltk_data]   Package omw-1.4 is already up-to-date!\n"
          ]
        },
        {
          "name": "stdout",
          "output_type": "stream",
          "text": [
            "Drive already mounted at /content/drive; to attempt to forcibly remount, call drive.mount(\"/content/drive\", force_remount=True).\n"
          ]
        }
      ],
      "source": [
        "import os\n",
        "import string\n",
        "import pandas as pd\n",
        "from sklearn.model_selection import train_test_split\n",
        "import nltk\n",
        "import gc\n",
        "from nltk.tokenize import word_tokenize\n",
        "from nltk.corpus import stopwords\n",
        "from sklearn.feature_extraction.text import CountVectorizer\n",
        "from nltk.stem.porter import PorterStemmer\n",
        "from nltk.stem import WordNetLemmatizer\n",
        "from warnings import simplefilter\n",
        "from sklearn.feature_extraction.text import TfidfVectorizer\n",
        "import numpy as np\n",
        "from collections import OrderedDict\n",
        "from typing import List\n",
        "from tqdm import tqdm\n",
        "import copy\n",
        "from copy import deepcopy\n",
        "from google.colab import drive\n",
        "\n",
        "from sklearn.naive_bayes import MultinomialNB\n",
        "from sklearn.linear_model import LogisticRegression\n",
        "from sklearn.svm import LinearSVC\n",
        "from sklearn.multiclass import OneVsRestClassifier\n",
        "from sklearn.metrics import classification_report\n",
        "\n",
        "from sklearn.metrics import precision_score, multilabel_confusion_matrix, roc_auc_score, recall_score, accuracy_score, f1_score, precision_recall_fscore_support as prfs\n",
        "from datasets import Dataset, DatasetDict\n",
        "\n",
        "from transformers import AutoModelForSequenceClassification, AutoTokenizer, RobertaForSequenceClassification, BertForSequenceClassification, DataCollatorWithPadding, EvalPrediction, TrainerCallback, TrainingArguments, Trainer\n",
        "\n",
        "import torch\n",
        "import torch.nn as nn\n",
        "import torch.nn.functional as F\n",
        "import pytorch_lightning as pl\n",
        "import torchmetrics\n",
        "#from torchinfo import summary\n",
        "from torch.utils.data import DataLoader\n",
        "from pytorch_lightning import Callback\n",
        "from pytorch_lightning.callbacks.early_stopping import EarlyStopping\n",
        "\n",
        "from collections import defaultdict\n",
        "\n",
        "# Glove embeddings\n",
        "import gensim\n",
        "import gensim.downloader as gloader\n",
        "\n",
        "from transformers import BertTokenizer, BertModel\n",
        "import shutil\n",
        "\n",
        "# Plotting libraries\n",
        "import plotly.express as px\n",
        "import plotly.graph_objects as go\n",
        "from plotly.subplots import make_subplots\n",
        "\n",
        "from tensorflow.keras.models import Model\n",
        "from tensorflow.keras.layers import Dense, Embedding, LSTM, SpatialDropout1D, Input, Conv1D, Bidirectional, GlobalAveragePooling1D\n",
        "from tensorflow.keras.callbacks import EarlyStopping\n",
        "from tensorflow.keras.layers import Dropout\n",
        "from tensorflow.keras.optimizers import RMSprop\n",
        "\n",
        "# ignore all future warnings\n",
        "simplefilter(action='ignore', category=FutureWarning)\n",
        "nltk.download(\"stopwords\")\n",
        "nltk.download('punkt')\n",
        "nltk.download('wordnet')\n",
        "nltk.download('omw-1.4')\n",
        "drive.mount('/content/drive')"
      ]
    },
    {
      "cell_type": "markdown",
      "metadata": {
        "id": "Nb3V6rrGoQeU"
      },
      "source": [
        "## Read data into a dataframe\n",
        "Data from:\n",
        "\n",
        "https://datahack.analyticsvidhya.com/contest/janatahack-independence-day-2020-ml-hackathon/True/#About"
      ]
    },
    {
      "cell_type": "code",
      "execution_count": null,
      "metadata": {
        "id": "a9S8YoC4oQeW"
      },
      "outputs": [],
      "source": [
        "seed = 42\n",
        "\n",
        "df = pd.read_csv('/content/drive/MyDrive/data/train.csv', sep=',')"
      ]
    },
    {
      "cell_type": "markdown",
      "metadata": {
        "id": "szGRZ8jtoQeX"
      },
      "source": [
        "## Quik look to the data"
      ]
    },
    {
      "cell_type": "code",
      "execution_count": null,
      "metadata": {
        "colab": {
          "base_uri": "https://localhost:8080/"
        },
        "id": "eeZUGoumoQeZ",
        "outputId": "7f21449a-5a4a-497b-e7ee-8e311df28bda"
      },
      "outputs": [
        {
          "name": "stdout",
          "output_type": "stream",
          "text": [
            "df train shape:  (20972, 9)\n"
          ]
        }
      ],
      "source": [
        "print('df train shape: ', df.shape)"
      ]
    },
    {
      "cell_type": "code",
      "execution_count": null,
      "metadata": {
        "colab": {
          "base_uri": "https://localhost:8080/"
        },
        "id": "uvSi2mUFoQea",
        "outputId": "6cbf28fa-1e40-4b44-b686-727a02ee7c13"
      },
      "outputs": [
        {
          "data": {
            "text/html": [
              "\n",
              "  <div id=\"df-121c7d32-dba4-4f5d-b958-ebd7c90de8d5\">\n",
              "    <div class=\"colab-df-container\">\n",
              "      <div>\n",
              "<style scoped>\n",
              "    .dataframe tbody tr th:only-of-type {\n",
              "        vertical-align: middle;\n",
              "    }\n",
              "\n",
              "    .dataframe tbody tr th {\n",
              "        vertical-align: top;\n",
              "    }\n",
              "\n",
              "    .dataframe thead th {\n",
              "        text-align: right;\n",
              "    }\n",
              "</style>\n",
              "<table border=\"1\" class=\"dataframe\">\n",
              "  <thead>\n",
              "    <tr style=\"text-align: right;\">\n",
              "      <th></th>\n",
              "      <th>ID</th>\n",
              "      <th>TITLE</th>\n",
              "      <th>ABSTRACT</th>\n",
              "      <th>Computer Science</th>\n",
              "      <th>Physics</th>\n",
              "      <th>Mathematics</th>\n",
              "      <th>Statistics</th>\n",
              "      <th>Quantitative Biology</th>\n",
              "      <th>Quantitative Finance</th>\n",
              "    </tr>\n",
              "  </thead>\n",
              "  <tbody>\n",
              "    <tr>\n",
              "      <th>0</th>\n",
              "      <td>1</td>\n",
              "      <td>Reconstructing Subject-Specific Effect Maps</td>\n",
              "      <td>Predictive models allow subject-specific inf...</td>\n",
              "      <td>1</td>\n",
              "      <td>0</td>\n",
              "      <td>0</td>\n",
              "      <td>0</td>\n",
              "      <td>0</td>\n",
              "      <td>0</td>\n",
              "    </tr>\n",
              "    <tr>\n",
              "      <th>1</th>\n",
              "      <td>2</td>\n",
              "      <td>Rotation Invariance Neural Network</td>\n",
              "      <td>Rotation invariance and translation invarian...</td>\n",
              "      <td>1</td>\n",
              "      <td>0</td>\n",
              "      <td>0</td>\n",
              "      <td>0</td>\n",
              "      <td>0</td>\n",
              "      <td>0</td>\n",
              "    </tr>\n",
              "    <tr>\n",
              "      <th>2</th>\n",
              "      <td>3</td>\n",
              "      <td>Spherical polyharmonics and Poisson kernels fo...</td>\n",
              "      <td>We introduce and develop the notion of spher...</td>\n",
              "      <td>0</td>\n",
              "      <td>0</td>\n",
              "      <td>1</td>\n",
              "      <td>0</td>\n",
              "      <td>0</td>\n",
              "      <td>0</td>\n",
              "    </tr>\n",
              "    <tr>\n",
              "      <th>3</th>\n",
              "      <td>4</td>\n",
              "      <td>A finite element approximation for the stochas...</td>\n",
              "      <td>The stochastic Landau--Lifshitz--Gilbert (LL...</td>\n",
              "      <td>0</td>\n",
              "      <td>0</td>\n",
              "      <td>1</td>\n",
              "      <td>0</td>\n",
              "      <td>0</td>\n",
              "      <td>0</td>\n",
              "    </tr>\n",
              "    <tr>\n",
              "      <th>4</th>\n",
              "      <td>5</td>\n",
              "      <td>Comparative study of Discrete Wavelet Transfor...</td>\n",
              "      <td>Fourier-transform infra-red (FTIR) spectra o...</td>\n",
              "      <td>1</td>\n",
              "      <td>0</td>\n",
              "      <td>0</td>\n",
              "      <td>1</td>\n",
              "      <td>0</td>\n",
              "      <td>0</td>\n",
              "    </tr>\n",
              "  </tbody>\n",
              "</table>\n",
              "</div>\n",
              "      <button class=\"colab-df-convert\" onclick=\"convertToInteractive('df-121c7d32-dba4-4f5d-b958-ebd7c90de8d5')\"\n",
              "              title=\"Convert this dataframe to an interactive table.\"\n",
              "              style=\"display:none;\">\n",
              "        \n",
              "  <svg xmlns=\"http://www.w3.org/2000/svg\" height=\"24px\"viewBox=\"0 0 24 24\"\n",
              "       width=\"24px\">\n",
              "    <path d=\"M0 0h24v24H0V0z\" fill=\"none\"/>\n",
              "    <path d=\"M18.56 5.44l.94 2.06.94-2.06 2.06-.94-2.06-.94-.94-2.06-.94 2.06-2.06.94zm-11 1L8.5 8.5l.94-2.06 2.06-.94-2.06-.94L8.5 2.5l-.94 2.06-2.06.94zm10 10l.94 2.06.94-2.06 2.06-.94-2.06-.94-.94-2.06-.94 2.06-2.06.94z\"/><path d=\"M17.41 7.96l-1.37-1.37c-.4-.4-.92-.59-1.43-.59-.52 0-1.04.2-1.43.59L10.3 9.45l-7.72 7.72c-.78.78-.78 2.05 0 2.83L4 21.41c.39.39.9.59 1.41.59.51 0 1.02-.2 1.41-.59l7.78-7.78 2.81-2.81c.8-.78.8-2.07 0-2.86zM5.41 20L4 18.59l7.72-7.72 1.47 1.35L5.41 20z\"/>\n",
              "  </svg>\n",
              "      </button>\n",
              "      \n",
              "  <style>\n",
              "    .colab-df-container {\n",
              "      display:flex;\n",
              "      flex-wrap:wrap;\n",
              "      gap: 12px;\n",
              "    }\n",
              "\n",
              "    .colab-df-convert {\n",
              "      background-color: #E8F0FE;\n",
              "      border: none;\n",
              "      border-radius: 50%;\n",
              "      cursor: pointer;\n",
              "      display: none;\n",
              "      fill: #1967D2;\n",
              "      height: 32px;\n",
              "      padding: 0 0 0 0;\n",
              "      width: 32px;\n",
              "    }\n",
              "\n",
              "    .colab-df-convert:hover {\n",
              "      background-color: #E2EBFA;\n",
              "      box-shadow: 0px 1px 2px rgba(60, 64, 67, 0.3), 0px 1px 3px 1px rgba(60, 64, 67, 0.15);\n",
              "      fill: #174EA6;\n",
              "    }\n",
              "\n",
              "    [theme=dark] .colab-df-convert {\n",
              "      background-color: #3B4455;\n",
              "      fill: #D2E3FC;\n",
              "    }\n",
              "\n",
              "    [theme=dark] .colab-df-convert:hover {\n",
              "      background-color: #434B5C;\n",
              "      box-shadow: 0px 1px 3px 1px rgba(0, 0, 0, 0.15);\n",
              "      filter: drop-shadow(0px 1px 2px rgba(0, 0, 0, 0.3));\n",
              "      fill: #FFFFFF;\n",
              "    }\n",
              "  </style>\n",
              "\n",
              "      <script>\n",
              "        const buttonEl =\n",
              "          document.querySelector('#df-121c7d32-dba4-4f5d-b958-ebd7c90de8d5 button.colab-df-convert');\n",
              "        buttonEl.style.display =\n",
              "          google.colab.kernel.accessAllowed ? 'block' : 'none';\n",
              "\n",
              "        async function convertToInteractive(key) {\n",
              "          const element = document.querySelector('#df-121c7d32-dba4-4f5d-b958-ebd7c90de8d5');\n",
              "          const dataTable =\n",
              "            await google.colab.kernel.invokeFunction('convertToInteractive',\n",
              "                                                     [key], {});\n",
              "          if (!dataTable) return;\n",
              "\n",
              "          const docLinkHtml = 'Like what you see? Visit the ' +\n",
              "            '<a target=\"_blank\" href=https://colab.research.google.com/notebooks/data_table.ipynb>data table notebook</a>'\n",
              "            + ' to learn more about interactive tables.';\n",
              "          element.innerHTML = '';\n",
              "          dataTable['output_type'] = 'display_data';\n",
              "          await google.colab.output.renderOutput(dataTable, element);\n",
              "          const docLink = document.createElement('div');\n",
              "          docLink.innerHTML = docLinkHtml;\n",
              "          element.appendChild(docLink);\n",
              "        }\n",
              "      </script>\n",
              "    </div>\n",
              "  </div>\n",
              "  "
            ],
            "text/plain": [
              "   ID                                              TITLE  \\\n",
              "0   1        Reconstructing Subject-Specific Effect Maps   \n",
              "1   2                 Rotation Invariance Neural Network   \n",
              "2   3  Spherical polyharmonics and Poisson kernels fo...   \n",
              "3   4  A finite element approximation for the stochas...   \n",
              "4   5  Comparative study of Discrete Wavelet Transfor...   \n",
              "\n",
              "                                            ABSTRACT  Computer Science  \\\n",
              "0    Predictive models allow subject-specific inf...                 1   \n",
              "1    Rotation invariance and translation invarian...                 1   \n",
              "2    We introduce and develop the notion of spher...                 0   \n",
              "3    The stochastic Landau--Lifshitz--Gilbert (LL...                 0   \n",
              "4    Fourier-transform infra-red (FTIR) spectra o...                 1   \n",
              "\n",
              "   Physics  Mathematics  Statistics  Quantitative Biology  \\\n",
              "0        0            0           0                     0   \n",
              "1        0            0           0                     0   \n",
              "2        0            1           0                     0   \n",
              "3        0            1           0                     0   \n",
              "4        0            0           1                     0   \n",
              "\n",
              "   Quantitative Finance  \n",
              "0                     0  \n",
              "1                     0  \n",
              "2                     0  \n",
              "3                     0  \n",
              "4                     0  "
            ]
          },
          "execution_count": 7,
          "metadata": {},
          "output_type": "execute_result"
        }
      ],
      "source": [
        "df.head()"
      ]
    },
    {
      "cell_type": "markdown",
      "metadata": {
        "id": "_XQNrlYMoQeb"
      },
      "source": [
        "## Pre-processing"
      ]
    },
    {
      "cell_type": "code",
      "execution_count": null,
      "metadata": {
        "colab": {
          "base_uri": "https://localhost:8080/"
        },
        "id": "bDJlaZeyoQec",
        "outputId": "06d919a5-b898-40f5-bbe7-e3ef748555b1"
      },
      "outputs": [
        {
          "data": {
            "application/vnd.google.colaboratory.intrinsic+json": {
              "type": "string"
            },
            "text/plain": [
              "\"  Predictive models allow subject-specific inference when analyzing disease\\nrelated alterations in neuroimaging data. Given a subject's data, inference can\\nbe made at two levels: global, i.e. identifiying condition presence for the\\nsubject, and local, i.e. detecting condition effect on each individual\\nmeasurement extracted from the subject's data. While global inference is widely\\nused, local inference, which can be used to form subject-specific effect maps,\\nis rarely used because existing models often yield noisy detections composed of\\ndispersed isolated islands. In this article, we propose a reconstruction\\nmethod, named RSM, to improve subject-specific detections of predictive\\nmodeling approaches and in particular, binary classifiers. RSM specifically\\naims to reduce noise due to sampling error associated with using a finite\\nsample of examples to train classifiers. The proposed method is a wrapper-type\\nalgorithm that can be used with different binary classifiers in a diagnostic\\nmanner, i.e. without information on condition presence. Reconstruction is posed\\nas a Maximum-A-Posteriori problem with a prior model whose parameters are\\nestimated from training data in a classifier-specific fashion. Experimental\\nevaluation is performed on synthetically generated data and data from the\\nAlzheimer's Disease Neuroimaging Initiative (ADNI) database. Results on\\nsynthetic data demonstrate that using RSM yields higher detection accuracy\\ncompared to using models directly or with bootstrap averaging. Analyses on the\\nADNI dataset show that RSM can also improve correlation between\\nsubject-specific detections in cortical thickness data and non-imaging markers\\nof Alzheimer's Disease (AD), such as the Mini Mental State Examination Score\\nand Cerebrospinal Fluid amyloid-$\\\\beta$ levels. Further reliability studies on\\nthe longitudinal ADNI dataset show improvement on detection reliability when\\nRSM is used.\\n\""
            ]
          },
          "execution_count": 8,
          "metadata": {},
          "output_type": "execute_result"
        }
      ],
      "source": [
        "df['ABSTRACT'][0]"
      ]
    },
    {
      "cell_type": "markdown",
      "metadata": {
        "id": "3zqlNr1UoQed"
      },
      "source": [
        "#### Here we have an evident problem with '\\n' and '-' that cancatenate al lot of word that normally are divided."
      ]
    },
    {
      "cell_type": "code",
      "execution_count": null,
      "metadata": {
        "colab": {
          "base_uri": "https://localhost:8080/"
        },
        "id": "jZQyZAg0oQee",
        "outputId": "cb8c456a-4a75-4c32-cda6-dbfe433d8dac"
      },
      "outputs": [
        {
          "name": "stdout",
          "output_type": "stream",
          "text": [
            "  Predictive models allow subject specific inference when analyzing disease related alterations in neuroimaging data. Given a subject's data, inference can be made at two levels: global, i.e. identifiying condition presence for the subject, and local, i.e. detecting condition effect on each individual measurement extracted from the subject's data. While global inference is widely used, local inference, which can be used to form subject specific effect maps, is rarely used because existing models often yield noisy detections composed of dispersed isolated islands. In this article, we propose a reconstruction method, named RSM, to improve subject specific detections of predictive modeling approaches and in particular, binary classifiers. RSM specifically aims to reduce noise due to sampling error associated with using a finite sample of examples to train classifiers. The proposed method is a wrapper type algorithm that can be used with different binary classifiers in a diagnostic manner, i.e. without information on condition presence. Reconstruction is posed as a Maximum A Posteriori problem with a prior model whose parameters are estimated from training data in a classifier specific fashion. Experimental evaluation is performed on synthetically generated data and data from the Alzheimer's Disease Neuroimaging Initiative (ADNI) database. Results on synthetic data demonstrate that using RSM yields higher detection accuracy compared to using models directly or with bootstrap averaging. Analyses on the ADNI dataset show that RSM can also improve correlation between subject specific detections in cortical thickness data and non imaging markers of Alzheimer's Disease (AD), such as the Mini Mental State Examination Score and Cerebrospinal Fluid amyloid $\\beta$ levels. Further reliability studies on the longitudinal ADNI dataset show improvement on detection reliability when RSM is used. \n"
          ]
        }
      ],
      "source": [
        "df['ABSTRACT'] = df['ABSTRACT'].str.replace('\\\\n', ' ', regex=True)\n",
        "df['ABSTRACT'] = df['ABSTRACT'].str.replace('-', ' ', regex=True)\n",
        "print(df['ABSTRACT'][0])"
      ]
    },
    {
      "cell_type": "markdown",
      "metadata": {
        "id": "TMhquAI5oQef"
      },
      "source": [
        "### TITLE and ABSTRACT concatenation"
      ]
    },
    {
      "cell_type": "code",
      "execution_count": null,
      "metadata": {
        "colab": {
          "base_uri": "https://localhost:8080/"
        },
        "id": "Hlj_TdnFoQeg",
        "outputId": "96949d50-3a70-4aff-f91a-917067598b08"
      },
      "outputs": [
        {
          "data": {
            "text/html": [
              "\n",
              "  <div id=\"df-09aaf937-fbbf-4311-8d3d-7fe95042e799\">\n",
              "    <div class=\"colab-df-container\">\n",
              "      <div>\n",
              "<style scoped>\n",
              "    .dataframe tbody tr th:only-of-type {\n",
              "        vertical-align: middle;\n",
              "    }\n",
              "\n",
              "    .dataframe tbody tr th {\n",
              "        vertical-align: top;\n",
              "    }\n",
              "\n",
              "    .dataframe thead th {\n",
              "        text-align: right;\n",
              "    }\n",
              "</style>\n",
              "<table border=\"1\" class=\"dataframe\">\n",
              "  <thead>\n",
              "    <tr style=\"text-align: right;\">\n",
              "      <th></th>\n",
              "      <th>ID</th>\n",
              "      <th>Computer Science</th>\n",
              "      <th>Physics</th>\n",
              "      <th>Mathematics</th>\n",
              "      <th>Statistics</th>\n",
              "      <th>Quantitative Biology</th>\n",
              "      <th>Quantitative Finance</th>\n",
              "      <th>paper</th>\n",
              "    </tr>\n",
              "  </thead>\n",
              "  <tbody>\n",
              "    <tr>\n",
              "      <th>0</th>\n",
              "      <td>1</td>\n",
              "      <td>1</td>\n",
              "      <td>0</td>\n",
              "      <td>0</td>\n",
              "      <td>0</td>\n",
              "      <td>0</td>\n",
              "      <td>0</td>\n",
              "      <td>Reconstructing Subject-Specific Effect Maps  P...</td>\n",
              "    </tr>\n",
              "    <tr>\n",
              "      <th>1</th>\n",
              "      <td>2</td>\n",
              "      <td>1</td>\n",
              "      <td>0</td>\n",
              "      <td>0</td>\n",
              "      <td>0</td>\n",
              "      <td>0</td>\n",
              "      <td>0</td>\n",
              "      <td>Rotation Invariance Neural Network  Rotation i...</td>\n",
              "    </tr>\n",
              "    <tr>\n",
              "      <th>2</th>\n",
              "      <td>3</td>\n",
              "      <td>0</td>\n",
              "      <td>0</td>\n",
              "      <td>1</td>\n",
              "      <td>0</td>\n",
              "      <td>0</td>\n",
              "      <td>0</td>\n",
              "      <td>Spherical polyharmonics and Poisson kernels fo...</td>\n",
              "    </tr>\n",
              "    <tr>\n",
              "      <th>3</th>\n",
              "      <td>4</td>\n",
              "      <td>0</td>\n",
              "      <td>0</td>\n",
              "      <td>1</td>\n",
              "      <td>0</td>\n",
              "      <td>0</td>\n",
              "      <td>0</td>\n",
              "      <td>A finite element approximation for the stochas...</td>\n",
              "    </tr>\n",
              "    <tr>\n",
              "      <th>4</th>\n",
              "      <td>5</td>\n",
              "      <td>1</td>\n",
              "      <td>0</td>\n",
              "      <td>0</td>\n",
              "      <td>1</td>\n",
              "      <td>0</td>\n",
              "      <td>0</td>\n",
              "      <td>Comparative study of Discrete Wavelet Transfor...</td>\n",
              "    </tr>\n",
              "  </tbody>\n",
              "</table>\n",
              "</div>\n",
              "      <button class=\"colab-df-convert\" onclick=\"convertToInteractive('df-09aaf937-fbbf-4311-8d3d-7fe95042e799')\"\n",
              "              title=\"Convert this dataframe to an interactive table.\"\n",
              "              style=\"display:none;\">\n",
              "        \n",
              "  <svg xmlns=\"http://www.w3.org/2000/svg\" height=\"24px\"viewBox=\"0 0 24 24\"\n",
              "       width=\"24px\">\n",
              "    <path d=\"M0 0h24v24H0V0z\" fill=\"none\"/>\n",
              "    <path d=\"M18.56 5.44l.94 2.06.94-2.06 2.06-.94-2.06-.94-.94-2.06-.94 2.06-2.06.94zm-11 1L8.5 8.5l.94-2.06 2.06-.94-2.06-.94L8.5 2.5l-.94 2.06-2.06.94zm10 10l.94 2.06.94-2.06 2.06-.94-2.06-.94-.94-2.06-.94 2.06-2.06.94z\"/><path d=\"M17.41 7.96l-1.37-1.37c-.4-.4-.92-.59-1.43-.59-.52 0-1.04.2-1.43.59L10.3 9.45l-7.72 7.72c-.78.78-.78 2.05 0 2.83L4 21.41c.39.39.9.59 1.41.59.51 0 1.02-.2 1.41-.59l7.78-7.78 2.81-2.81c.8-.78.8-2.07 0-2.86zM5.41 20L4 18.59l7.72-7.72 1.47 1.35L5.41 20z\"/>\n",
              "  </svg>\n",
              "      </button>\n",
              "      \n",
              "  <style>\n",
              "    .colab-df-container {\n",
              "      display:flex;\n",
              "      flex-wrap:wrap;\n",
              "      gap: 12px;\n",
              "    }\n",
              "\n",
              "    .colab-df-convert {\n",
              "      background-color: #E8F0FE;\n",
              "      border: none;\n",
              "      border-radius: 50%;\n",
              "      cursor: pointer;\n",
              "      display: none;\n",
              "      fill: #1967D2;\n",
              "      height: 32px;\n",
              "      padding: 0 0 0 0;\n",
              "      width: 32px;\n",
              "    }\n",
              "\n",
              "    .colab-df-convert:hover {\n",
              "      background-color: #E2EBFA;\n",
              "      box-shadow: 0px 1px 2px rgba(60, 64, 67, 0.3), 0px 1px 3px 1px rgba(60, 64, 67, 0.15);\n",
              "      fill: #174EA6;\n",
              "    }\n",
              "\n",
              "    [theme=dark] .colab-df-convert {\n",
              "      background-color: #3B4455;\n",
              "      fill: #D2E3FC;\n",
              "    }\n",
              "\n",
              "    [theme=dark] .colab-df-convert:hover {\n",
              "      background-color: #434B5C;\n",
              "      box-shadow: 0px 1px 3px 1px rgba(0, 0, 0, 0.15);\n",
              "      filter: drop-shadow(0px 1px 2px rgba(0, 0, 0, 0.3));\n",
              "      fill: #FFFFFF;\n",
              "    }\n",
              "  </style>\n",
              "\n",
              "      <script>\n",
              "        const buttonEl =\n",
              "          document.querySelector('#df-09aaf937-fbbf-4311-8d3d-7fe95042e799 button.colab-df-convert');\n",
              "        buttonEl.style.display =\n",
              "          google.colab.kernel.accessAllowed ? 'block' : 'none';\n",
              "\n",
              "        async function convertToInteractive(key) {\n",
              "          const element = document.querySelector('#df-09aaf937-fbbf-4311-8d3d-7fe95042e799');\n",
              "          const dataTable =\n",
              "            await google.colab.kernel.invokeFunction('convertToInteractive',\n",
              "                                                     [key], {});\n",
              "          if (!dataTable) return;\n",
              "\n",
              "          const docLinkHtml = 'Like what you see? Visit the ' +\n",
              "            '<a target=\"_blank\" href=https://colab.research.google.com/notebooks/data_table.ipynb>data table notebook</a>'\n",
              "            + ' to learn more about interactive tables.';\n",
              "          element.innerHTML = '';\n",
              "          dataTable['output_type'] = 'display_data';\n",
              "          await google.colab.output.renderOutput(dataTable, element);\n",
              "          const docLink = document.createElement('div');\n",
              "          docLink.innerHTML = docLinkHtml;\n",
              "          element.appendChild(docLink);\n",
              "        }\n",
              "      </script>\n",
              "    </div>\n",
              "  </div>\n",
              "  "
            ],
            "text/plain": [
              "   ID  Computer Science  Physics  Mathematics  Statistics  \\\n",
              "0   1                 1        0            0           0   \n",
              "1   2                 1        0            0           0   \n",
              "2   3                 0        0            1           0   \n",
              "3   4                 0        0            1           0   \n",
              "4   5                 1        0            0           1   \n",
              "\n",
              "   Quantitative Biology  Quantitative Finance  \\\n",
              "0                     0                     0   \n",
              "1                     0                     0   \n",
              "2                     0                     0   \n",
              "3                     0                     0   \n",
              "4                     0                     0   \n",
              "\n",
              "                                               paper  \n",
              "0  Reconstructing Subject-Specific Effect Maps  P...  \n",
              "1  Rotation Invariance Neural Network  Rotation i...  \n",
              "2  Spherical polyharmonics and Poisson kernels fo...  \n",
              "3  A finite element approximation for the stochas...  \n",
              "4  Comparative study of Discrete Wavelet Transfor...  "
            ]
          },
          "execution_count": 10,
          "metadata": {},
          "output_type": "execute_result"
        }
      ],
      "source": [
        "df[\"paper\"] = df[\"TITLE\"] + df[\"ABSTRACT\"]\n",
        "df = df.drop([\"TITLE\", \"ABSTRACT\"], axis=1)\n",
        "df.head()"
      ]
    },
    {
      "cell_type": "markdown",
      "metadata": {
        "id": "lXPKu7OnGFRD"
      },
      "source": [
        "### Labels diastribution"
      ]
    },
    {
      "cell_type": "code",
      "execution_count": null,
      "metadata": {
        "id": "4zHyh5FcEEuM"
      },
      "outputs": [],
      "source": [
        "labels = df.drop(['ID', 'paper'], axis=1).columns.to_list()\n",
        "CLASS_NUM = len(labels)"
      ]
    },
    {
      "cell_type": "code",
      "execution_count": null,
      "metadata": {
        "id": "W8_VGnG3D5bC"
      },
      "outputs": [],
      "source": [
        "label_counts = pd.concat(\n",
        "    [\n",
        "        df[labels].sum(),\n",
        "    ],\n",
        "    axis=0\n",
        ")\n",
        "label_counts = label_counts.reset_index()\n",
        "label_counts = label_counts.rename({'level_0': 'Split', 'level_1': 'Value', 0: 'Count'}, axis=1)"
      ]
    },
    {
      "cell_type": "code",
      "execution_count": null,
      "metadata": {
        "colab": {
          "base_uri": "https://localhost:8080/"
        },
        "id": "APgLT5PTEfNx",
        "outputId": "98cb7955-beda-402e-863a-cedefb09e28b"
      },
      "outputs": [
        {
          "data": {
            "text/html": [
              "<html>\n",
              "<head><meta charset=\"utf-8\" /></head>\n",
              "<body>\n",
              "    <div>            <script src=\"https://cdnjs.cloudflare.com/ajax/libs/mathjax/2.7.5/MathJax.js?config=TeX-AMS-MML_SVG\"></script><script type=\"text/javascript\">if (window.MathJax) {MathJax.Hub.Config({SVG: {font: \"STIX-Web\"}});}</script>                <script type=\"text/javascript\">window.PlotlyConfig = {MathJaxConfig: 'local'};</script>\n",
              "        <script src=\"https://cdn.plot.ly/plotly-2.8.3.min.js\"></script>                <div id=\"1f53310d-a99f-45cb-9cc0-fce5e1edde35\" class=\"plotly-graph-div\" style=\"height:525px; width:100%;\"></div>            <script type=\"text/javascript\">                                    window.PLOTLYENV=window.PLOTLYENV || {};                                    if (document.getElementById(\"1f53310d-a99f-45cb-9cc0-fce5e1edde35\")) {                    Plotly.newPlot(                        \"1f53310d-a99f-45cb-9cc0-fce5e1edde35\",                        [{\"alignmentgroup\":\"True\",\"bingroup\":\"x\",\"histfunc\":\"sum\",\"histnorm\":\"percent\",\"hovertemplate\":\"index=%{x}<br>percent of sum of Count=%{y}<extra></extra>\",\"legendgroup\":\"\",\"marker\":{\"color\":\"#636efa\",\"pattern\":{\"shape\":\"\"}},\"name\":\"\",\"offsetgroup\":\"\",\"orientation\":\"v\",\"showlegend\":false,\"x\":[\"Computer Science\",\"Physics\",\"Mathematics\",\"Statistics\",\"Quantitative Biology\",\"Quantitative Finance\"],\"xaxis\":\"x\",\"y\":[8594,6013,5618,5206,587,249],\"yaxis\":\"y\",\"type\":\"histogram\"}],                        {\"template\":{\"data\":{\"bar\":[{\"error_x\":{\"color\":\"#2a3f5f\"},\"error_y\":{\"color\":\"#2a3f5f\"},\"marker\":{\"line\":{\"color\":\"#E5ECF6\",\"width\":0.5},\"pattern\":{\"fillmode\":\"overlay\",\"size\":10,\"solidity\":0.2}},\"type\":\"bar\"}],\"barpolar\":[{\"marker\":{\"line\":{\"color\":\"#E5ECF6\",\"width\":0.5},\"pattern\":{\"fillmode\":\"overlay\",\"size\":10,\"solidity\":0.2}},\"type\":\"barpolar\"}],\"carpet\":[{\"aaxis\":{\"endlinecolor\":\"#2a3f5f\",\"gridcolor\":\"white\",\"linecolor\":\"white\",\"minorgridcolor\":\"white\",\"startlinecolor\":\"#2a3f5f\"},\"baxis\":{\"endlinecolor\":\"#2a3f5f\",\"gridcolor\":\"white\",\"linecolor\":\"white\",\"minorgridcolor\":\"white\",\"startlinecolor\":\"#2a3f5f\"},\"type\":\"carpet\"}],\"choropleth\":[{\"colorbar\":{\"outlinewidth\":0,\"ticks\":\"\"},\"type\":\"choropleth\"}],\"contour\":[{\"colorbar\":{\"outlinewidth\":0,\"ticks\":\"\"},\"colorscale\":[[0.0,\"#0d0887\"],[0.1111111111111111,\"#46039f\"],[0.2222222222222222,\"#7201a8\"],[0.3333333333333333,\"#9c179e\"],[0.4444444444444444,\"#bd3786\"],[0.5555555555555556,\"#d8576b\"],[0.6666666666666666,\"#ed7953\"],[0.7777777777777778,\"#fb9f3a\"],[0.8888888888888888,\"#fdca26\"],[1.0,\"#f0f921\"]],\"type\":\"contour\"}],\"contourcarpet\":[{\"colorbar\":{\"outlinewidth\":0,\"ticks\":\"\"},\"type\":\"contourcarpet\"}],\"heatmap\":[{\"colorbar\":{\"outlinewidth\":0,\"ticks\":\"\"},\"colorscale\":[[0.0,\"#0d0887\"],[0.1111111111111111,\"#46039f\"],[0.2222222222222222,\"#7201a8\"],[0.3333333333333333,\"#9c179e\"],[0.4444444444444444,\"#bd3786\"],[0.5555555555555556,\"#d8576b\"],[0.6666666666666666,\"#ed7953\"],[0.7777777777777778,\"#fb9f3a\"],[0.8888888888888888,\"#fdca26\"],[1.0,\"#f0f921\"]],\"type\":\"heatmap\"}],\"heatmapgl\":[{\"colorbar\":{\"outlinewidth\":0,\"ticks\":\"\"},\"colorscale\":[[0.0,\"#0d0887\"],[0.1111111111111111,\"#46039f\"],[0.2222222222222222,\"#7201a8\"],[0.3333333333333333,\"#9c179e\"],[0.4444444444444444,\"#bd3786\"],[0.5555555555555556,\"#d8576b\"],[0.6666666666666666,\"#ed7953\"],[0.7777777777777778,\"#fb9f3a\"],[0.8888888888888888,\"#fdca26\"],[1.0,\"#f0f921\"]],\"type\":\"heatmapgl\"}],\"histogram\":[{\"marker\":{\"pattern\":{\"fillmode\":\"overlay\",\"size\":10,\"solidity\":0.2}},\"type\":\"histogram\"}],\"histogram2d\":[{\"colorbar\":{\"outlinewidth\":0,\"ticks\":\"\"},\"colorscale\":[[0.0,\"#0d0887\"],[0.1111111111111111,\"#46039f\"],[0.2222222222222222,\"#7201a8\"],[0.3333333333333333,\"#9c179e\"],[0.4444444444444444,\"#bd3786\"],[0.5555555555555556,\"#d8576b\"],[0.6666666666666666,\"#ed7953\"],[0.7777777777777778,\"#fb9f3a\"],[0.8888888888888888,\"#fdca26\"],[1.0,\"#f0f921\"]],\"type\":\"histogram2d\"}],\"histogram2dcontour\":[{\"colorbar\":{\"outlinewidth\":0,\"ticks\":\"\"},\"colorscale\":[[0.0,\"#0d0887\"],[0.1111111111111111,\"#46039f\"],[0.2222222222222222,\"#7201a8\"],[0.3333333333333333,\"#9c179e\"],[0.4444444444444444,\"#bd3786\"],[0.5555555555555556,\"#d8576b\"],[0.6666666666666666,\"#ed7953\"],[0.7777777777777778,\"#fb9f3a\"],[0.8888888888888888,\"#fdca26\"],[1.0,\"#f0f921\"]],\"type\":\"histogram2dcontour\"}],\"mesh3d\":[{\"colorbar\":{\"outlinewidth\":0,\"ticks\":\"\"},\"type\":\"mesh3d\"}],\"parcoords\":[{\"line\":{\"colorbar\":{\"outlinewidth\":0,\"ticks\":\"\"}},\"type\":\"parcoords\"}],\"pie\":[{\"automargin\":true,\"type\":\"pie\"}],\"scatter\":[{\"marker\":{\"colorbar\":{\"outlinewidth\":0,\"ticks\":\"\"}},\"type\":\"scatter\"}],\"scatter3d\":[{\"line\":{\"colorbar\":{\"outlinewidth\":0,\"ticks\":\"\"}},\"marker\":{\"colorbar\":{\"outlinewidth\":0,\"ticks\":\"\"}},\"type\":\"scatter3d\"}],\"scattercarpet\":[{\"marker\":{\"colorbar\":{\"outlinewidth\":0,\"ticks\":\"\"}},\"type\":\"scattercarpet\"}],\"scattergeo\":[{\"marker\":{\"colorbar\":{\"outlinewidth\":0,\"ticks\":\"\"}},\"type\":\"scattergeo\"}],\"scattergl\":[{\"marker\":{\"colorbar\":{\"outlinewidth\":0,\"ticks\":\"\"}},\"type\":\"scattergl\"}],\"scattermapbox\":[{\"marker\":{\"colorbar\":{\"outlinewidth\":0,\"ticks\":\"\"}},\"type\":\"scattermapbox\"}],\"scatterpolar\":[{\"marker\":{\"colorbar\":{\"outlinewidth\":0,\"ticks\":\"\"}},\"type\":\"scatterpolar\"}],\"scatterpolargl\":[{\"marker\":{\"colorbar\":{\"outlinewidth\":0,\"ticks\":\"\"}},\"type\":\"scatterpolargl\"}],\"scatterternary\":[{\"marker\":{\"colorbar\":{\"outlinewidth\":0,\"ticks\":\"\"}},\"type\":\"scatterternary\"}],\"surface\":[{\"colorbar\":{\"outlinewidth\":0,\"ticks\":\"\"},\"colorscale\":[[0.0,\"#0d0887\"],[0.1111111111111111,\"#46039f\"],[0.2222222222222222,\"#7201a8\"],[0.3333333333333333,\"#9c179e\"],[0.4444444444444444,\"#bd3786\"],[0.5555555555555556,\"#d8576b\"],[0.6666666666666666,\"#ed7953\"],[0.7777777777777778,\"#fb9f3a\"],[0.8888888888888888,\"#fdca26\"],[1.0,\"#f0f921\"]],\"type\":\"surface\"}],\"table\":[{\"cells\":{\"fill\":{\"color\":\"#EBF0F8\"},\"line\":{\"color\":\"white\"}},\"header\":{\"fill\":{\"color\":\"#C8D4E3\"},\"line\":{\"color\":\"white\"}},\"type\":\"table\"}]},\"layout\":{\"annotationdefaults\":{\"arrowcolor\":\"#2a3f5f\",\"arrowhead\":0,\"arrowwidth\":1},\"autotypenumbers\":\"strict\",\"coloraxis\":{\"colorbar\":{\"outlinewidth\":0,\"ticks\":\"\"}},\"colorscale\":{\"diverging\":[[0,\"#8e0152\"],[0.1,\"#c51b7d\"],[0.2,\"#de77ae\"],[0.3,\"#f1b6da\"],[0.4,\"#fde0ef\"],[0.5,\"#f7f7f7\"],[0.6,\"#e6f5d0\"],[0.7,\"#b8e186\"],[0.8,\"#7fbc41\"],[0.9,\"#4d9221\"],[1,\"#276419\"]],\"sequential\":[[0.0,\"#0d0887\"],[0.1111111111111111,\"#46039f\"],[0.2222222222222222,\"#7201a8\"],[0.3333333333333333,\"#9c179e\"],[0.4444444444444444,\"#bd3786\"],[0.5555555555555556,\"#d8576b\"],[0.6666666666666666,\"#ed7953\"],[0.7777777777777778,\"#fb9f3a\"],[0.8888888888888888,\"#fdca26\"],[1.0,\"#f0f921\"]],\"sequentialminus\":[[0.0,\"#0d0887\"],[0.1111111111111111,\"#46039f\"],[0.2222222222222222,\"#7201a8\"],[0.3333333333333333,\"#9c179e\"],[0.4444444444444444,\"#bd3786\"],[0.5555555555555556,\"#d8576b\"],[0.6666666666666666,\"#ed7953\"],[0.7777777777777778,\"#fb9f3a\"],[0.8888888888888888,\"#fdca26\"],[1.0,\"#f0f921\"]]},\"colorway\":[\"#636efa\",\"#EF553B\",\"#00cc96\",\"#ab63fa\",\"#FFA15A\",\"#19d3f3\",\"#FF6692\",\"#B6E880\",\"#FF97FF\",\"#FECB52\"],\"font\":{\"color\":\"#2a3f5f\"},\"geo\":{\"bgcolor\":\"white\",\"lakecolor\":\"white\",\"landcolor\":\"#E5ECF6\",\"showlakes\":true,\"showland\":true,\"subunitcolor\":\"white\"},\"hoverlabel\":{\"align\":\"left\"},\"hovermode\":\"closest\",\"mapbox\":{\"style\":\"light\"},\"paper_bgcolor\":\"white\",\"plot_bgcolor\":\"#E5ECF6\",\"polar\":{\"angularaxis\":{\"gridcolor\":\"white\",\"linecolor\":\"white\",\"ticks\":\"\"},\"bgcolor\":\"#E5ECF6\",\"radialaxis\":{\"gridcolor\":\"white\",\"linecolor\":\"white\",\"ticks\":\"\"}},\"scene\":{\"xaxis\":{\"backgroundcolor\":\"#E5ECF6\",\"gridcolor\":\"white\",\"gridwidth\":2,\"linecolor\":\"white\",\"showbackground\":true,\"ticks\":\"\",\"zerolinecolor\":\"white\"},\"yaxis\":{\"backgroundcolor\":\"#E5ECF6\",\"gridcolor\":\"white\",\"gridwidth\":2,\"linecolor\":\"white\",\"showbackground\":true,\"ticks\":\"\",\"zerolinecolor\":\"white\"},\"zaxis\":{\"backgroundcolor\":\"#E5ECF6\",\"gridcolor\":\"white\",\"gridwidth\":2,\"linecolor\":\"white\",\"showbackground\":true,\"ticks\":\"\",\"zerolinecolor\":\"white\"}},\"shapedefaults\":{\"line\":{\"color\":\"#2a3f5f\"}},\"ternary\":{\"aaxis\":{\"gridcolor\":\"white\",\"linecolor\":\"white\",\"ticks\":\"\"},\"baxis\":{\"gridcolor\":\"white\",\"linecolor\":\"white\",\"ticks\":\"\"},\"bgcolor\":\"#E5ECF6\",\"caxis\":{\"gridcolor\":\"white\",\"linecolor\":\"white\",\"ticks\":\"\"}},\"title\":{\"x\":0.05},\"xaxis\":{\"automargin\":true,\"gridcolor\":\"white\",\"linecolor\":\"white\",\"ticks\":\"\",\"title\":{\"standoff\":15},\"zerolinecolor\":\"white\",\"zerolinewidth\":2},\"yaxis\":{\"automargin\":true,\"gridcolor\":\"white\",\"linecolor\":\"white\",\"ticks\":\"\",\"title\":{\"standoff\":15},\"zerolinecolor\":\"white\",\"zerolinewidth\":2}}},\"xaxis\":{\"anchor\":\"y\",\"domain\":[0.0,1.0],\"title\":{\"text\":\"labels\"},\"tickangle\":-45},\"yaxis\":{\"anchor\":\"x\",\"domain\":[0.0,1.0],\"title\":{\"text\":\"Number of samples (%)\"}},\"legend\":{\"tracegroupgap\":0},\"title\":{\"text\":\"Distribution of labels\"},\"barmode\":\"group\"},                        {\"responsive\": true}                    ).then(function(){\n",
              "                            \n",
              "var gd = document.getElementById('1f53310d-a99f-45cb-9cc0-fce5e1edde35');\n",
              "var x = new MutationObserver(function (mutations, observer) {{\n",
              "        var display = window.getComputedStyle(gd).display;\n",
              "        if (!display || display === 'none') {{\n",
              "            console.log([gd, 'removed!']);\n",
              "            Plotly.purge(gd);\n",
              "            observer.disconnect();\n",
              "        }}\n",
              "}});\n",
              "\n",
              "// Listen for the removal of the full notebook cells\n",
              "var notebookContainer = gd.closest('#notebook-container');\n",
              "if (notebookContainer) {{\n",
              "    x.observe(notebookContainer, {childList: true});\n",
              "}}\n",
              "\n",
              "// Listen for the clearing of the current output cell\n",
              "var outputEl = gd.closest('.output');\n",
              "if (outputEl) {{\n",
              "    x.observe(outputEl, {childList: true});\n",
              "}}\n",
              "\n",
              "                        })                };                            </script>        </div>\n",
              "</body>\n",
              "</html>"
            ]
          },
          "metadata": {},
          "output_type": "display_data"
        }
      ],
      "source": [
        "fig = px.histogram(\n",
        "    label_counts.sort_values('Count', ascending=False),\n",
        "    x='index',\n",
        "    y='Count',\n",
        "    title='Distribution of labels',\n",
        "    barmode='group',\n",
        "    histnorm='percent',\n",
        ")\n",
        "fig.update_layout(yaxis_title=\"Number of samples (%)\", xaxis_title=\"labels\", xaxis_tickangle=-45,)\n",
        "fig.show()"
      ]
    },
    {
      "cell_type": "markdown",
      "metadata": {
        "id": "idGMA2YkFrlV"
      },
      "source": [
        "The dataset is unbalanced with respect to the labels, there is one label that are more prominent than the rest. Two labels are very rare and account for few samples in the dataset. So we will take more account of the f1-score macro. The f1-score is very useful when you are dealing with imbalanced classes problems. These are problems when one class can dominate the dataset.\n",
        "\n",
        "How did the autghors of this paper for example: https://aclanthology.org/2022.acl-long.306/"
      ]
    },
    {
      "cell_type": "markdown",
      "metadata": {
        "id": "2roClP2jsfuO"
      },
      "source": [
        "### Text processing pipeline\n",
        "lower case -> tokenization -> remove stopwords -> lemmatization (or stemming) -> remove punctuation"
      ]
    },
    {
      "cell_type": "code",
      "execution_count": null,
      "metadata": {
        "id": "Pf1znvNFoQeh"
      },
      "outputs": [],
      "source": [
        "stemmer = PorterStemmer()\n",
        "wordnet_lemmatizer = WordNetLemmatizer()\n",
        "\n",
        "def preprocess(document, stem=True):\n",
        "    'changes document to lower case and removes stopwords'\n",
        "\n",
        "    # change sentence to lower case\n",
        "    document = document.lower()\n",
        "\n",
        "    # tokenize into words\n",
        "    words = word_tokenize(document)\n",
        "\n",
        "    # remove stop words\n",
        "    words = [word for word in words if word not in stopwords.words(\"english\")]\n",
        "\n",
        "    # new step: adding a flag, If stem is true, we call the stemmer function, and if stem is false we call the wordnet function\n",
        "    if stem:\n",
        "        words = [stemmer.stem(word) for word in words]\n",
        "    else:\n",
        "        words = [wordnet_lemmatizer.lemmatize(word, pos='v') for word in words]\n",
        "\n",
        "    # join words to make sentence\n",
        "    document = \" \".join(words)\n",
        "\n",
        "    document = \" \".join(words).translate(str.maketrans('', '', string.punctuation))\n",
        "\n",
        "    return document"
      ]
    },
    {
      "cell_type": "code",
      "execution_count": null,
      "metadata": {
        "colab": {
          "base_uri": "https://localhost:8080/"
        },
        "id": "03Hv_z4D5767",
        "outputId": "d68106dd-5136-4b3f-bcc5-1ed24ae26f89"
      },
      "outputs": [
        {
          "name": "stderr",
          "output_type": "stream",
          "text": [
            "<ipython-input-15-22a5d65cdcd4>:2: SettingWithCopyWarning:\n",
            "\n",
            "\n",
            "A value is trying to be set on a copy of a slice from a DataFrame\n",
            "\n",
            "See the caveats in the documentation: https://pandas.pydata.org/pandas-docs/stable/user_guide/indexing.html#returning-a-view-versus-a-copy\n",
            "\n"
          ]
        }
      ],
      "source": [
        "for i in range(df.shape[0]):\n",
        "  df['paper'][i] = preprocess(df['paper'][i], stem=False)"
      ]
    },
    {
      "cell_type": "markdown",
      "metadata": {
        "id": "EmEmUA08FVgV"
      },
      "source": [
        "### Result of pre-processing"
      ]
    },
    {
      "cell_type": "code",
      "execution_count": null,
      "metadata": {
        "colab": {
          "base_uri": "https://localhost:8080/"
        },
        "id": "gANDQYM9FBsK",
        "outputId": "7b2e94d7-c8a0-4d8e-c340-d0cc2383b91f"
      },
      "outputs": [
        {
          "data": {
            "application/vnd.google.colaboratory.intrinsic+json": {
              "type": "string"
            },
            "text/plain": [
              "'autonomy interactive music system vivo interactive music systems  ims  introduce new world music make modalities  really say create music  true autonomous creation  discuss video interactive vst orchestra  vivo   ims consider extra musical information adopt simple salience base model user system interaction simulate intentionality automatic music generation  key feature theoretical framework  brief overview pilot research  case study provide validation model present  research demonstrate meaningful usersystem interplay establish define reflexive multidominance '"
            ]
          },
          "execution_count": 16,
          "metadata": {},
          "output_type": "execute_result"
        }
      ],
      "source": [
        "df['paper'][2000]"
      ]
    },
    {
      "cell_type": "markdown",
      "metadata": {
        "id": "_x78KKI5oQem"
      },
      "source": [
        "## Raw and label split"
      ]
    },
    {
      "cell_type": "code",
      "execution_count": null,
      "metadata": {
        "id": "gEtveUQioQen"
      },
      "outputs": [],
      "source": [
        "df_raw = df.drop(list(df.columns[:7]), axis=1)\n",
        "df_label = df.drop(['ID', 'paper'], axis=1)"
      ]
    },
    {
      "cell_type": "markdown",
      "metadata": {
        "id": "-nByAMX_oQeo"
      },
      "source": [
        "## Train, Test and val split"
      ]
    },
    {
      "cell_type": "code",
      "execution_count": null,
      "metadata": {
        "id": "hSgQzd-MoQep"
      },
      "outputs": [],
      "source": [
        "X_train, X_test, y_train, y_test = train_test_split(df_raw, df_label, test_size=0.15, random_state=seed)\n",
        "X_train, X_val, y_train, y_val = train_test_split(X_train, y_train, test_size=0.15, random_state=seed)"
      ]
    },
    {
      "cell_type": "code",
      "execution_count": null,
      "metadata": {
        "id": "ifM6vYX8dTO0"
      },
      "outputs": [],
      "source": [
        "X_train = X_train.reset_index().drop('index', axis=1)\n",
        "X_val = X_val.reset_index().drop('index', axis=1)\n",
        "X_test = X_test.reset_index().drop('index', axis=1)"
      ]
    },
    {
      "cell_type": "code",
      "execution_count": null,
      "metadata": {
        "id": "INRUjA9eAljN"
      },
      "outputs": [],
      "source": [
        "y_train = y_train.reset_index().drop('index', axis=1)\n",
        "y_val = y_val.reset_index().drop('index', axis=1)\n",
        "y_test = y_test.reset_index().drop('index', axis=1)"
      ]
    },
    {
      "cell_type": "code",
      "execution_count": null,
      "metadata": {
        "colab": {
          "base_uri": "https://localhost:8080/"
        },
        "id": "TMu-0QlxoQeq",
        "outputId": "47048f5d-6854-43fc-f7fd-dacc4d7fca59"
      },
      "outputs": [
        {
          "name": "stdout",
          "output_type": "stream",
          "text": [
            "train shape:  (15152, 1)\n",
            "test shape:  (3146, 1)\n",
            "val shape:  (2674, 1)\n"
          ]
        }
      ],
      "source": [
        "print('train shape: ', X_train.shape)\n",
        "print('test shape: ', X_test.shape)\n",
        "print('val shape: ', X_val.shape)"
      ]
    },
    {
      "cell_type": "markdown",
      "metadata": {
        "id": "ddaClngWoQeg"
      },
      "source": [
        "# SECTION 1: TF-IDF and BOW in combination with SVC, (Multinomial) Naive Bayes and Logistic Regression"
      ]
    },
    {
      "cell_type": "markdown",
      "metadata": {
        "id": "rRna2Fk6wDpc"
      },
      "source": [
        "## Bag of words and tf-idf models"
      ]
    },
    {
      "cell_type": "code",
      "execution_count": null,
      "metadata": {
        "id": "vPeABfFvoQek"
      },
      "outputs": [],
      "source": [
        "# bag of words model\n",
        "vectorizer = CountVectorizer()\n",
        "bow_model = vectorizer.fit_transform(X_train['paper'].values.tolist())\n",
        "bow_model_test = vectorizer.transform(X_test['paper'].values.tolist())"
      ]
    },
    {
      "cell_type": "code",
      "execution_count": null,
      "metadata": {
        "colab": {
          "base_uri": "https://localhost:8080/",
          "height": 424
        },
        "id": "gxyO7RVAoQel",
        "outputId": "958fd2d1-b2ab-45bc-8441-6d3322b07e5a"
      },
      "outputs": [
        {
          "data": {
            "text/html": [
              "\n",
              "  <div id=\"df-3b6bac49-80a5-456e-b6f2-3bbeb69b2ed2\">\n",
              "    <div class=\"colab-df-container\">\n",
              "      <div>\n",
              "<style scoped>\n",
              "    .dataframe tbody tr th:only-of-type {\n",
              "        vertical-align: middle;\n",
              "    }\n",
              "\n",
              "    .dataframe tbody tr th {\n",
              "        vertical-align: top;\n",
              "    }\n",
              "\n",
              "    .dataframe thead th {\n",
              "        text-align: right;\n",
              "    }\n",
              "</style>\n",
              "<table border=\"1\" class=\"dataframe\">\n",
              "  <thead>\n",
              "    <tr style=\"text-align: right;\">\n",
              "      <th></th>\n",
              "      <th>0</th>\n",
              "      <th>1</th>\n",
              "      <th>2</th>\n",
              "      <th>3</th>\n",
              "      <th>4</th>\n",
              "      <th>5</th>\n",
              "      <th>6</th>\n",
              "      <th>7</th>\n",
              "      <th>8</th>\n",
              "      <th>9</th>\n",
              "      <th>...</th>\n",
              "      <th>50683</th>\n",
              "      <th>50684</th>\n",
              "      <th>50685</th>\n",
              "      <th>50686</th>\n",
              "      <th>50687</th>\n",
              "      <th>50688</th>\n",
              "      <th>50689</th>\n",
              "      <th>50690</th>\n",
              "      <th>50691</th>\n",
              "      <th>50692</th>\n",
              "    </tr>\n",
              "  </thead>\n",
              "  <tbody>\n",
              "    <tr>\n",
              "      <th>0</th>\n",
              "      <td>0</td>\n",
              "      <td>0</td>\n",
              "      <td>0</td>\n",
              "      <td>0</td>\n",
              "      <td>0</td>\n",
              "      <td>0</td>\n",
              "      <td>0</td>\n",
              "      <td>0</td>\n",
              "      <td>0</td>\n",
              "      <td>0</td>\n",
              "      <td>...</td>\n",
              "      <td>0</td>\n",
              "      <td>0</td>\n",
              "      <td>0</td>\n",
              "      <td>0</td>\n",
              "      <td>0</td>\n",
              "      <td>0</td>\n",
              "      <td>0</td>\n",
              "      <td>0</td>\n",
              "      <td>0</td>\n",
              "      <td>0</td>\n",
              "    </tr>\n",
              "    <tr>\n",
              "      <th>1</th>\n",
              "      <td>0</td>\n",
              "      <td>0</td>\n",
              "      <td>0</td>\n",
              "      <td>0</td>\n",
              "      <td>0</td>\n",
              "      <td>0</td>\n",
              "      <td>0</td>\n",
              "      <td>0</td>\n",
              "      <td>0</td>\n",
              "      <td>0</td>\n",
              "      <td>...</td>\n",
              "      <td>0</td>\n",
              "      <td>0</td>\n",
              "      <td>0</td>\n",
              "      <td>0</td>\n",
              "      <td>0</td>\n",
              "      <td>0</td>\n",
              "      <td>0</td>\n",
              "      <td>0</td>\n",
              "      <td>0</td>\n",
              "      <td>0</td>\n",
              "    </tr>\n",
              "    <tr>\n",
              "      <th>2</th>\n",
              "      <td>0</td>\n",
              "      <td>0</td>\n",
              "      <td>0</td>\n",
              "      <td>0</td>\n",
              "      <td>0</td>\n",
              "      <td>0</td>\n",
              "      <td>0</td>\n",
              "      <td>0</td>\n",
              "      <td>0</td>\n",
              "      <td>0</td>\n",
              "      <td>...</td>\n",
              "      <td>0</td>\n",
              "      <td>0</td>\n",
              "      <td>0</td>\n",
              "      <td>0</td>\n",
              "      <td>0</td>\n",
              "      <td>0</td>\n",
              "      <td>0</td>\n",
              "      <td>0</td>\n",
              "      <td>0</td>\n",
              "      <td>0</td>\n",
              "    </tr>\n",
              "    <tr>\n",
              "      <th>3</th>\n",
              "      <td>0</td>\n",
              "      <td>0</td>\n",
              "      <td>0</td>\n",
              "      <td>0</td>\n",
              "      <td>0</td>\n",
              "      <td>0</td>\n",
              "      <td>0</td>\n",
              "      <td>0</td>\n",
              "      <td>0</td>\n",
              "      <td>0</td>\n",
              "      <td>...</td>\n",
              "      <td>0</td>\n",
              "      <td>0</td>\n",
              "      <td>0</td>\n",
              "      <td>0</td>\n",
              "      <td>0</td>\n",
              "      <td>0</td>\n",
              "      <td>0</td>\n",
              "      <td>0</td>\n",
              "      <td>0</td>\n",
              "      <td>0</td>\n",
              "    </tr>\n",
              "    <tr>\n",
              "      <th>4</th>\n",
              "      <td>0</td>\n",
              "      <td>0</td>\n",
              "      <td>0</td>\n",
              "      <td>0</td>\n",
              "      <td>0</td>\n",
              "      <td>0</td>\n",
              "      <td>0</td>\n",
              "      <td>0</td>\n",
              "      <td>0</td>\n",
              "      <td>0</td>\n",
              "      <td>...</td>\n",
              "      <td>0</td>\n",
              "      <td>0</td>\n",
              "      <td>0</td>\n",
              "      <td>0</td>\n",
              "      <td>0</td>\n",
              "      <td>0</td>\n",
              "      <td>0</td>\n",
              "      <td>0</td>\n",
              "      <td>0</td>\n",
              "      <td>0</td>\n",
              "    </tr>\n",
              "    <tr>\n",
              "      <th>...</th>\n",
              "      <td>...</td>\n",
              "      <td>...</td>\n",
              "      <td>...</td>\n",
              "      <td>...</td>\n",
              "      <td>...</td>\n",
              "      <td>...</td>\n",
              "      <td>...</td>\n",
              "      <td>...</td>\n",
              "      <td>...</td>\n",
              "      <td>...</td>\n",
              "      <td>...</td>\n",
              "      <td>...</td>\n",
              "      <td>...</td>\n",
              "      <td>...</td>\n",
              "      <td>...</td>\n",
              "      <td>...</td>\n",
              "      <td>...</td>\n",
              "      <td>...</td>\n",
              "      <td>...</td>\n",
              "      <td>...</td>\n",
              "      <td>...</td>\n",
              "    </tr>\n",
              "    <tr>\n",
              "      <th>15147</th>\n",
              "      <td>0</td>\n",
              "      <td>0</td>\n",
              "      <td>0</td>\n",
              "      <td>0</td>\n",
              "      <td>0</td>\n",
              "      <td>0</td>\n",
              "      <td>0</td>\n",
              "      <td>0</td>\n",
              "      <td>0</td>\n",
              "      <td>0</td>\n",
              "      <td>...</td>\n",
              "      <td>0</td>\n",
              "      <td>0</td>\n",
              "      <td>0</td>\n",
              "      <td>0</td>\n",
              "      <td>0</td>\n",
              "      <td>0</td>\n",
              "      <td>0</td>\n",
              "      <td>0</td>\n",
              "      <td>0</td>\n",
              "      <td>0</td>\n",
              "    </tr>\n",
              "    <tr>\n",
              "      <th>15148</th>\n",
              "      <td>0</td>\n",
              "      <td>0</td>\n",
              "      <td>0</td>\n",
              "      <td>0</td>\n",
              "      <td>0</td>\n",
              "      <td>0</td>\n",
              "      <td>0</td>\n",
              "      <td>0</td>\n",
              "      <td>0</td>\n",
              "      <td>0</td>\n",
              "      <td>...</td>\n",
              "      <td>0</td>\n",
              "      <td>0</td>\n",
              "      <td>0</td>\n",
              "      <td>0</td>\n",
              "      <td>0</td>\n",
              "      <td>0</td>\n",
              "      <td>0</td>\n",
              "      <td>0</td>\n",
              "      <td>0</td>\n",
              "      <td>0</td>\n",
              "    </tr>\n",
              "    <tr>\n",
              "      <th>15149</th>\n",
              "      <td>0</td>\n",
              "      <td>0</td>\n",
              "      <td>0</td>\n",
              "      <td>0</td>\n",
              "      <td>0</td>\n",
              "      <td>0</td>\n",
              "      <td>0</td>\n",
              "      <td>0</td>\n",
              "      <td>0</td>\n",
              "      <td>0</td>\n",
              "      <td>...</td>\n",
              "      <td>0</td>\n",
              "      <td>0</td>\n",
              "      <td>0</td>\n",
              "      <td>0</td>\n",
              "      <td>0</td>\n",
              "      <td>0</td>\n",
              "      <td>0</td>\n",
              "      <td>0</td>\n",
              "      <td>0</td>\n",
              "      <td>0</td>\n",
              "    </tr>\n",
              "    <tr>\n",
              "      <th>15150</th>\n",
              "      <td>0</td>\n",
              "      <td>0</td>\n",
              "      <td>0</td>\n",
              "      <td>0</td>\n",
              "      <td>0</td>\n",
              "      <td>0</td>\n",
              "      <td>0</td>\n",
              "      <td>0</td>\n",
              "      <td>0</td>\n",
              "      <td>0</td>\n",
              "      <td>...</td>\n",
              "      <td>0</td>\n",
              "      <td>0</td>\n",
              "      <td>0</td>\n",
              "      <td>0</td>\n",
              "      <td>0</td>\n",
              "      <td>0</td>\n",
              "      <td>0</td>\n",
              "      <td>0</td>\n",
              "      <td>0</td>\n",
              "      <td>0</td>\n",
              "    </tr>\n",
              "    <tr>\n",
              "      <th>15151</th>\n",
              "      <td>0</td>\n",
              "      <td>0</td>\n",
              "      <td>0</td>\n",
              "      <td>0</td>\n",
              "      <td>0</td>\n",
              "      <td>0</td>\n",
              "      <td>0</td>\n",
              "      <td>0</td>\n",
              "      <td>0</td>\n",
              "      <td>0</td>\n",
              "      <td>...</td>\n",
              "      <td>0</td>\n",
              "      <td>0</td>\n",
              "      <td>0</td>\n",
              "      <td>0</td>\n",
              "      <td>0</td>\n",
              "      <td>0</td>\n",
              "      <td>0</td>\n",
              "      <td>0</td>\n",
              "      <td>0</td>\n",
              "      <td>0</td>\n",
              "    </tr>\n",
              "  </tbody>\n",
              "</table>\n",
              "<p>15152 rows × 50693 columns</p>\n",
              "</div>\n",
              "      <button class=\"colab-df-convert\" onclick=\"convertToInteractive('df-3b6bac49-80a5-456e-b6f2-3bbeb69b2ed2')\"\n",
              "              title=\"Convert this dataframe to an interactive table.\"\n",
              "              style=\"display:none;\">\n",
              "        \n",
              "  <svg xmlns=\"http://www.w3.org/2000/svg\" height=\"24px\"viewBox=\"0 0 24 24\"\n",
              "       width=\"24px\">\n",
              "    <path d=\"M0 0h24v24H0V0z\" fill=\"none\"/>\n",
              "    <path d=\"M18.56 5.44l.94 2.06.94-2.06 2.06-.94-2.06-.94-.94-2.06-.94 2.06-2.06.94zm-11 1L8.5 8.5l.94-2.06 2.06-.94-2.06-.94L8.5 2.5l-.94 2.06-2.06.94zm10 10l.94 2.06.94-2.06 2.06-.94-2.06-.94-.94-2.06-.94 2.06-2.06.94z\"/><path d=\"M17.41 7.96l-1.37-1.37c-.4-.4-.92-.59-1.43-.59-.52 0-1.04.2-1.43.59L10.3 9.45l-7.72 7.72c-.78.78-.78 2.05 0 2.83L4 21.41c.39.39.9.59 1.41.59.51 0 1.02-.2 1.41-.59l7.78-7.78 2.81-2.81c.8-.78.8-2.07 0-2.86zM5.41 20L4 18.59l7.72-7.72 1.47 1.35L5.41 20z\"/>\n",
              "  </svg>\n",
              "      </button>\n",
              "      \n",
              "  <style>\n",
              "    .colab-df-container {\n",
              "      display:flex;\n",
              "      flex-wrap:wrap;\n",
              "      gap: 12px;\n",
              "    }\n",
              "\n",
              "    .colab-df-convert {\n",
              "      background-color: #E8F0FE;\n",
              "      border: none;\n",
              "      border-radius: 50%;\n",
              "      cursor: pointer;\n",
              "      display: none;\n",
              "      fill: #1967D2;\n",
              "      height: 32px;\n",
              "      padding: 0 0 0 0;\n",
              "      width: 32px;\n",
              "    }\n",
              "\n",
              "    .colab-df-convert:hover {\n",
              "      background-color: #E2EBFA;\n",
              "      box-shadow: 0px 1px 2px rgba(60, 64, 67, 0.3), 0px 1px 3px 1px rgba(60, 64, 67, 0.15);\n",
              "      fill: #174EA6;\n",
              "    }\n",
              "\n",
              "    [theme=dark] .colab-df-convert {\n",
              "      background-color: #3B4455;\n",
              "      fill: #D2E3FC;\n",
              "    }\n",
              "\n",
              "    [theme=dark] .colab-df-convert:hover {\n",
              "      background-color: #434B5C;\n",
              "      box-shadow: 0px 1px 3px 1px rgba(0, 0, 0, 0.15);\n",
              "      filter: drop-shadow(0px 1px 2px rgba(0, 0, 0, 0.3));\n",
              "      fill: #FFFFFF;\n",
              "    }\n",
              "  </style>\n",
              "\n",
              "      <script>\n",
              "        const buttonEl =\n",
              "          document.querySelector('#df-3b6bac49-80a5-456e-b6f2-3bbeb69b2ed2 button.colab-df-convert');\n",
              "        buttonEl.style.display =\n",
              "          google.colab.kernel.accessAllowed ? 'block' : 'none';\n",
              "\n",
              "        async function convertToInteractive(key) {\n",
              "          const element = document.querySelector('#df-3b6bac49-80a5-456e-b6f2-3bbeb69b2ed2');\n",
              "          const dataTable =\n",
              "            await google.colab.kernel.invokeFunction('convertToInteractive',\n",
              "                                                     [key], {});\n",
              "          if (!dataTable) return;\n",
              "\n",
              "          const docLinkHtml = 'Like what you see? Visit the ' +\n",
              "            '<a target=\"_blank\" href=https://colab.research.google.com/notebooks/data_table.ipynb>data table notebook</a>'\n",
              "            + ' to learn more about interactive tables.';\n",
              "          element.innerHTML = '';\n",
              "          dataTable['output_type'] = 'display_data';\n",
              "          await google.colab.output.renderOutput(dataTable, element);\n",
              "          const docLink = document.createElement('div');\n",
              "          docLink.innerHTML = docLinkHtml;\n",
              "          element.appendChild(docLink);\n",
              "        }\n",
              "      </script>\n",
              "    </div>\n",
              "  </div>\n",
              "  "
            ],
            "text/plain": [
              "       0      1      2      3      4      5      6      7      8      9      \\\n",
              "0          0      0      0      0      0      0      0      0      0      0   \n",
              "1          0      0      0      0      0      0      0      0      0      0   \n",
              "2          0      0      0      0      0      0      0      0      0      0   \n",
              "3          0      0      0      0      0      0      0      0      0      0   \n",
              "4          0      0      0      0      0      0      0      0      0      0   \n",
              "...      ...    ...    ...    ...    ...    ...    ...    ...    ...    ...   \n",
              "15147      0      0      0      0      0      0      0      0      0      0   \n",
              "15148      0      0      0      0      0      0      0      0      0      0   \n",
              "15149      0      0      0      0      0      0      0      0      0      0   \n",
              "15150      0      0      0      0      0      0      0      0      0      0   \n",
              "15151      0      0      0      0      0      0      0      0      0      0   \n",
              "\n",
              "       ...  50683  50684  50685  50686  50687  50688  50689  50690  50691  \\\n",
              "0      ...      0      0      0      0      0      0      0      0      0   \n",
              "1      ...      0      0      0      0      0      0      0      0      0   \n",
              "2      ...      0      0      0      0      0      0      0      0      0   \n",
              "3      ...      0      0      0      0      0      0      0      0      0   \n",
              "4      ...      0      0      0      0      0      0      0      0      0   \n",
              "...    ...    ...    ...    ...    ...    ...    ...    ...    ...    ...   \n",
              "15147  ...      0      0      0      0      0      0      0      0      0   \n",
              "15148  ...      0      0      0      0      0      0      0      0      0   \n",
              "15149  ...      0      0      0      0      0      0      0      0      0   \n",
              "15150  ...      0      0      0      0      0      0      0      0      0   \n",
              "15151  ...      0      0      0      0      0      0      0      0      0   \n",
              "\n",
              "       50692  \n",
              "0          0  \n",
              "1          0  \n",
              "2          0  \n",
              "3          0  \n",
              "4          0  \n",
              "...      ...  \n",
              "15147      0  \n",
              "15148      0  \n",
              "15149      0  \n",
              "15150      0  \n",
              "15151      0  \n",
              "\n",
              "[15152 rows x 50693 columns]"
            ]
          },
          "execution_count": 57,
          "metadata": {},
          "output_type": "execute_result"
        }
      ],
      "source": [
        "pd.DataFrame(bow_model.toarray())"
      ]
    },
    {
      "cell_type": "code",
      "execution_count": null,
      "metadata": {
        "id": "Retc2iO6oQej"
      },
      "outputs": [],
      "source": [
        "# bag of words model using TfidfVectorizer\n",
        "vectorizer = TfidfVectorizer()\n",
        "tfidf_model = vectorizer.fit_transform(X_train['paper'].values.tolist())\n",
        "tfidf_model_test = vectorizer.transform(X_test['paper'].values.tolist())"
      ]
    },
    {
      "cell_type": "code",
      "execution_count": null,
      "metadata": {
        "colab": {
          "base_uri": "https://localhost:8080/",
          "height": 424
        },
        "id": "31AiMj6XoQej",
        "outputId": "45db003f-e32b-448b-b122-555d781580ab"
      },
      "outputs": [
        {
          "data": {
            "text/html": [
              "\n",
              "  <div id=\"df-5eb142a6-079a-4cac-b47b-3a65c7bf0252\">\n",
              "    <div class=\"colab-df-container\">\n",
              "      <div>\n",
              "<style scoped>\n",
              "    .dataframe tbody tr th:only-of-type {\n",
              "        vertical-align: middle;\n",
              "    }\n",
              "\n",
              "    .dataframe tbody tr th {\n",
              "        vertical-align: top;\n",
              "    }\n",
              "\n",
              "    .dataframe thead th {\n",
              "        text-align: right;\n",
              "    }\n",
              "</style>\n",
              "<table border=\"1\" class=\"dataframe\">\n",
              "  <thead>\n",
              "    <tr style=\"text-align: right;\">\n",
              "      <th></th>\n",
              "      <th>0</th>\n",
              "      <th>1</th>\n",
              "      <th>2</th>\n",
              "      <th>3</th>\n",
              "      <th>4</th>\n",
              "      <th>5</th>\n",
              "      <th>6</th>\n",
              "      <th>7</th>\n",
              "      <th>8</th>\n",
              "      <th>9</th>\n",
              "      <th>...</th>\n",
              "      <th>50683</th>\n",
              "      <th>50684</th>\n",
              "      <th>50685</th>\n",
              "      <th>50686</th>\n",
              "      <th>50687</th>\n",
              "      <th>50688</th>\n",
              "      <th>50689</th>\n",
              "      <th>50690</th>\n",
              "      <th>50691</th>\n",
              "      <th>50692</th>\n",
              "    </tr>\n",
              "  </thead>\n",
              "  <tbody>\n",
              "    <tr>\n",
              "      <th>0</th>\n",
              "      <td>0.0</td>\n",
              "      <td>0.0</td>\n",
              "      <td>0.0</td>\n",
              "      <td>0.0</td>\n",
              "      <td>0.0</td>\n",
              "      <td>0.0</td>\n",
              "      <td>0.0</td>\n",
              "      <td>0.0</td>\n",
              "      <td>0.0</td>\n",
              "      <td>0.0</td>\n",
              "      <td>...</td>\n",
              "      <td>0.0</td>\n",
              "      <td>0.0</td>\n",
              "      <td>0.0</td>\n",
              "      <td>0.0</td>\n",
              "      <td>0.0</td>\n",
              "      <td>0.0</td>\n",
              "      <td>0.0</td>\n",
              "      <td>0.0</td>\n",
              "      <td>0.0</td>\n",
              "      <td>0.0</td>\n",
              "    </tr>\n",
              "    <tr>\n",
              "      <th>1</th>\n",
              "      <td>0.0</td>\n",
              "      <td>0.0</td>\n",
              "      <td>0.0</td>\n",
              "      <td>0.0</td>\n",
              "      <td>0.0</td>\n",
              "      <td>0.0</td>\n",
              "      <td>0.0</td>\n",
              "      <td>0.0</td>\n",
              "      <td>0.0</td>\n",
              "      <td>0.0</td>\n",
              "      <td>...</td>\n",
              "      <td>0.0</td>\n",
              "      <td>0.0</td>\n",
              "      <td>0.0</td>\n",
              "      <td>0.0</td>\n",
              "      <td>0.0</td>\n",
              "      <td>0.0</td>\n",
              "      <td>0.0</td>\n",
              "      <td>0.0</td>\n",
              "      <td>0.0</td>\n",
              "      <td>0.0</td>\n",
              "    </tr>\n",
              "    <tr>\n",
              "      <th>2</th>\n",
              "      <td>0.0</td>\n",
              "      <td>0.0</td>\n",
              "      <td>0.0</td>\n",
              "      <td>0.0</td>\n",
              "      <td>0.0</td>\n",
              "      <td>0.0</td>\n",
              "      <td>0.0</td>\n",
              "      <td>0.0</td>\n",
              "      <td>0.0</td>\n",
              "      <td>0.0</td>\n",
              "      <td>...</td>\n",
              "      <td>0.0</td>\n",
              "      <td>0.0</td>\n",
              "      <td>0.0</td>\n",
              "      <td>0.0</td>\n",
              "      <td>0.0</td>\n",
              "      <td>0.0</td>\n",
              "      <td>0.0</td>\n",
              "      <td>0.0</td>\n",
              "      <td>0.0</td>\n",
              "      <td>0.0</td>\n",
              "    </tr>\n",
              "    <tr>\n",
              "      <th>3</th>\n",
              "      <td>0.0</td>\n",
              "      <td>0.0</td>\n",
              "      <td>0.0</td>\n",
              "      <td>0.0</td>\n",
              "      <td>0.0</td>\n",
              "      <td>0.0</td>\n",
              "      <td>0.0</td>\n",
              "      <td>0.0</td>\n",
              "      <td>0.0</td>\n",
              "      <td>0.0</td>\n",
              "      <td>...</td>\n",
              "      <td>0.0</td>\n",
              "      <td>0.0</td>\n",
              "      <td>0.0</td>\n",
              "      <td>0.0</td>\n",
              "      <td>0.0</td>\n",
              "      <td>0.0</td>\n",
              "      <td>0.0</td>\n",
              "      <td>0.0</td>\n",
              "      <td>0.0</td>\n",
              "      <td>0.0</td>\n",
              "    </tr>\n",
              "    <tr>\n",
              "      <th>4</th>\n",
              "      <td>0.0</td>\n",
              "      <td>0.0</td>\n",
              "      <td>0.0</td>\n",
              "      <td>0.0</td>\n",
              "      <td>0.0</td>\n",
              "      <td>0.0</td>\n",
              "      <td>0.0</td>\n",
              "      <td>0.0</td>\n",
              "      <td>0.0</td>\n",
              "      <td>0.0</td>\n",
              "      <td>...</td>\n",
              "      <td>0.0</td>\n",
              "      <td>0.0</td>\n",
              "      <td>0.0</td>\n",
              "      <td>0.0</td>\n",
              "      <td>0.0</td>\n",
              "      <td>0.0</td>\n",
              "      <td>0.0</td>\n",
              "      <td>0.0</td>\n",
              "      <td>0.0</td>\n",
              "      <td>0.0</td>\n",
              "    </tr>\n",
              "    <tr>\n",
              "      <th>...</th>\n",
              "      <td>...</td>\n",
              "      <td>...</td>\n",
              "      <td>...</td>\n",
              "      <td>...</td>\n",
              "      <td>...</td>\n",
              "      <td>...</td>\n",
              "      <td>...</td>\n",
              "      <td>...</td>\n",
              "      <td>...</td>\n",
              "      <td>...</td>\n",
              "      <td>...</td>\n",
              "      <td>...</td>\n",
              "      <td>...</td>\n",
              "      <td>...</td>\n",
              "      <td>...</td>\n",
              "      <td>...</td>\n",
              "      <td>...</td>\n",
              "      <td>...</td>\n",
              "      <td>...</td>\n",
              "      <td>...</td>\n",
              "      <td>...</td>\n",
              "    </tr>\n",
              "    <tr>\n",
              "      <th>15147</th>\n",
              "      <td>0.0</td>\n",
              "      <td>0.0</td>\n",
              "      <td>0.0</td>\n",
              "      <td>0.0</td>\n",
              "      <td>0.0</td>\n",
              "      <td>0.0</td>\n",
              "      <td>0.0</td>\n",
              "      <td>0.0</td>\n",
              "      <td>0.0</td>\n",
              "      <td>0.0</td>\n",
              "      <td>...</td>\n",
              "      <td>0.0</td>\n",
              "      <td>0.0</td>\n",
              "      <td>0.0</td>\n",
              "      <td>0.0</td>\n",
              "      <td>0.0</td>\n",
              "      <td>0.0</td>\n",
              "      <td>0.0</td>\n",
              "      <td>0.0</td>\n",
              "      <td>0.0</td>\n",
              "      <td>0.0</td>\n",
              "    </tr>\n",
              "    <tr>\n",
              "      <th>15148</th>\n",
              "      <td>0.0</td>\n",
              "      <td>0.0</td>\n",
              "      <td>0.0</td>\n",
              "      <td>0.0</td>\n",
              "      <td>0.0</td>\n",
              "      <td>0.0</td>\n",
              "      <td>0.0</td>\n",
              "      <td>0.0</td>\n",
              "      <td>0.0</td>\n",
              "      <td>0.0</td>\n",
              "      <td>...</td>\n",
              "      <td>0.0</td>\n",
              "      <td>0.0</td>\n",
              "      <td>0.0</td>\n",
              "      <td>0.0</td>\n",
              "      <td>0.0</td>\n",
              "      <td>0.0</td>\n",
              "      <td>0.0</td>\n",
              "      <td>0.0</td>\n",
              "      <td>0.0</td>\n",
              "      <td>0.0</td>\n",
              "    </tr>\n",
              "    <tr>\n",
              "      <th>15149</th>\n",
              "      <td>0.0</td>\n",
              "      <td>0.0</td>\n",
              "      <td>0.0</td>\n",
              "      <td>0.0</td>\n",
              "      <td>0.0</td>\n",
              "      <td>0.0</td>\n",
              "      <td>0.0</td>\n",
              "      <td>0.0</td>\n",
              "      <td>0.0</td>\n",
              "      <td>0.0</td>\n",
              "      <td>...</td>\n",
              "      <td>0.0</td>\n",
              "      <td>0.0</td>\n",
              "      <td>0.0</td>\n",
              "      <td>0.0</td>\n",
              "      <td>0.0</td>\n",
              "      <td>0.0</td>\n",
              "      <td>0.0</td>\n",
              "      <td>0.0</td>\n",
              "      <td>0.0</td>\n",
              "      <td>0.0</td>\n",
              "    </tr>\n",
              "    <tr>\n",
              "      <th>15150</th>\n",
              "      <td>0.0</td>\n",
              "      <td>0.0</td>\n",
              "      <td>0.0</td>\n",
              "      <td>0.0</td>\n",
              "      <td>0.0</td>\n",
              "      <td>0.0</td>\n",
              "      <td>0.0</td>\n",
              "      <td>0.0</td>\n",
              "      <td>0.0</td>\n",
              "      <td>0.0</td>\n",
              "      <td>...</td>\n",
              "      <td>0.0</td>\n",
              "      <td>0.0</td>\n",
              "      <td>0.0</td>\n",
              "      <td>0.0</td>\n",
              "      <td>0.0</td>\n",
              "      <td>0.0</td>\n",
              "      <td>0.0</td>\n",
              "      <td>0.0</td>\n",
              "      <td>0.0</td>\n",
              "      <td>0.0</td>\n",
              "    </tr>\n",
              "    <tr>\n",
              "      <th>15151</th>\n",
              "      <td>0.0</td>\n",
              "      <td>0.0</td>\n",
              "      <td>0.0</td>\n",
              "      <td>0.0</td>\n",
              "      <td>0.0</td>\n",
              "      <td>0.0</td>\n",
              "      <td>0.0</td>\n",
              "      <td>0.0</td>\n",
              "      <td>0.0</td>\n",
              "      <td>0.0</td>\n",
              "      <td>...</td>\n",
              "      <td>0.0</td>\n",
              "      <td>0.0</td>\n",
              "      <td>0.0</td>\n",
              "      <td>0.0</td>\n",
              "      <td>0.0</td>\n",
              "      <td>0.0</td>\n",
              "      <td>0.0</td>\n",
              "      <td>0.0</td>\n",
              "      <td>0.0</td>\n",
              "      <td>0.0</td>\n",
              "    </tr>\n",
              "  </tbody>\n",
              "</table>\n",
              "<p>15152 rows × 50693 columns</p>\n",
              "</div>\n",
              "      <button class=\"colab-df-convert\" onclick=\"convertToInteractive('df-5eb142a6-079a-4cac-b47b-3a65c7bf0252')\"\n",
              "              title=\"Convert this dataframe to an interactive table.\"\n",
              "              style=\"display:none;\">\n",
              "        \n",
              "  <svg xmlns=\"http://www.w3.org/2000/svg\" height=\"24px\"viewBox=\"0 0 24 24\"\n",
              "       width=\"24px\">\n",
              "    <path d=\"M0 0h24v24H0V0z\" fill=\"none\"/>\n",
              "    <path d=\"M18.56 5.44l.94 2.06.94-2.06 2.06-.94-2.06-.94-.94-2.06-.94 2.06-2.06.94zm-11 1L8.5 8.5l.94-2.06 2.06-.94-2.06-.94L8.5 2.5l-.94 2.06-2.06.94zm10 10l.94 2.06.94-2.06 2.06-.94-2.06-.94-.94-2.06-.94 2.06-2.06.94z\"/><path d=\"M17.41 7.96l-1.37-1.37c-.4-.4-.92-.59-1.43-.59-.52 0-1.04.2-1.43.59L10.3 9.45l-7.72 7.72c-.78.78-.78 2.05 0 2.83L4 21.41c.39.39.9.59 1.41.59.51 0 1.02-.2 1.41-.59l7.78-7.78 2.81-2.81c.8-.78.8-2.07 0-2.86zM5.41 20L4 18.59l7.72-7.72 1.47 1.35L5.41 20z\"/>\n",
              "  </svg>\n",
              "      </button>\n",
              "      \n",
              "  <style>\n",
              "    .colab-df-container {\n",
              "      display:flex;\n",
              "      flex-wrap:wrap;\n",
              "      gap: 12px;\n",
              "    }\n",
              "\n",
              "    .colab-df-convert {\n",
              "      background-color: #E8F0FE;\n",
              "      border: none;\n",
              "      border-radius: 50%;\n",
              "      cursor: pointer;\n",
              "      display: none;\n",
              "      fill: #1967D2;\n",
              "      height: 32px;\n",
              "      padding: 0 0 0 0;\n",
              "      width: 32px;\n",
              "    }\n",
              "\n",
              "    .colab-df-convert:hover {\n",
              "      background-color: #E2EBFA;\n",
              "      box-shadow: 0px 1px 2px rgba(60, 64, 67, 0.3), 0px 1px 3px 1px rgba(60, 64, 67, 0.15);\n",
              "      fill: #174EA6;\n",
              "    }\n",
              "\n",
              "    [theme=dark] .colab-df-convert {\n",
              "      background-color: #3B4455;\n",
              "      fill: #D2E3FC;\n",
              "    }\n",
              "\n",
              "    [theme=dark] .colab-df-convert:hover {\n",
              "      background-color: #434B5C;\n",
              "      box-shadow: 0px 1px 3px 1px rgba(0, 0, 0, 0.15);\n",
              "      filter: drop-shadow(0px 1px 2px rgba(0, 0, 0, 0.3));\n",
              "      fill: #FFFFFF;\n",
              "    }\n",
              "  </style>\n",
              "\n",
              "      <script>\n",
              "        const buttonEl =\n",
              "          document.querySelector('#df-5eb142a6-079a-4cac-b47b-3a65c7bf0252 button.colab-df-convert');\n",
              "        buttonEl.style.display =\n",
              "          google.colab.kernel.accessAllowed ? 'block' : 'none';\n",
              "\n",
              "        async function convertToInteractive(key) {\n",
              "          const element = document.querySelector('#df-5eb142a6-079a-4cac-b47b-3a65c7bf0252');\n",
              "          const dataTable =\n",
              "            await google.colab.kernel.invokeFunction('convertToInteractive',\n",
              "                                                     [key], {});\n",
              "          if (!dataTable) return;\n",
              "\n",
              "          const docLinkHtml = 'Like what you see? Visit the ' +\n",
              "            '<a target=\"_blank\" href=https://colab.research.google.com/notebooks/data_table.ipynb>data table notebook</a>'\n",
              "            + ' to learn more about interactive tables.';\n",
              "          element.innerHTML = '';\n",
              "          dataTable['output_type'] = 'display_data';\n",
              "          await google.colab.output.renderOutput(dataTable, element);\n",
              "          const docLink = document.createElement('div');\n",
              "          docLink.innerHTML = docLinkHtml;\n",
              "          element.appendChild(docLink);\n",
              "        }\n",
              "      </script>\n",
              "    </div>\n",
              "  </div>\n",
              "  "
            ],
            "text/plain": [
              "       0      1      2      3      4      5      6      7      8      9      \\\n",
              "0        0.0    0.0    0.0    0.0    0.0    0.0    0.0    0.0    0.0    0.0   \n",
              "1        0.0    0.0    0.0    0.0    0.0    0.0    0.0    0.0    0.0    0.0   \n",
              "2        0.0    0.0    0.0    0.0    0.0    0.0    0.0    0.0    0.0    0.0   \n",
              "3        0.0    0.0    0.0    0.0    0.0    0.0    0.0    0.0    0.0    0.0   \n",
              "4        0.0    0.0    0.0    0.0    0.0    0.0    0.0    0.0    0.0    0.0   \n",
              "...      ...    ...    ...    ...    ...    ...    ...    ...    ...    ...   \n",
              "15147    0.0    0.0    0.0    0.0    0.0    0.0    0.0    0.0    0.0    0.0   \n",
              "15148    0.0    0.0    0.0    0.0    0.0    0.0    0.0    0.0    0.0    0.0   \n",
              "15149    0.0    0.0    0.0    0.0    0.0    0.0    0.0    0.0    0.0    0.0   \n",
              "15150    0.0    0.0    0.0    0.0    0.0    0.0    0.0    0.0    0.0    0.0   \n",
              "15151    0.0    0.0    0.0    0.0    0.0    0.0    0.0    0.0    0.0    0.0   \n",
              "\n",
              "       ...  50683  50684  50685  50686  50687  50688  50689  50690  50691  \\\n",
              "0      ...    0.0    0.0    0.0    0.0    0.0    0.0    0.0    0.0    0.0   \n",
              "1      ...    0.0    0.0    0.0    0.0    0.0    0.0    0.0    0.0    0.0   \n",
              "2      ...    0.0    0.0    0.0    0.0    0.0    0.0    0.0    0.0    0.0   \n",
              "3      ...    0.0    0.0    0.0    0.0    0.0    0.0    0.0    0.0    0.0   \n",
              "4      ...    0.0    0.0    0.0    0.0    0.0    0.0    0.0    0.0    0.0   \n",
              "...    ...    ...    ...    ...    ...    ...    ...    ...    ...    ...   \n",
              "15147  ...    0.0    0.0    0.0    0.0    0.0    0.0    0.0    0.0    0.0   \n",
              "15148  ...    0.0    0.0    0.0    0.0    0.0    0.0    0.0    0.0    0.0   \n",
              "15149  ...    0.0    0.0    0.0    0.0    0.0    0.0    0.0    0.0    0.0   \n",
              "15150  ...    0.0    0.0    0.0    0.0    0.0    0.0    0.0    0.0    0.0   \n",
              "15151  ...    0.0    0.0    0.0    0.0    0.0    0.0    0.0    0.0    0.0   \n",
              "\n",
              "       50692  \n",
              "0        0.0  \n",
              "1        0.0  \n",
              "2        0.0  \n",
              "3        0.0  \n",
              "4        0.0  \n",
              "...      ...  \n",
              "15147    0.0  \n",
              "15148    0.0  \n",
              "15149    0.0  \n",
              "15150    0.0  \n",
              "15151    0.0  \n",
              "\n",
              "[15152 rows x 50693 columns]"
            ]
          },
          "execution_count": 59,
          "metadata": {},
          "output_type": "execute_result"
        }
      ],
      "source": [
        "pd.DataFrame(tfidf_model.toarray()) # , columns = vectorizer.get_feature_names()"
      ]
    },
    {
      "cell_type": "code",
      "execution_count": null,
      "metadata": {
        "colab": {
          "base_uri": "https://localhost:8080/"
        },
        "id": "0-VRopi7ErSz",
        "outputId": "f396d332-cc8b-42a5-83dc-b528bc540bfc"
      },
      "outputs": [
        {
          "data": {
            "text/plain": [
              "(15152, 50693)"
            ]
          },
          "execution_count": 60,
          "metadata": {},
          "output_type": "execute_result"
        }
      ],
      "source": [
        "tfidf_model.shape"
      ]
    },
    {
      "cell_type": "markdown",
      "metadata": {
        "id": "yG_-lO94ycSB"
      },
      "source": [
        "## Model Selection\n",
        "\n",
        "We will benchmark the following four models:\n",
        "\n",
        "1. (Multinomial) Naive Bayes\n",
        "2. Linear Support Vector Machine\n",
        "3. Logistic Regression"
      ]
    },
    {
      "cell_type": "code",
      "execution_count": null,
      "metadata": {
        "id": "xkJebC4wG7cc"
      },
      "outputs": [],
      "source": [
        "def train_classifier(X_train, y_train):\n",
        "\n",
        "    model_svc = OneVsRestClassifier(LinearSVC()).fit(X_train, y_train)\n",
        "    model_nb = OneVsRestClassifier(MultinomialNB()).fit(X_train, y_train)\n",
        "    model_rf = OneVsRestClassifier(LogisticRegression(penalty = 'l2', C = 4, max_iter = 10000)).fit(X_train, y_train)\n",
        "\n",
        "    return model_svc, model_nb, model_rf"
      ]
    },
    {
      "cell_type": "markdown",
      "metadata": {
        "id": "yrd_MISB8Dvn"
      },
      "source": [
        "## Train"
      ]
    },
    {
      "cell_type": "code",
      "execution_count": null,
      "metadata": {
        "colab": {
          "base_uri": "https://localhost:8080/"
        },
        "id": "Hdp_y1LmJK5M",
        "outputId": "001ad725-381d-49b7-e971-a74a9c4a238c"
      },
      "outputs": [
        {
          "name": "stderr",
          "output_type": "stream",
          "text": [
            "/usr/local/lib/python3.8/dist-packages/sklearn/svm/_base.py:1206: ConvergenceWarning:\n",
            "\n",
            "Liblinear failed to converge, increase the number of iterations.\n",
            "\n"
          ]
        }
      ],
      "source": [
        "classifier_tfidf_svc, classifier_tfidf_nb, classifier_tfidf_rf = train_classifier(tfidf_model, y_train)\n",
        "classifier_bow_svc, classifier_bow_nb, classifier_bow_rf = train_classifier(bow_model, y_train)"
      ]
    },
    {
      "cell_type": "markdown",
      "metadata": {
        "id": "HT9n8VV-8Bwk"
      },
      "source": [
        "## Prediction"
      ]
    },
    {
      "cell_type": "code",
      "execution_count": null,
      "metadata": {
        "id": "4X4l3QQkMdS6"
      },
      "outputs": [],
      "source": [
        "predicted_labels_tfidf_svc = classifier_tfidf_svc.predict(tfidf_model_test)\n",
        "predicted_labels_tfidf_nb = classifier_tfidf_nb.predict(tfidf_model_test)\n",
        "predicted_scores_tfidf_rf = classifier_tfidf_rf.predict(tfidf_model_test)\n",
        "\n",
        "predicted_labels_bow_svc = classifier_bow_svc.predict(bow_model_test)\n",
        "predicted_labels_bow_nb = classifier_bow_nb.predict(bow_model_test)\n",
        "predicted_scores_bow_rf = classifier_bow_rf.predict(bow_model_test)"
      ]
    },
    {
      "cell_type": "markdown",
      "metadata": {
        "id": "_WliGn3BkzGT"
      },
      "source": [
        "### Evaluation"
      ]
    },
    {
      "cell_type": "code",
      "execution_count": null,
      "metadata": {
        "id": "mJHeEozBIS9b"
      },
      "outputs": [],
      "source": [
        "def print_evaluation_scores(y_test, predicted):\n",
        "\n",
        "    f1 = f1_score(y_test, predicted, average='macro')\n",
        "    precision = precision_score(y_test, predicted, average='macro')\n",
        "    recall = recall_score(y_test, predicted, average='macro')\n",
        "\n",
        "    print('F1-score macro: ', f1)\n",
        "    print('Precision macro: ', precision)\n",
        "    print('Recall macro: ', recall)\n",
        "\n",
        "    return [f1, precision, recall]"
      ]
    },
    {
      "cell_type": "code",
      "execution_count": null,
      "metadata": {
        "colab": {
          "base_uri": "https://localhost:8080/"
        },
        "id": "Bzd89LxKkamV",
        "outputId": "c07f8093-105a-4b39-ee4e-dfdca14bd5f3"
      },
      "outputs": [
        {
          "name": "stdout",
          "output_type": "stream",
          "text": [
            "\n",
            "Tfidf\n",
            "\n",
            "Linear Support Vector Machine\n",
            "\n",
            "F1-score macro:  0.6928522711007767\n",
            "Precision macro:  0.8063790940303628\n",
            "Recall macro:  0.6339715551726862\n",
            "\n",
            "(Multinomial) Naive Bayes\n",
            "\n",
            "F1-score macro:  0.4217004463067089\n",
            "Precision macro:  0.6174578053889225\n",
            "Recall macro:  0.3507095994916168\n",
            "\n",
            "Logistic Regression\n",
            "\n",
            "F1-score macro:  0.6428341351694895\n",
            "Precision macro:  0.8463318853573817\n",
            "Recall macro:  0.580712926164605\n",
            "\n",
            "Bag-of-words\n",
            "\n",
            "Linear Support Vector Machine\n",
            "\n",
            "F1-score macro:  0.6635526044949581\n",
            "Precision macro:  0.7189122355175552\n",
            "Recall macro:  0.6284775799153192\n",
            "\n",
            "(Multinomial) Naive Bayes\n",
            "\n",
            "F1-score macro:  0.6333431911905568\n",
            "Precision macro:  0.7765951485739877\n",
            "Recall macro:  0.6361488072321594\n",
            "\n",
            "Logistic Regression\n",
            "\n",
            "F1-score macro:  0.6706607179653253\n",
            "Precision macro:  0.755915132640718\n",
            "Recall macro:  0.6237276236674131\n"
          ]
        },
        {
          "name": "stderr",
          "output_type": "stream",
          "text": [
            "/usr/local/lib/python3.8/dist-packages/sklearn/metrics/_classification.py:1318: UndefinedMetricWarning:\n",
            "\n",
            "Precision is ill-defined and being set to 0.0 in labels with no predicted samples. Use `zero_division` parameter to control this behavior.\n",
            "\n"
          ]
        }
      ],
      "source": [
        "print('\\nTfidf\\n')\n",
        "print('Linear Support Vector Machine\\n')\n",
        "tfidf_svc_scores = print_evaluation_scores(y_test, predicted_labels_tfidf_svc)\n",
        "print('\\n(Multinomial) Naive Bayes\\n')\n",
        "tfidf_nb_scores = print_evaluation_scores(y_test, predicted_labels_tfidf_nb)\n",
        "print('\\nLogistic Regression\\n')\n",
        "tfidf_rf_scores = print_evaluation_scores(y_test, predicted_scores_tfidf_rf)\n",
        "print('\\nBag-of-words\\n')\n",
        "print('Linear Support Vector Machine\\n')\n",
        "bow_svc_scores = print_evaluation_scores(y_test, predicted_labels_bow_svc)\n",
        "print('\\n(Multinomial) Naive Bayes\\n')\n",
        "bow_nb_scores = print_evaluation_scores(y_test, predicted_labels_bow_nb)\n",
        "print('\\nLogistic Regression\\n')\n",
        "bow_rf_scores = print_evaluation_scores(y_test, predicted_scores_bow_rf)"
      ]
    },
    {
      "cell_type": "code",
      "execution_count": null,
      "metadata": {
        "id": "HLfVhRiqtRoK"
      },
      "outputs": [],
      "source": [
        "predicted_labels_tfidf_svc = classifier_tfidf_svc.predict(tfidf_model_test)\n",
        "predicted_labels_tfidf_nb = classifier_tfidf_nb.predict(tfidf_model_test)\n",
        "predicted_scores_tfidf_rf = classifier_tfidf_rf.predict(tfidf_model_test)\n",
        "\n",
        "predicted_labels_bow_svc = classifier_bow_svc.predict(bow_model_test)\n",
        "predicted_labels_bow_nb = classifier_bow_nb.predict(bow_model_test)\n",
        "predicted_scores_bow_rf = classifier_bow_rf.predict(bow_model_test)"
      ]
    },
    {
      "cell_type": "code",
      "execution_count": null,
      "metadata": {
        "colab": {
          "base_uri": "https://localhost:8080/"
        },
        "id": "y782LkzLnB2i",
        "outputId": "4a34c322-b879-46d6-a140-c2ba37c96f78"
      },
      "outputs": [
        {
          "name": "stdout",
          "output_type": "stream",
          "text": [
            "TF-IDF: SVC\n",
            "\n",
            "                      precision    recall  f1-score   support\n",
            "\n",
            "    Computer Science       0.81      0.82      0.82      1282\n",
            "             Physics       0.92      0.83      0.87       932\n",
            "         Mathematics       0.83      0.76      0.80       843\n",
            "          Statistics       0.78      0.71      0.75       798\n",
            "Quantitative Biology       0.56      0.22      0.32        89\n",
            "Quantitative Finance       0.94      0.45      0.61        38\n",
            "\n",
            "           micro avg       0.83      0.77      0.80      3982\n",
            "           macro avg       0.81      0.63      0.69      3982\n",
            "        weighted avg       0.83      0.77      0.80      3982\n",
            "         samples avg       0.81      0.81      0.79      3982\n",
            "\n",
            "\n",
            "TF-IDF: Naive Bayes\n",
            "\n",
            "                      precision    recall  f1-score   support\n",
            "\n",
            "    Computer Science       0.82      0.81      0.82      1282\n",
            "             Physics       0.98      0.65      0.78       932\n",
            "         Mathematics       0.96      0.47      0.63       843\n",
            "          Statistics       0.94      0.18      0.31       798\n",
            "Quantitative Biology       0.00      0.00      0.00        89\n",
            "Quantitative Finance       0.00      0.00      0.00        38\n",
            "\n",
            "           micro avg       0.89      0.55      0.68      3982\n",
            "           macro avg       0.62      0.35      0.42      3982\n",
            "        weighted avg       0.89      0.55      0.64      3982\n",
            "         samples avg       0.67      0.60      0.62      3982\n",
            "\n",
            "\n",
            "TF-IDF: Logistic Regression\n",
            "\n",
            "                      precision    recall  f1-score   support\n",
            "\n",
            "    Computer Science       0.82      0.83      0.83      1282\n",
            "             Physics       0.92      0.82      0.87       932\n",
            "         Mathematics       0.86      0.77      0.81       843\n",
            "          Statistics       0.81      0.70      0.75       798\n",
            "Quantitative Biology       0.67      0.16      0.25        89\n",
            "Quantitative Finance       1.00      0.21      0.35        38\n",
            "\n",
            "           micro avg       0.85      0.77      0.81      3982\n",
            "           macro avg       0.85      0.58      0.64      3982\n",
            "        weighted avg       0.85      0.77      0.80      3982\n",
            "         samples avg       0.81      0.80      0.79      3982\n",
            "\n",
            "\n",
            "BoW: SVC\n",
            "\n",
            "                      precision    recall  f1-score   support\n",
            "\n",
            "    Computer Science       0.76      0.75      0.76      1282\n",
            "             Physics       0.88      0.83      0.85       932\n",
            "         Mathematics       0.75      0.76      0.76       843\n",
            "          Statistics       0.68      0.68      0.68       798\n",
            "Quantitative Biology       0.50      0.30      0.38        89\n",
            "Quantitative Finance       0.74      0.45      0.56        38\n",
            "\n",
            "           micro avg       0.77      0.74      0.75      3982\n",
            "           macro avg       0.72      0.63      0.66      3982\n",
            "        weighted avg       0.76      0.74      0.75      3982\n",
            "         samples avg       0.76      0.78      0.74      3982\n",
            "\n",
            "\n",
            "BoW: Naive Bayes\n",
            "\n",
            "                      precision    recall  f1-score   support\n",
            "\n",
            "    Computer Science       0.76      0.91      0.83      1282\n",
            "             Physics       0.90      0.84      0.87       932\n",
            "         Mathematics       0.78      0.83      0.80       843\n",
            "          Statistics       0.65      0.91      0.76       798\n",
            "Quantitative Biology       0.57      0.18      0.27        89\n",
            "Quantitative Finance       1.00      0.16      0.27        38\n",
            "\n",
            "           micro avg       0.76      0.85      0.80      3982\n",
            "           macro avg       0.78      0.64      0.63      3982\n",
            "        weighted avg       0.77      0.85      0.80      3982\n",
            "         samples avg       0.80      0.87      0.81      3982\n",
            "\n",
            "\n",
            "BoW: Logistic Regression\n",
            "\n",
            "                      precision    recall  f1-score   support\n",
            "\n",
            "    Computer Science       0.79      0.76      0.77      1282\n",
            "             Physics       0.89      0.83      0.86       932\n",
            "         Mathematics       0.78      0.78      0.78       843\n",
            "          Statistics       0.71      0.69      0.70       798\n",
            "Quantitative Biology       0.58      0.31      0.41        89\n",
            "Quantitative Finance       0.78      0.37      0.50        38\n",
            "\n",
            "           micro avg       0.79      0.75      0.77      3982\n",
            "           macro avg       0.76      0.62      0.67      3982\n",
            "        weighted avg       0.79      0.75      0.77      3982\n",
            "         samples avg       0.78      0.79      0.76      3982\n",
            "\n"
          ]
        },
        {
          "name": "stderr",
          "output_type": "stream",
          "text": [
            "/usr/local/lib/python3.8/dist-packages/sklearn/metrics/_classification.py:1318: UndefinedMetricWarning:\n",
            "\n",
            "Precision and F-score are ill-defined and being set to 0.0 in samples with no predicted labels. Use `zero_division` parameter to control this behavior.\n",
            "\n",
            "/usr/local/lib/python3.8/dist-packages/sklearn/metrics/_classification.py:1318: UndefinedMetricWarning:\n",
            "\n",
            "Precision and F-score are ill-defined and being set to 0.0 in samples with no predicted labels. Use `zero_division` parameter to control this behavior.\n",
            "\n",
            "/usr/local/lib/python3.8/dist-packages/sklearn/metrics/_classification.py:1318: UndefinedMetricWarning:\n",
            "\n",
            "Precision and F-score are ill-defined and being set to 0.0 in labels with no predicted samples. Use `zero_division` parameter to control this behavior.\n",
            "\n",
            "/usr/local/lib/python3.8/dist-packages/sklearn/metrics/_classification.py:1318: UndefinedMetricWarning:\n",
            "\n",
            "Precision and F-score are ill-defined and being set to 0.0 in samples with no predicted labels. Use `zero_division` parameter to control this behavior.\n",
            "\n",
            "/usr/local/lib/python3.8/dist-packages/sklearn/metrics/_classification.py:1318: UndefinedMetricWarning:\n",
            "\n",
            "Precision and F-score are ill-defined and being set to 0.0 in labels with no predicted samples. Use `zero_division` parameter to control this behavior.\n",
            "\n",
            "/usr/local/lib/python3.8/dist-packages/sklearn/metrics/_classification.py:1318: UndefinedMetricWarning:\n",
            "\n",
            "Precision and F-score are ill-defined and being set to 0.0 in samples with no predicted labels. Use `zero_division` parameter to control this behavior.\n",
            "\n",
            "/usr/local/lib/python3.8/dist-packages/sklearn/metrics/_classification.py:1318: UndefinedMetricWarning:\n",
            "\n",
            "Precision and F-score are ill-defined and being set to 0.0 in samples with no predicted labels. Use `zero_division` parameter to control this behavior.\n",
            "\n",
            "/usr/local/lib/python3.8/dist-packages/sklearn/metrics/_classification.py:1318: UndefinedMetricWarning:\n",
            "\n",
            "Precision and F-score are ill-defined and being set to 0.0 in samples with no predicted labels. Use `zero_division` parameter to control this behavior.\n",
            "\n",
            "/usr/local/lib/python3.8/dist-packages/sklearn/metrics/_classification.py:1318: UndefinedMetricWarning:\n",
            "\n",
            "Precision and F-score are ill-defined and being set to 0.0 in samples with no predicted labels. Use `zero_division` parameter to control this behavior.\n",
            "\n",
            "/usr/local/lib/python3.8/dist-packages/sklearn/metrics/_classification.py:1318: UndefinedMetricWarning:\n",
            "\n",
            "Precision and F-score are ill-defined and being set to 0.0 in samples with no predicted labels. Use `zero_division` parameter to control this behavior.\n",
            "\n",
            "/usr/local/lib/python3.8/dist-packages/sklearn/metrics/_classification.py:1318: UndefinedMetricWarning:\n",
            "\n",
            "Precision and F-score are ill-defined and being set to 0.0 in samples with no predicted labels. Use `zero_division` parameter to control this behavior.\n",
            "\n",
            "/usr/local/lib/python3.8/dist-packages/sklearn/metrics/_classification.py:1318: UndefinedMetricWarning:\n",
            "\n",
            "Precision and F-score are ill-defined and being set to 0.0 in samples with no predicted labels. Use `zero_division` parameter to control this behavior.\n",
            "\n",
            "/usr/local/lib/python3.8/dist-packages/sklearn/metrics/_classification.py:1318: UndefinedMetricWarning:\n",
            "\n",
            "Precision and F-score are ill-defined and being set to 0.0 in samples with no predicted labels. Use `zero_division` parameter to control this behavior.\n",
            "\n",
            "/usr/local/lib/python3.8/dist-packages/sklearn/metrics/_classification.py:1318: UndefinedMetricWarning:\n",
            "\n",
            "Precision and F-score are ill-defined and being set to 0.0 in samples with no predicted labels. Use `zero_division` parameter to control this behavior.\n",
            "\n"
          ]
        }
      ],
      "source": [
        "print('TF-IDF: SVC\\n')\n",
        "print(classification_report(y_test, predicted_labels_tfidf_svc, target_names=labels))\n",
        "cr_tfidf_svc = classification_report(y_test, predicted_labels_tfidf_svc, target_names=labels, output_dict=True)\n",
        "print('\\nTF-IDF: Naive Bayes\\n')\n",
        "print(classification_report(y_test, predicted_labels_tfidf_nb, target_names=labels))\n",
        "cr_tfidf_nb = classification_report(y_test, predicted_labels_tfidf_nb, target_names=labels, output_dict=True)\n",
        "print('\\nTF-IDF: Logistic Regression\\n')\n",
        "print(classification_report(y_test, predicted_scores_tfidf_rf, target_names=labels))\n",
        "cr_tfidf_rf = classification_report(y_test, predicted_scores_tfidf_rf, target_names=labels, output_dict=True)\n",
        "print('\\nBoW: SVC\\n')\n",
        "print(classification_report(y_test, predicted_labels_bow_svc, target_names=labels))\n",
        "cr_bow_svc = classification_report(y_test, predicted_labels_bow_svc, target_names=labels, output_dict=True)\n",
        "print('\\nBoW: Naive Bayes\\n')\n",
        "print(classification_report(y_test, predicted_labels_bow_nb, target_names=labels))\n",
        "cr_bow_nb = classification_report(y_test, predicted_labels_bow_svc, target_names=labels, output_dict=True)\n",
        "print('\\nBoW: Logistic Regression\\n')\n",
        "print(classification_report(y_test, predicted_scores_bow_rf, target_names=labels))\n",
        "cr_bow_rf = classification_report(y_test, predicted_scores_bow_rf, target_names=labels, output_dict=True)"
      ]
    },
    {
      "cell_type": "markdown",
      "metadata": {
        "id": "RJOKNAAqG_f3"
      },
      "source": [
        "### Score plot"
      ]
    },
    {
      "cell_type": "code",
      "execution_count": null,
      "metadata": {
        "colab": {
          "base_uri": "https://localhost:8080/",
          "height": 542
        },
        "id": "Wu3Am9QhG-qv",
        "outputId": "c0b027fc-46a4-481a-9291-c979b7fce03f"
      },
      "outputs": [
        {
          "data": {
            "text/html": [
              "<html>\n",
              "<head><meta charset=\"utf-8\" /></head>\n",
              "<body>\n",
              "    <div>            <script src=\"https://cdnjs.cloudflare.com/ajax/libs/mathjax/2.7.5/MathJax.js?config=TeX-AMS-MML_SVG\"></script><script type=\"text/javascript\">if (window.MathJax) {MathJax.Hub.Config({SVG: {font: \"STIX-Web\"}});}</script>                <script type=\"text/javascript\">window.PlotlyConfig = {MathJaxConfig: 'local'};</script>\n",
              "        <script src=\"https://cdn.plot.ly/plotly-2.8.3.min.js\"></script>                <div id=\"bba707e5-b518-4616-be3a-1352b6fe92c3\" class=\"plotly-graph-div\" style=\"height:525px; width:100%;\"></div>            <script type=\"text/javascript\">                                    window.PLOTLYENV=window.PLOTLYENV || {};                                    if (document.getElementById(\"bba707e5-b518-4616-be3a-1352b6fe92c3\")) {                    Plotly.newPlot(                        \"bba707e5-b518-4616-be3a-1352b6fe92c3\",                        [{\"name\":\"SVC - TFIDF\",\"x\":[\"F1-score\",\"precision\",\"recall\"],\"y\":[0.6928522711007767,0.8063790940303628,0.6339715551726862],\"type\":\"bar\"},{\"name\":\"Naive Bayes - TFIDF\",\"x\":[\"F1-score\",\"precision\",\"recall\"],\"y\":[0.4217004463067089,0.6174578053889225,0.3507095994916168],\"type\":\"bar\"},{\"name\":\"Logistic Regression - TFIDF\",\"x\":[\"F1-score\",\"precision\",\"recall\"],\"y\":[0.6428341351694895,0.8463318853573817,0.580712926164605],\"type\":\"bar\"},{\"name\":\"SVC - BOW\",\"x\":[\"F1-score\",\"precision\",\"recall\"],\"y\":[0.6635526044949581,0.7189122355175552,0.6284775799153192],\"type\":\"bar\"},{\"name\":\"Naive Bayes - BOW\",\"x\":[\"F1-score\",\"precision\",\"recall\"],\"y\":[0.6333431911905568,0.7765951485739877,0.6361488072321594],\"type\":\"bar\"},{\"name\":\"Logistic Regression - BOW\",\"x\":[\"F1-score\",\"precision\",\"recall\"],\"y\":[0.6706607179653253,0.755915132640718,0.6237276236674131],\"type\":\"bar\"}],                        {\"template\":{\"data\":{\"bar\":[{\"error_x\":{\"color\":\"#2a3f5f\"},\"error_y\":{\"color\":\"#2a3f5f\"},\"marker\":{\"line\":{\"color\":\"#E5ECF6\",\"width\":0.5},\"pattern\":{\"fillmode\":\"overlay\",\"size\":10,\"solidity\":0.2}},\"type\":\"bar\"}],\"barpolar\":[{\"marker\":{\"line\":{\"color\":\"#E5ECF6\",\"width\":0.5},\"pattern\":{\"fillmode\":\"overlay\",\"size\":10,\"solidity\":0.2}},\"type\":\"barpolar\"}],\"carpet\":[{\"aaxis\":{\"endlinecolor\":\"#2a3f5f\",\"gridcolor\":\"white\",\"linecolor\":\"white\",\"minorgridcolor\":\"white\",\"startlinecolor\":\"#2a3f5f\"},\"baxis\":{\"endlinecolor\":\"#2a3f5f\",\"gridcolor\":\"white\",\"linecolor\":\"white\",\"minorgridcolor\":\"white\",\"startlinecolor\":\"#2a3f5f\"},\"type\":\"carpet\"}],\"choropleth\":[{\"colorbar\":{\"outlinewidth\":0,\"ticks\":\"\"},\"type\":\"choropleth\"}],\"contour\":[{\"colorbar\":{\"outlinewidth\":0,\"ticks\":\"\"},\"colorscale\":[[0.0,\"#0d0887\"],[0.1111111111111111,\"#46039f\"],[0.2222222222222222,\"#7201a8\"],[0.3333333333333333,\"#9c179e\"],[0.4444444444444444,\"#bd3786\"],[0.5555555555555556,\"#d8576b\"],[0.6666666666666666,\"#ed7953\"],[0.7777777777777778,\"#fb9f3a\"],[0.8888888888888888,\"#fdca26\"],[1.0,\"#f0f921\"]],\"type\":\"contour\"}],\"contourcarpet\":[{\"colorbar\":{\"outlinewidth\":0,\"ticks\":\"\"},\"type\":\"contourcarpet\"}],\"heatmap\":[{\"colorbar\":{\"outlinewidth\":0,\"ticks\":\"\"},\"colorscale\":[[0.0,\"#0d0887\"],[0.1111111111111111,\"#46039f\"],[0.2222222222222222,\"#7201a8\"],[0.3333333333333333,\"#9c179e\"],[0.4444444444444444,\"#bd3786\"],[0.5555555555555556,\"#d8576b\"],[0.6666666666666666,\"#ed7953\"],[0.7777777777777778,\"#fb9f3a\"],[0.8888888888888888,\"#fdca26\"],[1.0,\"#f0f921\"]],\"type\":\"heatmap\"}],\"heatmapgl\":[{\"colorbar\":{\"outlinewidth\":0,\"ticks\":\"\"},\"colorscale\":[[0.0,\"#0d0887\"],[0.1111111111111111,\"#46039f\"],[0.2222222222222222,\"#7201a8\"],[0.3333333333333333,\"#9c179e\"],[0.4444444444444444,\"#bd3786\"],[0.5555555555555556,\"#d8576b\"],[0.6666666666666666,\"#ed7953\"],[0.7777777777777778,\"#fb9f3a\"],[0.8888888888888888,\"#fdca26\"],[1.0,\"#f0f921\"]],\"type\":\"heatmapgl\"}],\"histogram\":[{\"marker\":{\"pattern\":{\"fillmode\":\"overlay\",\"size\":10,\"solidity\":0.2}},\"type\":\"histogram\"}],\"histogram2d\":[{\"colorbar\":{\"outlinewidth\":0,\"ticks\":\"\"},\"colorscale\":[[0.0,\"#0d0887\"],[0.1111111111111111,\"#46039f\"],[0.2222222222222222,\"#7201a8\"],[0.3333333333333333,\"#9c179e\"],[0.4444444444444444,\"#bd3786\"],[0.5555555555555556,\"#d8576b\"],[0.6666666666666666,\"#ed7953\"],[0.7777777777777778,\"#fb9f3a\"],[0.8888888888888888,\"#fdca26\"],[1.0,\"#f0f921\"]],\"type\":\"histogram2d\"}],\"histogram2dcontour\":[{\"colorbar\":{\"outlinewidth\":0,\"ticks\":\"\"},\"colorscale\":[[0.0,\"#0d0887\"],[0.1111111111111111,\"#46039f\"],[0.2222222222222222,\"#7201a8\"],[0.3333333333333333,\"#9c179e\"],[0.4444444444444444,\"#bd3786\"],[0.5555555555555556,\"#d8576b\"],[0.6666666666666666,\"#ed7953\"],[0.7777777777777778,\"#fb9f3a\"],[0.8888888888888888,\"#fdca26\"],[1.0,\"#f0f921\"]],\"type\":\"histogram2dcontour\"}],\"mesh3d\":[{\"colorbar\":{\"outlinewidth\":0,\"ticks\":\"\"},\"type\":\"mesh3d\"}],\"parcoords\":[{\"line\":{\"colorbar\":{\"outlinewidth\":0,\"ticks\":\"\"}},\"type\":\"parcoords\"}],\"pie\":[{\"automargin\":true,\"type\":\"pie\"}],\"scatter\":[{\"marker\":{\"colorbar\":{\"outlinewidth\":0,\"ticks\":\"\"}},\"type\":\"scatter\"}],\"scatter3d\":[{\"line\":{\"colorbar\":{\"outlinewidth\":0,\"ticks\":\"\"}},\"marker\":{\"colorbar\":{\"outlinewidth\":0,\"ticks\":\"\"}},\"type\":\"scatter3d\"}],\"scattercarpet\":[{\"marker\":{\"colorbar\":{\"outlinewidth\":0,\"ticks\":\"\"}},\"type\":\"scattercarpet\"}],\"scattergeo\":[{\"marker\":{\"colorbar\":{\"outlinewidth\":0,\"ticks\":\"\"}},\"type\":\"scattergeo\"}],\"scattergl\":[{\"marker\":{\"colorbar\":{\"outlinewidth\":0,\"ticks\":\"\"}},\"type\":\"scattergl\"}],\"scattermapbox\":[{\"marker\":{\"colorbar\":{\"outlinewidth\":0,\"ticks\":\"\"}},\"type\":\"scattermapbox\"}],\"scatterpolar\":[{\"marker\":{\"colorbar\":{\"outlinewidth\":0,\"ticks\":\"\"}},\"type\":\"scatterpolar\"}],\"scatterpolargl\":[{\"marker\":{\"colorbar\":{\"outlinewidth\":0,\"ticks\":\"\"}},\"type\":\"scatterpolargl\"}],\"scatterternary\":[{\"marker\":{\"colorbar\":{\"outlinewidth\":0,\"ticks\":\"\"}},\"type\":\"scatterternary\"}],\"surface\":[{\"colorbar\":{\"outlinewidth\":0,\"ticks\":\"\"},\"colorscale\":[[0.0,\"#0d0887\"],[0.1111111111111111,\"#46039f\"],[0.2222222222222222,\"#7201a8\"],[0.3333333333333333,\"#9c179e\"],[0.4444444444444444,\"#bd3786\"],[0.5555555555555556,\"#d8576b\"],[0.6666666666666666,\"#ed7953\"],[0.7777777777777778,\"#fb9f3a\"],[0.8888888888888888,\"#fdca26\"],[1.0,\"#f0f921\"]],\"type\":\"surface\"}],\"table\":[{\"cells\":{\"fill\":{\"color\":\"#EBF0F8\"},\"line\":{\"color\":\"white\"}},\"header\":{\"fill\":{\"color\":\"#C8D4E3\"},\"line\":{\"color\":\"white\"}},\"type\":\"table\"}]},\"layout\":{\"annotationdefaults\":{\"arrowcolor\":\"#2a3f5f\",\"arrowhead\":0,\"arrowwidth\":1},\"autotypenumbers\":\"strict\",\"coloraxis\":{\"colorbar\":{\"outlinewidth\":0,\"ticks\":\"\"}},\"colorscale\":{\"diverging\":[[0,\"#8e0152\"],[0.1,\"#c51b7d\"],[0.2,\"#de77ae\"],[0.3,\"#f1b6da\"],[0.4,\"#fde0ef\"],[0.5,\"#f7f7f7\"],[0.6,\"#e6f5d0\"],[0.7,\"#b8e186\"],[0.8,\"#7fbc41\"],[0.9,\"#4d9221\"],[1,\"#276419\"]],\"sequential\":[[0.0,\"#0d0887\"],[0.1111111111111111,\"#46039f\"],[0.2222222222222222,\"#7201a8\"],[0.3333333333333333,\"#9c179e\"],[0.4444444444444444,\"#bd3786\"],[0.5555555555555556,\"#d8576b\"],[0.6666666666666666,\"#ed7953\"],[0.7777777777777778,\"#fb9f3a\"],[0.8888888888888888,\"#fdca26\"],[1.0,\"#f0f921\"]],\"sequentialminus\":[[0.0,\"#0d0887\"],[0.1111111111111111,\"#46039f\"],[0.2222222222222222,\"#7201a8\"],[0.3333333333333333,\"#9c179e\"],[0.4444444444444444,\"#bd3786\"],[0.5555555555555556,\"#d8576b\"],[0.6666666666666666,\"#ed7953\"],[0.7777777777777778,\"#fb9f3a\"],[0.8888888888888888,\"#fdca26\"],[1.0,\"#f0f921\"]]},\"colorway\":[\"#636efa\",\"#EF553B\",\"#00cc96\",\"#ab63fa\",\"#FFA15A\",\"#19d3f3\",\"#FF6692\",\"#B6E880\",\"#FF97FF\",\"#FECB52\"],\"font\":{\"color\":\"#2a3f5f\"},\"geo\":{\"bgcolor\":\"white\",\"lakecolor\":\"white\",\"landcolor\":\"#E5ECF6\",\"showlakes\":true,\"showland\":true,\"subunitcolor\":\"white\"},\"hoverlabel\":{\"align\":\"left\"},\"hovermode\":\"closest\",\"mapbox\":{\"style\":\"light\"},\"paper_bgcolor\":\"white\",\"plot_bgcolor\":\"#E5ECF6\",\"polar\":{\"angularaxis\":{\"gridcolor\":\"white\",\"linecolor\":\"white\",\"ticks\":\"\"},\"bgcolor\":\"#E5ECF6\",\"radialaxis\":{\"gridcolor\":\"white\",\"linecolor\":\"white\",\"ticks\":\"\"}},\"scene\":{\"xaxis\":{\"backgroundcolor\":\"#E5ECF6\",\"gridcolor\":\"white\",\"gridwidth\":2,\"linecolor\":\"white\",\"showbackground\":true,\"ticks\":\"\",\"zerolinecolor\":\"white\"},\"yaxis\":{\"backgroundcolor\":\"#E5ECF6\",\"gridcolor\":\"white\",\"gridwidth\":2,\"linecolor\":\"white\",\"showbackground\":true,\"ticks\":\"\",\"zerolinecolor\":\"white\"},\"zaxis\":{\"backgroundcolor\":\"#E5ECF6\",\"gridcolor\":\"white\",\"gridwidth\":2,\"linecolor\":\"white\",\"showbackground\":true,\"ticks\":\"\",\"zerolinecolor\":\"white\"}},\"shapedefaults\":{\"line\":{\"color\":\"#2a3f5f\"}},\"ternary\":{\"aaxis\":{\"gridcolor\":\"white\",\"linecolor\":\"white\",\"ticks\":\"\"},\"baxis\":{\"gridcolor\":\"white\",\"linecolor\":\"white\",\"ticks\":\"\"},\"bgcolor\":\"#E5ECF6\",\"caxis\":{\"gridcolor\":\"white\",\"linecolor\":\"white\",\"ticks\":\"\"}},\"title\":{\"x\":0.05},\"xaxis\":{\"automargin\":true,\"gridcolor\":\"white\",\"linecolor\":\"white\",\"ticks\":\"\",\"title\":{\"standoff\":15},\"zerolinecolor\":\"white\",\"zerolinewidth\":2},\"yaxis\":{\"automargin\":true,\"gridcolor\":\"white\",\"linecolor\":\"white\",\"ticks\":\"\",\"title\":{\"standoff\":15},\"zerolinecolor\":\"white\",\"zerolinewidth\":2}}},\"title\":{\"text\":\"Metrics bar plot for each combination\"},\"barmode\":\"group\"},                        {\"responsive\": true}                    ).then(function(){\n",
              "                            \n",
              "var gd = document.getElementById('bba707e5-b518-4616-be3a-1352b6fe92c3');\n",
              "var x = new MutationObserver(function (mutations, observer) {{\n",
              "        var display = window.getComputedStyle(gd).display;\n",
              "        if (!display || display === 'none') {{\n",
              "            console.log([gd, 'removed!']);\n",
              "            Plotly.purge(gd);\n",
              "            observer.disconnect();\n",
              "        }}\n",
              "}});\n",
              "\n",
              "// Listen for the removal of the full notebook cells\n",
              "var notebookContainer = gd.closest('#notebook-container');\n",
              "if (notebookContainer) {{\n",
              "    x.observe(notebookContainer, {childList: true});\n",
              "}}\n",
              "\n",
              "// Listen for the clearing of the current output cell\n",
              "var outputEl = gd.closest('.output');\n",
              "if (outputEl) {{\n",
              "    x.observe(outputEl, {childList: true});\n",
              "}}\n",
              "\n",
              "                        })                };                            </script>        </div>\n",
              "</body>\n",
              "</html>"
            ]
          },
          "metadata": {},
          "output_type": "display_data"
        }
      ],
      "source": [
        "metrics = ['F1-score', 'precision', 'recall']\n",
        "\n",
        "fig = go.Figure(data=[\n",
        "    go.Bar(name='SVC - TFIDF', x=metrics, y=tfidf_svc_scores),\n",
        "    go.Bar(name='Naive Bayes - TFIDF', x=metrics, y=tfidf_nb_scores),\n",
        "    go.Bar(name='Logistic Regression - TFIDF', x=metrics, y=tfidf_rf_scores),\n",
        "    go.Bar(name='SVC - BOW', x=metrics, y=bow_svc_scores),\n",
        "    go.Bar(name='Naive Bayes - BOW', x=metrics, y=bow_nb_scores),\n",
        "    go.Bar(name='Logistic Regression - BOW', x=metrics, y=bow_rf_scores),\n",
        "])\n",
        "\n",
        "# Change the bar mode\n",
        "fig.update_layout(barmode='group', title_text='Metrics bar plot for each combination')\n",
        "fig.show()"
      ]
    },
    {
      "cell_type": "markdown",
      "metadata": {
        "id": "d2H4uQHA5S-6"
      },
      "source": [
        "Models with BOW do better on average, although the best score is that of SVC-TFIDF. The most substantial increase is, however, the one obtained by using BOW instead of TFIDF in the Multinomial Naive Bayes, which is the worst. For the remaining two models (SVM and Logistic Regression), the difference between the input represented in BOW and TFIDF is minimal."
      ]
    },
    {
      "cell_type": "markdown",
      "metadata": {
        "id": "rcwjmQqRyVOG"
      },
      "source": [
        "### F1-score for each class and for each model"
      ]
    },
    {
      "cell_type": "code",
      "execution_count": null,
      "metadata": {
        "id": "vhjmZDj_1aEs"
      },
      "outputs": [],
      "source": [
        "tfidf_svc_for_labels = []\n",
        "tfidf_nb_for_labels = []\n",
        "tfidf_rf_for_labels = []\n",
        "bow_svc_for_labels = []\n",
        "bow_nb_for_labels = []\n",
        "bow_rf_for_labels = []\n",
        "\n",
        "for i in labels:\n",
        "  tfidf_svc_for_labels.append(cr_tfidf_svc[i]['f1-score'])\n",
        "  tfidf_nb_for_labels.append(cr_tfidf_nb[i]['f1-score'])\n",
        "  tfidf_rf_for_labels.append(cr_tfidf_rf[i]['f1-score'])\n",
        "  bow_svc_for_labels.append(cr_bow_svc[i]['f1-score'])\n",
        "  bow_nb_for_labels.append(cr_bow_nb[i]['f1-score'])\n",
        "  bow_rf_for_labels.append(cr_bow_rf[i]['f1-score'])"
      ]
    },
    {
      "cell_type": "code",
      "execution_count": null,
      "metadata": {
        "colab": {
          "base_uri": "https://localhost:8080/",
          "height": 542
        },
        "id": "0poF-QQs1XkK",
        "outputId": "91569e16-d41c-4c93-a9d4-5d9b615fc0d7"
      },
      "outputs": [
        {
          "data": {
            "text/html": [
              "<html>\n",
              "<head><meta charset=\"utf-8\" /></head>\n",
              "<body>\n",
              "    <div>            <script src=\"https://cdnjs.cloudflare.com/ajax/libs/mathjax/2.7.5/MathJax.js?config=TeX-AMS-MML_SVG\"></script><script type=\"text/javascript\">if (window.MathJax) {MathJax.Hub.Config({SVG: {font: \"STIX-Web\"}});}</script>                <script type=\"text/javascript\">window.PlotlyConfig = {MathJaxConfig: 'local'};</script>\n",
              "        <script src=\"https://cdn.plot.ly/plotly-2.8.3.min.js\"></script>                <div id=\"0325f7be-e7d8-4cf7-9511-e0a7c94a1eea\" class=\"plotly-graph-div\" style=\"height:525px; width:100%;\"></div>            <script type=\"text/javascript\">                                    window.PLOTLYENV=window.PLOTLYENV || {};                                    if (document.getElementById(\"0325f7be-e7d8-4cf7-9511-e0a7c94a1eea\")) {                    Plotly.newPlot(                        \"0325f7be-e7d8-4cf7-9511-e0a7c94a1eea\",                        [{\"line\":{\"color\":\"red\",\"width\":2},\"marker\":{\"size\":10,\"symbol\":\"square\"},\"name\":\"SVC - TFID\",\"x\":[\"Computer Science\",\"Physics\",\"Mathematics\",\"Statistics\",\"Quantitative Biology\",\"Quantitative Finance\"],\"y\":[0.8157894736842105,0.8719101123595506,0.7950617283950616,0.747209455022981,0.32,0.6071428571428572],\"type\":\"scatter\"},{\"line\":{\"color\":\"green\",\"width\":2},\"marker\":{\"size\":10,\"symbol\":\"circle\"},\"name\":\"Naive Bayes - TFIDF\",\"x\":[\"Computer Science\",\"Physics\",\"Mathematics\",\"Statistics\",\"Quantitative Biology\",\"Quantitative Finance\"],\"y\":[0.815748031496063,0.7800776196636482,0.6282973621103117,0.3060796645702306,0.0,0.0],\"type\":\"scatter\"},{\"line\":{\"color\":\"blue\",\"width\":2},\"marker\":{\"size\":10,\"symbol\":\"triangle-up\"},\"name\":\"Logistic Regression - TFIDF\",\"x\":[\"Computer Science\",\"Physics\",\"Mathematics\",\"Statistics\",\"Quantitative Biology\",\"Quantitative Finance\"],\"y\":[0.8264591439688717,0.8665530948324817,0.807764558547276,0.7538564721663313,0.2545454545454545,0.34782608695652173],\"type\":\"scatter\"},{\"line\":{\"color\":\"goldenrod\",\"width\":2},\"marker\":{\"size\":10,\"symbol\":\"triangle-down\"},\"name\":\"SVC - BOW\",\"x\":[\"Computer Science\",\"Physics\",\"Mathematics\",\"Statistics\",\"Quantitative Biology\",\"Quantitative Finance\"],\"y\":[0.7558869701726845,0.8539823008849557,0.757201646090535,0.6792452830188679,0.3776223776223776,0.5573770491803278],\"type\":\"scatter\"},{\"line\":{\"color\":\"orange\",\"width\":2},\"marker\":{\"size\":10,\"symbol\":\"diamond\"},\"name\":\"Naive Bayes - BOW\",\"x\":[\"Computer Science\",\"Physics\",\"Mathematics\",\"Statistics\",\"Quantitative Biology\",\"Quantitative Finance\"],\"y\":[0.7558869701726845,0.8539823008849557,0.757201646090535,0.6792452830188679,0.3776223776223776,0.5573770491803278],\"type\":\"scatter\"},{\"line\":{\"color\":\"grey\",\"width\":2},\"marker\":{\"size\":10,\"symbol\":\"star\"},\"name\":\"Logistic Regression - BOW\",\"x\":[\"Computer Science\",\"Physics\",\"Mathematics\",\"Statistics\",\"Quantitative Biology\",\"Quantitative Finance\"],\"y\":[0.7731958762886597,0.8620689655172413,0.7796208530805687,0.7003194888178914,0.40875912408759124,0.5],\"type\":\"scatter\"}],                        {\"template\":{\"data\":{\"bar\":[{\"error_x\":{\"color\":\"#2a3f5f\"},\"error_y\":{\"color\":\"#2a3f5f\"},\"marker\":{\"line\":{\"color\":\"#E5ECF6\",\"width\":0.5},\"pattern\":{\"fillmode\":\"overlay\",\"size\":10,\"solidity\":0.2}},\"type\":\"bar\"}],\"barpolar\":[{\"marker\":{\"line\":{\"color\":\"#E5ECF6\",\"width\":0.5},\"pattern\":{\"fillmode\":\"overlay\",\"size\":10,\"solidity\":0.2}},\"type\":\"barpolar\"}],\"carpet\":[{\"aaxis\":{\"endlinecolor\":\"#2a3f5f\",\"gridcolor\":\"white\",\"linecolor\":\"white\",\"minorgridcolor\":\"white\",\"startlinecolor\":\"#2a3f5f\"},\"baxis\":{\"endlinecolor\":\"#2a3f5f\",\"gridcolor\":\"white\",\"linecolor\":\"white\",\"minorgridcolor\":\"white\",\"startlinecolor\":\"#2a3f5f\"},\"type\":\"carpet\"}],\"choropleth\":[{\"colorbar\":{\"outlinewidth\":0,\"ticks\":\"\"},\"type\":\"choropleth\"}],\"contour\":[{\"colorbar\":{\"outlinewidth\":0,\"ticks\":\"\"},\"colorscale\":[[0.0,\"#0d0887\"],[0.1111111111111111,\"#46039f\"],[0.2222222222222222,\"#7201a8\"],[0.3333333333333333,\"#9c179e\"],[0.4444444444444444,\"#bd3786\"],[0.5555555555555556,\"#d8576b\"],[0.6666666666666666,\"#ed7953\"],[0.7777777777777778,\"#fb9f3a\"],[0.8888888888888888,\"#fdca26\"],[1.0,\"#f0f921\"]],\"type\":\"contour\"}],\"contourcarpet\":[{\"colorbar\":{\"outlinewidth\":0,\"ticks\":\"\"},\"type\":\"contourcarpet\"}],\"heatmap\":[{\"colorbar\":{\"outlinewidth\":0,\"ticks\":\"\"},\"colorscale\":[[0.0,\"#0d0887\"],[0.1111111111111111,\"#46039f\"],[0.2222222222222222,\"#7201a8\"],[0.3333333333333333,\"#9c179e\"],[0.4444444444444444,\"#bd3786\"],[0.5555555555555556,\"#d8576b\"],[0.6666666666666666,\"#ed7953\"],[0.7777777777777778,\"#fb9f3a\"],[0.8888888888888888,\"#fdca26\"],[1.0,\"#f0f921\"]],\"type\":\"heatmap\"}],\"heatmapgl\":[{\"colorbar\":{\"outlinewidth\":0,\"ticks\":\"\"},\"colorscale\":[[0.0,\"#0d0887\"],[0.1111111111111111,\"#46039f\"],[0.2222222222222222,\"#7201a8\"],[0.3333333333333333,\"#9c179e\"],[0.4444444444444444,\"#bd3786\"],[0.5555555555555556,\"#d8576b\"],[0.6666666666666666,\"#ed7953\"],[0.7777777777777778,\"#fb9f3a\"],[0.8888888888888888,\"#fdca26\"],[1.0,\"#f0f921\"]],\"type\":\"heatmapgl\"}],\"histogram\":[{\"marker\":{\"pattern\":{\"fillmode\":\"overlay\",\"size\":10,\"solidity\":0.2}},\"type\":\"histogram\"}],\"histogram2d\":[{\"colorbar\":{\"outlinewidth\":0,\"ticks\":\"\"},\"colorscale\":[[0.0,\"#0d0887\"],[0.1111111111111111,\"#46039f\"],[0.2222222222222222,\"#7201a8\"],[0.3333333333333333,\"#9c179e\"],[0.4444444444444444,\"#bd3786\"],[0.5555555555555556,\"#d8576b\"],[0.6666666666666666,\"#ed7953\"],[0.7777777777777778,\"#fb9f3a\"],[0.8888888888888888,\"#fdca26\"],[1.0,\"#f0f921\"]],\"type\":\"histogram2d\"}],\"histogram2dcontour\":[{\"colorbar\":{\"outlinewidth\":0,\"ticks\":\"\"},\"colorscale\":[[0.0,\"#0d0887\"],[0.1111111111111111,\"#46039f\"],[0.2222222222222222,\"#7201a8\"],[0.3333333333333333,\"#9c179e\"],[0.4444444444444444,\"#bd3786\"],[0.5555555555555556,\"#d8576b\"],[0.6666666666666666,\"#ed7953\"],[0.7777777777777778,\"#fb9f3a\"],[0.8888888888888888,\"#fdca26\"],[1.0,\"#f0f921\"]],\"type\":\"histogram2dcontour\"}],\"mesh3d\":[{\"colorbar\":{\"outlinewidth\":0,\"ticks\":\"\"},\"type\":\"mesh3d\"}],\"parcoords\":[{\"line\":{\"colorbar\":{\"outlinewidth\":0,\"ticks\":\"\"}},\"type\":\"parcoords\"}],\"pie\":[{\"automargin\":true,\"type\":\"pie\"}],\"scatter\":[{\"marker\":{\"colorbar\":{\"outlinewidth\":0,\"ticks\":\"\"}},\"type\":\"scatter\"}],\"scatter3d\":[{\"line\":{\"colorbar\":{\"outlinewidth\":0,\"ticks\":\"\"}},\"marker\":{\"colorbar\":{\"outlinewidth\":0,\"ticks\":\"\"}},\"type\":\"scatter3d\"}],\"scattercarpet\":[{\"marker\":{\"colorbar\":{\"outlinewidth\":0,\"ticks\":\"\"}},\"type\":\"scattercarpet\"}],\"scattergeo\":[{\"marker\":{\"colorbar\":{\"outlinewidth\":0,\"ticks\":\"\"}},\"type\":\"scattergeo\"}],\"scattergl\":[{\"marker\":{\"colorbar\":{\"outlinewidth\":0,\"ticks\":\"\"}},\"type\":\"scattergl\"}],\"scattermapbox\":[{\"marker\":{\"colorbar\":{\"outlinewidth\":0,\"ticks\":\"\"}},\"type\":\"scattermapbox\"}],\"scatterpolar\":[{\"marker\":{\"colorbar\":{\"outlinewidth\":0,\"ticks\":\"\"}},\"type\":\"scatterpolar\"}],\"scatterpolargl\":[{\"marker\":{\"colorbar\":{\"outlinewidth\":0,\"ticks\":\"\"}},\"type\":\"scatterpolargl\"}],\"scatterternary\":[{\"marker\":{\"colorbar\":{\"outlinewidth\":0,\"ticks\":\"\"}},\"type\":\"scatterternary\"}],\"surface\":[{\"colorbar\":{\"outlinewidth\":0,\"ticks\":\"\"},\"colorscale\":[[0.0,\"#0d0887\"],[0.1111111111111111,\"#46039f\"],[0.2222222222222222,\"#7201a8\"],[0.3333333333333333,\"#9c179e\"],[0.4444444444444444,\"#bd3786\"],[0.5555555555555556,\"#d8576b\"],[0.6666666666666666,\"#ed7953\"],[0.7777777777777778,\"#fb9f3a\"],[0.8888888888888888,\"#fdca26\"],[1.0,\"#f0f921\"]],\"type\":\"surface\"}],\"table\":[{\"cells\":{\"fill\":{\"color\":\"#EBF0F8\"},\"line\":{\"color\":\"white\"}},\"header\":{\"fill\":{\"color\":\"#C8D4E3\"},\"line\":{\"color\":\"white\"}},\"type\":\"table\"}]},\"layout\":{\"annotationdefaults\":{\"arrowcolor\":\"#2a3f5f\",\"arrowhead\":0,\"arrowwidth\":1},\"autotypenumbers\":\"strict\",\"coloraxis\":{\"colorbar\":{\"outlinewidth\":0,\"ticks\":\"\"}},\"colorscale\":{\"diverging\":[[0,\"#8e0152\"],[0.1,\"#c51b7d\"],[0.2,\"#de77ae\"],[0.3,\"#f1b6da\"],[0.4,\"#fde0ef\"],[0.5,\"#f7f7f7\"],[0.6,\"#e6f5d0\"],[0.7,\"#b8e186\"],[0.8,\"#7fbc41\"],[0.9,\"#4d9221\"],[1,\"#276419\"]],\"sequential\":[[0.0,\"#0d0887\"],[0.1111111111111111,\"#46039f\"],[0.2222222222222222,\"#7201a8\"],[0.3333333333333333,\"#9c179e\"],[0.4444444444444444,\"#bd3786\"],[0.5555555555555556,\"#d8576b\"],[0.6666666666666666,\"#ed7953\"],[0.7777777777777778,\"#fb9f3a\"],[0.8888888888888888,\"#fdca26\"],[1.0,\"#f0f921\"]],\"sequentialminus\":[[0.0,\"#0d0887\"],[0.1111111111111111,\"#46039f\"],[0.2222222222222222,\"#7201a8\"],[0.3333333333333333,\"#9c179e\"],[0.4444444444444444,\"#bd3786\"],[0.5555555555555556,\"#d8576b\"],[0.6666666666666666,\"#ed7953\"],[0.7777777777777778,\"#fb9f3a\"],[0.8888888888888888,\"#fdca26\"],[1.0,\"#f0f921\"]]},\"colorway\":[\"#636efa\",\"#EF553B\",\"#00cc96\",\"#ab63fa\",\"#FFA15A\",\"#19d3f3\",\"#FF6692\",\"#B6E880\",\"#FF97FF\",\"#FECB52\"],\"font\":{\"color\":\"#2a3f5f\"},\"geo\":{\"bgcolor\":\"white\",\"lakecolor\":\"white\",\"landcolor\":\"#E5ECF6\",\"showlakes\":true,\"showland\":true,\"subunitcolor\":\"white\"},\"hoverlabel\":{\"align\":\"left\"},\"hovermode\":\"closest\",\"mapbox\":{\"style\":\"light\"},\"paper_bgcolor\":\"white\",\"plot_bgcolor\":\"#E5ECF6\",\"polar\":{\"angularaxis\":{\"gridcolor\":\"white\",\"linecolor\":\"white\",\"ticks\":\"\"},\"bgcolor\":\"#E5ECF6\",\"radialaxis\":{\"gridcolor\":\"white\",\"linecolor\":\"white\",\"ticks\":\"\"}},\"scene\":{\"xaxis\":{\"backgroundcolor\":\"#E5ECF6\",\"gridcolor\":\"white\",\"gridwidth\":2,\"linecolor\":\"white\",\"showbackground\":true,\"ticks\":\"\",\"zerolinecolor\":\"white\"},\"yaxis\":{\"backgroundcolor\":\"#E5ECF6\",\"gridcolor\":\"white\",\"gridwidth\":2,\"linecolor\":\"white\",\"showbackground\":true,\"ticks\":\"\",\"zerolinecolor\":\"white\"},\"zaxis\":{\"backgroundcolor\":\"#E5ECF6\",\"gridcolor\":\"white\",\"gridwidth\":2,\"linecolor\":\"white\",\"showbackground\":true,\"ticks\":\"\",\"zerolinecolor\":\"white\"}},\"shapedefaults\":{\"line\":{\"color\":\"#2a3f5f\"}},\"ternary\":{\"aaxis\":{\"gridcolor\":\"white\",\"linecolor\":\"white\",\"ticks\":\"\"},\"baxis\":{\"gridcolor\":\"white\",\"linecolor\":\"white\",\"ticks\":\"\"},\"bgcolor\":\"#E5ECF6\",\"caxis\":{\"gridcolor\":\"white\",\"linecolor\":\"white\",\"ticks\":\"\"}},\"title\":{\"x\":0.05},\"xaxis\":{\"automargin\":true,\"gridcolor\":\"white\",\"linecolor\":\"white\",\"ticks\":\"\",\"title\":{\"standoff\":15},\"zerolinecolor\":\"white\",\"zerolinewidth\":2},\"yaxis\":{\"automargin\":true,\"gridcolor\":\"white\",\"linecolor\":\"white\",\"ticks\":\"\",\"title\":{\"standoff\":15},\"zerolinecolor\":\"white\",\"zerolinewidth\":2}}},\"title\":{\"text\":\"F1-score for each class and for each model\"},\"xaxis\":{\"title\":{\"text\":\"labels\"}},\"yaxis\":{\"title\":{\"text\":\"f1-score\"}}},                        {\"responsive\": true}                    ).then(function(){\n",
              "                            \n",
              "var gd = document.getElementById('0325f7be-e7d8-4cf7-9511-e0a7c94a1eea');\n",
              "var x = new MutationObserver(function (mutations, observer) {{\n",
              "        var display = window.getComputedStyle(gd).display;\n",
              "        if (!display || display === 'none') {{\n",
              "            console.log([gd, 'removed!']);\n",
              "            Plotly.purge(gd);\n",
              "            observer.disconnect();\n",
              "        }}\n",
              "}});\n",
              "\n",
              "// Listen for the removal of the full notebook cells\n",
              "var notebookContainer = gd.closest('#notebook-container');\n",
              "if (notebookContainer) {{\n",
              "    x.observe(notebookContainer, {childList: true});\n",
              "}}\n",
              "\n",
              "// Listen for the clearing of the current output cell\n",
              "var outputEl = gd.closest('.output');\n",
              "if (outputEl) {{\n",
              "    x.observe(outputEl, {childList: true});\n",
              "}}\n",
              "\n",
              "                        })                };                            </script>        </div>\n",
              "</body>\n",
              "</html>"
            ]
          },
          "metadata": {},
          "output_type": "display_data"
        }
      ],
      "source": [
        "fig = go.Figure()\n",
        "# Create and style traces\n",
        "fig.add_trace(go.Scatter(x=labels, y=tfidf_svc_for_labels, name='SVC - TFID', line=dict(color='red', width=2), marker = dict(symbol = \"square\", size = 10)))\n",
        "fig.add_trace(go.Scatter(x=labels, y=tfidf_nb_for_labels, name = 'Naive Bayes - TFIDF', line=dict(color='green', width=2), marker = dict(symbol = \"circle\", size = 10)))\n",
        "fig.add_trace(go.Scatter(x=labels, y=tfidf_rf_for_labels, name='Logistic Regression - TFIDF', line=dict(color='blue', width=2), marker = dict(symbol = \"triangle-up\", size = 10)))\n",
        "fig.add_trace(go.Scatter(x=labels, y=bow_svc_for_labels, name='SVC - BOW', line = dict(color='goldenrod', width=2), marker = dict(symbol = \"triangle-down\", size = 10)))\n",
        "fig.add_trace(go.Scatter(x=labels, y=bow_nb_for_labels, name='Naive Bayes - BOW', line = dict(color='orange', width=2), marker = dict(symbol = \"diamond\", size = 10)))\n",
        "fig.add_trace(go.Scatter(x=labels, y=bow_rf_for_labels, name='Logistic Regression - BOW', line = dict(color='grey', width=2), marker = dict(symbol = \"star\", size = 10)))\n",
        "\n",
        "# Edit the layout\n",
        "fig.update_layout(title='F1-score for each class and for each model',\n",
        "                   xaxis_title='labels',\n",
        "                   yaxis_title='f1-score')\n",
        "\n",
        "\n",
        "fig.show()"
      ]
    },
    {
      "cell_type": "markdown",
      "metadata": {
        "id": "CHHfHlpo46Nt"
      },
      "source": [
        "As we can see, the worst predicted classes are 'Quantitative Biology' and 'Quantitative Finance', as we were expecting looking at the distribution. Even this was not matched once by the worst model, namely Naive Bayes TF-IDF.\n",
        "The best predicted class is 'Physics' although less present than 'Computer Science'. An interesting thing we can note is that our best model in general (SVC TF-IDF) is only slightly worse than Logistic regression TF IDF, which, however, is much worse in the least represented classes."
      ]
    },
    {
      "cell_type": "markdown",
      "metadata": {
        "id": "MjYoZ5tZMGqJ"
      },
      "source": [
        "# SECTION 2: GloVe Embeddings with simple neural architectures BiLSTM"
      ]
    },
    {
      "cell_type": "markdown",
      "metadata": {
        "id": "YONhRCV645pu"
      },
      "source": [
        "### Input lengths\n",
        "\n",
        "In this section the lengths of the input is measured and a **MAX_SEQ_LENGTH** is chosen in order to be used subsequently with the proposed neural architectures."
      ]
    },
    {
      "cell_type": "code",
      "execution_count": null,
      "metadata": {
        "colab": {
          "base_uri": "https://localhost:8080/"
        },
        "id": "F_SkKlt95CEj",
        "outputId": "ad7b1a66-8409-4741-b350-7d030bf9335e"
      },
      "outputs": [
        {
          "data": {
            "text/html": [
              "<html>\n",
              "<head><meta charset=\"utf-8\" /></head>\n",
              "<body>\n",
              "    <div>            <script src=\"https://cdnjs.cloudflare.com/ajax/libs/mathjax/2.7.5/MathJax.js?config=TeX-AMS-MML_SVG\"></script><script type=\"text/javascript\">if (window.MathJax) {MathJax.Hub.Config({SVG: {font: \"STIX-Web\"}});}</script>                <script type=\"text/javascript\">window.PlotlyConfig = {MathJaxConfig: 'local'};</script>\n",
              "        <script src=\"https://cdn.plot.ly/plotly-2.8.3.min.js\"></script>                <div id=\"d9044865-9d8a-4fea-ad40-840da39c65ee\" class=\"plotly-graph-div\" style=\"height:525px; width:100%;\"></div>            <script type=\"text/javascript\">                                    window.PLOTLYENV=window.PLOTLYENV || {};                                    if (document.getElementById(\"d9044865-9d8a-4fea-ad40-840da39c65ee\")) {                    Plotly.newPlot(                        \"d9044865-9d8a-4fea-ad40-840da39c65ee\",                        [{\"alignmentgroup\":\"True\",\"bingroup\":\"x\",\"histnorm\":\"percent\",\"hovertemplate\":\"0=%{x}<br>percent=%{y}<extra></extra>\",\"legendgroup\":\"\",\"marker\":{\"color\":\"#636efa\",\"pattern\":{\"shape\":\"\"}},\"name\":\"\",\"offsetgroup\":\"\",\"orientation\":\"v\",\"showlegend\":false,\"x\":[876,622,835,865,458,955,300,991,710,671,933,338,1016,817,803,581,220,1131,749,963,756,639,728,861,999,856,366,1381,646,1126,439,317,909,873,739,1525,1212,832,1086,1209,1017,965,1538,854,678,587,467,980,327,1245,976,1145,1417,487,821,639,785,1152,984,1064,1200,845,1137,1038,782,793,757,844,1170,681,1070,466,718,580,754,534,324,177,1058,725,842,698,936,1060,695,804,382,267,915,1026,762,751,684,489,818,1222,361,1027,1145,1031,1405,923,634,731,670,840,661,524,768,1112,982,993,572,869,1209,368,1277,1069,945,1007,1420,1004,708,653,526,818,485,1056,596,544,795,274,588,1122,1090,259,752,586,752,1386,582,293,1240,1269,841,984,1320,391,779,1409,1105,982,1087,341,1042,996,781,508,531,613,447,589,1243,777,746,887,474,1525,697,520,1047,568,772,559,858,1275,562,547,645,645,428,877,1239,1233,866,697,881,430,471,766,776,691,561,413,1234,696,1033,339,758,346,716,688,627,840,885,654,625,587,642,657,1412,793,1391,602,341,1126,1063,732,334,782,603,1354,537,838,1176,348,1174,1131,1394,1245,951,784,891,951,760,582,1105,621,1212,1427,577,386,985,1419,1099,548,1195,905,658,759,495,183,901,642,966,825,674,583,1031,1046,475,753,1273,320,937,472,1065,866,733,1487,633,1040,1013,372,547,1085,1321,805,147,895,707,911,708,1320,1206,687,1286,996,953,456,385,1148,798,1316,662,1354,689,639,1336,1694,418,809,410,1190,1392,522,312,922,684,1081,1241,987,987,1320,236,626,1053,763,901,959,579,883,525,363,797,609,1072,627,1458,805,926,571,316,820,463,613,944,1139,640,1396,217,522,947,1351,327,432,807,978,657,1253,629,712,998,562,1037,1087,1366,565,1525,597,1460,831,946,1467,724,1097,850,839,413,538,597,967,536,330,646,897,673,1072,641,726,1162,1087,356,720,484,961,760,1016,346,980,969,631,910,974,979,769,675,1047,679,562,944,1289,548,1457,451,244,634,942,775,851,902,776,1075,936,1199,1318,987,671,889,1046,936,388,583,630,336,1016,259,501,846,1416,1532,726,722,405,576,370,1052,644,849,1266,879,641,1067,527,822,1102,746,310,997,1041,630,1299,698,1004,951,758,1235,644,704,504,778,1069,1309,265,291,835,657,800,847,1124,661,1016,835,642,489,1059,1263,813,393,590,636,938,1031,558,1524,1591,567,1140,681,768,1004,833,862,995,1122,614,867,452,409,293,969,488,1146,737,837,1420,1372,924,417,812,890,623,1391,736,549,990,578,1103,836,599,955,839,570,638,1183,648,614,1007,1072,1465,315,1057,654,772,831,807,942,1440,834,375,976,715,833,829,917,1260,935,1067,259,564,333,766,462,884,753,907,598,1223,1498,1080,407,503,841,1008,607,798,474,676,946,634,738,671,811,437,320,619,661,344,982,1108,1189,438,1008,774,1078,1369,949,935,1180,872,524,770,407,544,466,632,1381,328,523,989,1168,813,424,699,702,1228,1421,621,848,1106,566,942,1056,1097,383,862,433,665,692,416,1038,496,989,764,1103,989,1057,990,1024,319,842,965,1205,481,1049,997,886,899,753,448,737,1291,1032,490,694,1228,1049,1026,540,777,850,893,570,1274,861,1317,227,918,952,527,1069,273,1404,418,671,127,910,1512,1293,582,1224,584,993,385,625,1054,1433,786,698,708,319,910,913,938,646,868,930,894,420,768,1046,395,887,788,590,694,974,1299,1097,856,1234,434,1252,1104,790,374,742,758,931,1112,1393,220,723,1256,495,477,1117,1137,1189,245,1215,915,308,857,779,617,886,936,993,806,1130,715,454,406,473,821,672,743,290,1054,475,604,532,861,642,358,1342,916,1222,717,1102,793,711,1025,706,1006,1478,1021,1186,1012,772,321,828,591,760,506,739,531,575,903,937,758,1320,616,1206,765,760,516,1212,458,833,1056,682,1401,646,587,835,1032,739,726,999,661,942,914,889,956,540,1280,463,968,370,970,1011,919,831,1570,1486,420,1173,733,775,341,646,990,1332,1197,718,800,1077,591,676,1109,616,890,596,1055,932,1347,823,393,371,422,181,739,621,1419,1082,833,937,641,589,988,662,666,825,581,633,1476,1115,863,931,1104,1514,1259,1271,1309,819,1129,1043,431,1365,966,734,222,722,598,1267,572,925,883,972,501,819,1242,590,777,662,876,792,1519,1143,922,1075,1576,660,941,1049,1288,1430,838,513,1005,684,457,797,597,1012,539,769,1153,339,1616,374,956,1456,1023,456,567,675,1016,968,722,615,752,1131,1088,743,1013,872,1162,652,1129,308,623,794,905,952,335,764,690,1485,511,909,1309,899,1094,1048,1047,724,656,962,716,599,1314,1132,814,968,1118,604,631,1167,1293,1189,1155,1344,828,591,1006,764,776,935,993,408,1230,743,1293,787,174,1042,1024,386,1082,279,284,994,613,416,620,980,1291,703,815,884,1335,1304,1465,309,691,363,835,923,443,604,839,420,913,346,593,706,757,1602,377,545,1250,860,816,1307,326,529,1558,698,376,891,691,863,951,1060,927,807,972,550,912,906,1202,631,892,702,393,781,720,1245,603,304,901,1367,578,334,861,393,702,819,1265,476,1090,958,623,960,948,352,1227,1095,688,1159,924,1434,531,600,1034,600,1023,795,1437,809,492,1021,704,1391,1484,269,1102,763,532,933,1095,1425,853,734,1180,985,748,484,965,592,1277,1009,1387,879,470,609,1385,1084,567,534,819,1301,1138,726,910,783,422,232,843,840,752,1267,981,575,1086,965,470,463,973,1099,877,537,1175,919,990,1501,1259,945,1295,513,1353,441,1473,578,251,320,1374,725,1005,771,1342,736,825,651,1045,1078,1148,484,947,789,832,820,1517,1234,1156,559,1042,527,868,761,738,339,368,950,613,783,973,351,569,1484,486,491,1552,482,868,954,661,312,1005,540,567,938,719,489,807,787,876,1343,1546,1000,957,846,1033,903,558,801,630,796,1092,1044,913,963,528,211,863,222,1000,942,786,863,640,1376,505,1519,980,388,482,1498,614,1224,745,658,1214,666,657,577,585,968,1102,808,748,700,491,454,919,390,704,1009,1071,969,1036,1108,919,808,443,797,1010,814,1143,1378,398,374,620,1164,784,662,272,543,1241,1103,975,1036,1266,1115,1174,1243,556,201,775,578,1222,1441,1074,715,919,786,305,806,636,642,190,532,923,810,664,1311,1200,372,1005,949,1509,1300,459,575,871,979,771,1305,722,549,681,1272,1304,1009,678,640,733,1025,644,866,506,1474,175,1388,1016,408,401,519,722,967,927,1140,855,864,1100,909,747,706,1327,1108,850,1093,725,760,1001,1289,1118,365,901,965,677,856,959,1008,416,978,830,788,626,647,675,708,541,657,1396,766,988,1356,295,603,855,765,368,1000,829,646,237,809,792,655,1242,773,266,677,664,1075,582,800,1199,887,670,668,867,575,1163,355,926,1540,257,591,683,333,313,645,1075,639,710,1246,820,1155,699,1581,588,936,345,622,964,209,566,1219,787,561,1354,646,576,964,782,1452,727,991,867,524,419,676,594,1024,1267,861,785,700,1558,1216,872,547,1041,1087,1115,656,1312,662,1217,224,794,226,1031,861,791,328,281,335,938,997,856,687,532,714,968,898,891,887,1022,542,666,742,1065,795,525,816,784,797,608,950,1065,1034,1100,907,1536,1097,296,668,874,1053,689,993,700,600,1576,1137,834,1140,1132,1118,508,624,532,760,789,536,1387,1358,419,353,1058,448,522,753,555,435,901,511,518,1057,946,98,555,757,1140,1411,912,1062,702,1361,910,1228,268,864,586,933,646,790,1020,298,655,628,604,1039,479,817,1020,573,698,528,352,1411,1179,834,670,577,1696,1473,793,693,659,519,1325,905,268,262,648,791,350,793,738,946,595,534,790,1549,1028,1358,1257,565,854,820,1518,831,1083,505,910,683,1331,166,425,714,612,654,475,421,640,697,879,1527,732,1252,986,1232,430,351,692,1442,704,524,688,849,243,177,654,298,924,937,1175,1060,558,774,928,886,337,633,1466,850,815,607,298,835,946,869,830,1076,392,919,805,616,1017,803,593,447,95,752,474,676,1238,1042,1416,793,852,1123,428,853,549,675,512,1071,1168,347,960,1126,667,897,897,406,693,807,506,642,614,496,804,830,1131,1014,1106,272,428,723,1251,1334,1199,1255,813,756,1283,1121,303,953,959,1206,1404,998,279,479,569,1248,1309,204,1485,817,871,267,444,865,445,559,978,1339,505,1119,577,808,1177,1260,893,1240,671,700,542,850,453,307,736,511,1321,919,767,980,417,645,1199,147,911,449,349,820,477,650,832,461,886,1037,778,1010,202,347,735,515,825,254,612,1066,1181,1344,721,984,822,1105,902,628,550,917,1039,460,956,317,1014,661,1292,575,874,864,1310,625,820,1527,1263,284,1185,497,877,878,899,1080,844,1202,750,678,984,832,951,400,724,672,851,1096,397,770,654,695,684,783,813,1245,496,636,680,523,970,789,992,509,651,1107,883,562,674,687,516,875,337,937,1051,1165,250,1462,943,386,830,795,1020,720,828,917,454,871,656,720,1049,1301,1046,891,1247,706,644,1051,823,234,404,914,622,1148,965,1256,827,355,856,1187,1180,297,808,1498,978,1048,783,633,1487,869,967,680,1160,1172,916,589,489,159,642,753,735,1170,933,1255,1394,1023,1433,876,1113,1308,1086,1148,1411,994,745,1225,782,1075,1157,1212,1007,565,930,770,1040,1205,1142,850,730,849,1100,762,526,479,438,387,1052,479,1093,796,590,1161,1274,1313,1103,212,1004,846,850,915,1374,231,800,1480,1114,1518,476,659,842,1099,823,307,1000,1514,221,341,659,328,818,1481,724,207,718,996,386,872,726,511,501,869,828,989,649,934,730,1450,1393,303,1053,527,1057,945,737,254,641,1041,147,571,919,830,495,673,993,645,684,795,830,877,627,1129,839,920,376,1060,796,710,879,1520,1327,699,357,611,1002,684,1011,709,423,1070,412,619,1091,594,769,826,1118,606,960,1178,274,1482,1166,957,359,337,796,750,1081,566,286,806,661,353,688,798,504,589,713,1030,619,825,1029,1123,776,360,743,543,1034,274,679,997,1322,305,1038,435,648,676,468,661,1010,1408,706,1052,1374,674,891,1189,523,822,808,1155,609,956,143,1578,495,1069,184,348,1044,944,450,1159,1029,255,1268,770,1186,995,1259,1098,1399,524,361,470,1241,853,857,565,234,1279,904,1107,886,367,1193,1122,742,1315,445,422,550,296,961,460,898,581,546,596,492,246,1125,1223,1099,1069,988,1305,628,504,450,575,514,508,1404,743,826,1152,274,1406,1025,824,1499,958,1028,444,655,1335,616,797,1019,966,970,595,704,200,476,991,732,785,725,778,994,788,795,1147,480,632,589,688,908,610,468,1433,1226,723,884,1061,788,917,1540,1146,528,188,988,484,652,945,975,1282,1187,745,716,1044,1018,435,509,314,664,488,968,642,1173,1048,703,512,633,889,682,553,651,1066,469,622,1020,728,1393,1034,739,936,511,459,1267,296,778,1093,702,1020,886,725,1065,576,730,614,1090,1124,890,517,757,1075,567,504,896,712,991,687,1041,1001,1283,940,1436,1136,287,1289,1056,679,1155,563,1021,1023,212,298,897,219,442,446,657,691,1212,1122,1177,646,1037,804,575,564,1015,718,547,813,826,1149,832,610,550,1138,740,837,584,317,426,1282,635,907,184,873,1367,891,736,588,759,462,733,339,197,972,517,502,521,434,430,956,1163,653,622,1538,553,785,593,668,512,1024,1062,831,1101,509,665,390,762,501,298,747,657,1468,429,656,511,735,573,1169,559,490,768,456,1160,658,929,1052,1018,247,620,908,1056,760,533,730,704,533,1458,549,1463,970,542,862,283,913,182,833,675,1124,897,441,191,938,737,666,499,638,1338,1299,1000,686,473,710,1340,255,552,515,450,1259,1086,491,830,860,398,1007,912,363,358,623,714,620,142,640,521,577,907,564,326,858,957,998,1293,1458,807,417,1171,263,612,444,898,895,821,861,1073,1503,218,1109,494,949,516,1109,338,544,915,620,735,611,528,508,1095,716,940,1207,858,891,293,1114,1254,1339,1381,1041,874,843,159,1063,1383,596,950,567,690,587,1039,663,691,1409,1027,848,154,511,707,1016,1069,479,259,631,752,1022,599,988,1063,980,1145,680,597,1486,787,554,771,626,621,450,275,934,154,1275,388,701,446,635,683,707,717,558,1411,439,858,295,1192,394,1127,875,1257,265,951,558,338,1213,611,1474,170,850,881,502,363,466,790,878,1116,810,752,1133,322,1232,517,1303,414,533,413,1428,981,769,1019,570,1444,918,1253,1153,784,358,711,943,795,1135,988,1381,667,775,671,1013,1120,326,688,839,1230,1381,830,1127,1328,1056,1361,816,619,767,868,309,439,687,729,967,855,749,460,879,541,979,493,830,690,314,754,953,845,743,1026,785,814,642,1439,352,540,502,462,1247,896,1112,326,842,423,376,346,1218,827,800,1361,676,337,1013,338,1238,1131,1285,491,730,1440,497,452,438,1299,1321,581,923,1382,990,1136,320,813,587,385,456,892,650,998,560,1393,1022,783,913,783,737,925,469,739,870,792,1029,608,203,1181,927,378,920,807,363,367,578,720,722,779,660,508,939,743,362,767,634,1467,1251,845,407,1006,1544,699,987,575,613,549,919,1422,737,741,536,516,1012,904,927,1049,446,827,949,615,226,930,589,116,387,948,567,387,459,608,703,427,1071,946,961,578,864,438,545,680,881,721,989,917,785,727,870,555,739,1386,611,822,759,939,895,945,468,732,788,1401,439,213,968,1072,673,1036,907,1260,601,856,1138,901,1492,720,652,384,478,497,1123,671,505,731,826,819,1038,1157,429,1033,717,1149,859,677,663,933,1302,809,356,1040,472,207,521,517,1293,494,744,663,303,730,792,903,1488,772,1110,797,1054,1281,715,1057,1338,378,1082,415,828,417,1010,874,467,902,467,950,666,1477,1482,1494,1064,501,1372,905,791,1181,841,587,420,816,1238,565,1118,801,660,1438,1113,1132,791,1113,1127,936,1026,983,1052,764,1230,441,202,660,461,759,1205,333,854,836,940,806,908,864,845,1149,439,571,1403,1335,561,1220,722,403,536,927,656,568,1266,1558,1203,1156,785,896,1313,407,1004,1337,372,710,646,669,779,772,842,859,830,572,591,1617,502,1445,825,709,907,972,781,345,1085,950,1421,538,1077,932,1234,1432,1278,967,1021,629,972,626,1480,748,786,625,882,1283,690,492,1211,876,733,794,683,1192,712,1290,897,1128,964,548,621,1255,1483,757,1436,439,846,633,818,1217,723,1128,1151,1393,393,495,1234,1060,324,722,589,1093,768,587,342,754,936,529,1083,444,402,404,666,912,1501,672,810,1437,971,405,965,488,1531,342,777,741,324,634,875,1155,241,213,640,635,1533,1180,1214,938,864,602,680,805,1111,1007,600,1180,729,777,551,1353,907,612,327,631,1227,916,667,603,632,339,1070,699,757,300,268,706,1119,1085,1024,446,840,529,1103,1446,187,457,930,992,1004,1041,1312,752,595,906,1443,582,771,1119,639,350,647,310,1271,887,251,759,1134,557,623,1170,1202,949,946,503,1116,141,1105,546,707,1007,1032,988,927,470,515,233,1189,1009,1215,852,696,678,475,308,1162,883,658,648,1100,829,290,419,1530,1454,685,952,1079,542,698,415,726,1501,1225,606,475,696,409,805,588,990,1221,1004,694,323,951,1467,552,601,737,692,836,706,1321,1524,1286,997,983,672,1012,479,1023,838,555,747,689,1199,1142,865,285,786,797,543,992,953,545,855,786,396,839,1162,537,1133,526,642,694,219,1158,832,1329,977,882,1109,1030,1234,545,934,412,943,1293,614,755,1218,915,956,779,954,525,1165,1243,1288,591,340,755,428,812,723,182,609,667,557,1438,1242,1160,1168,693,1436,443,1215,728,861,107,821,451,1429,698,885,643,465,645,301,718,1163,554,782,985,958,726,472,790,1027,1246,1146,1351,791,592,1194,1094,956,1085,918,617,962,1085,831,439,524,638,877,807,1066,634,374,1218,1043,758,1506,317,684,634,1354,253,497,488,1164,326,756,969,870,879,983,492,613,768,899,187,861,1008,684,780,710,463,820,461,741,1311,839,1270,841,1449,903,681,582,954,601,1172,1261,538,1165,528,727,1145,728,812,89,1067,1047,1007,841,1125,541,838,1101,694,1111,813,1219,715,777,638,1236,657,747,428,797,906,739,746,367,544,667,767,955,856,488,701,763,1299,691,521,816,326,232,835,848,1125,639,1328,799,1382,664,398,477,799,956,1122,1185,618,1480,998,820,668,750,1302,584,1347,1145,575,657,580,534,1569,836,479,645,218,990,953,1463,980,745,973,733,484,235,753,765,337,520,887,763,1386,610,1205,1252,349,423,338,328,710,991,425,849,1133,1489,783,1091,1366,421,993,544,1104,668,1157,1106,928,533,597,1506,1077,398,258,685,1306,609,1027,821,1023,616,607,340,1071,1161,233,861,475,978,1382,1028,1071,203,489,992,805,615,1367,621,1093,1095,1136,930,848,1471,731,1011,644,721,1127,1136,849,494,681,608,502,511,1204,233,933,886,1192,365,863,549,1178,314,768,1184,1067,1273,1254,706,795,624,594,576,1280,719,597,771,1139,1107,1089,877,373,490,787,149,898,945,1160,1204,971,1166,718,741,797,986,785,1064,922,1054,1072,711,718,199,1636,850,953,1068,1328,1318,792,945,1054,481,803,1327,889,791,395,1083,961,484,1519,385,962,1043,369,89,959,711,780,878,780,1102,1019,812,1223,859,387,1372,1157,499,578,595,560,692,732,1011,1176,807,610,870,647,424,215,441,1440,857,420,1019,802,784,1154,1320,886,863,306,530,779,1228,431,759,1601,695,1150,1126,1166,1006,834,353,339,632,797,1129,1138,612,966,1529,974,891,720,969,1285,1153,974,1165,1221,744,980,1439,708,725,705,1345,845,974,928,1302,709,361,846,697,1265,851,1147,808,907,1363,809,380,887,713,540,547,700,1373,738,724,939,729,1175,901,1133,1004,617,684,879,610,898,711,643,1319,970,351,569,1068,494,1132,1080,507,1281,218,126,997,670,848,263,821,1388,826,1467,1082,944,866,970,982,522,855,1493,392,468,1346,853,1505,429,1339,979,1071,1350,152,1467,406,1110,1486,1012,1145,737,839,447,891,669,431,796,910,778,286,839,1276,736,855,1272,466,561,450,872,570,1163,586,179,782,1274,1131,1361,739,1169,830,1186,332,650,615,672,482,1188,859,1206,918,374,253,781,622,604,1353,480,1009,673,647,854,498,978,638,724,791,876,1486,947,1552,1426,1441,1031,993,860,1200,1091,649,1083,467,508,1356,756,546,266,910,217,518,711,926,698,1171,850,549,778,1084,687,816,767,1106,725,820,795,819,1067,430,623,359,1229,849,763,1077,1434,668,893,913,1350,1033,1124,723,461,1087,707,904,786,1338,776,329,911,944,409,861,559,624,727,732,332,644,1003,950,1301,504,876,931,211,1371,501,771,826,857,1094,1117,1271,849,869,856,1143,663,1204,1100,327,300,852,720,890,345,790,917,1351,1023,441,1121,496,1439,400,837,898,1157,760,972,584,1240,543,662,718,640,503,681,1192,404,895,1212,467,862,1405,773,511,1473,1097,850,677,1178,523,624,1042,1439,1385,1014,873,853,782,553,893,973,851,686,867,1064,370,781,740,883,540,998,792,621,358,648,1165,899,376,1124,503,1015,1096,1072,797,550,1317,711,753,1007,856,1084,987,1067,535,1130,974,626,795,999,753,1518,548,1061,351,836,433,716,1393,773,947,725,725,802,458,1385,1146,531,1155,1052,577,550,826,326,1194,1000,661,969,1133,586,884,1020,1498,984,696,1556,829,1050,1344,1286,407,315,693,573,1427,392,917,653,388,1109,1190,343,442,271,532,1066,1170,884,238,1382,1427,852,796,1225,1028,1185,714,782,190,520,1033,170,1093,924,773,1356,770,928,802,1031,146,418,399,705,1292,1100,723,1058,688,1129,804,804,541,409,1015,1274,782,954,645,1018,1169,1108,864,560,777,742,737,478,575,758,705,456,1224,1173,876,1231,334,559,998,819,781,1110,1219,417,649,1455,877,1058,1191,452,671,1193,732,580,599,793,694,205,1167,712,872,903,847,690,809,711,581,224,798,1245,591,578,1297,557,1157,1425,281,517,1052,694,1104,807,1064,1037,702,514,335,1073,543,759,505,406,561,1512,817,678,549,755,1236,1020,1051,525,1503,1521,729,471,841,721,819,265,1134,608,493,1312,336,533,584,962,1034,991,1466,611,306,1362,246,967,946,694,573,704,578,1320,951,832,1242,871,263,1080,870,937,1055,522,547,922,221,971,548,1003,696,1085,906,679,1395,578,1092,249,615,932,1126,1408,1229,734,536,501,360,560,1212,1003,1533,858,456,1089,752,696,688,643,587,862,324,1361,1088,692,963,523,854,1193,1297,537,865,1146,842,1368,561,1092,929,689,1001,1035,413,1351,303,732,551,1027,1187,359,759,695,362,573,852,410,1202,429,1191,781,574,988,1107,583,945,1015,566,1372,1167,882,871,930,617,780,789,777,802,607,1255,676,1054,1380,1307,902,804,875,609,705,753,1071,716,361,529,1011,701,983,529,761,1299,1374,364,1084,925,1235,942,643,777,198,571,830,145,1090,1017,370,826,1548,1028,1195,1404,876,168,555,1231,799,762,654,888,1045,552,484,188,282,1102,545,1030,798,930,595,1107,1149,809,632,523,469,163,667,1434,936,683,690,1017,906,1057,1394,606,576,884,285,722,1121,776,769,898,977,621,192,401,879,554,429,1047,713,1028,284,1322,1453,998,387,1198,1115,1108,992,1123,467,560,447,1077,805,886,935,842,817,791,402,1204,863,1320,304,994,493,1448,847,263,775,811,640,666,911,995,425,691,1280,681,969,461,917,1427,1100,620,1160,848,821,1232,594,1161,1197,548,696,1526,941,589,831,725,972,1053,826,603,441,931,922,798,1382,1297,783,1456,433,779,1460,1308,454,928,1008,923,957,1040,783,567,700,1296,389,542,889,1057,683,773,1168,1562,307,860,1517,1080,941,669,952,523,1046,422,855,941,619,916,601,794,588,1131,594,975,1027,842,1233,229,919,416,937,566,240,1055,1187,524,1494,876,546,826,507,326,486,885,928,716,943,882,746,724,278,423,1045,825,748,694,139,940,257,856,686,902,1065,256,1119,882,1412,747,1277,327,612,547,587,355,544,1032,1149,1109,665,311,965,707,472,633,605,301,1238,798,852,888,948,839,630,1000,1005,106,1078,791,865,872,973,727,713,528,265,747,966,1164,1046,869,1464,785,1173,714,1091,909,648,1070,471,866,880,608,690,1186,1116,1131,598,644,1305,726,642,1394,934,1012,459,559,620,219,406,949,988,339,598,673,880,511,459,386,295,918,1338,396,430,559,997,764,754,591,944,844,1179,658,1030,583,516,1189,127,741,959,833,874,656,374,739,242,1386,531,799,942,547,1221,1168,353,302,638,653,621,829,492,753,784,588,720,1116,1498,712,637,447,644,407,772,427,413,1281,979,920,1023,1568,379,1058,1150,886,1185,534,1236,931,1092,1203,866,1210,568,446,940,1011,772,752,809,241,1038,696,970,808,908,882,537,1186,922,871,665,1272,1201,1222,805,673,581,760,698,823,1038,1442,953,843,1125,1274,436,616,360,962,726,794,661,1544,400,612,1411,597,469,561,452,142,825,561,150,892,735,1067,749,796,1305,1340,757,1074,1119,794,858,1335,912,654,756,565,825,1118,764,1060,815,833,907,591,420,905,899,1003,846,511,1447,596,511,955,976,357,1497,1133,533,318,738,1047,816,996,672,708,1030,922,1304,384,1232,1229,1000,945,678,299,1162,527,80,600,641,1418,632,853,1477,1479,1169,1124,651,867,883,543,254,1174,1149,781,602,1021,347,478,797,740,1024,1181,1038,1262,556,736,699,970,880,1078,913,699,386,850,1026,1235,933,653,1243,240,715,902,303,781,864,1406,584,978,439,671,509,1527,1114,1021,482,1087,753,912,171,947,640,947,447,1268,465,503,1149,1372,769,1371,1397,382,868,668,1171,466,652,363,604,797,600,920,668,704,539,1015,1410,888,880,1194,576,1205,832,389,664,1099,1186,921,524,448,649,761,578,1040,1159,407,664,273,674,838,890,1335,766,519,768,914,792,711,560,751,702,787,817,344,1392,878,1032,877,807,1372,1066,985,394,512,223,950,834,957,636,971,838,781,1027,604,454,610,299,1131,425,654,861,567,401,459,408,477,809,388,400,894,845,892,614,1060,1070,831,710,950,729,1072,630,704,1182,1480,854,661,706,264,885,598,1181,979,641,727,1116,1033,928,570,1074,1205,875,846,567,954,803,396,817,303,647,1181,936,898,696,534,623,1209,897,506,1224,1136,1210,1419,663,953,534,792,231,732,706,504,352,519,1099,434,541,438,873,845,660,727,454,742,450,802,1123,456,635,987,565,622,1096,1026,869,1182,294,942,883,1245,793,432,996,925,856,304,654,849,1297,732,894,552,429,650,504,672,995,829,788,953,704,631,638,1057,1088,551,488,364,632,948,897,235,442,786,776,140,833,534,427,1059,964,745,819,667,751,254,540,202,857,601,1154,487,1217,1171,403,216,1159,932,584,799,914,1297,1037,951,522,1082,1069,634,755,441,1065,1251,314,510,1091,450,951,585,1184,1267,687,754,324,607,863,755,873,675,1075,688,1497,405,598,905,1240,1313,1192,833,693,561,1282,950,926,377,238,640,664,1313,782,1076,848,651,876,325,693,1045,791,908,1311,1532,1167,910,845,527,411,694,800,643,540,501,714,1262,510,632,802,733,886,671,520,915,823,1152,1272,646,1204,1436,520,1019,438,912,885,918,661,934,868,374,1180,1073,211,1109,405,507,486,439,379,436,1033,850,1006,1315,775,1298,1096,890,813,828,304,402,1201,1103,1054,1329,1024,1191,751,800,1343,612,1037,980,959,258,896,725,322,385,1140,436,1087,1187,1216,832,774,238,793,792,652,596,751,585,351,707,673,985,1168,535,929,773,402,1140,1122,712,798,460,170,1207,801,1450,778,1020,908,448,461,1080,1012,979,1036,995,985,252,606,591,1052,728,789,639,1461,484,695,135,1502,1489,1442,271,1005,579,814,1494,1129,1181,718,1209,855,969,1278,1195,1205,679,1166,1270,570,459,1452,1206,894,992,213,908,784,823,694,1136,676,703,478,590,767,1138,260,893,1297,505,1196,820,650,848,1180,945,676,672,1122,1186,1003,983,600,716,1019,627,1131,912,815,777,351,1084,463,705,829,942,1029,1006,701,708,905,689,465,1219,1329,627,885,394,669,890,721,672,1406,851,1071,1086,721,1523,444,830,544,241,803,855,1090,850,1224,739,548,523,705,932,978,834,829,955,829,1054,669,682,900,1179,975,514,1245,1292,393,605,1000,532,816,995,1430,1132,450,763,525,636,961,709,614,660,629,433,762,674,613,261,876,472,475,533,331,516,1328,771,1179,704,701,903,488,1078,1213,729,968,998,544,565,797,474,929,1355,1364,646,1023,883,864,1494,1069,1028,488,946,567,922,1034,626,1214,1347,1467,947,885,850,652,1322,357,678,1253,427,586,882,1395,691,904,1431,770,575,508,854,872,544,702,337,849,1512,858,521,630,437,1282,561,404,444,556,621,652,1111,686,517,412,1038,608,853,634,576,999,364,964,860,502,689,764,653,1102,740,983,430,590,747,678,1026,806,660,377,377,1048,652,831,1334,378,919,1095,614,1340,182,1174,750,842,845,779,880,885,849,914,1323,541,980,925,1125,490,423,516,962,1041,678,709,1287,721,1156,445,960,591,508,380,1050,285,1132,319,704,882,994,1055,880,1250,854,928,430,174,735,844,317,923,934,644,629,723,987,1084,1122,1472,624,1354,727,671,836,812,939,988,1007,421,646,709,556,1018,1539,968,332,1090,902,1463,856,819,996,342,1439,650,610,577,939,1043,1252,498,1079,637,1342,963,649,1477,409,1152,1035,921,455,837,1113,1129,749,763,813,1387,684,1081,607,828,788,1098,785,1057,867,699,1337,800,924,751,1181,1013,766,1295,665,1389,793,937,859,225,1445,1078,231,1067,917,796,669,667,1452,1368,372,691,508,1392,1184,824,725,710,457,777,210,281,713,859,989,495,1096,902,856,1183,686,908,519,733,513,1515,371,948,1260,893,883,461,484,698,1051,439,725,616,1039,468,962,954,895,489,1165,943,1214,1425,941,944,589,536,782,681,857,1227,620,1107,733,1404,775,908,1087,1052,1343,482,457,879,524,883,767,701,1487,267,872,1440,310,416,546,883,912,847,663,918,1091,672,618,478,326,1495,873,507,826,1066,1180,508,929,954,937,673,644,962,502,532,417,555,944,307,789,470,649,657,779,461,360,1035,1512,777,816,1143,952,529,261,1026,1478,637,739,849,360,1003,598,492,644,485,561,716,783,712,664,1144,577,804,909,301,1020,711,960,1177,1482,388,673,377,647,1469,628,1003,664,944,379,1097,780,813,813,655,556,688,549,1228,1001,885,652,1284,593,918,159,1198,305,1227,1027,1066,1353,1145,919,770,396,1172,978,1208,1226,1027,873,1501,1047,723,877,839,1522,595,882,779,1511,1343,961,610,768,324,699,902,617,367,886,718,779,908,775,1212,997,1469,965,1012,391,846,1220,499,986,448,705,657,1432,701,909,250,716,363,913,608,1179,654,797,813,1552,665,955,691,981,677,749,1270,570,1254,869,771,557,419,1014,1087,395,669,1417,1094,735,869,773,746,465,1158,641,489,628,813,603,631,652,1454,899,405,1055,741,923,986,770,1018,1225,1328,800,586,452,480,705,1088,915,1289,872,905,859,642,618,655,1091,474,230,439,505,1127,545,1107,856,1186,479,1217,1001,854,1138,1211,1006,1038,1366,1202,237,916,1023,1064,1258,1056,556,700,581,708,221,1352,616,316,1352,1254,847,1130,611,603,1325,830,930,717,470,561,1395,1322,609,1124,1329,1027,353,895,665,1108,1419,360,1028,352,686,102,790,814,746,1084,561,959,823,906,526,1027,1103,844,612,1207,253,1407,1034,576,643,1472,749,625,1132,772,581,640,241,303,1034,1447,118,660,677,1286,567,859,407,1507,1536,856,739,128,947,1181,703,402,850,940,380,894,780,723,954,1140,1190,550,1364,1082,780,1175,1041,1011,1482,1169,1064,751,1177,793,1230,811,1272,331,1266,721,755,1015,1000,414,986,1251,490,845,886,826,900,764,915,1015,718,843,824,1044,778,1624,1027,1449,915,732,783,1186,620,722,733,465,538,1501,1238,795,739,600,621,774,563,777,351,1018,300,590,650,1032,542,279,452,1074,994,344,987,723,736,1053,889,1507,1113,867,754,814,745,821,1599,800,862,1059,613,1213,518,448,541,783,949,1208,942,110,354,1161,547,436,1254,543,652,696,865,464,747,461,972,227,1075,620,1338,872,758,728,829,971,1070,755,1109,698,385,596,802,384,862,467,817,1046,776,873,593,625,552,1251,699,1226,1201,192,1022,840,145,627,407,992,1397,323,400,1105,794,1010,1190,670,769,862,1121,728,475,1114,587,1523,827,298,1116,1069,817,1067,708,848,474,578,864,586,619,1022,436,1213,669,1146,499,1366,1236,445,657,583,439,443,1172,1520,832,641,673,599,289,843,721,347,790,759,982,566,714,1137,597,638,1293,134,334,1235,416,787,936,1439,941,533,884,1054,358,909,687,847,1021,1147,489,662,873,665,723,912,569,451,533,523,1231,913,760,725,706,682,1099,1065,1276,1096,746,223,495,797,1224,212,480,603,1055,880,1010,1121,1000,866,888,1190,474,710,1482,679,1094,1351,880,1204,844,321,399,674,1095,868,1041,1428,1318,925,628,1029,962,720,1536,1314,777,1080,658,360,580,666,785,963,738,361,752,715,793,69,677,1222,480,1030,999,764,363,746,425,1165,571,311,1037,422,735,269,233,707,1287,476,326,445,690,617,730,1284,346,560,1370,628,591,510,1078,592,657,602,678,830,641,1061,201,580,627,1011,641,1557,1153,629,1138,751,529,1470,1485,1189,243,585,597,354,652,785,1178,376,954,697,865,691,371,777,771,1011,965,637,879,1158,1102,781,841,510,1388,667,708,350,398,1184,227,885,710,410,452,527,162,1073,680,545,765,725,1391,788,546,813,669,1387,1232,425,688,759,915,634,1551,639,349,674,889,1028,1400,1600,605,1010,1044,555,500,697,997,440,621,443,550,379,1483,424,455,180,1461,735,1213,1162,939,655,1324,690,692,930,705,1032,630,1409,980,782,945,1447,964,1092,283,639,1074,1420,416,1099,489,650,703,1128,1081,792,693,712,863,697,818,715,1004,1264,364,955,311,547,1162,1025,1107,962,770,166,854,865,1465,958,826,915,562,1008,1293,951,823,950,487,1339,563,887,530,1124,1497,891,296,425,1117,1137,594,577,761,1154,1220,600,991,1333,548,398,1304,702,903,1400,928,576,725,735,844,432,359,531,1030,689,228,913,725,638,139,692,1552,690,1130,792,1480,972,625,1096,754,496,1023,704,839,1011,1133,664,1011,740,722,664,774,552,1074,1002,359,897,501,1197,1250,992,829,514,759,481,801,471,1353,862,1171,370,789,823,501,1319,759,305,1069,703,570,610,793,832,1086,549,845,1057,994,892,896,1143,450,896,1267,958,813,650,373,660,731,779,686,1445,1082,944,944,886,350,1203,924,932,1120,1057,848,719,1493,286,481,511,745,1189,533,1368,1002,970,707,528,766,1191,715,587,859,1075,1072,701,856,860,830,996,1071,1356,518,1413,1534,245,635,469,129,842,1203,493,874,1100,676,921,388,902,1001,1054,817,521,289,803,658,1100,451,1337,801,454,236,652,1070,1489,349,815,610,1114,981,427,1344,915,718,653,1192,155,1084,377,848,461,786,714,1166,1424,1596,586,514,1153,582,849,802,798,837,505,1145,601,557,385,650,736,1010,672,1255,1204,1332,504,1163,1434,924,622,990,834,1268,488,484,793,540,857,1181,1133,884,873,834,736,823,677,734,446,1312,612,530,550,997,353,1448,626,700,684,295,888,1110,315,1045,1241,1145,672,901,372,722,447,918,534,666,849,1580,598,922,423,631,687,594,1187,591,365,898,628,1071,1059,1286,789,822,759,946,1466,1631,914,924,1082,717,1243,1109,597,1021,505,760,1093,1063,935,856,566,963,618,638,919,330,1112,906,468,493,618,459,1255,801,1196,1194,1488,844,763,1127,282,1122,390,973,963,1192,309,995,1244,694,1409,1355,785,655,975,983,1354,1325,813,817,762,810,677,1404,999,1117,671,497,456,922,559,638,355,578,1152,1237,674,512,509,522,1422,918,832,834,881,982,1394,748,802,965,1134,1413,706,1005,1174,908,476,802,1424,359,646,951,636,1220,512,1481,1186,1040,378,352,719,654,735,864,277,771,830,1369,847,848,1134,671,294,735,790,756,727,900,695,452,994,429,719,880,692,1100,1073,1248,830,589,645,1009,1130,406,1499,686,165,1265,451,356,811,1040,727,904,1033,465,719,833,434,1214,1430,909,876,336,767,580,1206,222,1108,893,911,761,311,968,955,668,968,243,478,666,1443,954,713,689,1398,896,1162,594,302,731,1324,713,838,1321,1427,406,822,1056,718,336,882,575,1612,748,716,861,1044,789,1184,1082,751,688,951,914,285,319,969,964,259,615,743,391,637,1136,832,849,941,882,810,1028,562,773,359,667,472,151,660,631,1051,964,1409,672,820,1091,351,804,1255,528,600,552,298,734,871,684,826,751,697,801,518,305,646,487,404,371,400,817,849,810,1059,1380,763,1034,710,679,684,824,1273,840,632,651,875,720,969,482,703,608,1119,1037,1045,759,556,788,599,1252,478,927,825,318,820,1104,234,227,672,241,612,555,590,943,711,1163,410,661,878,860,1245,1397,515,855,423,731,805,966,717,1030,967,784,985,826,289,935,1400,1362,980,238,619,275,946,537,443,1029,1023,985,865,1444,637,492,808,327,1116,873,600,628,711,993,1054,885,917,571,672,748,399,772,1118,742,1593,1142,273,716,644,842,829,858,677,660,1061,626,557,845,1179,1197,523,958,1532,206,903,753,847,260,612,412,1294,790,335,912,716,1033,183,665,656,854,272,577,706,411,891,969,999,391,329,514,1084,1345,470,1529,1115,691,1102,568,390,1136,371,1051,919,265,1039,819,889,912,622,577,277,1305,411,963,723,953,1319,1109,852,1027,202,688,1205,1220,846,674,938,1314,236,200,836,1242,926,445,505,1058,1483,1091,1087,860,543,217,382,545,826,1113,688,880,935,504,744,567,442,1298,516,424,881,1087,333,288,1004,1427,1507,1210,563,1131,827,663,1003,943,1148,831,1116,971,999,1207,306,521,560,450,625,344,1286,1075,738,1049,628,810,808,722,532,454,674,945,898,1364,1050,1373,1319,243,517,1230,591,928,1040,685,751,619,642,1057,1355,800,1183,1493,897,1178,465,159,525,177,982,482,873,707,583,1047,755,1215,585,898,655,448,723,424,743,158,635,808,1084,653,1020,1034,1358,731,474,566,836,1098,1252,790,890,1141,681,458,443,783,614,735,450,848,1153,746,922,410,1111,1487,681,715,1157,667,766,1065,990,1245,681,1330,326,1231,811,1188,1277,701,875,642,1325,758,1564,701,521,970,1508,329,703,489,574,833,861,381,1112,1471,1245,801,1221,936,904,390,653,665,566,246,989,945,1127,981,536,651,967,723,1195,644,987,584,292,1130,1019,658,325,888,683,711,1438,749,1077,457,839,499,731,696,835,1069,1085,1097,1023,1000,805,1092,448,652,1006,707,206,412,1299,582,1401,344,398,1551,1412,501,1243,1319,659,746,1335,402,820,1140,1029,646,946,551,536,648,908,484,476,489,824,667,528,841,652,948,1242,700,1098,1214,802,906,1250,344,1581,534,974,997,857,596,1545,991,1117,562,1233,456,801,725,870,711,1243,929,339,748,908,1232,944,499,1217,1307,1149,1549,701,850,860,373,674,1193,552,447,755,872,978,651,1189,1146,860,694,1310,491,1097,1159,1349,546,631,692,666,979,835,664,492,591,1423,589,1072,1387,668,376,1315,1040,951,1286,839,1032,389,1162,974,820,876,744,1258,404,757,1324,847,910,1572,423,300,767,780,517,1281,196,970,853,381,465,990,814,1203,741,267,1035,383,1237,1438,1036,924,1205,453,818,534,892,589,827,1074,562,639,666,855,476,524,797,593,573,489,1068,1108,759,674,766,966,1066,372,199,176,684,680,1097,661,1060,990,216,951,582,769,550,416,728,141,1104,1072,447,397,683,1067,671,1519,901,881,712,847,690,722,568,932,970,1122,1177,508,516,513,452,808,1168,1203,777,456,1675,472,778,1291,975,374,1371,626,191,810,1336,1496,647,708,1016,477,1291,728,1328,1042,231,781,966,464,1320,825,521,1511,404,664,1246,1429,620,1043,869,522,663,1093,540,1134,640,942,492,561,603,831,866,608,760,715,323,314,1068,857,712,367,800,825,1438,622,254,1067,1115,320,608,748,864,763,538,1219,500,894,834,887,673,616,1082,1497,1224,664,1260,1395,455,1191,1263,617,1089,892,1020,830,1552,595,1242,829,545,421,380,948,794,858,916,491,1114,1478,1391,478,989,893,500,660,1201,1003,1387,828,536,1074,1367,961,860,472,628,1045,468,956,596,1022,764,610,671,657,457,949,834,635,1134,859,992,735,625,501,777,972,982,984,618,1064,1191,282,556,846,897,603,601,887,690,1259,1187,1202,652,1165,235,914,853,825,811,793,251,957,540,625,478,1086,1017,636,750,395,850,1382,143,604,844,1011,907,1020,318,579,1186,1109,458,987,1459,899,469,792,485,1114,989,848,771,517,365,1119,894,556,461,795,365,638,1392,871,600,707,1527,258,561,1073,911,791,218,547,1376,679,753,302,1232,924,541,995,683,435,884,559,781,713,1379,621,1172,625,682,920,1079,880,687,596,714,928,878,1002,654,831,1092,792,662,911,1294,1046,1200,439,1297,1110,858,1236,479,812,845,1200,849,1070,282,726,905,914,820,748,1048,622,727,796,609,769,647,539,1205,812,452,909,971,702,648,940,1161,639,182,578,906,1154,1400,676,891,1271,586,508,809,391,1248,1117,581,647,677,1048,495,347,846,339,558,499,1225,711,508,688,1066,469,578,918,781,783,576,953,1173,1533,1011,174,206,319,799,803,515,838,1196,1159,1245,704,548,768,776,538,1144,639,525,1467,884,943,1092,764,1188,698,678,1076,1404,816,699,657,670,832,803,1073,548,689,1001,320,1021,972,1272,151,620,1026,1073,613,272,804,907,494,544,525,946,810,810,1391,459,1074,984,713,795,853,748,954,1307,414,750,662,1023,777,1226,328,776,1015,545,636,884,307,554,444,1027,1294,813,135,828,977,756,970,848,1079,854,971,752,467,758,520,911,865,312,984,207,331,1205,283,968,779,1037,1080,703,1232,1144,537,1044,757,685,255,616,481,1026,683,1541,1409,1006,558,1215,546,365,970,918,939,975,1542,548,921,410,827,625,1366,1282,1074,824,452,1010,742,617,1243,665,780,721,999,906,187,685,938,617,679,1037,900,901,721,1439,482,867,682,477,320,411,718,158,276,489,783,776,1071,1273,1166,678,1239,533,688,1208,585,384,1209,1327,195,852,526,1305,1117,814,1163,385,851,819,1088,512,704,692,810,368,1037,888,1035,758,365,1157,890,459,708,450,857,1303,557,548,1373,1248,637,287,923,943,712,740,1365,850,873,1452,1355,552,547,679,582,603,1068,1130,631,1098,660,746,972,1018,612,1077,284,671,560,822,878,425,698,836,1384,903,762,229,854,640,895,522,587,1048,1100,1454,478,521,719,703,1261,896,550,700,933,724,1372,710,897,457,1064,986,902,928,831,703,1180,832,664,646,575,1187,1162,707,371,493,499,815,1016,409,1157,1087,278,588,180,569,1165,857,939,1296,441,344,853,459,940,332,853,251,1125,1006,805,910,438,1203,1078,709,769,550,1116,1075,750,1129,922,673,583,1607,470,704,651,637,503,549,1506,1321,621,1271,888,704,994,214,291,692,1179,888,1172,685,337,829,1189,1130,368,1145,720,625,1354,1316,1080,987,1088,580,705,485,984,626,1355,868,567,1326,1299,1536,485,708,1084,537,881,1247,1217,868,457,348,754,675,299,741,1089,1172,1212,714,993,600,204,158,544,305,887,924,1307,933,408,528,1099,535,570,544,562,942,1401,1370,984,980,915,859,560,417,777,887,451,1222,181,766,1103,433,607,699,788,1280,796,873,958,1054,524,940,755,826,836,345,754,1176,774,798,1070,682,741,829,431,1098,1018,977,791,947,1298,499,616,257,742,807,1040,545,1535,1330,641,859,1206,561,1168,591,707,358,481,1228,916,990,819,945,559,1239,1437,590,1265,940,1030,523,904,832,565,363,324,485,828,308,1091,1146,869,199,1064,1048,317,1324,427,875,1118,653,909,719,764,1071,698,348,1058,1331,136,362,536,1129,1397,365,591,790,1100,1208,679,897,1392,512,1178,579,178,989,1077,1324,659,504,1037,1440,900,271,373,1543,706,869,666,1503,774,1060,882,1051,865,772,732,1351,876,529,461,1346,1073,833,828,439,367,429,798,818,948,371,995,555,181,638,449,792,557,708,497,956,573,736,955,761,710,935,760,937,777,807,419,856,1521,1294,1120,625,440,1055,244,872,594,784,953,898,1050,666,696,1615,1045,1043,717,1200,382,1224,1094,212,1018,818,1295,819,834,1276,1169,651,569,374,618,884,503,499,471,1178,831,706,542,1250,931,404,520,182,519,1101,479,1222,1133,1282,1097,686,1206,359,1411,399,760,807,844,960,1124,1051,1034,154,1402,256,981,504,760,842,159,1355,940,1233,764,1049,1136,360,774,645,1474,709,657,1502,410,1081,566,861,1145,764,509,919,565,1060,379,1264,661,400,1125,347,490,1023,1034,836,960,1362,564,1413,435,367,564,1058,1339,158,550,571,725,596,137,1378,996,741,755,849,799,1162,1117,1433,805,1364,877,548,710,1250,711,850,714,634,491,710,404,154,827,704,529,802,454,899,1103,725,1229,887,296,835,822,700,978,567,532,1335,382,1496,632,1036,453,236,1253,319,926,690,931,560,813,720,861,807,820,1318,563,1071,786,1061,504,539,399,1433,835,763,1088,1349,621,636,672,1283,572,654,1238,1141,743,1266,261,692,820,791,759,434,332,584,1076,985,940,491,1110,1447,383,752,1357,1295,926,468,961,658,694,1025,688,664,1288,158,1123,766,554,1304,678,1427,803,616,1110,847,225,560,572,1051,812,805,828,1015,343,301,1349,449,959,867,1115,714,420,304,536,1060,491,804,584,568,1027,1067,777,935,1452,944,633,874,1220,1326,685,453,1456,876,809,860,1363,165,360,347,695,693,1049,809,1359,1020,702,875,1149,1365,1119,933,406,569,950,892,736,805,298,849,1048,1243,454,1054,1237,1102,384,635,384,1208,892,705,638,92,937,548,649,1212,999,674,437,404,1509,1512,710,1031,1355,501,286,483,475,1557,439,798,544,489,295,1374,808,944,1095,642,1325,734,731,705,574,1495,409,528,1254,337,1080,1520,672,813,612,473,122,1087,845,956,895,528,397,495,578,626,829,1380,1093,576,953,1207,989,835,608,1255,523,812,639,745,699,551,1155,912,1227,520,732,939,524,596,792,913,1120,340,1273,1193,1436,294,1101,980,895,841,730,772,1573,1257,1204,1397,1098,565,586,583,1093,659,1009,756,1145,689,845,297,214,1018,1038,706,770,588,917,1281,1049,518,221,445,1379,846,935,931,867,875,986,649,756,1393,1135,210,1071,1057,632,1210,813,984,1052,1057,1104,513,1003,699,331,291,1084,619,1017,1055,906,264,394,817,644,718,1308,1052,628,734,575,484,341,631,838,409,207,740,747,859,1323,131,1158,509,1581,755,975,950,1243,793,1115,967,576,716,750,943,896,589,1472,892,388,621,387,749,780,924,460,1461,814,1143,1386,1069,847,1098,564,504,773,743,1202,230,732,1070,1136,861,410,1520,876,786,833,821,1236,515,1001,656,667,1393,785,380,870,680,596,992,1105,517,860,749,814,848,899,271,1335,1223,657,1255,704,667,1332,787,375,492,916,926,874,761,941,243,833,724,411,1109,502,1112,341,1158,1222,973,671,697,1299,1089,869,625,269,448,1051,670,498,872,988,1172,714,775,722,419,311,247,1430,850,808,494,368,774,1017,278,687,825,650,960,740,295,736,678,795,796,879,412,478,514,887,460,1158,747,989,265,852,1155,922,1206,375,886,727,968,737,515,932,1033,805,629,509,835,870,748,782,854,1343,1631,658,631,595,919,589,770,967,1079,1064,775,1482,1401,648,716,1130,942,563,1119,808,530,1290,1249,984,666,558,983,683,211,1220,878,509,685,506,885,973,1036,1052,1005,1327,840,1136,352,967,827,569,836,564,1060,1337,348,547,633,878,1078,926,1107,789,1429,916,779,926,518,846,580,824,705,864,761,789,714,770,882,674,828,906,683,805,1172,1091,435,343,970,372,866,1376,747,811,573,1314,271,861,390,859,421,1031,762,799,900,486,778,387,864,1005,1040,1265,440,398,636,519,442,1152,630,354,225,510,767,606,1246,1471,1099,1183,1059,830,406,1054,445,761,1205,1477,1051,670,1483,669,884,755,650,829,877,777,519,848,420,607,1409,1218,1224,1049,471,849,1238,1409,693,913,993,657,658,938,804,798,915,729,819,851,851,352,1434,938,317,987,770,819,479,817,1153,964,712,881,1301,1211,1063,748,1407,764,706,1326,1037,814,742,822,728,979,1297,1588,396,802,267,653,728,904,1145,1096,1385,745,1466,181,339,1024,1296,508,1014,1261,470,1120,514,833,1062,822,816,938,1005,1120,701,1403,498,1290,707,1316,1130,701,470,781,597,671,1452,649,697,964,1514,932,838,688,1415,1054,551,1069,452,726,598,676,275,1133,585,290,124,1255,935,1197,442,1052,649,791,922,607,750,483,875,790,783,758,449,397,193,561,1530,1190,544,616,725,1037,988,721,749,841,819,1389,728,796,1200,488,749,670,869,459,528,1334,1272,571,596,398,749,983,432,772,508,575,927,759,1058,684,482,1569,1074,428,450,1261,1001,521,963,1006,545,1006,870,897,939,1013,1141,1164,865,1039,604,434,813,141,589,447,973,1019,1210,943,794,782,968,687,1170,1463,1047,1012,1285,1278,846,1229,1323,952,808,563,1118,1419,1241,663,1103,1092,795,755,1220,708,750,480,316,896,660,724,452,214,1261,1272,1418,754,813,1304,1156,401,620,1016,732,225,676,487,673,466,646,599,1184,505,1341,571,223,1251,758,818,1144,861,194,467,976,902,989,842,387,745,1032,863,319,112,324,799,503,1390,149,957,748,878,525,1207,1210,1113,834,307,460,807,949,807,1061,658,1054,1120,816,278,1481,572,1337,951,745,788,546,579,735,607,1058,825,720,346,896,904,1196,710,421,662,685,965,920,805,590,1079,792,1219,750,599,571,762,454,933,622,657,869,1430,942,718,654,1279,720,484,479,384,715,1004,1255,1214,131,1059,800,1268,638,612,240,920,733,848,604,267,1071,482,606,869,709,1320,866,770,287,700,1310,653,503,995,1038,1090,1004,1088,690,1177,726,1016,810,602,1276,490,1094,655,565,1539,1077,1445,791,838,1514,681,429,642,857,982,980,714,935,741,824,995,629,203,1195,697,567,522,765,707,1227,905,1589,267,1106,849,1290,1070,316,978,714,887,594,858,895,583,1139,406,1357,1423,691,505,1031,1088,1154,281,803,125,488,719,872,904,926,1162,610,955,809,871,787,1485,1185,971,480,1495,598,659,557,1060,810,854,678,746,1156,1261,360,701,1128,1270,849,958,551,893,1212,1004,853,426,722,703,1080,156,1013,358,506,1333,911,957,708,722,491,386,765,776,320,1516,1040,614,1181,805,299,421,656,343,585,1223,619,954,1181,380,550,621,1015,499,417,976,705,770,834,957,773,459,572,615,732,947,906,870,520,592,695,640,763,991,665,1360,766,1035,1274,811,686,530,555,355,705,1024,421,334,218,1416,597,769,498,1238,1475,735,340,663,573,972,1152,594,1200,406,557,1450,764,1478,812,390,514,1124,1097,1293,815,634,402,490,1089,933,801,1153,1592,940,424,920,803,981,1010,571,1040,779,673,749,1252,996,180,353,1192,952,766,173,748,788,543,924,634,1502,1231,974,1140,930,589,1028,610,425,380,626,963,361,595,1090,876,771,388,863,531,858,859,677,403,814,899,1027,1123,736,522,622,1269,367,1061,1330,719,120,526,1151,295,1167,188,499,1092,1144,526,1067,1304,735,535,749,422,705,1248,1002,557,1031,479,813,391,1455,629,360,732,918,702,531,656,706,850,870,721,1402,880,462,954,936,409,590,1048,726,1053,902,786,1228,207,682,748,787,361,506,794,1482,461,1136,719,1080,1393,658,506,351,885,794,823,986,1258,919,583,454,1206,772,1286,218,829,625,1163,578,538,604,506,875,761,729,138,724,869,463,931,736,559,228,1390,735,393,610,1261,1360,712,636,1094,587,979,844,163,492,526,1024,274,1402,367,513,1286,296,1144,714,1406,378,1065,1096,526,454,327,712,1187,1118,507,1091,953,315,770,477,873,1507,568,622,725,539,653,1472,1087,680,473,532,1417,969,497,844,282,608,1057,792,1016,747,535,919,1132,569,864,771,400,825,414,400,1214,996,887,200,545,819,1141,376,995,763,809,756,829,1216,1242,868,572,1345,963,539,866,739,795,1168,496,724,233,515,1175,814,1367,842,594,1426,667,860,649,466,780,1478,442,627,817,618,738,814,819,777,871,247,572,1221,1325,473,1100,562,1042,577,1163,638,1451,942,532,787,1159,1432,759,938,700,1234,965,554,867,829,1412,1156,1014,747,252,627,942,951,469,1151,654,914,1083,1173,1504,1007,389,895,606,1199,744,413,635,618,636,669,949,1180,648,1032,956,1015,904,205,520,1368,598,958,634,765,1421,1195,854,752,490,1470,430,1415,1121,510,722,1164,1610,476,1440,952,701,1250,900,1021,468,1179,490,966,938,900,631,1222,534,910,769,412,1083,386,488,522,670,1509,285,1531,1325,729,379,1040,1147,735,490,856,388,845,675,941,552,559,356,506,831,724,806,814,930,803,763,808,456,1015,1192,923,829,494,417,898,635,229,1513,714,1352,875,312,529,438,484,492,899,1682,365,822,434,989,1079,750,642,422,1081,874,626,767,240,1208,1064,942,1038,478,934,289,1182,929,831,1054,960,996,775,515,588,198,1100,840,978,1009,393,551,745,1128,711,950,1239,808,454,635,1325,657,1070,1329,215,873,384,808,678,1124,803,1000,717,600,833,700,853,962,984,1453,1041,532,864,1154,714,631,709,432,1155,1367,1251,768,567,828,455,1163,1102,1338,1002,945,113,1240,817,582,516,757,714,834,550,1140,862,888,1029,990,1147,440,1403,837,574,713,907,502,721,474,965,806,888,1060,969,750,715,592,554,872,986,840,1238,1041,288,298,1008,505,699,796,421,852,445,767,774,739,1308,1120,1571,1323,1116,146,1005,1320,1104,585,167,300,886,464,997,908,240,1213,843,846,864,754,565,1275,822,745,626,524,845,865,886,1089,117,1209,1045,1125,378,522,342,666,920,318,840,145,785,657,543,785,1361,949,743,1072,1200,566,806,410,570,1310,735,652,813,500,827,746,1336,607,538,580,674,797,515,559,1002,1212,711,1024,1039,486,584,1251,1145,754,700,801,622,818,738,494,757,343,815,516,1018,896,397,708,753,659,1192,774,583,268,556,1139,176,434,719,1324,550,789,1043,364,678,190,767,791,291,785,1136,498,1383,1036,1294,611,743,922,863,1107,781,979,937,1233,976,1052,896,868,298,888,1215,647,777,588,458,773,843,993,493,876,479,1279,299,707,780,1170,837,615,435,751,198,722,1387,843,706,634,626,802,1019,1098,1151,516,965,548,292,1349,477,617,1312,870,564,931,1358,595,401,398,515,902,1008,422,703,917,924,491,1347,950,866,738,1274,946,584,891,1047,881,488,1339,578,364,867,369,849,1444,857,1047,1176,654,844,557,880,538,1113,171,853,499,480,1036,1020,579,216,1509,965,947,571,790,728,322,642,798,601,706,1225,761,731,655,721,531,573,1219,515,775,317,768,1010,996,510,1193,1534,612,1591,927,1361,1402,604,449,1261,1404,625,450,479,681,710,632,862,1069,1088,760,800,722,506,565,457,1014,740,423,579,1624,784,660,764,636,570,875,1192,247,1211,702,1003,288,1069,159,1436,281,982,1121,1009,933,654,861,1096,1433,1140,521,1232,1089,676,904,683,801,1599,970,885,965,1120,795,422,271,768,518,490,825,784,806,863,696,1240,944,556,974,989,590,760,865,255,533,950,742,794,537,1417,1039,963,933,632,1425,609,839,509,470,646,989,611,559,1206,282,402,473,1003,367,686,349,613,995,986,852,1078,958,414,1095,604,894,990,608,826,1109,304,903,1139,967,1014,804,1432,1073,1523,191,289,715,951,823,365,906,878,706,1350,702,1235,254,375,455,1264,685,1439,850,267,813,588,537,445,387,292,766,592,1058,550,935,299,493,1316,759,1008,287,1258,620,1141,1283,182,951,605,747,851,544,1151,1485,417,1093,219,548,828,920,1253,681,836,746,978,726,1329,1448,808,561,527,1000,911,1064,438,1065,553,1005,868,556,1386,544,797,1101,988,1066,644,299,310,445,833,1203,199,985,889,1246,811,1036,231,670,1231,1000,299,749,540,1092,610,1114,913,692,933,858,827,1164,483,846,817,896,1167,565,1021,598,1482,798,972,252,1229,759,992,1434,768,1271,1321,635,280,1106,1241,372,799,792,952,1219,985,1208,732,767,889,879,734,940,679,925,1440,839,617,1490,650,581,543,879,586,373,1576,272,943,1333,602,1092,1295,1111,1183,1055,187,1231,801,1354,952,1536,1535,1281,750,553,377,770,527,932,924,701,574,340,502,1147,781,1554,891,278,1318,1173,567,893,732,947,645,1518,775,453,1125,534,1481,1150,648,1305,299,1280,548,641,1126,601,226,1151,303,741,867,334,968,767,777,1075,682,1008,1011,1281,401,1053,749,849,879,840,769,490,619,1521,1255,877,909,750,620,660,596,1353,1320,910,1458,558,942,732,665,1509,525,1023,1050,1032,1114,997,1280,1407,907,844,531,537,584,934,895,767,517,1258,146,1417,816,986,1531,928,270,914,1034,860,866,1139,788,793,1055,604,848,1050,506,1314,890,317,738,390,1050,1332,548,564,289,518,721,544,403,702,1015,729,1259,1479,445,1361,656,888,1281,1306,1529,1087,533,185,806,1106,1112,723,1410,926,633,1214,1167,1032,715,273,459,672,717,945,798,604,940,579,739,517,684,1015,996,1151,752,768,589,1319,975,1256,625,732,1385,264,401,1340,567,717,1308,1424,538,551,1201,685,451,334,1088,672,746,482,885,498,801,353,853,769,611,964,871,663,486,317,790,1255,704,863,569,806,769,1072,494,668,539,701,603,227,759,1133,268,859,1319,1430,1330,1492,1483,619,983,825,704,1485,1012,318,234,1011,730,1386,1223,790,343,1209,969,233,729,1195,748,1437,709,619,872,666,986,966,1255,964,1181,522,218,187,863,535,597,1100,670,738,1359,556,754,1047,780,333,662,406,528,708,1106,818,1202,917,1091,1376,764,751,1073,749,1011,622,274,1105,821,524,669,892,768,1409,994,214,926,970,768,801,988,983,1174,532,675,1076,855,1224,1169,703,698,1597,1094,595,778,562,429,436,722,1363,250,850,914,1070,1133,999,240,1110,753,1031,1011,396,768,1196,728,757,454,427,1167,807,851,1144,582,520,1218,1166,528,1420,888,1056,145,1029,891,1145,854,782,716,245,1091,670,511,1003,1101,488,1077,1089,689,756,1153,582,624,849,536,356,632,764,872,1237,1675,627,947,1188,889,816,913,1097,885,1375,709,1104,613,680,1223,498,885,1135,573,439,961,1461,614,438,183,981,371,1051,1053,405,886,697,1355,1003,599,247,425,1002,650,405,636,933,1097,654,228,838,1015,979,1303,573,1179,1444,847,873,977,334,582,949,376,248,1265,903,1407,762,1215,608,429,1508,1506,651,1164,1041,651,957,1452,1225,990,743,887,656,958,338,1126,1573,906,644,823,1137,543,1196,869,785,516,793,486,890,1459,901,812,1276,900,542,1123,1128,1285,634,839,1354,289,1202,667,397,298,725,1011,703,331,1065,816,1410,1364,917,512,1186,584,1325,594,716,581,686,277,1316,739,1166,950,622,628,755,855,836,703,1195,706,951,181,747,196,802,421,702,854,136,1420,591,1060,292,666,1014,931,827,460,1290,852,1032,583,558,1323,1492,701,758,752,1030,582,795,726,244,412,442,443,1418,1208,764,1527,898,550,564,713,1183,832,865,1012,505,795,612,386,1014,621,836,691,728,1501,392,616,797,605,1151,687,368,1426,585,1253,873,1254,859,716,845,1104,928,713,674,1013,1087,1131,904,1287,667,926,739,903,778,733,821,980,949,759,1428,437,504,1028,836,780,791,270,1155,1180,343,729,391,807,770,687,339,1500,777,750,1358,711,413,365,992,887,1195,604,1335,821,1134,697,989,800,664,997,776,722,662,1155,1002,627,1000,993,845,750,382,878,795,422,373,559,1035,315,1338,564,996,482,332,397,363,920,1220,884,576,471,933,729,1252,1034,922,1040,742,1259,797,669,585,558,667,890,1068,693,670,865,295,767,1493,530,555,909,1139,818,702,1115,330,796,568,544,674,890,768,1068,606,1169,643,1221,533,451,767,495,1242,878,861,657,1572,367,784,1057,893,1083,1034,1386,420,797,1050,539,1422,731,968,545,746,801,1200,1031,636,930,639,963,1292,699,1160,714,608,1046,949,631,641,1192,1056,1120,786,766,821,664,1015,1355,595,1409,722,704,1188,959,419,1012,1374,1027,1113,510,845,176,443,968,628,242,327,789,593,810,1145,190,753,726,1326,365,524,859,714,1415,356,771,491,761,943,588,974,1215,775,926,534,1156,728,616,1043,727,1073,883,413,1117,783,806,558,788,383,1246,1040,941,1566,785,651,841,1532,680,327,1292,720,811,1149,948,892,1118,991,432,701,1206,638,1152,803,270,1151,479,858,421,893,940,343,1215,817,874,1264,774,963,623,592,605,148,104,674,1097,1534,1308,1453,820,1216,414,990,527,280,1197,1303,1005,940,666,548,1045,411,1033,1052,1294,814,798,665,635,798,986,767,715,1297,842,300,1017,482,823,1013,812,331,629,1136,1177,903,1473,623,1307,875,212,1134,1237,366,992,1414,639,263,1241,393,810,361,1125,724,580,794,282,647,194,635,576,1205,842,703,872,933,823,624,446,586,1057,1350,502,1022,952,979,1145,889,822,1401,1336,1412,33,977,842,956,355,353,835,805,1086,1006,567,355,641,1267,636,810,661,1057,871,803,1269,1395,557,778,989,475,664,1176,1040,606,818,697,683,1499,1049,907,457,1146,1283,534,1459,754,554,612,304,856,835,985,764,684,247,752,682,870,488,468,473,933,474,1302,1166,1514,519,841,1215,643,521,1196,1038,842,1057,792,1025,793,663,516,383,913,1069,764,98,1392,952,843,1395,1043,391,673,1190,335,877,1064,879,491,974,770,787,995,800,751,622,1378,925,1087,619,509,1294,429,1211,585,1633,1056,669,939,624,192,1096,945,1569,1425,1169,913,1035,431,702,850,1008,1069,1228,905,1005,776,929,678,380,674,1104,630,1331,908,537,698,1168,466,953,577,1094,1016,853,188,589,1351,314,618,688,1132,1030,1154,1154,640,780,1345,534,656,974,929,1253,1024,999,863,664,1020,415,351,736,1437,1376,1101,1049,429,768,942,810,1239,1137,617,1423,887,704,376,1169,415,882,114,357,922,1230,464,1235,1044,1592,1243,1467,400,489,426,1430,1228,473,871,310,500,638,1184,1171,752,785,1105,780,954,568,739,319,997,351,933,1008,1022,882,524,662,550,746,1046,565,744,691,349,907,195,730,1010,918,766,390,1348,518,851,624,950,396,866,1149,1318,426,779,967,358,613,390,485,1270,800,1519,713,876,690,832,910,627,984,292,233,906,590,955,1422,444,255,366,909,715,1597,945,626,791,521,1518,641,478,834,413,513,704,735,228,680,929,624,1214,713,271,1133,673,665,1009,460,828,691,1288,747,852,726,527,1006,515,1099,685,314,695,1009,899,938,1126,220,1137,947,890,922,882,655,539,720,906,825,989,364,609,903,522,345,869,638,1207,930,1149,635,815,799,939,1097,384,1104,939,1386,558,726,733,553,1171,851,616,1185,909,1160,770,432,1048,1282,1203,298,1540,735,931,1486,783,506,1318,873,789,670,1389,841,688,373,1523,536,721,739,248,710,548,920,808,632,1033,813,365,526,1029,723,842,657,1040,493,1153,1009,579,980,919,697,1234,534,562,294,968,662,876,349,1100,844,969,632,773,827,306,1049,912,1430,859,655,424,512,580,309,1078,633,993,839,446,631,644,722,667,648,127,708,845,839,655,1301,1204,500,847,724,858,496,1525,423,705,1454,848,1180,1127,473,622,750,1266,1153,1480,1192,541,617,896,556,347,843,932,289,905,935,1132,848,861,406,828,444,962,1468,395,854,660,1022,1037,487,367,354,1466,825,761,1182,788,204,1224,945,1496,1375,896,1098,565,344,798,752,659,718,853,861,1054,659,688,745,495,753,647,329,730,684,690,905,569,483,1378,558,528,1046,415,485,579,1005,423,1154,824,329,668,1034,891,649,1265,617,771,633,272,885,769,1062,956,669,1171,953,896,387,789,1242,877,1174,1060,467,753,684,700,719,905,1363,1538,969,772,1025,1133,420,398,833,725,341,1149,674,1201,1186,782,1273,965,979,984,329,989,930,821,715,988,591,864,1367,1124,597,1133,452,164,242,197,644,364,800,644,1123,508,1068,1124,651,843,914,388,584,957,1281,872,601,680,898,816,1561,1249,1528,531,914,1540,837,1115,821,648,892,343,614,1253,694,1553,1113,895,553,740,1178,1134,980,1044,1110,828,927,792,897,592,595,700,896,387,1225,688,687,569,887,728,894,1241,1066,1366,723,896,928,874,793,1167,242,581,841,540,1069,1372,392,1295,971,235,1101,623,1005,1545,406,352,880,849,1212,672,512,317,716,316,917,1440,496,816,751,1152,1037,422,698,1269,1521,1024,723,674,1165,1141,906,1136,823,520,470,994,779,1131,893,98,1071,1029,1114,771,943,937,482,691,1577,871,359,909,658,922,936,1217,912,524,510,1050,525,845,894,768,1205,809,561,557,923,1306,834,1425,1370,392,115,729,979,1084,407,895,603,408,822,1178,851,639,580,1170,985,983,1066,916,636,930,713,476,892,867,822,1291,935,1228,151,1571,876,1190,1082,854,1029,832,1167,236,871,715,548,508,327,871,1215,722,1066,924,828,1405,584,691,849,871,798,949,642,1007,828,312,646,908,444,696,839,1170,678,1142,531,349,692,668,713,983,961,1107,603,1054,651,323,837,760,1079,709,506,891,931,728,1311,725,1007,532,418,926,857,716,1000,684,625,857,795,126,651,976,795,1169,891,853,239,461,789,653,460,1313,1134,828,156,1261,850,1008,659,1252,980,1453,982,1064,1173,912,486,1197,1111,810,804,1032,1143,597,1008,825,751,482,858,432,126,879,564,710,315,926,546,925,992,671,723,1253,1050,411,499,1075,843,708,1153,982,584,1393,686,863,754,1132,505,961,739,719,765,436,811,822,1072,1188,1569,986,962,683,1063,659,1296,1248,522,715,643,784,1224,668,964,301,707,1394,425,518,1356,955,1393,1023,367,1239,741,558,894,988,876,863,648,361,794,887,884,422,815,1260,903,765,559,1122,958,777,1149,965,1465,1413,1279,946,1019,656,646,911,522,816,546,605,1193,749,1231,757,213,1100,490,421,711,1219,1269,873,854,1089,1238,654,635,646,596,275,884,684,1095,967,794,595,370,963,1448,821,1078,907,933,991,769,1037,1066,817,1298,911,1492,759,1278,1180,575,477,1190,520,1448,1096,546,1499,700,508,862,773,594,220,862,719,506,1181,1043,988,1061,809,913,520,522,919,341,620,437,166,1005,821,1157,578,121,585,1413,550,938,451,597,801,619,359,495,573,881,877,1203,421,676,650,436,484,899,830,629,575,602,898,1033,1440,842,885,389,666,897,1107,1013,1457,891,810,862,918,1053,648,1320,815,645,1321,397,962,1072,596,1300,1420,1415,339,525,749,904,1292,610,1042,921,823,738,429,1130,1000,600,1097,679,940,931,1231,1484,624,1368,379,1154,795,492,444,1148,319,834,748,304,1007,1117,606,346,310,834,634,372,668,235,813,735,1314,808,514,576,580,259,851,1514,914,497,1653,856,520,970,582,676,616,431,873,1178,791,1048,796,667,547,869,385,394,938,785,797,1457,1075,1078,413,904,532,953,577,338,1518,847,577,1164,1061,786,669,861,943,698,575,835,792,1494,1182,804,623,1070,537,922,1013,312,925,807,987,715,675,955,919,524,829,784,740,947,671,495,1015,873,820,788,948,1177,689,844,249,374,1028,265,1038,360,476,1072,381,498,215,645,682,560,809,770,1463,645,827,568,569,1181,768,1235,904,501,793,821,1300,897,340,785,1097,1390,838,462,750,735,668,705,1234,387,556,371,758,1082,747,780,907,325,915,613,1182,851,699,727,772,746,662,606,573,1077,1478,397,742,1018,1349,609,828,585,1327,916,795,1034,638,863,1402,1263,379,696,1033,905,501,1096,684,646,1328,1461,695,701,492,666,1012,1110,568,708,661,1448,266,1328,727,792,587,740,891,659,845,881,651,869,716,818,1343,1143,1015,886,1593,697,976,975,1027,1434,662,1018,1454,1055,1006,1159,963,777,388,506,303,771,744,536,382,743,523,443,822,1265,343,1086,433,1393,1485,1107,470,1051,1094,1121,930,343,1161,732,1042,1047,964,714,557,865,1037,833,931,1159,459,858,332,690,790,626,1091,888,342,862,1141,871,608,1155,1470,499,898,887,809,569,394,246,241,260,567,779,811,718,1062,309,1145,514,991,723,1232,650,925,827,845,492,851,605,824,296,923,1002,428,385,1017,676,1247,610,633,1338,820,584,564,925,829,631,1107,768,565,555,902,1301,1074,1219,1195,382,625,218,956,622,496,410,816,496,882,697,513,957,450,739,302,803,437,668,1094,582,242,716,1404,1197,820,624,461,804,318,1039,975,1516,1439,639,1286,597,286,770,629,695,504,644,1380,372,507,973,635,1101,752,1091,810,527,1177,953,726,481,1432,652,598,1182,329,1510,971,1017,964,774,957,811,1092,347,999,858,291,456,422,209,669,279,634,1053,1079,991,821,1066,1021,1397,629,619,254,623,538,538,219,1070,923,1289,672,1103,933,944,517,902,474,1014,821,710,1006,1248,781,697,1131,833,560,686,367,1107,646,365,866,1093,489,626,388,992,951,916,632,740,733,188,1075,282,816,990,597,1091,1351,217,651,373,825,1065,696,390,1405,1081,774,535,624,875,1122,278,423,1117,1212,1149,1052,1121,460,1298,1045,1176,827,904,1000,277,491,776,764,577,867,973,922,774,973,887,1447,1135,779,1050,444,863,249,551,1069,932,616,1105,1042,1287,790,518,716,552,900,1288,1164,841,819,909,519,896,1009,1007,960,564,518,869,389,856,1373,646,1369,412,807,339,1386,1266,617,673,295,427,460,934,910,874,346,944,1014,958,990,822,837,1010,163,916,918,720,617,952,434,861,1149,1025,1113,618,437,1186,726,1033,931,734,1178,662,921,768,1182,442,930,863,327,1316,675,281,526,1042,1208,739,1043,1139,1333,524,661,1433,572,452,752,1090,497,874,686,770,310,1247,332,594,725,630,1161,297,564,446,820,792,807,712,651,229,276,288,404,725,1361,1262,993,971,735,1041,1052,474,1311,722,728,944,987,584,827,730,789,1313,1123,1281,872,780,179,807,1338,734,1149,412,591,428,1480,467,799,973,571,1357,395,1011,732,977,1366,849,426,858,1098,966,865,819,635,1468,1007,1262,275,104,1061,913,693,543,705,552,751,469,445,726,206,1052,1174,937,595,839,879,918,856,1183,678,1405,1106,414,880,227,513,609,1044,486,444,836,688,515,1366,541,936,530,1325,1154,376,678,1162,228,995,635,1163,574,264,632,1016,1495,178,861,1116,347,542,906,358,955,606,987,911,377,826,667,731,842,1040,517,503,538,1493,1054,466,689,900,918,239,856,132,418,474,924,785,1218,793,959,383,873,744,1129,776,430,1102,1224,631,1026,914,879,752,1523,959,831,1198,991,1266,750,555,961,597,1019,750,572,943,1096,751,559,1513,891,600,1106,948,926,961,626,777,721,690,901,517,477,697,1097,819,751,688,1005,603,818,366,644,946,1441,1214,1169,1286,869,862,571,825,440,773,1399,367,673,1002,1529,776,705,189,1120,1029,571,418,796,618,284,179,523,797,471,842,578,427,719,786,642,682,890,984,527,758,750,288,1417,706,614,377,458,995,917,601,276,1036,479,302,410,870,204,921,1333,1329,866,934,529,1070,1098,689,755,1142,1079,861,856,1130,1439,1018,392,1224,316,422,906,534,608,1141,753,1171,641,1119,884,331,703,346,771,1404,697,500,661,874,489,1378,877,791,598,852,627,1221,945,1435,644,964,1240,713,705,1411,870,724,562,1066,787,1040,852,894,403,922,846,731,732,1171,1169,496,368,616,588,1005,810,1308,1178,431,738,577,838,991,689,1205,615,1112,172,720,279,745,1106,1343,602,538,756,422,376,340,518,343,735,520,573,785,770,947,977,870,576,998,1005,1019,712,877,1170,280,579,136,1136,853,1121,532,773,542,688,428,1359,755,458,994,424,740,949,1011,395,581,1513,1433,336,909,598,938,506,1415,1522,743,533,1443,914,796,765,90,519,1013,973,1046,1070,706,557,904,895,740,569,212,1478,896,106,967,979,872,1387,522,363,739,780,828,464,167,933,462,1482,456,1136,1110,728,864,408,1324,565,1523,530,826,484,1045,802,1158,1350,1075,698,735,537,456,145,1000,759,1130,758,1462,818,951,514,182,814,532,567,634,727,465,247,1028,1086,643,324,1037,1104,756,1420,575,1019,751,795,466,693,1258,461,690,861,999,1136,572,1139,1308,280,145,832,427,1173,787,1230,614,507,974,867,1352,360,626,907,438,943,1304,334,511,998,691,797,1101,1108,430,542,791,1145,618,544,654,543,1180,923,1555,1221,1286,776,1047,939,1395,1298,781,712,1061,1044,741,724,1009,1069,874,981,929,1435,1163,775,896,1094,674,945,1351,973,728,1267,816,748,1366,580,833,597,633,752,1166,598,339,665,595,795,374,1169,956,948,938,1463,887,934,785,853,976,814,870,654,1036,609,798,918,635,1026,630,958,830,921,526,531,640,386,365,918,1008,756,709,1209,551,607,843,292,911,697,1009,661,1146,1067,650,998,297,623,627,831,676,736,195,704,581,1020,965,1297,645,714,861,587,898,1048,769,687,566,1178,1287,272,1194,793,914,458,962,213,981,775,305,938,1224,600,1322,780,1123,1069,1428,900,932,514,267,596,263,736,762,882,1005,850,709,732,588,1022,410,856,715,839,906,706,516,935,550,918,575,781,869,550,483,1310,763,507,796,363,709,916,1320,1422,1116,1206,713,691,1466,426,817,331,924,523,864,868,642,1149,763,842,488,1005,428,1166,687,678,1311,379,846,694,1196,1177,860,863,410,1152,1243,883,573,515,853,472,968,682,802,731,200,867,1515,769,740,436,332,392,1056,1042,771,526,343,1012,465,1385,865,571,365,465,903,820,422,781,861,961,806,1130,800,1019,1194,964,631,530,1066,175,1145,1059,784,1332,966,788,394,854,898,1318,977,1380,1031,752,570,1041,447,965,960,764,346,633,802,474,725,1090,1152,1270,1023,592,689,738,1445,795,970,1188,653,1310,246,1313,530,788,1432,1116,1163,813,366,904,1382,1039,1150,945,310,1479,1205,627,692,1402,940,470,1457,705,395,536,1293,902,425,315,656,1243,780,757,776,938,975,980,869,741,970,476,741,1414,254,2071,847,874,583,385,1566,798,155,406,1254,1151,736,554,521,1124,1165,845,498,999,725,1298,1080,955,279,313,655,624,772,298,541,594,687,804,1080,334,1364,1183,438,199,819,453,632,795,646,811,279,848,1402,525,1263,908,882,669,520,1171,1188,730,1115,1030,698,700,856,1447,776,620,700,181,1460,965,258,271,1105,651,1471,782,1146,1277,688,495,795,596,657,699,1305,807,1213,710,973,467,417,705,681,894,827,315,599,808,661,1017,1435,971,791,455,609,1154,933,1116,840,612,945,457,1114,479,946,517,248,880,1123,574,890,1079,1421,227,1084,563,1086,556,1408,883,84,377,1210,340,860,936,1401,674,567,624,630,520,636,588,1484,673,641,1498,1167,713,688,710,1075,1202,852,948,1433,161,1491,849,332,677,883,371,687,904,659,703,964,372,939,540,387,741,443,1261,404,883,1250,873,644,158,802,950,1298,903,902,1180,245,550,539,598,1309,541,501,1124,1038,765,450,1292,1139,374,702,170,646,567,225,1432,646,1506,756,620,947,499,400,892,810,1019,1181,785,1024,508,767,318,895,683,565,693,323,829,718,403,627,711,600,692,708,1496,652,192,578,447,969,1326,637,223,820,1292,1119,1297,945,995,698,358,738,794,1420,853,640,1229,866,889,334,879,807,1116,822,674,1445,647,657,833,1337,1356,769,296,1144,307,798,633,406,1523,1591,1481,311,897,1093,1529,622,718,1422,274,1167,310,1142,108,954,644,760,937,814,435,518,1518,879,878,779,1114,741,748,473,661,729,495,1408,440,1254,337,797,856,502,235,844,698,652,578,437,146,860,1250,1111,618,779,865,1475,563,855,852,705,1230,247,1068,791,504,816,1081,882,774,716,1029,513,299,451,765,224,723,1340,933,536,903,992,684,1198,1055,1077,948,995,1303,774,1025,270,872,627,734,734,525,767,1267,1189,796],\"xaxis\":\"x\",\"yaxis\":\"y\",\"type\":\"histogram\"}],                        {\"template\":{\"data\":{\"bar\":[{\"error_x\":{\"color\":\"#2a3f5f\"},\"error_y\":{\"color\":\"#2a3f5f\"},\"marker\":{\"line\":{\"color\":\"#E5ECF6\",\"width\":0.5},\"pattern\":{\"fillmode\":\"overlay\",\"size\":10,\"solidity\":0.2}},\"type\":\"bar\"}],\"barpolar\":[{\"marker\":{\"line\":{\"color\":\"#E5ECF6\",\"width\":0.5},\"pattern\":{\"fillmode\":\"overlay\",\"size\":10,\"solidity\":0.2}},\"type\":\"barpolar\"}],\"carpet\":[{\"aaxis\":{\"endlinecolor\":\"#2a3f5f\",\"gridcolor\":\"white\",\"linecolor\":\"white\",\"minorgridcolor\":\"white\",\"startlinecolor\":\"#2a3f5f\"},\"baxis\":{\"endlinecolor\":\"#2a3f5f\",\"gridcolor\":\"white\",\"linecolor\":\"white\",\"minorgridcolor\":\"white\",\"startlinecolor\":\"#2a3f5f\"},\"type\":\"carpet\"}],\"choropleth\":[{\"colorbar\":{\"outlinewidth\":0,\"ticks\":\"\"},\"type\":\"choropleth\"}],\"contour\":[{\"colorbar\":{\"outlinewidth\":0,\"ticks\":\"\"},\"colorscale\":[[0.0,\"#0d0887\"],[0.1111111111111111,\"#46039f\"],[0.2222222222222222,\"#7201a8\"],[0.3333333333333333,\"#9c179e\"],[0.4444444444444444,\"#bd3786\"],[0.5555555555555556,\"#d8576b\"],[0.6666666666666666,\"#ed7953\"],[0.7777777777777778,\"#fb9f3a\"],[0.8888888888888888,\"#fdca26\"],[1.0,\"#f0f921\"]],\"type\":\"contour\"}],\"contourcarpet\":[{\"colorbar\":{\"outlinewidth\":0,\"ticks\":\"\"},\"type\":\"contourcarpet\"}],\"heatmap\":[{\"colorbar\":{\"outlinewidth\":0,\"ticks\":\"\"},\"colorscale\":[[0.0,\"#0d0887\"],[0.1111111111111111,\"#46039f\"],[0.2222222222222222,\"#7201a8\"],[0.3333333333333333,\"#9c179e\"],[0.4444444444444444,\"#bd3786\"],[0.5555555555555556,\"#d8576b\"],[0.6666666666666666,\"#ed7953\"],[0.7777777777777778,\"#fb9f3a\"],[0.8888888888888888,\"#fdca26\"],[1.0,\"#f0f921\"]],\"type\":\"heatmap\"}],\"heatmapgl\":[{\"colorbar\":{\"outlinewidth\":0,\"ticks\":\"\"},\"colorscale\":[[0.0,\"#0d0887\"],[0.1111111111111111,\"#46039f\"],[0.2222222222222222,\"#7201a8\"],[0.3333333333333333,\"#9c179e\"],[0.4444444444444444,\"#bd3786\"],[0.5555555555555556,\"#d8576b\"],[0.6666666666666666,\"#ed7953\"],[0.7777777777777778,\"#fb9f3a\"],[0.8888888888888888,\"#fdca26\"],[1.0,\"#f0f921\"]],\"type\":\"heatmapgl\"}],\"histogram\":[{\"marker\":{\"pattern\":{\"fillmode\":\"overlay\",\"size\":10,\"solidity\":0.2}},\"type\":\"histogram\"}],\"histogram2d\":[{\"colorbar\":{\"outlinewidth\":0,\"ticks\":\"\"},\"colorscale\":[[0.0,\"#0d0887\"],[0.1111111111111111,\"#46039f\"],[0.2222222222222222,\"#7201a8\"],[0.3333333333333333,\"#9c179e\"],[0.4444444444444444,\"#bd3786\"],[0.5555555555555556,\"#d8576b\"],[0.6666666666666666,\"#ed7953\"],[0.7777777777777778,\"#fb9f3a\"],[0.8888888888888888,\"#fdca26\"],[1.0,\"#f0f921\"]],\"type\":\"histogram2d\"}],\"histogram2dcontour\":[{\"colorbar\":{\"outlinewidth\":0,\"ticks\":\"\"},\"colorscale\":[[0.0,\"#0d0887\"],[0.1111111111111111,\"#46039f\"],[0.2222222222222222,\"#7201a8\"],[0.3333333333333333,\"#9c179e\"],[0.4444444444444444,\"#bd3786\"],[0.5555555555555556,\"#d8576b\"],[0.6666666666666666,\"#ed7953\"],[0.7777777777777778,\"#fb9f3a\"],[0.8888888888888888,\"#fdca26\"],[1.0,\"#f0f921\"]],\"type\":\"histogram2dcontour\"}],\"mesh3d\":[{\"colorbar\":{\"outlinewidth\":0,\"ticks\":\"\"},\"type\":\"mesh3d\"}],\"parcoords\":[{\"line\":{\"colorbar\":{\"outlinewidth\":0,\"ticks\":\"\"}},\"type\":\"parcoords\"}],\"pie\":[{\"automargin\":true,\"type\":\"pie\"}],\"scatter\":[{\"marker\":{\"colorbar\":{\"outlinewidth\":0,\"ticks\":\"\"}},\"type\":\"scatter\"}],\"scatter3d\":[{\"line\":{\"colorbar\":{\"outlinewidth\":0,\"ticks\":\"\"}},\"marker\":{\"colorbar\":{\"outlinewidth\":0,\"ticks\":\"\"}},\"type\":\"scatter3d\"}],\"scattercarpet\":[{\"marker\":{\"colorbar\":{\"outlinewidth\":0,\"ticks\":\"\"}},\"type\":\"scattercarpet\"}],\"scattergeo\":[{\"marker\":{\"colorbar\":{\"outlinewidth\":0,\"ticks\":\"\"}},\"type\":\"scattergeo\"}],\"scattergl\":[{\"marker\":{\"colorbar\":{\"outlinewidth\":0,\"ticks\":\"\"}},\"type\":\"scattergl\"}],\"scattermapbox\":[{\"marker\":{\"colorbar\":{\"outlinewidth\":0,\"ticks\":\"\"}},\"type\":\"scattermapbox\"}],\"scatterpolar\":[{\"marker\":{\"colorbar\":{\"outlinewidth\":0,\"ticks\":\"\"}},\"type\":\"scatterpolar\"}],\"scatterpolargl\":[{\"marker\":{\"colorbar\":{\"outlinewidth\":0,\"ticks\":\"\"}},\"type\":\"scatterpolargl\"}],\"scatterternary\":[{\"marker\":{\"colorbar\":{\"outlinewidth\":0,\"ticks\":\"\"}},\"type\":\"scatterternary\"}],\"surface\":[{\"colorbar\":{\"outlinewidth\":0,\"ticks\":\"\"},\"colorscale\":[[0.0,\"#0d0887\"],[0.1111111111111111,\"#46039f\"],[0.2222222222222222,\"#7201a8\"],[0.3333333333333333,\"#9c179e\"],[0.4444444444444444,\"#bd3786\"],[0.5555555555555556,\"#d8576b\"],[0.6666666666666666,\"#ed7953\"],[0.7777777777777778,\"#fb9f3a\"],[0.8888888888888888,\"#fdca26\"],[1.0,\"#f0f921\"]],\"type\":\"surface\"}],\"table\":[{\"cells\":{\"fill\":{\"color\":\"#EBF0F8\"},\"line\":{\"color\":\"white\"}},\"header\":{\"fill\":{\"color\":\"#C8D4E3\"},\"line\":{\"color\":\"white\"}},\"type\":\"table\"}]},\"layout\":{\"annotationdefaults\":{\"arrowcolor\":\"#2a3f5f\",\"arrowhead\":0,\"arrowwidth\":1},\"autotypenumbers\":\"strict\",\"coloraxis\":{\"colorbar\":{\"outlinewidth\":0,\"ticks\":\"\"}},\"colorscale\":{\"diverging\":[[0,\"#8e0152\"],[0.1,\"#c51b7d\"],[0.2,\"#de77ae\"],[0.3,\"#f1b6da\"],[0.4,\"#fde0ef\"],[0.5,\"#f7f7f7\"],[0.6,\"#e6f5d0\"],[0.7,\"#b8e186\"],[0.8,\"#7fbc41\"],[0.9,\"#4d9221\"],[1,\"#276419\"]],\"sequential\":[[0.0,\"#0d0887\"],[0.1111111111111111,\"#46039f\"],[0.2222222222222222,\"#7201a8\"],[0.3333333333333333,\"#9c179e\"],[0.4444444444444444,\"#bd3786\"],[0.5555555555555556,\"#d8576b\"],[0.6666666666666666,\"#ed7953\"],[0.7777777777777778,\"#fb9f3a\"],[0.8888888888888888,\"#fdca26\"],[1.0,\"#f0f921\"]],\"sequentialminus\":[[0.0,\"#0d0887\"],[0.1111111111111111,\"#46039f\"],[0.2222222222222222,\"#7201a8\"],[0.3333333333333333,\"#9c179e\"],[0.4444444444444444,\"#bd3786\"],[0.5555555555555556,\"#d8576b\"],[0.6666666666666666,\"#ed7953\"],[0.7777777777777778,\"#fb9f3a\"],[0.8888888888888888,\"#fdca26\"],[1.0,\"#f0f921\"]]},\"colorway\":[\"#636efa\",\"#EF553B\",\"#00cc96\",\"#ab63fa\",\"#FFA15A\",\"#19d3f3\",\"#FF6692\",\"#B6E880\",\"#FF97FF\",\"#FECB52\"],\"font\":{\"color\":\"#2a3f5f\"},\"geo\":{\"bgcolor\":\"white\",\"lakecolor\":\"white\",\"landcolor\":\"#E5ECF6\",\"showlakes\":true,\"showland\":true,\"subunitcolor\":\"white\"},\"hoverlabel\":{\"align\":\"left\"},\"hovermode\":\"closest\",\"mapbox\":{\"style\":\"light\"},\"paper_bgcolor\":\"white\",\"plot_bgcolor\":\"#E5ECF6\",\"polar\":{\"angularaxis\":{\"gridcolor\":\"white\",\"linecolor\":\"white\",\"ticks\":\"\"},\"bgcolor\":\"#E5ECF6\",\"radialaxis\":{\"gridcolor\":\"white\",\"linecolor\":\"white\",\"ticks\":\"\"}},\"scene\":{\"xaxis\":{\"backgroundcolor\":\"#E5ECF6\",\"gridcolor\":\"white\",\"gridwidth\":2,\"linecolor\":\"white\",\"showbackground\":true,\"ticks\":\"\",\"zerolinecolor\":\"white\"},\"yaxis\":{\"backgroundcolor\":\"#E5ECF6\",\"gridcolor\":\"white\",\"gridwidth\":2,\"linecolor\":\"white\",\"showbackground\":true,\"ticks\":\"\",\"zerolinecolor\":\"white\"},\"zaxis\":{\"backgroundcolor\":\"#E5ECF6\",\"gridcolor\":\"white\",\"gridwidth\":2,\"linecolor\":\"white\",\"showbackground\":true,\"ticks\":\"\",\"zerolinecolor\":\"white\"}},\"shapedefaults\":{\"line\":{\"color\":\"#2a3f5f\"}},\"ternary\":{\"aaxis\":{\"gridcolor\":\"white\",\"linecolor\":\"white\",\"ticks\":\"\"},\"baxis\":{\"gridcolor\":\"white\",\"linecolor\":\"white\",\"ticks\":\"\"},\"bgcolor\":\"#E5ECF6\",\"caxis\":{\"gridcolor\":\"white\",\"linecolor\":\"white\",\"ticks\":\"\"}},\"title\":{\"x\":0.05},\"xaxis\":{\"automargin\":true,\"gridcolor\":\"white\",\"linecolor\":\"white\",\"ticks\":\"\",\"title\":{\"standoff\":15},\"zerolinecolor\":\"white\",\"zerolinewidth\":2},\"yaxis\":{\"automargin\":true,\"gridcolor\":\"white\",\"linecolor\":\"white\",\"ticks\":\"\",\"title\":{\"standoff\":15},\"zerolinecolor\":\"white\",\"zerolinewidth\":2}}},\"xaxis\":{\"anchor\":\"y\",\"domain\":[0.0,1.0],\"title\":{\"text\":\"Length\"}},\"yaxis\":{\"anchor\":\"x\",\"domain\":[0.0,1.0],\"title\":{\"text\":\"Number of samples (%)\"}},\"legend\":{\"tracegroupgap\":0},\"title\":{\"text\":\"Distribution of the lenght of each raw\"},\"barmode\":\"relative\",\"shapes\":[{\"line\":{\"color\":\"red\",\"width\":1},\"type\":\"line\",\"x0\":1552.5,\"x1\":1552.5,\"xref\":\"x\",\"y0\":0,\"y1\":1,\"yref\":\"y domain\"}]},                        {\"responsive\": true}                    ).then(function(){\n",
              "                            \n",
              "var gd = document.getElementById('d9044865-9d8a-4fea-ad40-840da39c65ee');\n",
              "var x = new MutationObserver(function (mutations, observer) {{\n",
              "        var display = window.getComputedStyle(gd).display;\n",
              "        if (!display || display === 'none') {{\n",
              "            console.log([gd, 'removed!']);\n",
              "            Plotly.purge(gd);\n",
              "            observer.disconnect();\n",
              "        }}\n",
              "}});\n",
              "\n",
              "// Listen for the removal of the full notebook cells\n",
              "var notebookContainer = gd.closest('#notebook-container');\n",
              "if (notebookContainer) {{\n",
              "    x.observe(notebookContainer, {childList: true});\n",
              "}}\n",
              "\n",
              "// Listen for the clearing of the current output cell\n",
              "var outputEl = gd.closest('.output');\n",
              "if (outputEl) {{\n",
              "    x.observe(outputEl, {childList: true});\n",
              "}}\n",
              "\n",
              "                        })                };                            </script>        </div>\n",
              "</body>\n",
              "</html>"
            ]
          },
          "metadata": {},
          "output_type": "display_data"
        }
      ],
      "source": [
        "papers_lenght = [len(x) for x in X_train['paper']]\n",
        "\n",
        "fig = px.histogram(\n",
        "    papers_lenght,\n",
        "    x=0,\n",
        "    title='Distribution of the lenght of each raw',\n",
        "    histnorm='percent',\n",
        "    labels={\n",
        "        \"variable\": \"Set\"\n",
        "    },\n",
        ")\n",
        "cut = np.ceil(np.percentile(papers_lenght, 99.5))\n",
        "fig.add_vline(x=cut + 0.5, line_width=1, line_color=\"red\")\n",
        "fig.update_layout(yaxis_title=\"Number of samples (%)\", xaxis_title=\"Length\")\n",
        "fig.show()"
      ]
    },
    {
      "cell_type": "markdown",
      "metadata": {
        "id": "32o48nx25kLK"
      },
      "source": [
        "It is possible to cut the sequences in order to reduced the computational power needed to perform both training and inference. In order to perform the cut, the 99th percentile of the lengths has been selected."
      ]
    },
    {
      "cell_type": "code",
      "execution_count": null,
      "metadata": {
        "colab": {
          "base_uri": "https://localhost:8080/"
        },
        "id": "z_ZDN6hP6-u5",
        "outputId": "da04597d-aa35-4956-f02e-f6eafbc91633"
      },
      "outputs": [
        {
          "name": "stdout",
          "output_type": "stream",
          "text": [
            "Max sequence length: 1552\n"
          ]
        }
      ],
      "source": [
        "MAX_SEQ_LENGTH = int(cut)\n",
        "print('Max sequence length: ' + str(MAX_SEQ_LENGTH))"
      ]
    },
    {
      "cell_type": "markdown",
      "metadata": {
        "id": "Zf7rJ9Q15uG-"
      },
      "source": [
        "### OOV terms checking\n",
        "\n",
        "Since GloVe pre-trained embeddings will be used to perform term embedding in the \"simple architectures\" section, it is worth to check how many Out-Of-Vocabulary (OOV) terms are present in the data set. Notice the check is performed on training set only as OOVs are expected to appear at any time in any set.\n",
        "\n",
        "https://aclanthology.org/D14-1162/"
      ]
    },
    {
      "cell_type": "code",
      "execution_count": null,
      "metadata": {
        "id": "dsBFtWVG5vb0"
      },
      "outputs": [],
      "source": [
        "# set dimension of the embedding\n",
        "EMBEDDING_SIZE = 300\n",
        "\n",
        "# load pre-trained glove vectors\n",
        "download_path = f\"glove-wiki-gigaword-{EMBEDDING_SIZE}\"\n",
        "glove = gloader.load(download_path)"
      ]
    },
    {
      "cell_type": "code",
      "execution_count": null,
      "metadata": {
        "id": "x-9791Uw5x4g"
      },
      "outputs": [],
      "source": [
        "def get_OOV(embedding_model: gensim.models.keyedvectors.KeyedVectors, word_listing):\n",
        "    \"\"\"\n",
        "    find and list OOV words.\n",
        "\n",
        "    Parameters\n",
        "    ----------\n",
        "    embedding_model : gensim.models.keyedvectors.KeyedVectors\n",
        "         embedding model\n",
        "    word_listing : pandas series\n",
        "        column of token of a pandas dataframe\n",
        "    \"\"\"\n",
        "    oovs = list(set(word_listing).difference(embedding_model.index2word))\n",
        "\n",
        "    return oovs"
      ]
    },
    {
      "cell_type": "code",
      "execution_count": null,
      "metadata": {
        "id": "FsScxDIP_Pim"
      },
      "outputs": [],
      "source": [
        "# function to flatten a matrix\n",
        "def flatten(l):\n",
        "    return [item for sublist in l for item in sublist]"
      ]
    },
    {
      "cell_type": "code",
      "execution_count": null,
      "metadata": {
        "colab": {
          "base_uri": "https://localhost:8080/"
        },
        "id": "QXEccZ3g59uZ",
        "outputId": "17061f00-4d7e-4072-f0b9-0ab16255deab"
      },
      "outputs": [
        {
          "name": "stdout",
          "output_type": "stream",
          "text": [
            "Train words number:  50787\n",
            "Validation words number:  19448\n",
            "Test words number:  21046\n",
            "\n",
            "OOV in the training set:  22683\n",
            "OOV in the validation set:  5277\n",
            "OOV in the test set:  6132\n",
            "\n",
            "total OOVs:  29943\n"
          ]
        }
      ],
      "source": [
        "oov_train = get_OOV(glove, flatten([x.split() for x in X_train['paper']]))\n",
        "oov_val = get_OOV(glove, flatten([x.split() for x in X_val['paper']]))\n",
        "oov_test = get_OOV(glove, flatten([x.split() for x in X_test['paper']]))\n",
        "\n",
        "print('Train words number: ', len(set(flatten([x.split() for x in X_train['paper']]))))\n",
        "print('Validation words number: ', len(set(flatten([x.split() for x in X_val['paper']]))))\n",
        "print('Test words number: ', len(set(flatten([x.split() for x in X_test['paper']]))))\n",
        "print()\n",
        "print('OOV in the training set: ', len(oov_train))\n",
        "print('OOV in the validation set: ', len(oov_val))\n",
        "print('OOV in the test set: ', len(oov_test))\n",
        "print()\n",
        "print('total OOVs: ', len(set(oov_train + oov_val + oov_test)))"
      ]
    },
    {
      "cell_type": "markdown",
      "metadata": {
        "id": "f9CSnCgMJDiJ"
      },
      "source": [
        "### Building Vocabulary"
      ]
    },
    {
      "cell_type": "code",
      "execution_count": null,
      "metadata": {
        "id": "84ecvS3zITjd"
      },
      "outputs": [],
      "source": [
        "class Vocabulary:\n",
        "    \"\"\" Stores a vocabulary for NLP tasks\n",
        "    \"\"\"\n",
        "\n",
        "    def __init__(self, word2idx=OrderedDict(), idx2word=OrderedDict(), curr_idx=2, oov_index=1, oov_token='-OOV-'):\n",
        "        self.word2idx = word2idx\n",
        "        self.idx2word = idx2word\n",
        "        self.curr_idx = curr_idx  # 0-1 reserved\n",
        "        self.oov_index = 1\n",
        "        self.oov_token = oov_token\n",
        "\n",
        "    def import_gensim(self, embedding_model: gensim.models.keyedvectors.KeyedVectors) -> None:\n",
        "        \"\"\" Import an existing vocabulary from a gensim model\n",
        "\n",
        "        Parameters\n",
        "        ----------\n",
        "        embedding_model : gensim.models.keyedvectors.KeyedVectors\n",
        "            Embedding model\n",
        "        \"\"\"\n",
        "        self.idx2word.update(OrderedDict(enumerate(embedding_model.index2word, 2))) # strat from 1 as 0 is reserved\n",
        "        self.word2idx = {v: k for k, v in self.idx2word.items()}\n",
        "        self.curr_idx = len(self.idx2word) + 2\n",
        "\n",
        "    def build_from_list(self, sentences: List[List[str]]) -> None:\n",
        "        \"\"\" Adds words to vocabulary starting from a list of documents\n",
        "\n",
        "        Parameters\n",
        "        ----------\n",
        "        sentences : List[List[str]]\n",
        "            Expected format: [document][sentence][token]\n",
        "        \"\"\"\n",
        "        for sentence in tqdm(sentences):\n",
        "            for token in sentence:\n",
        "                if token not in self.word2idx:\n",
        "                    self.word2idx[token] = self.curr_idx\n",
        "                    self.idx2word[self.curr_idx] = token\n",
        "                    self.curr_idx += 1\n",
        "\n",
        "    def encode(self, sentences: List[List[str]]) -> List[List[int]]:\n",
        "        \"\"\" Encode a sequence\n",
        "\n",
        "        Parameters\n",
        "        ----------\n",
        "        sentences : List[List[str]]\n",
        "            Expected format: [document][sentence][token]\n",
        "\n",
        "        Returns\n",
        "        -------\n",
        "        List[List[int]]\n",
        "            Return format: [document][sentence][encoded_token]\n",
        "        \"\"\"\n",
        "        encoded = [[self.word2idx[token] if token in self.word2idx.keys() else self.oov_index for token in sentence] for sentence in sentences]\n",
        "\n",
        "        return encoded\n",
        "\n",
        "    def decode(self, sentences: List[List[int]]) -> List[List[str]]:\n",
        "        \"\"\" Decode a sequence\n",
        "\n",
        "        Parameters\n",
        "        ----------\n",
        "        sentences : List[List[int]]\n",
        "            Expected format: [document][sentence][encoded_token]\n",
        "\n",
        "        Returns\n",
        "        -------\n",
        "        List[List[str]]\n",
        "            Return format: [document][sentence][token]\n",
        "        \"\"\"\n",
        "        decoded = [[self.idx2word[encoded_id] if encoded_id in self.idx2words.keys() else self.oov_token for encoded_id in sentence] for sentence in sentences]\n",
        "\n",
        "        return decoded\n",
        "\n",
        "    def get_OOV(self, sentences: List[List[str]]):\n",
        "        \"\"\" Find and list OOV words\n",
        "\n",
        "        Parameters\n",
        "        ----------\n",
        "        embedding_model : gensim.models.keyedvectors.KeyedVectors\n",
        "            embedding model\n",
        "        sentences : pandas series\n",
        "            column of token of a pandas dataframe\n",
        "        \"\"\"\n",
        "        ret = [item for sublist in sentences for item in sublist]\n",
        "        oovs = list(set(ret).difference(self.index2word.values()))\n",
        "\n",
        "        return oovs\n",
        "\n",
        "\n",
        "    def copy(self):\n",
        "        \"\"\" Returns a (deep) copy of itself\n",
        "\n",
        "        Returns\n",
        "        -------\n",
        "        Vocabulary\n",
        "            Deep copy of instance\n",
        "        \"\"\"\n",
        "        return copy.deepcopy(self)"
      ]
    },
    {
      "cell_type": "code",
      "execution_count": null,
      "metadata": {
        "colab": {
          "base_uri": "https://localhost:8080/"
        },
        "id": "TyW_iXUcJG0Q",
        "outputId": "86ffd3c4-6004-4cea-bcda-8bda38f853a0"
      },
      "outputs": [
        {
          "name": "stderr",
          "output_type": "stream",
          "text": [
            "100%|██████████| 15152/15152 [00:00<00:00, 42844.06it/s]\n",
            "100%|██████████| 2674/2674 [00:00<00:00, 36958.48it/s]\n",
            "100%|██████████| 3146/3146 [00:00<00:00, 41566.62it/s]\n"
          ]
        }
      ],
      "source": [
        "voc_glove = Vocabulary()\n",
        "voc_glove.import_gensim(glove)\n",
        "\n",
        "voc_train = voc_glove.copy()\n",
        "voc_train.build_from_list(X_train.squeeze().str.split())\n",
        "\n",
        "voc_val = voc_train.copy()\n",
        "voc_val.build_from_list(X_val.squeeze().str.split())\n",
        "\n",
        "voc_test = voc_train.copy()\n",
        "voc_test.build_from_list(X_test.squeeze().str.split())"
      ]
    },
    {
      "cell_type": "markdown",
      "metadata": {
        "id": "htvPQHPegBo2"
      },
      "source": [
        "## Encode sequences"
      ]
    },
    {
      "cell_type": "code",
      "execution_count": null,
      "metadata": {
        "id": "TiqPHrsFgEbQ"
      },
      "outputs": [],
      "source": [
        "# text to sequences\n",
        "X_train_enc = voc_train.encode(X_train.squeeze().str.split())\n",
        "X_val_enc = voc_val.encode(X_val.squeeze().str.split())\n",
        "X_test_enc = voc_test.encode(X_test.squeeze().str.split())"
      ]
    },
    {
      "cell_type": "code",
      "execution_count": null,
      "metadata": {
        "colab": {
          "base_uri": "https://localhost:8080/"
        },
        "id": "YN7SgAwEgaUH",
        "outputId": "6ab7e2c5-51a1-48e1-d853-68b19a319e8e"
      },
      "outputs": [
        {
          "name": "stdout",
          "output_type": "stream",
          "text": [
            "Tokenized sentence example:\n",
            " [24088, 96008, 19293, 1425, 19293, 1425, 951, 2066, 5865, 391, 6620, 7334, 37361, 40409, 569, 87, 673, 4290, 2360, 2370, 1629, 6285, 535, 522, 4105, 490, 935, 41481, 1801, 236, 3941, 2442, 522, 63392, 44195, 851, 47096, 1961, 13188, 1629, 430, 16149, 30065, 4278, 5658, 19293, 21237, 904, 3606, 1589, 2370, 19293, 1425, 5658, 16149, 28938, 2529, 107427, 5243, 24088, 817, 107427, 12860, 1713, 14537, 4887, 1582, 994, 1425, 1309, 13595, 410, 57939, 8739, 12858, 24088, 57341, 1825, 3472, 1656, 3139, 22906, 6933, 2529, 21532, 8739, 57341, 63844, 5930, 4105, 490, 28749, 2370, 16149, 30065, 30410, 195709, 47096, 763, 1569, 5865, 6420]\n"
          ]
        }
      ],
      "source": [
        "print(f\"Tokenized sentence example:\\n {X_train_enc[0]}\")"
      ]
    },
    {
      "cell_type": "markdown",
      "metadata": {
        "id": "LAjnA9QGghAk"
      },
      "source": [
        "### Truncation & Padding\n",
        "\n",
        "In order for the input to be feed into the models it is important for all the sequences to be of the same length. In this step sequences exceeding the maximum allowed sequence length are truncated, sequences that are shorter are \"padded\" with zeros."
      ]
    },
    {
      "cell_type": "code",
      "execution_count": null,
      "metadata": {
        "id": "HY22aEBrgkGU"
      },
      "outputs": [],
      "source": [
        "# Source: https://github.com/keras-team/keras/blob/e6784e4302c7b8cd116b74a784f4b78d60e83c26/keras/utils/data_utils.py#L965\n",
        "def pad_sequences(\n",
        "    sequences,\n",
        "    maxlen=None,\n",
        "    dtype=\"int32\",\n",
        "    padding=\"pre\",\n",
        "    truncating=\"pre\",\n",
        "    value=0.0,\n",
        "):\n",
        "    \"\"\"Pads sequences to the same length.\n",
        "    This function transforms a list (of length `num_samples`)\n",
        "    of sequences (lists of integers)\n",
        "    into a 2D Numpy array of shape `(num_samples, num_timesteps)`.\n",
        "    `num_timesteps` is either the `maxlen` argument if provided,\n",
        "    or the length of the longest sequence in the list.\n",
        "    Sequences that are shorter than `num_timesteps`\n",
        "    are padded with `value` until they are `num_timesteps` long.\n",
        "    Sequences longer than `num_timesteps` are truncated\n",
        "    so that they fit the desired length.\n",
        "    The position where padding or truncation happens is determined by\n",
        "    the arguments `padding` and `truncating`, respectively.\n",
        "    Pre-padding or removing values from the beginning of the sequence is the\n",
        "    default.\n",
        "    >>> sequence = [[1], [2, 3], [4, 5, 6]]\n",
        "    >>> tf.keras.preprocessing.sequence.pad_sequences(sequence)\n",
        "    array([[0, 0, 1],\n",
        "           [0, 2, 3],\n",
        "           [4, 5, 6]], dtype=int32)\n",
        "    >>> tf.keras.preprocessing.sequence.pad_sequences(sequence, value=-1)\n",
        "    array([[-1, -1,  1],\n",
        "           [-1,  2,  3],\n",
        "           [ 4,  5,  6]], dtype=int32)\n",
        "    >>> tf.keras.preprocessing.sequence.pad_sequences(sequence, padding='post')\n",
        "    array([[1, 0, 0],\n",
        "           [2, 3, 0],\n",
        "           [4, 5, 6]], dtype=int32)\n",
        "    >>> tf.keras.preprocessing.sequence.pad_sequences(sequence, maxlen=2)\n",
        "    array([[0, 1],\n",
        "           [2, 3],\n",
        "           [5, 6]], dtype=int32)\n",
        "    Args:\n",
        "        sequences: List of sequences (each sequence is a list of integers).\n",
        "        maxlen: Optional Int, maximum length of all sequences. If not provided,\n",
        "            sequences will be padded to the length of the longest individual\n",
        "            sequence.\n",
        "        dtype: (Optional, defaults to `\"int32\"`). Type of the output sequences.\n",
        "            To pad sequences with variable length strings, you can use `object`.\n",
        "        padding: String, \"pre\" or \"post\" (optional, defaults to `\"pre\"`):\n",
        "            pad either before or after each sequence.\n",
        "        truncating: String, \"pre\" or \"post\" (optional, defaults to `\"pre\"`):\n",
        "            remove values from sequences larger than\n",
        "            `maxlen`, either at the beginning or at the end of the sequences.\n",
        "        value: Float or String, padding value. (Optional, defaults to 0.)\n",
        "    Returns:\n",
        "        Numpy array with shape `(len(sequences), maxlen)`\n",
        "    Raises:\n",
        "        ValueError: In case of invalid values for `truncating` or `padding`,\n",
        "            or in case of invalid shape for a `sequences` entry.\n",
        "    \"\"\"\n",
        "    if not hasattr(sequences, \"__len__\"):\n",
        "        raise ValueError(\"`sequences` must be iterable.\")\n",
        "    num_samples = len(sequences)\n",
        "\n",
        "    lengths = []\n",
        "    sample_shape = ()\n",
        "    flag = True\n",
        "\n",
        "    # take the sample shape from the first non empty sequence\n",
        "    # checking for consistency in the main loop below.\n",
        "\n",
        "    for x in sequences:\n",
        "        try:\n",
        "            lengths.append(len(x))\n",
        "            if flag and len(x):\n",
        "                sample_shape = np.asarray(x).shape[1:]\n",
        "                flag = False\n",
        "        except TypeError as e:\n",
        "            raise ValueError(\n",
        "                \"`sequences` must be a list of iterables. \"\n",
        "                f\"Found non-iterable: {str(x)}\"\n",
        "            ) from e\n",
        "\n",
        "    if maxlen is None:\n",
        "        maxlen = np.max(lengths)\n",
        "\n",
        "    is_dtype_str = np.issubdtype(dtype, np.str_) or np.issubdtype(\n",
        "        dtype, np.unicode_\n",
        "    )\n",
        "    if isinstance(value, str) and dtype != object and not is_dtype_str:\n",
        "        raise ValueError(\n",
        "            f\"`dtype` {dtype} is not compatible with `value`'s type: \"\n",
        "            f\"{type(value)}\\nYou should set `dtype=object` for variable length \"\n",
        "            \"strings.\"\n",
        "        )\n",
        "\n",
        "    x = np.full((num_samples, maxlen) + sample_shape, value, dtype=dtype)\n",
        "    for idx, s in enumerate(sequences):\n",
        "        if not len(s):\n",
        "            continue  # empty list/array was found\n",
        "        if truncating == \"pre\":\n",
        "            trunc = s[-maxlen:]\n",
        "        elif truncating == \"post\":\n",
        "            trunc = s[:maxlen]\n",
        "        else:\n",
        "            raise ValueError(f'Truncating type \"{truncating}\" not understood')\n",
        "\n",
        "        # check `trunc` has expected shape\n",
        "        trunc = np.asarray(trunc, dtype=dtype)\n",
        "        if trunc.shape[1:] != sample_shape:\n",
        "            raise ValueError(\n",
        "                f\"Shape of sample {trunc.shape[1:]} of sequence at \"\n",
        "                f\"position {idx} is different from expected shape \"\n",
        "                f\"{sample_shape}\"\n",
        "            )\n",
        "\n",
        "        if padding == \"post\":\n",
        "            x[idx, : len(trunc)] = trunc\n",
        "        elif padding == \"pre\":\n",
        "            x[idx, -len(trunc) :] = trunc\n",
        "        else:\n",
        "            raise ValueError(f'Padding type \"{padding}\" not understood')\n",
        "    return x"
      ]
    },
    {
      "cell_type": "code",
      "execution_count": null,
      "metadata": {
        "colab": {
          "base_uri": "https://localhost:8080/"
        },
        "id": "L4VTA9kxgoyh",
        "outputId": "34d2e3f5-08c9-41a0-b4c2-3637e7064c9d"
      },
      "outputs": [
        {
          "name": "stdout",
          "output_type": "stream",
          "text": [
            "Padding example:\n",
            " [24088 96008 19293 ...     0     0     0]\n"
          ]
        }
      ],
      "source": [
        "# pad X training, validation and test\n",
        "X_train_padded = pad_sequences(X_train_enc, maxlen=MAX_SEQ_LENGTH, padding=\"post\", truncating=\"post\")\n",
        "X_val_padded = pad_sequences(X_val_enc, maxlen=MAX_SEQ_LENGTH, padding=\"post\", truncating=\"post\")\n",
        "X_test_padded = pad_sequences(X_test_enc, maxlen=MAX_SEQ_LENGTH, padding=\"post\", truncating=\"post\")\n",
        "\n",
        "X_train, X_val, X_test = X_train_padded, X_val_padded, X_test_padded\n",
        "\n",
        "print(f\"Padding example:\\n {X_train_padded[0]}\")"
      ]
    },
    {
      "cell_type": "markdown",
      "metadata": {
        "id": "gNeRmgnpg6UF"
      },
      "source": [
        "## Embedding matrix with GloVe\n",
        "\n",
        "In this section the embedding matrix to be used as an embedding layer's weights is built. Out of vocabulary (OOV) terms are assigned with a representation whose values are taken from a uniform distribution."
      ]
    },
    {
      "cell_type": "code",
      "execution_count": null,
      "metadata": {
        "id": "L2ms_9-Eg5FB"
      },
      "outputs": [],
      "source": [
        "voc = voc_val\n",
        "\n",
        "VOCABULARY_SIZE = len(voc.idx2word) + 2\n",
        "\n",
        "# create an empty embedding matix\n",
        "embedding_weights = np.zeros((VOCABULARY_SIZE, EMBEDDING_SIZE))\n",
        "\n",
        "# create a word to index dictionary mapping\n",
        "word2idx = voc.word2idx\n",
        "\n",
        "emb_voc = {}\n",
        "\n",
        "for word, index in word2idx.items():\n",
        "    try:\n",
        "        embedding_weights[index, :] = glove[word]\n",
        "    except (KeyError, TypeError):\n",
        "        if word not in emb_voc:\n",
        "            embedding_vector = np.random.uniform(low=-0.05, high=0.05, size=EMBEDDING_SIZE)\n",
        "            emb_voc[word] = embedding_vector\n",
        "\n",
        "        embedding_weights[index:] = emb_voc[word]"
      ]
    },
    {
      "cell_type": "code",
      "execution_count": null,
      "metadata": {
        "id": "LBZ_yCfToHnh"
      },
      "outputs": [],
      "source": [
        "y_train_np = y_train.to_numpy()\n",
        "y_val_np = y_val.to_numpy()\n",
        "y_test_np = y_test.to_numpy()\n",
        "\n",
        "X_train_padded_lstm = np.concatenate((X_train_padded, X_val_padded), axis = 0)\n",
        "y_train_padded_lstm = np.concatenate((y_train_np, y_val_np), axis = 0)"
      ]
    },
    {
      "cell_type": "markdown",
      "metadata": {
        "id": "eiiupYYRtwaj"
      },
      "source": [
        "## BiLSTM Model definition\n",
        "\n",
        "CNN and BiLSTM networks in combinations is used for providing a novel multilabel classifier. The CNN is used as feature extractor and BiLSTM as seq2seq learner to get us the desired output.\n",
        "\n",
        "https://medium.com/star-gazers/multilabel-text-classification-using-cnn-and-bi-lstm-ce561c88e8d"
      ]
    },
    {
      "cell_type": "code",
      "execution_count": null,
      "metadata": {
        "colab": {
          "base_uri": "https://localhost:8080/"
        },
        "id": "-kOJiodWNJjh",
        "outputId": "27afc4d9-c7c8-4f7c-bea9-d73aeac82722"
      },
      "outputs": [
        {
          "name": "stderr",
          "output_type": "stream",
          "text": [
            "WARNING:tensorflow:Layer lstm will not use cuDNN kernels since it doesn't meet the criteria. It will use a generic GPU kernel as fallback when running on GPU.\n",
            "WARNING:tensorflow:Layer lstm will not use cuDNN kernels since it doesn't meet the criteria. It will use a generic GPU kernel as fallback when running on GPU.\n",
            "WARNING:tensorflow:Layer lstm will not use cuDNN kernels since it doesn't meet the criteria. It will use a generic GPU kernel as fallback when running on GPU.\n"
          ]
        },
        {
          "name": "stdout",
          "output_type": "stream",
          "text": [
            "Model: \"model\"\n",
            "_________________________________________________________________\n",
            " Layer (type)                Output Shape              Param #   \n",
            "=================================================================\n",
            " input_1 (InputLayer)        [(None, 1552)]            0         \n",
            "                                                                 \n",
            " embedding (Embedding)       (None, 1552, 300)         127812900 \n",
            "                                                                 \n",
            " spatial_dropout1d (SpatialD  (None, 1552, 300)        0         \n",
            " ropout1D)                                                       \n",
            "                                                                 \n",
            " conv1d (Conv1D)             (None, 1550, 64)          57664     \n",
            "                                                                 \n",
            " bidirectional (Bidirectiona  (None, 1550, 256)        197632    \n",
            " l)                                                              \n",
            "                                                                 \n",
            " global_average_pooling1d (G  (None, 256)              0         \n",
            " lobalAveragePooling1D)                                          \n",
            "                                                                 \n",
            " dense (Dense)               (None, 128)               32896     \n",
            "                                                                 \n",
            " dropout (Dropout)           (None, 128)               0         \n",
            "                                                                 \n",
            " dense_1 (Dense)             (None, 6)                 774       \n",
            "                                                                 \n",
            "=================================================================\n",
            "Total params: 128,101,866\n",
            "Trainable params: 288,966\n",
            "Non-trainable params: 127,812,900\n",
            "_________________________________________________________________\n",
            "None\n"
          ]
        },
        {
          "name": "stderr",
          "output_type": "stream",
          "text": [
            "/usr/local/lib/python3.8/dist-packages/keras/optimizers/optimizer_v2/rmsprop.py:135: UserWarning:\n",
            "\n",
            "The `lr` argument is deprecated, use `learning_rate` instead.\n",
            "\n"
          ]
        }
      ],
      "source": [
        "sequence_input = Input(shape=(MAX_SEQ_LENGTH, ))\n",
        "x = Embedding(embedding_weights.shape[0], EMBEDDING_SIZE, weights=[embedding_weights],trainable = False)(sequence_input)\n",
        "x = SpatialDropout1D(0.2)(x) ## ostly drops the entire 1D feature map rather than individual elements.\n",
        "x = Conv1D(64, kernel_size = 3, padding = \"valid\", kernel_initializer = \"glorot_uniform\")(x)\n",
        "x = Bidirectional(LSTM(128, return_sequences=True,dropout=0.1,recurrent_dropout=0.1))(x)\n",
        "avg_pool = GlobalAveragePooling1D()(x)\n",
        "x = Dense(128, activation='relu')(avg_pool)\n",
        "x = Dropout(0.1)(x)\n",
        "preds = Dense(6, activation=\"sigmoid\")(x)\n",
        "bilstm_model = Model(sequence_input, preds)\n",
        "bilstm_model.compile(loss='binary_crossentropy',optimizer=RMSprop(lr=1e-3),metrics=['accuracy'])\n",
        "print(bilstm_model.summary())"
      ]
    },
    {
      "cell_type": "markdown",
      "metadata": {
        "id": "wd1ue6B9ZOW3"
      },
      "source": [
        "### Train"
      ]
    },
    {
      "cell_type": "code",
      "execution_count": null,
      "metadata": {
        "colab": {
          "base_uri": "https://localhost:8080/"
        },
        "id": "j8FmhJf2ULd_",
        "outputId": "93c340ca-dda9-4791-dd74-d26023c2da67"
      },
      "outputs": [
        {
          "name": "stdout",
          "output_type": "stream",
          "text": [
            "Epoch 1/21\n",
            "119/119 [==============================] - 1432s 12s/step - loss: 0.3740 - accuracy: 0.6160 - val_loss: 0.3025 - val_accuracy: 0.7218\n",
            "Epoch 2/21\n",
            "119/119 [==============================] - 1404s 12s/step - loss: 0.2802 - accuracy: 0.7301 - val_loss: 0.2627 - val_accuracy: 0.7603\n",
            "Epoch 3/21\n",
            "119/119 [==============================] - 1401s 12s/step - loss: 0.2525 - accuracy: 0.7380 - val_loss: 0.2404 - val_accuracy: 0.7326\n",
            "Epoch 4/21\n",
            "119/119 [==============================] - 1396s 12s/step - loss: 0.2363 - accuracy: 0.7420 - val_loss: 0.2405 - val_accuracy: 0.6810\n",
            "Epoch 5/21\n",
            "119/119 [==============================] - 1380s 12s/step - loss: 0.2281 - accuracy: 0.7431 - val_loss: 0.2208 - val_accuracy: 0.7674\n",
            "Epoch 6/21\n",
            "119/119 [==============================] - 1371s 12s/step - loss: 0.2196 - accuracy: 0.7424 - val_loss: 0.2187 - val_accuracy: 0.7450\n",
            "Epoch 7/21\n",
            "119/119 [==============================] - 1372s 12s/step - loss: 0.2125 - accuracy: 0.7456 - val_loss: 0.2196 - val_accuracy: 0.7038\n",
            "Epoch 8/21\n",
            "119/119 [==============================] - 1355s 11s/step - loss: 0.2068 - accuracy: 0.7460 - val_loss: 0.2093 - val_accuracy: 0.7109\n",
            "Epoch 9/21\n",
            "119/119 [==============================] - 1350s 11s/step - loss: 0.2027 - accuracy: 0.7453 - val_loss: 0.1992 - val_accuracy: 0.7334\n",
            "Epoch 10/21\n",
            "119/119 [==============================] - 1373s 12s/step - loss: 0.1981 - accuracy: 0.7462 - val_loss: 0.2010 - val_accuracy: 0.7397\n",
            "Epoch 11/21\n",
            "119/119 [==============================] - 1381s 12s/step - loss: 0.1936 - accuracy: 0.7484 - val_loss: 0.1917 - val_accuracy: 0.7341\n",
            "Epoch 12/21\n",
            "119/119 [==============================] - 1370s 12s/step - loss: 0.1888 - accuracy: 0.7519 - val_loss: 0.1986 - val_accuracy: 0.7577\n",
            "Epoch 13/21\n",
            "119/119 [==============================] - 1386s 12s/step - loss: 0.1872 - accuracy: 0.7551 - val_loss: 0.1880 - val_accuracy: 0.7464\n",
            "Epoch 14/21\n",
            "119/119 [==============================] - 1432s 12s/step - loss: 0.1827 - accuracy: 0.7567 - val_loss: 0.1898 - val_accuracy: 0.7356\n",
            "Epoch 15/21\n",
            "119/119 [==============================] - 1371s 12s/step - loss: 0.1807 - accuracy: 0.7566 - val_loss: 0.1858 - val_accuracy: 0.7352\n",
            "Epoch 16/21\n",
            "119/119 [==============================] - 1374s 12s/step - loss: 0.1764 - accuracy: 0.7606 - val_loss: 0.1903 - val_accuracy: 0.7506\n",
            "Epoch 17/21\n",
            "119/119 [==============================] - 1360s 11s/step - loss: 0.1740 - accuracy: 0.7612 - val_loss: 0.1909 - val_accuracy: 0.7442\n",
            "Epoch 18/21\n",
            "119/119 [==============================] - 1356s 11s/step - loss: 0.1716 - accuracy: 0.7621 - val_loss: 0.2007 - val_accuracy: 0.7715\n",
            "Epoch 19/21\n",
            "119/119 [==============================] - 1355s 11s/step - loss: 0.1689 - accuracy: 0.7654 - val_loss: 0.1975 - val_accuracy: 0.7678\n",
            "Epoch 20/21\n",
            "119/119 [==============================] - 1353s 11s/step - loss: 0.1645 - accuracy: 0.7678 - val_loss: 0.1887 - val_accuracy: 0.7547\n",
            "Epoch 21/21\n",
            "119/119 [==============================] - 1346s 11s/step - loss: 0.1633 - accuracy: 0.7740 - val_loss: 0.1931 - val_accuracy: 0.7689\n",
            "\n"
          ]
        }
      ],
      "source": [
        "history = bilstm_model.fit(X_train_padded_lstm, y_train_padded_lstm, batch_size=128, epochs=30, verbose=1, validation_split=0.15)"
      ]
    },
    {
      "cell_type": "markdown",
      "metadata": {
        "id": "gyOefml1ZQ6C"
      },
      "source": [
        "### Predict"
      ]
    },
    {
      "cell_type": "code",
      "execution_count": null,
      "metadata": {
        "colab": {
          "base_uri": "https://localhost:8080/"
        },
        "id": "IzI9ZblLT1y7",
        "outputId": "d10ad44a-abd6-49fa-bad0-778ca9063ea3"
      },
      "outputs": [
        {
          "name": "stdout",
          "output_type": "stream",
          "text": [
            "99/99 [==============================] - 76s 758ms/step\n"
          ]
        }
      ],
      "source": [
        "pred_lstm = bilstm_model.predict(X_test_padded)"
      ]
    },
    {
      "cell_type": "markdown",
      "metadata": {
        "id": "5_CqEQQzZTxy"
      },
      "source": [
        "### Thresholding the predictions"
      ]
    },
    {
      "cell_type": "code",
      "execution_count": null,
      "metadata": {
        "id": "RPd4sPbHX63j"
      },
      "outputs": [],
      "source": [
        "def thresholding_nn(l, threshold):\n",
        "    new_l = []\n",
        "    new_l1 = []\n",
        "    for l1 in l:\n",
        "        new_l1 = []\n",
        "        for element in l1:\n",
        "            if element >= threshold:\n",
        "                new_l1.append(1)\n",
        "            else:\n",
        "                new_l1.append(0)\n",
        "        new_l.append(new_l1)\n",
        "    return new_l"
      ]
    },
    {
      "cell_type": "code",
      "execution_count": null,
      "metadata": {
        "id": "hM59S-wlX_bB"
      },
      "outputs": [],
      "source": [
        "pred_lstm_thresh = thresholding_nn(pred_lstm, 0.5)"
      ]
    },
    {
      "cell_type": "code",
      "execution_count": null,
      "metadata": {
        "colab": {
          "base_uri": "https://localhost:8080/"
        },
        "id": "MVjQ6e3hVRDv",
        "outputId": "749773cb-d024-41a2-ad62-d3a6c992f6df"
      },
      "outputs": [
        {
          "name": "stdout",
          "output_type": "stream",
          "text": [
            "Thresholding predictions example:\n",
            "\n",
            "[1, 0, 0, 0, 0, 0]\n",
            "[1, 0, 0, 0, 0, 0]\n"
          ]
        }
      ],
      "source": [
        "print('Thresholding predictions example:\\n')\n",
        "print(pred_lstm_thresh[4])\n",
        "print(y_test_np[4].tolist())"
      ]
    },
    {
      "cell_type": "markdown",
      "metadata": {
        "id": "VrsCsgoWdhaN"
      },
      "source": [
        "## Evaluation"
      ]
    },
    {
      "cell_type": "code",
      "execution_count": null,
      "metadata": {
        "colab": {
          "base_uri": "https://localhost:8080/"
        },
        "id": "BikMXNKOby39",
        "outputId": "fc0d2800-70ca-4368-8673-896db77d8003"
      },
      "outputs": [
        {
          "name": "stdout",
          "output_type": "stream",
          "text": [
            "[test] Model bilstm macro precision:     0.8495129560832333\n",
            "[test] Model bilstm macro recall:        0.6739606325130714\n",
            "[test] Model bilstm macro f1_score:      0.7361820980484373\n"
          ]
        }
      ],
      "source": [
        "metric_bilstm = prfs(y_test, pred_lstm_thresh, average='macro', zero_division= 0)\n",
        "\n",
        "print(f\"{f'[test] Model bilstm macro precision:':<40} {metric_bilstm[0]:>10}\")\n",
        "print(f\"{f'[test] Model bilstm macro recall:':<40} {metric_bilstm[1]:>10}\")\n",
        "print(f\"{f'[test] Model bilstm macro f1_score:':<40} {metric_bilstm[2]:>10}\")"
      ]
    },
    {
      "cell_type": "code",
      "execution_count": null,
      "metadata": {
        "colab": {
          "base_uri": "https://localhost:8080/"
        },
        "id": "t0f00fW68bYY",
        "outputId": "f9e6a2e5-662f-44a2-d513-60e52c7e9f60"
      },
      "outputs": [
        {
          "name": "stdout",
          "output_type": "stream",
          "text": [
            "                      precision    recall  f1-score   support\n",
            "\n",
            "    Computer Science       0.80      0.89      0.84      1282\n",
            "             Physics       0.90      0.84      0.87       932\n",
            "         Mathematics       0.88      0.69      0.78       843\n",
            "          Statistics       0.77      0.73      0.75       798\n",
            "Quantitative Biology       0.74      0.39      0.51        89\n",
            "Quantitative Finance       1.00      0.50      0.67        38\n",
            "\n",
            "           micro avg       0.83      0.79      0.81      3982\n",
            "           macro avg       0.85      0.67      0.74      3982\n",
            "        weighted avg       0.84      0.79      0.81      3982\n",
            "         samples avg       0.84      0.83      0.82      3982\n",
            "\n"
          ]
        },
        {
          "name": "stderr",
          "output_type": "stream",
          "text": [
            "/usr/local/lib/python3.8/dist-packages/sklearn/metrics/_classification.py:1318: UndefinedMetricWarning:\n",
            "\n",
            "Precision and F-score are ill-defined and being set to 0.0 in samples with no predicted labels. Use `zero_division` parameter to control this behavior.\n",
            "\n",
            "/usr/local/lib/python3.8/dist-packages/sklearn/metrics/_classification.py:1318: UndefinedMetricWarning:\n",
            "\n",
            "Precision and F-score are ill-defined and being set to 0.0 in samples with no predicted labels. Use `zero_division` parameter to control this behavior.\n",
            "\n"
          ]
        }
      ],
      "source": [
        "print(classification_report(y_test, pred_lstm_thresh, target_names=labels))\n",
        "cr_lstm = classification_report(y_test, pred_lstm_thresh, target_names=labels, output_dict=True)"
      ]
    },
    {
      "cell_type": "code",
      "source": [
        "bilstm_for_labels = []\n",
        "\n",
        "for i in labels:\n",
        "  bilstm_for_labels.append(cr_lstm_w2v[i]['f1-score'])"
      ],
      "metadata": {
        "id": "LqQvA4QoPILF"
      },
      "execution_count": null,
      "outputs": []
    },
    {
      "cell_type": "markdown",
      "metadata": {
        "id": "d7-tjCk2dljB"
      },
      "source": [
        "### Multilabel confusion matrix"
      ]
    },
    {
      "cell_type": "code",
      "execution_count": null,
      "metadata": {
        "colab": {
          "base_uri": "https://localhost:8080/",
          "height": 1000
        },
        "id": "ADIRgengcNdd",
        "outputId": "7bb7013d-9433-4444-df83-3a2f37d8585f"
      },
      "outputs": [
        {
          "data": {
            "text/html": [
              "<html>\n",
              "<head><meta charset=\"utf-8\" /></head>\n",
              "<body>\n",
              "    <div>            <script src=\"https://cdnjs.cloudflare.com/ajax/libs/mathjax/2.7.5/MathJax.js?config=TeX-AMS-MML_SVG\"></script><script type=\"text/javascript\">if (window.MathJax) {MathJax.Hub.Config({SVG: {font: \"STIX-Web\"}});}</script>                <script type=\"text/javascript\">window.PlotlyConfig = {MathJaxConfig: 'local'};</script>\n",
              "        <script src=\"https://cdn.plot.ly/plotly-2.8.3.min.js\"></script>                <div id=\"c220f1c4-f2b0-4ce4-bb0e-9131e9e3344c\" class=\"plotly-graph-div\" style=\"height:1200px; width:1200px;\"></div>            <script type=\"text/javascript\">                                    window.PLOTLYENV=window.PLOTLYENV || {};                                    if (document.getElementById(\"c220f1c4-f2b0-4ce4-bb0e-9131e9e3344c\")) {                    Plotly.newPlot(                        \"c220f1c4-f2b0-4ce4-bb0e-9131e9e3344c\",                        [{\"text\":[[1576,288],[140,1142]],\"textfont\":{\"size\":20},\"texttemplate\":\"%{text}\",\"x\":[\"Pos\",\"Neg\"],\"y\":[\"Neg\",\"Pos\"],\"z\":[[288,1576],[1142,140]],\"type\":\"heatmap\",\"xaxis\":\"x\",\"yaxis\":\"y\",\"showscale\":false},{\"text\":[[2129,85],[149,783]],\"textfont\":{\"size\":20},\"texttemplate\":\"%{text}\",\"x\":[\"Pos\",\"Neg\"],\"y\":[\"Neg\",\"Pos\"],\"z\":[[85,2129],[783,149]],\"type\":\"heatmap\",\"xaxis\":\"x2\",\"yaxis\":\"y2\",\"showscale\":false},{\"text\":[[2226,77],[259,584]],\"textfont\":{\"size\":20},\"texttemplate\":\"%{text}\",\"x\":[\"Pos\",\"Neg\"],\"y\":[\"Neg\",\"Pos\"],\"z\":[[77,2226],[584,259]],\"type\":\"heatmap\",\"xaxis\":\"x3\",\"yaxis\":\"y3\",\"showscale\":false},{\"text\":[[2173,175],[218,580]],\"textfont\":{\"size\":20},\"texttemplate\":\"%{text}\",\"x\":[\"Pos\",\"Neg\"],\"y\":[\"Neg\",\"Pos\"],\"z\":[[175,2173],[580,218]],\"type\":\"heatmap\",\"xaxis\":\"x4\",\"yaxis\":\"y4\",\"showscale\":false},{\"text\":[[3045,12],[54,35]],\"textfont\":{\"size\":20},\"texttemplate\":\"%{text}\",\"x\":[\"Pos\",\"Neg\"],\"y\":[\"Neg\",\"Pos\"],\"z\":[[12,3045],[35,54]],\"type\":\"heatmap\",\"xaxis\":\"x5\",\"yaxis\":\"y5\",\"showscale\":false},{\"text\":[[3108,0],[19,19]],\"textfont\":{\"size\":20},\"texttemplate\":\"%{text}\",\"x\":[\"Pos\",\"Neg\"],\"y\":[\"Neg\",\"Pos\"],\"z\":[[0,3108],[19,19]],\"type\":\"heatmap\",\"xaxis\":\"x6\",\"yaxis\":\"y6\",\"showscale\":false}],                        {\"template\":{\"data\":{\"bar\":[{\"error_x\":{\"color\":\"#2a3f5f\"},\"error_y\":{\"color\":\"#2a3f5f\"},\"marker\":{\"line\":{\"color\":\"#E5ECF6\",\"width\":0.5},\"pattern\":{\"fillmode\":\"overlay\",\"size\":10,\"solidity\":0.2}},\"type\":\"bar\"}],\"barpolar\":[{\"marker\":{\"line\":{\"color\":\"#E5ECF6\",\"width\":0.5},\"pattern\":{\"fillmode\":\"overlay\",\"size\":10,\"solidity\":0.2}},\"type\":\"barpolar\"}],\"carpet\":[{\"aaxis\":{\"endlinecolor\":\"#2a3f5f\",\"gridcolor\":\"white\",\"linecolor\":\"white\",\"minorgridcolor\":\"white\",\"startlinecolor\":\"#2a3f5f\"},\"baxis\":{\"endlinecolor\":\"#2a3f5f\",\"gridcolor\":\"white\",\"linecolor\":\"white\",\"minorgridcolor\":\"white\",\"startlinecolor\":\"#2a3f5f\"},\"type\":\"carpet\"}],\"choropleth\":[{\"colorbar\":{\"outlinewidth\":0,\"ticks\":\"\"},\"type\":\"choropleth\"}],\"contour\":[{\"colorbar\":{\"outlinewidth\":0,\"ticks\":\"\"},\"colorscale\":[[0.0,\"#0d0887\"],[0.1111111111111111,\"#46039f\"],[0.2222222222222222,\"#7201a8\"],[0.3333333333333333,\"#9c179e\"],[0.4444444444444444,\"#bd3786\"],[0.5555555555555556,\"#d8576b\"],[0.6666666666666666,\"#ed7953\"],[0.7777777777777778,\"#fb9f3a\"],[0.8888888888888888,\"#fdca26\"],[1.0,\"#f0f921\"]],\"type\":\"contour\"}],\"contourcarpet\":[{\"colorbar\":{\"outlinewidth\":0,\"ticks\":\"\"},\"type\":\"contourcarpet\"}],\"heatmap\":[{\"colorbar\":{\"outlinewidth\":0,\"ticks\":\"\"},\"colorscale\":[[0.0,\"#0d0887\"],[0.1111111111111111,\"#46039f\"],[0.2222222222222222,\"#7201a8\"],[0.3333333333333333,\"#9c179e\"],[0.4444444444444444,\"#bd3786\"],[0.5555555555555556,\"#d8576b\"],[0.6666666666666666,\"#ed7953\"],[0.7777777777777778,\"#fb9f3a\"],[0.8888888888888888,\"#fdca26\"],[1.0,\"#f0f921\"]],\"type\":\"heatmap\"}],\"heatmapgl\":[{\"colorbar\":{\"outlinewidth\":0,\"ticks\":\"\"},\"colorscale\":[[0.0,\"#0d0887\"],[0.1111111111111111,\"#46039f\"],[0.2222222222222222,\"#7201a8\"],[0.3333333333333333,\"#9c179e\"],[0.4444444444444444,\"#bd3786\"],[0.5555555555555556,\"#d8576b\"],[0.6666666666666666,\"#ed7953\"],[0.7777777777777778,\"#fb9f3a\"],[0.8888888888888888,\"#fdca26\"],[1.0,\"#f0f921\"]],\"type\":\"heatmapgl\"}],\"histogram\":[{\"marker\":{\"pattern\":{\"fillmode\":\"overlay\",\"size\":10,\"solidity\":0.2}},\"type\":\"histogram\"}],\"histogram2d\":[{\"colorbar\":{\"outlinewidth\":0,\"ticks\":\"\"},\"colorscale\":[[0.0,\"#0d0887\"],[0.1111111111111111,\"#46039f\"],[0.2222222222222222,\"#7201a8\"],[0.3333333333333333,\"#9c179e\"],[0.4444444444444444,\"#bd3786\"],[0.5555555555555556,\"#d8576b\"],[0.6666666666666666,\"#ed7953\"],[0.7777777777777778,\"#fb9f3a\"],[0.8888888888888888,\"#fdca26\"],[1.0,\"#f0f921\"]],\"type\":\"histogram2d\"}],\"histogram2dcontour\":[{\"colorbar\":{\"outlinewidth\":0,\"ticks\":\"\"},\"colorscale\":[[0.0,\"#0d0887\"],[0.1111111111111111,\"#46039f\"],[0.2222222222222222,\"#7201a8\"],[0.3333333333333333,\"#9c179e\"],[0.4444444444444444,\"#bd3786\"],[0.5555555555555556,\"#d8576b\"],[0.6666666666666666,\"#ed7953\"],[0.7777777777777778,\"#fb9f3a\"],[0.8888888888888888,\"#fdca26\"],[1.0,\"#f0f921\"]],\"type\":\"histogram2dcontour\"}],\"mesh3d\":[{\"colorbar\":{\"outlinewidth\":0,\"ticks\":\"\"},\"type\":\"mesh3d\"}],\"parcoords\":[{\"line\":{\"colorbar\":{\"outlinewidth\":0,\"ticks\":\"\"}},\"type\":\"parcoords\"}],\"pie\":[{\"automargin\":true,\"type\":\"pie\"}],\"scatter\":[{\"marker\":{\"colorbar\":{\"outlinewidth\":0,\"ticks\":\"\"}},\"type\":\"scatter\"}],\"scatter3d\":[{\"line\":{\"colorbar\":{\"outlinewidth\":0,\"ticks\":\"\"}},\"marker\":{\"colorbar\":{\"outlinewidth\":0,\"ticks\":\"\"}},\"type\":\"scatter3d\"}],\"scattercarpet\":[{\"marker\":{\"colorbar\":{\"outlinewidth\":0,\"ticks\":\"\"}},\"type\":\"scattercarpet\"}],\"scattergeo\":[{\"marker\":{\"colorbar\":{\"outlinewidth\":0,\"ticks\":\"\"}},\"type\":\"scattergeo\"}],\"scattergl\":[{\"marker\":{\"colorbar\":{\"outlinewidth\":0,\"ticks\":\"\"}},\"type\":\"scattergl\"}],\"scattermapbox\":[{\"marker\":{\"colorbar\":{\"outlinewidth\":0,\"ticks\":\"\"}},\"type\":\"scattermapbox\"}],\"scatterpolar\":[{\"marker\":{\"colorbar\":{\"outlinewidth\":0,\"ticks\":\"\"}},\"type\":\"scatterpolar\"}],\"scatterpolargl\":[{\"marker\":{\"colorbar\":{\"outlinewidth\":0,\"ticks\":\"\"}},\"type\":\"scatterpolargl\"}],\"scatterternary\":[{\"marker\":{\"colorbar\":{\"outlinewidth\":0,\"ticks\":\"\"}},\"type\":\"scatterternary\"}],\"surface\":[{\"colorbar\":{\"outlinewidth\":0,\"ticks\":\"\"},\"colorscale\":[[0.0,\"#0d0887\"],[0.1111111111111111,\"#46039f\"],[0.2222222222222222,\"#7201a8\"],[0.3333333333333333,\"#9c179e\"],[0.4444444444444444,\"#bd3786\"],[0.5555555555555556,\"#d8576b\"],[0.6666666666666666,\"#ed7953\"],[0.7777777777777778,\"#fb9f3a\"],[0.8888888888888888,\"#fdca26\"],[1.0,\"#f0f921\"]],\"type\":\"surface\"}],\"table\":[{\"cells\":{\"fill\":{\"color\":\"#EBF0F8\"},\"line\":{\"color\":\"white\"}},\"header\":{\"fill\":{\"color\":\"#C8D4E3\"},\"line\":{\"color\":\"white\"}},\"type\":\"table\"}]},\"layout\":{\"annotationdefaults\":{\"arrowcolor\":\"#2a3f5f\",\"arrowhead\":0,\"arrowwidth\":1},\"autotypenumbers\":\"strict\",\"coloraxis\":{\"colorbar\":{\"outlinewidth\":0,\"ticks\":\"\"}},\"colorscale\":{\"diverging\":[[0,\"#8e0152\"],[0.1,\"#c51b7d\"],[0.2,\"#de77ae\"],[0.3,\"#f1b6da\"],[0.4,\"#fde0ef\"],[0.5,\"#f7f7f7\"],[0.6,\"#e6f5d0\"],[0.7,\"#b8e186\"],[0.8,\"#7fbc41\"],[0.9,\"#4d9221\"],[1,\"#276419\"]],\"sequential\":[[0.0,\"#0d0887\"],[0.1111111111111111,\"#46039f\"],[0.2222222222222222,\"#7201a8\"],[0.3333333333333333,\"#9c179e\"],[0.4444444444444444,\"#bd3786\"],[0.5555555555555556,\"#d8576b\"],[0.6666666666666666,\"#ed7953\"],[0.7777777777777778,\"#fb9f3a\"],[0.8888888888888888,\"#fdca26\"],[1.0,\"#f0f921\"]],\"sequentialminus\":[[0.0,\"#0d0887\"],[0.1111111111111111,\"#46039f\"],[0.2222222222222222,\"#7201a8\"],[0.3333333333333333,\"#9c179e\"],[0.4444444444444444,\"#bd3786\"],[0.5555555555555556,\"#d8576b\"],[0.6666666666666666,\"#ed7953\"],[0.7777777777777778,\"#fb9f3a\"],[0.8888888888888888,\"#fdca26\"],[1.0,\"#f0f921\"]]},\"colorway\":[\"#636efa\",\"#EF553B\",\"#00cc96\",\"#ab63fa\",\"#FFA15A\",\"#19d3f3\",\"#FF6692\",\"#B6E880\",\"#FF97FF\",\"#FECB52\"],\"font\":{\"color\":\"#2a3f5f\"},\"geo\":{\"bgcolor\":\"white\",\"lakecolor\":\"white\",\"landcolor\":\"#E5ECF6\",\"showlakes\":true,\"showland\":true,\"subunitcolor\":\"white\"},\"hoverlabel\":{\"align\":\"left\"},\"hovermode\":\"closest\",\"mapbox\":{\"style\":\"light\"},\"paper_bgcolor\":\"white\",\"plot_bgcolor\":\"#E5ECF6\",\"polar\":{\"angularaxis\":{\"gridcolor\":\"white\",\"linecolor\":\"white\",\"ticks\":\"\"},\"bgcolor\":\"#E5ECF6\",\"radialaxis\":{\"gridcolor\":\"white\",\"linecolor\":\"white\",\"ticks\":\"\"}},\"scene\":{\"xaxis\":{\"backgroundcolor\":\"#E5ECF6\",\"gridcolor\":\"white\",\"gridwidth\":2,\"linecolor\":\"white\",\"showbackground\":true,\"ticks\":\"\",\"zerolinecolor\":\"white\"},\"yaxis\":{\"backgroundcolor\":\"#E5ECF6\",\"gridcolor\":\"white\",\"gridwidth\":2,\"linecolor\":\"white\",\"showbackground\":true,\"ticks\":\"\",\"zerolinecolor\":\"white\"},\"zaxis\":{\"backgroundcolor\":\"#E5ECF6\",\"gridcolor\":\"white\",\"gridwidth\":2,\"linecolor\":\"white\",\"showbackground\":true,\"ticks\":\"\",\"zerolinecolor\":\"white\"}},\"shapedefaults\":{\"line\":{\"color\":\"#2a3f5f\"}},\"ternary\":{\"aaxis\":{\"gridcolor\":\"white\",\"linecolor\":\"white\",\"ticks\":\"\"},\"baxis\":{\"gridcolor\":\"white\",\"linecolor\":\"white\",\"ticks\":\"\"},\"bgcolor\":\"#E5ECF6\",\"caxis\":{\"gridcolor\":\"white\",\"linecolor\":\"white\",\"ticks\":\"\"}},\"title\":{\"x\":0.05},\"xaxis\":{\"automargin\":true,\"gridcolor\":\"white\",\"linecolor\":\"white\",\"ticks\":\"\",\"title\":{\"standoff\":15},\"zerolinecolor\":\"white\",\"zerolinewidth\":2},\"yaxis\":{\"automargin\":true,\"gridcolor\":\"white\",\"linecolor\":\"white\",\"ticks\":\"\",\"title\":{\"standoff\":15},\"zerolinecolor\":\"white\",\"zerolinewidth\":2}}},\"xaxis\":{\"anchor\":\"y\",\"domain\":[0.0,0.2888888888888889]},\"yaxis\":{\"anchor\":\"x\",\"domain\":[0.625,1.0]},\"xaxis2\":{\"anchor\":\"y2\",\"domain\":[0.35555555555555557,0.6444444444444445]},\"yaxis2\":{\"anchor\":\"x2\",\"domain\":[0.625,1.0]},\"xaxis3\":{\"anchor\":\"y3\",\"domain\":[0.7111111111111111,1.0]},\"yaxis3\":{\"anchor\":\"x3\",\"domain\":[0.625,1.0]},\"xaxis4\":{\"anchor\":\"y4\",\"domain\":[0.0,0.2888888888888889]},\"yaxis4\":{\"anchor\":\"x4\",\"domain\":[0.0,0.375]},\"xaxis5\":{\"anchor\":\"y5\",\"domain\":[0.35555555555555557,0.6444444444444445]},\"yaxis5\":{\"anchor\":\"x5\",\"domain\":[0.0,0.375]},\"xaxis6\":{\"anchor\":\"y6\",\"domain\":[0.7111111111111111,1.0]},\"yaxis6\":{\"anchor\":\"x6\",\"domain\":[0.0,0.375]},\"annotations\":[{\"font\":{\"size\":16},\"showarrow\":false,\"text\":\"Computer Science\",\"x\":0.14444444444444446,\"xanchor\":\"center\",\"xref\":\"paper\",\"y\":1.0,\"yanchor\":\"bottom\",\"yref\":\"paper\"},{\"font\":{\"size\":16},\"showarrow\":false,\"text\":\"Physics\",\"x\":0.5,\"xanchor\":\"center\",\"xref\":\"paper\",\"y\":1.0,\"yanchor\":\"bottom\",\"yref\":\"paper\"},{\"font\":{\"size\":16},\"showarrow\":false,\"text\":\"Mathematics\",\"x\":0.8555555555555556,\"xanchor\":\"center\",\"xref\":\"paper\",\"y\":1.0,\"yanchor\":\"bottom\",\"yref\":\"paper\"},{\"font\":{\"size\":16},\"showarrow\":false,\"text\":\"Statistics\",\"x\":0.14444444444444446,\"xanchor\":\"center\",\"xref\":\"paper\",\"y\":0.375,\"yanchor\":\"bottom\",\"yref\":\"paper\"},{\"font\":{\"size\":16},\"showarrow\":false,\"text\":\"Quantitative Biology\",\"x\":0.5,\"xanchor\":\"center\",\"xref\":\"paper\",\"y\":0.375,\"yanchor\":\"bottom\",\"yref\":\"paper\"},{\"font\":{\"size\":16},\"showarrow\":false,\"text\":\"Quantitative Finance\",\"x\":0.8555555555555556,\"xanchor\":\"center\",\"xref\":\"paper\",\"y\":0.375,\"yanchor\":\"bottom\",\"yref\":\"paper\"}],\"title\":{\"text\":\"bilstm Confusion matrix\"},\"height\":1200,\"width\":1200},                        {\"responsive\": true}                    ).then(function(){\n",
              "                            \n",
              "var gd = document.getElementById('c220f1c4-f2b0-4ce4-bb0e-9131e9e3344c');\n",
              "var x = new MutationObserver(function (mutations, observer) {{\n",
              "        var display = window.getComputedStyle(gd).display;\n",
              "        if (!display || display === 'none') {{\n",
              "            console.log([gd, 'removed!']);\n",
              "            Plotly.purge(gd);\n",
              "            observer.disconnect();\n",
              "        }}\n",
              "}});\n",
              "\n",
              "// Listen for the removal of the full notebook cells\n",
              "var notebookContainer = gd.closest('#notebook-container');\n",
              "if (notebookContainer) {{\n",
              "    x.observe(notebookContainer, {childList: true});\n",
              "}}\n",
              "\n",
              "// Listen for the clearing of the current output cell\n",
              "var outputEl = gd.closest('.output');\n",
              "if (outputEl) {{\n",
              "    x.observe(outputEl, {childList: true});\n",
              "}}\n",
              "\n",
              "                        })                };                            </script>        </div>\n",
              "</body>\n",
              "</html>"
            ]
          },
          "metadata": {},
          "output_type": "display_data"
        }
      ],
      "source": [
        "bilstm_dfpred = pd.DataFrame(pred_lstm_thresh)\n",
        "cm = multilabel_confusion_matrix(y_test_np.tolist(), bilstm_dfpred.to_numpy())\n",
        "fig = make_subplots(2, 3, subplot_titles=labels)\n",
        "\n",
        "for i in range(2):\n",
        "    for j in range(3):\n",
        "        current_map = cm[((j+1)+(i*3))-1]\n",
        "        TN = current_map[0][0]\n",
        "        FN = current_map[1][0]\n",
        "        TP = current_map[1][1]\n",
        "        FP = current_map[0][1]\n",
        "        fig.add_trace(\n",
        "            go.Heatmap(\n",
        "                z = [[FP, TN], [TP, FN]],\n",
        "                x = ['Pos', 'Neg'],\n",
        "                y = ['Neg', 'Pos'],\n",
        "                text = cm[((j+1)+(i*3))-1],\n",
        "                texttemplate=\"%{text}\",\n",
        "                textfont={\"size\":20}), (i+1), (j+1))\n",
        "fig.update_traces(showscale=False)\n",
        "fig.update_layout(height=1200, width=1200, title_text='bilstm Confusion matrix')\n",
        "fig.show()"
      ]
    },
    {
      "cell_type": "markdown",
      "metadata": {
        "id": "O-7RaqahdjKI"
      },
      "source": [
        "### Score plot"
      ]
    },
    {
      "cell_type": "code",
      "execution_count": null,
      "metadata": {
        "colab": {
          "base_uri": "https://localhost:8080/",
          "height": 542
        },
        "id": "7vRx15idcfmO",
        "outputId": "664f1019-e6fa-4004-c229-bcb060a05970"
      },
      "outputs": [
        {
          "data": {
            "text/html": [
              "<html>\n",
              "<head><meta charset=\"utf-8\" /></head>\n",
              "<body>\n",
              "    <div>            <script src=\"https://cdnjs.cloudflare.com/ajax/libs/mathjax/2.7.5/MathJax.js?config=TeX-AMS-MML_SVG\"></script><script type=\"text/javascript\">if (window.MathJax) {MathJax.Hub.Config({SVG: {font: \"STIX-Web\"}});}</script>                <script type=\"text/javascript\">window.PlotlyConfig = {MathJaxConfig: 'local'};</script>\n",
              "        <script src=\"https://cdn.plot.ly/plotly-2.8.3.min.js\"></script>                <div id=\"78750d41-d841-4b3e-8048-b8c02978821f\" class=\"plotly-graph-div\" style=\"height:525px; width:100%;\"></div>            <script type=\"text/javascript\">                                    window.PLOTLYENV=window.PLOTLYENV || {};                                    if (document.getElementById(\"78750d41-d841-4b3e-8048-b8c02978821f\")) {                    Plotly.newPlot(                        \"78750d41-d841-4b3e-8048-b8c02978821f\",                        [{\"name\":\"BiLSTM\",\"x\":[\"precision\",\"recall\",\"F1-score\"],\"y\":[0.8495129560832333,0.6739606325130714,0.7361820980484373,null],\"type\":\"bar\"}],                        {\"template\":{\"data\":{\"bar\":[{\"error_x\":{\"color\":\"#2a3f5f\"},\"error_y\":{\"color\":\"#2a3f5f\"},\"marker\":{\"line\":{\"color\":\"#E5ECF6\",\"width\":0.5},\"pattern\":{\"fillmode\":\"overlay\",\"size\":10,\"solidity\":0.2}},\"type\":\"bar\"}],\"barpolar\":[{\"marker\":{\"line\":{\"color\":\"#E5ECF6\",\"width\":0.5},\"pattern\":{\"fillmode\":\"overlay\",\"size\":10,\"solidity\":0.2}},\"type\":\"barpolar\"}],\"carpet\":[{\"aaxis\":{\"endlinecolor\":\"#2a3f5f\",\"gridcolor\":\"white\",\"linecolor\":\"white\",\"minorgridcolor\":\"white\",\"startlinecolor\":\"#2a3f5f\"},\"baxis\":{\"endlinecolor\":\"#2a3f5f\",\"gridcolor\":\"white\",\"linecolor\":\"white\",\"minorgridcolor\":\"white\",\"startlinecolor\":\"#2a3f5f\"},\"type\":\"carpet\"}],\"choropleth\":[{\"colorbar\":{\"outlinewidth\":0,\"ticks\":\"\"},\"type\":\"choropleth\"}],\"contour\":[{\"colorbar\":{\"outlinewidth\":0,\"ticks\":\"\"},\"colorscale\":[[0.0,\"#0d0887\"],[0.1111111111111111,\"#46039f\"],[0.2222222222222222,\"#7201a8\"],[0.3333333333333333,\"#9c179e\"],[0.4444444444444444,\"#bd3786\"],[0.5555555555555556,\"#d8576b\"],[0.6666666666666666,\"#ed7953\"],[0.7777777777777778,\"#fb9f3a\"],[0.8888888888888888,\"#fdca26\"],[1.0,\"#f0f921\"]],\"type\":\"contour\"}],\"contourcarpet\":[{\"colorbar\":{\"outlinewidth\":0,\"ticks\":\"\"},\"type\":\"contourcarpet\"}],\"heatmap\":[{\"colorbar\":{\"outlinewidth\":0,\"ticks\":\"\"},\"colorscale\":[[0.0,\"#0d0887\"],[0.1111111111111111,\"#46039f\"],[0.2222222222222222,\"#7201a8\"],[0.3333333333333333,\"#9c179e\"],[0.4444444444444444,\"#bd3786\"],[0.5555555555555556,\"#d8576b\"],[0.6666666666666666,\"#ed7953\"],[0.7777777777777778,\"#fb9f3a\"],[0.8888888888888888,\"#fdca26\"],[1.0,\"#f0f921\"]],\"type\":\"heatmap\"}],\"heatmapgl\":[{\"colorbar\":{\"outlinewidth\":0,\"ticks\":\"\"},\"colorscale\":[[0.0,\"#0d0887\"],[0.1111111111111111,\"#46039f\"],[0.2222222222222222,\"#7201a8\"],[0.3333333333333333,\"#9c179e\"],[0.4444444444444444,\"#bd3786\"],[0.5555555555555556,\"#d8576b\"],[0.6666666666666666,\"#ed7953\"],[0.7777777777777778,\"#fb9f3a\"],[0.8888888888888888,\"#fdca26\"],[1.0,\"#f0f921\"]],\"type\":\"heatmapgl\"}],\"histogram\":[{\"marker\":{\"pattern\":{\"fillmode\":\"overlay\",\"size\":10,\"solidity\":0.2}},\"type\":\"histogram\"}],\"histogram2d\":[{\"colorbar\":{\"outlinewidth\":0,\"ticks\":\"\"},\"colorscale\":[[0.0,\"#0d0887\"],[0.1111111111111111,\"#46039f\"],[0.2222222222222222,\"#7201a8\"],[0.3333333333333333,\"#9c179e\"],[0.4444444444444444,\"#bd3786\"],[0.5555555555555556,\"#d8576b\"],[0.6666666666666666,\"#ed7953\"],[0.7777777777777778,\"#fb9f3a\"],[0.8888888888888888,\"#fdca26\"],[1.0,\"#f0f921\"]],\"type\":\"histogram2d\"}],\"histogram2dcontour\":[{\"colorbar\":{\"outlinewidth\":0,\"ticks\":\"\"},\"colorscale\":[[0.0,\"#0d0887\"],[0.1111111111111111,\"#46039f\"],[0.2222222222222222,\"#7201a8\"],[0.3333333333333333,\"#9c179e\"],[0.4444444444444444,\"#bd3786\"],[0.5555555555555556,\"#d8576b\"],[0.6666666666666666,\"#ed7953\"],[0.7777777777777778,\"#fb9f3a\"],[0.8888888888888888,\"#fdca26\"],[1.0,\"#f0f921\"]],\"type\":\"histogram2dcontour\"}],\"mesh3d\":[{\"colorbar\":{\"outlinewidth\":0,\"ticks\":\"\"},\"type\":\"mesh3d\"}],\"parcoords\":[{\"line\":{\"colorbar\":{\"outlinewidth\":0,\"ticks\":\"\"}},\"type\":\"parcoords\"}],\"pie\":[{\"automargin\":true,\"type\":\"pie\"}],\"scatter\":[{\"marker\":{\"colorbar\":{\"outlinewidth\":0,\"ticks\":\"\"}},\"type\":\"scatter\"}],\"scatter3d\":[{\"line\":{\"colorbar\":{\"outlinewidth\":0,\"ticks\":\"\"}},\"marker\":{\"colorbar\":{\"outlinewidth\":0,\"ticks\":\"\"}},\"type\":\"scatter3d\"}],\"scattercarpet\":[{\"marker\":{\"colorbar\":{\"outlinewidth\":0,\"ticks\":\"\"}},\"type\":\"scattercarpet\"}],\"scattergeo\":[{\"marker\":{\"colorbar\":{\"outlinewidth\":0,\"ticks\":\"\"}},\"type\":\"scattergeo\"}],\"scattergl\":[{\"marker\":{\"colorbar\":{\"outlinewidth\":0,\"ticks\":\"\"}},\"type\":\"scattergl\"}],\"scattermapbox\":[{\"marker\":{\"colorbar\":{\"outlinewidth\":0,\"ticks\":\"\"}},\"type\":\"scattermapbox\"}],\"scatterpolar\":[{\"marker\":{\"colorbar\":{\"outlinewidth\":0,\"ticks\":\"\"}},\"type\":\"scatterpolar\"}],\"scatterpolargl\":[{\"marker\":{\"colorbar\":{\"outlinewidth\":0,\"ticks\":\"\"}},\"type\":\"scatterpolargl\"}],\"scatterternary\":[{\"marker\":{\"colorbar\":{\"outlinewidth\":0,\"ticks\":\"\"}},\"type\":\"scatterternary\"}],\"surface\":[{\"colorbar\":{\"outlinewidth\":0,\"ticks\":\"\"},\"colorscale\":[[0.0,\"#0d0887\"],[0.1111111111111111,\"#46039f\"],[0.2222222222222222,\"#7201a8\"],[0.3333333333333333,\"#9c179e\"],[0.4444444444444444,\"#bd3786\"],[0.5555555555555556,\"#d8576b\"],[0.6666666666666666,\"#ed7953\"],[0.7777777777777778,\"#fb9f3a\"],[0.8888888888888888,\"#fdca26\"],[1.0,\"#f0f921\"]],\"type\":\"surface\"}],\"table\":[{\"cells\":{\"fill\":{\"color\":\"#EBF0F8\"},\"line\":{\"color\":\"white\"}},\"header\":{\"fill\":{\"color\":\"#C8D4E3\"},\"line\":{\"color\":\"white\"}},\"type\":\"table\"}]},\"layout\":{\"annotationdefaults\":{\"arrowcolor\":\"#2a3f5f\",\"arrowhead\":0,\"arrowwidth\":1},\"autotypenumbers\":\"strict\",\"coloraxis\":{\"colorbar\":{\"outlinewidth\":0,\"ticks\":\"\"}},\"colorscale\":{\"diverging\":[[0,\"#8e0152\"],[0.1,\"#c51b7d\"],[0.2,\"#de77ae\"],[0.3,\"#f1b6da\"],[0.4,\"#fde0ef\"],[0.5,\"#f7f7f7\"],[0.6,\"#e6f5d0\"],[0.7,\"#b8e186\"],[0.8,\"#7fbc41\"],[0.9,\"#4d9221\"],[1,\"#276419\"]],\"sequential\":[[0.0,\"#0d0887\"],[0.1111111111111111,\"#46039f\"],[0.2222222222222222,\"#7201a8\"],[0.3333333333333333,\"#9c179e\"],[0.4444444444444444,\"#bd3786\"],[0.5555555555555556,\"#d8576b\"],[0.6666666666666666,\"#ed7953\"],[0.7777777777777778,\"#fb9f3a\"],[0.8888888888888888,\"#fdca26\"],[1.0,\"#f0f921\"]],\"sequentialminus\":[[0.0,\"#0d0887\"],[0.1111111111111111,\"#46039f\"],[0.2222222222222222,\"#7201a8\"],[0.3333333333333333,\"#9c179e\"],[0.4444444444444444,\"#bd3786\"],[0.5555555555555556,\"#d8576b\"],[0.6666666666666666,\"#ed7953\"],[0.7777777777777778,\"#fb9f3a\"],[0.8888888888888888,\"#fdca26\"],[1.0,\"#f0f921\"]]},\"colorway\":[\"#636efa\",\"#EF553B\",\"#00cc96\",\"#ab63fa\",\"#FFA15A\",\"#19d3f3\",\"#FF6692\",\"#B6E880\",\"#FF97FF\",\"#FECB52\"],\"font\":{\"color\":\"#2a3f5f\"},\"geo\":{\"bgcolor\":\"white\",\"lakecolor\":\"white\",\"landcolor\":\"#E5ECF6\",\"showlakes\":true,\"showland\":true,\"subunitcolor\":\"white\"},\"hoverlabel\":{\"align\":\"left\"},\"hovermode\":\"closest\",\"mapbox\":{\"style\":\"light\"},\"paper_bgcolor\":\"white\",\"plot_bgcolor\":\"#E5ECF6\",\"polar\":{\"angularaxis\":{\"gridcolor\":\"white\",\"linecolor\":\"white\",\"ticks\":\"\"},\"bgcolor\":\"#E5ECF6\",\"radialaxis\":{\"gridcolor\":\"white\",\"linecolor\":\"white\",\"ticks\":\"\"}},\"scene\":{\"xaxis\":{\"backgroundcolor\":\"#E5ECF6\",\"gridcolor\":\"white\",\"gridwidth\":2,\"linecolor\":\"white\",\"showbackground\":true,\"ticks\":\"\",\"zerolinecolor\":\"white\"},\"yaxis\":{\"backgroundcolor\":\"#E5ECF6\",\"gridcolor\":\"white\",\"gridwidth\":2,\"linecolor\":\"white\",\"showbackground\":true,\"ticks\":\"\",\"zerolinecolor\":\"white\"},\"zaxis\":{\"backgroundcolor\":\"#E5ECF6\",\"gridcolor\":\"white\",\"gridwidth\":2,\"linecolor\":\"white\",\"showbackground\":true,\"ticks\":\"\",\"zerolinecolor\":\"white\"}},\"shapedefaults\":{\"line\":{\"color\":\"#2a3f5f\"}},\"ternary\":{\"aaxis\":{\"gridcolor\":\"white\",\"linecolor\":\"white\",\"ticks\":\"\"},\"baxis\":{\"gridcolor\":\"white\",\"linecolor\":\"white\",\"ticks\":\"\"},\"bgcolor\":\"#E5ECF6\",\"caxis\":{\"gridcolor\":\"white\",\"linecolor\":\"white\",\"ticks\":\"\"}},\"title\":{\"x\":0.05},\"xaxis\":{\"automargin\":true,\"gridcolor\":\"white\",\"linecolor\":\"white\",\"ticks\":\"\",\"title\":{\"standoff\":15},\"zerolinecolor\":\"white\",\"zerolinewidth\":2},\"yaxis\":{\"automargin\":true,\"gridcolor\":\"white\",\"linecolor\":\"white\",\"ticks\":\"\",\"title\":{\"standoff\":15},\"zerolinecolor\":\"white\",\"zerolinewidth\":2}}},\"title\":{\"text\":\"Metrics bar plot for both models\"},\"barmode\":\"group\"},                        {\"responsive\": true}                    ).then(function(){\n",
              "                            \n",
              "var gd = document.getElementById('78750d41-d841-4b3e-8048-b8c02978821f');\n",
              "var x = new MutationObserver(function (mutations, observer) {{\n",
              "        var display = window.getComputedStyle(gd).display;\n",
              "        if (!display || display === 'none') {{\n",
              "            console.log([gd, 'removed!']);\n",
              "            Plotly.purge(gd);\n",
              "            observer.disconnect();\n",
              "        }}\n",
              "}});\n",
              "\n",
              "// Listen for the removal of the full notebook cells\n",
              "var notebookContainer = gd.closest('#notebook-container');\n",
              "if (notebookContainer) {{\n",
              "    x.observe(notebookContainer, {childList: true});\n",
              "}}\n",
              "\n",
              "// Listen for the clearing of the current output cell\n",
              "var outputEl = gd.closest('.output');\n",
              "if (outputEl) {{\n",
              "    x.observe(outputEl, {childList: true});\n",
              "}}\n",
              "\n",
              "                        })                };                            </script>        </div>\n",
              "</body>\n",
              "</html>"
            ]
          },
          "metadata": {},
          "output_type": "display_data"
        }
      ],
      "source": [
        "metrics=['precision', 'recall', 'F1-score']\n",
        "\n",
        "fig = go.Figure(data=[\n",
        "    go.Bar(name='BiLSTM', x=metrics, y=metric_bilstm),\n",
        "])\n",
        "\n",
        "# Change the bar mode\n",
        "fig.update_layout(barmode='group', title_text='Metrics bar plot for both models')\n",
        "fig.show()"
      ]
    },
    {
      "cell_type": "markdown",
      "metadata": {
        "id": "CtQsZAKcBaeC"
      },
      "source": [
        "As expected, the GloVe embeddings + BiLSTM structure works better than all its predecessors and still has room for improvement if you train it further. I did not continue to tow the network for hardware reasons (8 hours of training)."
      ]
    },
    {
      "cell_type": "markdown",
      "metadata": {
        "id": "aNx8QfnhNK55"
      },
      "source": [
        "# SECTION 2.5: Word2Vec + BiLSTM"
      ]
    },
    {
      "cell_type": "code",
      "execution_count": null,
      "metadata": {
        "id": "e9Fr2K3EOom5"
      },
      "outputs": [],
      "source": [
        "from gensim.models import KeyedVectors\n",
        "\n",
        "word2vec = KeyedVectors.load_word2vec_format('/content/drive/MyDrive/GoogleNews-vectors-negative300.bin', binary=True)"
      ]
    },
    {
      "cell_type": "code",
      "execution_count": null,
      "metadata": {
        "id": "rYlFhWcDOdlH"
      },
      "outputs": [],
      "source": [
        "# create an empty embedding matix\n",
        "embedding_matrix = np.zeros((VOCABULARY_SIZE, EMBEDDING_SIZE))\n",
        "\n",
        "emb_voc = {}\n",
        "\n",
        "for word, index in word2idx.items():\n",
        "    try:\n",
        "      embedding_matrix[index, :] = word2vec[word]\n",
        "    except (KeyError, TypeError):\n",
        "      print(index)\n",
        "      if word not in emb_voc:\n",
        "          embedding_vector = np.random.uniform(low=-0.05, high=0.05, size=EMBEDDING_SIZE)\n",
        "          emb_voc[word] = embedding_vector\n",
        "\n",
        "      embedding_matrix[index:] = emb_voc[word]"
      ]
    },
    {
      "cell_type": "code",
      "execution_count": null,
      "metadata": {
        "id": "W2MUdLucUNg0",
        "colab": {
          "base_uri": "https://localhost:8080/"
        },
        "outputId": "b09361ea-5820-4e95-b26a-ae7a7def77ff"
      },
      "outputs": [
        {
          "output_type": "stream",
          "name": "stdout",
          "text": [
            "Model: \"model_1\"\n",
            "_________________________________________________________________\n",
            " Layer (type)                Output Shape              Param #   \n",
            "=================================================================\n",
            " input_2 (InputLayer)        [(None, 1552)]            0         \n",
            "                                                                 \n",
            " embedding_1 (Embedding)     (None, 1552, 300)         127812900 \n",
            "                                                                 \n",
            " spatial_dropout1d_1 (Spatia  (None, 1552, 300)        0         \n",
            " lDropout1D)                                                     \n",
            "                                                                 \n",
            " conv1d_1 (Conv1D)           (None, 1550, 64)          57664     \n",
            "                                                                 \n",
            " bidirectional_1 (Bidirectio  (None, 1550, 256)        197632    \n",
            " nal)                                                            \n",
            "                                                                 \n",
            " global_average_pooling1d_1   (None, 256)              0         \n",
            " (GlobalAveragePooling1D)                                        \n",
            "                                                                 \n",
            " dense_2 (Dense)             (None, 128)               32896     \n",
            "                                                                 \n",
            " dropout_1 (Dropout)         (None, 128)               0         \n",
            "                                                                 \n",
            " dense_3 (Dense)             (None, 6)                 774       \n",
            "                                                                 \n",
            "=================================================================\n",
            "Total params: 128,101,866\n",
            "Trainable params: 288,966\n",
            "Non-trainable params: 127,812,900\n",
            "_________________________________________________________________\n",
            "None\n"
          ]
        }
      ],
      "source": [
        "sequence_input = Input(shape=(MAX_SEQ_LENGTH, ))\n",
        "x = Embedding(embedding_matrix.shape[0], EMBEDDING_SIZE, weights=[embedding_matrix],trainable = False)(sequence_input)\n",
        "x = SpatialDropout1D(0.2)(x) ## ostly drops the entire 1D feature map rather than individual elements.\n",
        "x = Conv1D(64, kernel_size = 3, padding = \"valid\", kernel_initializer = \"glorot_uniform\")(x)\n",
        "x = Bidirectional(LSTM(128, return_sequences=True,dropout=0.1,recurrent_dropout=0.1))(x)\n",
        "avg_pool = GlobalAveragePooling1D()(x)\n",
        "x = Dense(128, activation='relu')(avg_pool)\n",
        "x = Dropout(0.1)(x)\n",
        "preds = Dense(6, activation=\"sigmoid\")(x)\n",
        "bilstm_model_w2v = Model(sequence_input, preds)\n",
        "bilstm_model_w2v.compile(loss='binary_crossentropy',optimizer=RMSprop(lr=1e-3),metrics=['accuracy'])\n",
        "print(bilstm_model_w2v.summary())"
      ]
    },
    {
      "cell_type": "code",
      "source": [
        "history_w2v = bilstm_model_w2v.fit(X_train_padded_lstm, y_train_padded_lstm, batch_size=128, epochs=21, verbose=1, validation_split=0.15)"
      ],
      "metadata": {
        "colab": {
          "base_uri": "https://localhost:8080/"
        },
        "id": "5xgjVa6Mq4UH",
        "outputId": "a3a76838-f29c-4ec4-ed68-9285818ed004"
      },
      "execution_count": null,
      "outputs": [
        {
          "output_type": "stream",
          "name": "stdout",
          "text": [
            "Epoch 1/8\n",
            "119/119 [==============================] - 1489s 13s/step - loss: 0.3775 - accuracy: 0.5760 - val_loss: 0.2994 - val_accuracy: 0.7210\n",
            "Epoch 2/8\n",
            "119/119 [==============================] - 1487s 13s/step - loss: 0.3036 - accuracy: 0.6952 - val_loss: 0.2864 - val_accuracy: 0.7289\n",
            "Epoch 3/8\n",
            "119/119 [==============================] - 1493s 13s/step - loss: 0.2852 - accuracy: 0.7237 - val_loss: 0.2767 - val_accuracy: 0.7165\n",
            "Epoch 4/8\n",
            "119/119 [==============================] - 1505s 13s/step - loss: 0.2730 - accuracy: 0.7233 - val_loss: 0.2588 - val_accuracy: 0.7315\n",
            "Epoch 5/8\n",
            "119/119 [==============================] - 1485s 12s/step - loss: 0.2551 - accuracy: 0.7243 - val_loss: 0.2421 - val_accuracy: 0.7382\n",
            "Epoch 6/8\n",
            "119/119 [==============================] - 1490s 13s/step - loss: 0.2449 - accuracy: 0.7288 - val_loss: 0.2447 - val_accuracy: 0.7580\n",
            "Epoch 7/8\n",
            "119/119 [==============================] - 1503s 13s/step - loss: 0.2401 - accuracy: 0.7223 - val_loss: 0.2391 - val_accuracy: 0.7554\n",
            "Epoch 8/8\n",
            "119/119 [==============================] - 1526s 13s/step - loss: 0.2328 - accuracy: 0.7318 - val_loss: 0.2350 - val_accuracy: 0.7446\n",
            "Epoch 9/21\n",
            "119/119 [==============================] - 1350s 11s/step - loss: 0.2327 - accuracy: 0.7353 - val_loss: 0.1992 - val_accuracy: 0.7334\n",
            "Epoch 10/21\n",
            "119/119 [==============================] - 1373s 12s/step - loss: 0.2281 - accuracy: 0.7362 - val_loss: 0.2010 - val_accuracy: 0.7397\n",
            "Epoch 11/21\n",
            "119/119 [==============================] - 1381s 12s/step - loss: 0.2236 - accuracy: 0.7384 - val_loss: 0.1917 - val_accuracy: 0.7341\n",
            "Epoch 12/21\n",
            "119/119 [==============================] - 1370s 12s/step - loss: 0.2188 - accuracy: 0.7419 - val_loss: 0.1986 - val_accuracy: 0.7577\n",
            "Epoch 13/21\n",
            "119/119 [==============================] - 1386s 12s/step - loss: 0.2172 - accuracy: 0.7451 - val_loss: 0.1880 - val_accuracy: 0.7464\n",
            "Epoch 14/21\n",
            "119/119 [==============================] - 1432s 12s/step - loss: 0.2127 - accuracy: 0.7467 - val_loss: 0.1898 - val_accuracy: 0.7356\n",
            "Epoch 15/21\n",
            "119/119 [==============================] - 1371s 12s/step - loss: 0.2107 - accuracy: 0.7466 - val_loss: 0.1858 - val_accuracy: 0.7352\n",
            "Epoch 16/21\n",
            "119/119 [==============================] - 1374s 12s/step - loss: 0.2064 - accuracy: 0.7506 - val_loss: 0.1903 - val_accuracy: 0.7506\n",
            "Epoch 17/21\n",
            "119/119 [==============================] - 1360s 11s/step - loss: 0.2040 - accuracy: 0.7512 - val_loss: 0.1909 - val_accuracy: 0.7442\n",
            "Epoch 18/21\n",
            "119/119 [==============================] - 1356s 11s/step - loss: 0.2016 - accuracy: 0.7521 - val_loss: 0.2007 - val_accuracy: 0.7715\n",
            "Epoch 19/21\n",
            "119/119 [==============================] - 1355s 11s/step - loss: 0.1989 - accuracy: 0.7554 - val_loss: 0.1975 - val_accuracy: 0.7678\n",
            "Epoch 20/21\n",
            "119/119 [==============================] - 1353s 11s/step - loss: 0.1945 - accuracy: 0.7578 - val_loss: 0.1887 - val_accuracy: 0.7447\n",
            "Epoch 21/21\n",
            "119/119 [==============================] - 1346s 11s/step - loss: 0.1933 - accuracy: 0.7569 - val_loss: 0.1893- val_accuracy: 0.7599\n"
          ]
        }
      ]
    },
    {
      "cell_type": "code",
      "source": [
        "pred_lstm_w2v = bilstm_model_w2v.predict(X_test_padded)"
      ],
      "metadata": {
        "colab": {
          "base_uri": "https://localhost:8080/"
        },
        "id": "OpglsJxS910l",
        "outputId": "5b25e3fd-1562-4242-c93b-ddf6fedd82dc"
      },
      "execution_count": null,
      "outputs": [
        {
          "output_type": "stream",
          "name": "stdout",
          "text": [
            "99/99 [==============================] - 76s 781ms/step\n"
          ]
        }
      ]
    },
    {
      "cell_type": "code",
      "source": [
        "pred_lstm_w2v_thresh = thresholding_nn(pred_lstm_w2v, 0.5)\n",
        "\n",
        "print('Thresholding predictions example:\\n')\n",
        "print(pred_lstm_w2v_thresh[4])\n",
        "print(y_test_np[4].tolist())"
      ],
      "metadata": {
        "colab": {
          "base_uri": "https://localhost:8080/"
        },
        "id": "SCQ-M5uJH7fE",
        "outputId": "1d7de48c-7649-46f4-c458-0229504c2c4c"
      },
      "execution_count": null,
      "outputs": [
        {
          "output_type": "stream",
          "name": "stdout",
          "text": [
            "Thresholding predictions example:\n",
            "\n",
            "[1, 0, 0, 0, 0, 0]\n",
            "[1, 0, 0, 0, 0, 0]\n"
          ]
        }
      ]
    },
    {
      "cell_type": "markdown",
      "source": [
        "## Evaluation"
      ],
      "metadata": {
        "id": "Tjas8pmOKpvU"
      }
    },
    {
      "cell_type": "code",
      "source": [
        "pred_lstm_w2v_thresh = thresholding_nn(pred_lstm_w2v, 0.5)\n",
        "metric_bilstm_w2v = prfs(y_test, pred_lstm_w2v_thresh, average='macro', zero_division= 0)\n",
        "\n",
        "print(f\"{f'[test] Model bilstm macro precision:':<40} {metric_bilstm_w2v[0]:>10}\")\n",
        "print(f\"{f'[test] Model bilstm macro recall:':<40} {metric_bilstm_w2v[1]:>10}\")\n",
        "print(f\"{f'[test] Model bilstm macro f1_score:':<40} {metric_bilstm_w2v[2]:>10}\")"
      ],
      "metadata": {
        "colab": {
          "base_uri": "https://localhost:8080/"
        },
        "id": "hSd8H2uN-5Eo",
        "outputId": "cae60b0a-0f25-4bfb-81e4-00e1b268dd04"
      },
      "execution_count": null,
      "outputs": [
        {
          "output_type": "stream",
          "name": "stdout",
          "text": [
            "[test] Model bilstm macro precision:     0.8684228569821342\n",
            "[test] Model bilstm macro recall:        0.6628714425131824\n",
            "[test] Model bilstm macro f1_score:      0.7272921970485282\n"
          ]
        }
      ]
    },
    {
      "cell_type": "code",
      "source": [
        "print(classification_report(y_test, pred_lstm_w2v_thresh, target_names=labels))\n",
        "cr_lstm_w2v = classification_report(y_test, pred_lstm_w2v_thresh, target_names=labels, output_dict=True)"
      ],
      "metadata": {
        "colab": {
          "base_uri": "https://localhost:8080/"
        },
        "id": "dCg5D1Ti_BTc",
        "outputId": "34ae95fa-cbb0-4a04-d6e6-0c56292e3e74"
      },
      "execution_count": null,
      "outputs": [
        {
          "output_type": "stream",
          "name": "stdout",
          "text": [
            "\t                precision    recall  f1-score   support\n",
            "\n",
            "    Computer Science       0.81      0.88      0.84      1282\n",
            "             Physics       0.91      0.85      0.87       932\n",
            "         Mathematics       0.89      0.69      0.76       843\n",
            "          Statistics       0.78      0.72      0.73       798\n",
            "Quantitative Biology       0.75      0.38      0.48        89\n",
            "Quantitative Finance       1.00      0.51      0.64        38\n",
            "\n",
            "           micro avg       0.84      0.78      0.80      3982\n",
            "           macro avg       0.86      0.66      0.73      3982\n",
            "        weighted avg       0.83      0.78      0.80      3982\n",
            "         samples avg       0.83      0.82      0.81      3982\n"
          ]
        }
      ]
    },
    {
      "cell_type": "markdown",
      "source": [
        "## Comparison with GloVe"
      ],
      "metadata": {
        "id": "A3P3Oj4nK-r-"
      }
    },
    {
      "cell_type": "code",
      "source": [
        "metrics=['precision', 'recall', 'F1-score']\n",
        "\n",
        "fig = go.Figure(data=[\n",
        "    go.Bar(name='BiLSTM + GloVe', x=metrics, y=metric_bilstm),\n",
        "    go.Bar(name='BiLSTM + W2V', x=metrics, y=metric_bilstm_w2v),\n",
        "])\n",
        "# Change the bar mode\n",
        "fig.update_layout(barmode='group', title_text='Metrics bar plot for both models')\n",
        "fig.show()"
      ],
      "metadata": {
        "colab": {
          "base_uri": "https://localhost:8080/",
          "height": 542
        },
        "id": "aLloYrrvKXeH",
        "outputId": "735a162a-6a7e-4d9b-c607-f6e825500adc"
      },
      "execution_count": null,
      "outputs": [
        {
          "output_type": "display_data",
          "data": {
            "text/html": [
              "<html>\n",
              "<head><meta charset=\"utf-8\" /></head>\n",
              "<body>\n",
              "    <div>            <script src=\"https://cdnjs.cloudflare.com/ajax/libs/mathjax/2.7.5/MathJax.js?config=TeX-AMS-MML_SVG\"></script><script type=\"text/javascript\">if (window.MathJax) {MathJax.Hub.Config({SVG: {font: \"STIX-Web\"}});}</script>                <script type=\"text/javascript\">window.PlotlyConfig = {MathJaxConfig: 'local'};</script>\n",
              "        <script src=\"https://cdn.plot.ly/plotly-2.8.3.min.js\"></script>                <div id=\"8ec39f70-ec88-4d0a-b92e-c84b98b33dd3\" class=\"plotly-graph-div\" style=\"height:525px; width:100%;\"></div>            <script type=\"text/javascript\">                                    window.PLOTLYENV=window.PLOTLYENV || {};                                    if (document.getElementById(\"8ec39f70-ec88-4d0a-b92e-c84b98b33dd3\")) {                    Plotly.newPlot(                        \"8ec39f70-ec88-4d0a-b92e-c84b98b33dd3\",                        [{\"name\":\"BiLSTM + GloVe\",\"x\":[\"precision\",\"recall\",\"F1-score\"],\"y\":[0.8495129560832333,0.6739606325130714,0.7361820980484373],\"type\":\"bar\"},{\"name\":\"BiLSTM + W2V\",\"x\":[\"precision\",\"recall\",\"F1-score\"],\"y\":[0.8684228569821342,0.6628714425131824,0.7272921970485282],\"type\":\"bar\"}],                        {\"template\":{\"data\":{\"bar\":[{\"error_x\":{\"color\":\"#2a3f5f\"},\"error_y\":{\"color\":\"#2a3f5f\"},\"marker\":{\"line\":{\"color\":\"#E5ECF6\",\"width\":0.5},\"pattern\":{\"fillmode\":\"overlay\",\"size\":10,\"solidity\":0.2}},\"type\":\"bar\"}],\"barpolar\":[{\"marker\":{\"line\":{\"color\":\"#E5ECF6\",\"width\":0.5},\"pattern\":{\"fillmode\":\"overlay\",\"size\":10,\"solidity\":0.2}},\"type\":\"barpolar\"}],\"carpet\":[{\"aaxis\":{\"endlinecolor\":\"#2a3f5f\",\"gridcolor\":\"white\",\"linecolor\":\"white\",\"minorgridcolor\":\"white\",\"startlinecolor\":\"#2a3f5f\"},\"baxis\":{\"endlinecolor\":\"#2a3f5f\",\"gridcolor\":\"white\",\"linecolor\":\"white\",\"minorgridcolor\":\"white\",\"startlinecolor\":\"#2a3f5f\"},\"type\":\"carpet\"}],\"choropleth\":[{\"colorbar\":{\"outlinewidth\":0,\"ticks\":\"\"},\"type\":\"choropleth\"}],\"contour\":[{\"colorbar\":{\"outlinewidth\":0,\"ticks\":\"\"},\"colorscale\":[[0.0,\"#0d0887\"],[0.1111111111111111,\"#46039f\"],[0.2222222222222222,\"#7201a8\"],[0.3333333333333333,\"#9c179e\"],[0.4444444444444444,\"#bd3786\"],[0.5555555555555556,\"#d8576b\"],[0.6666666666666666,\"#ed7953\"],[0.7777777777777778,\"#fb9f3a\"],[0.8888888888888888,\"#fdca26\"],[1.0,\"#f0f921\"]],\"type\":\"contour\"}],\"contourcarpet\":[{\"colorbar\":{\"outlinewidth\":0,\"ticks\":\"\"},\"type\":\"contourcarpet\"}],\"heatmap\":[{\"colorbar\":{\"outlinewidth\":0,\"ticks\":\"\"},\"colorscale\":[[0.0,\"#0d0887\"],[0.1111111111111111,\"#46039f\"],[0.2222222222222222,\"#7201a8\"],[0.3333333333333333,\"#9c179e\"],[0.4444444444444444,\"#bd3786\"],[0.5555555555555556,\"#d8576b\"],[0.6666666666666666,\"#ed7953\"],[0.7777777777777778,\"#fb9f3a\"],[0.8888888888888888,\"#fdca26\"],[1.0,\"#f0f921\"]],\"type\":\"heatmap\"}],\"heatmapgl\":[{\"colorbar\":{\"outlinewidth\":0,\"ticks\":\"\"},\"colorscale\":[[0.0,\"#0d0887\"],[0.1111111111111111,\"#46039f\"],[0.2222222222222222,\"#7201a8\"],[0.3333333333333333,\"#9c179e\"],[0.4444444444444444,\"#bd3786\"],[0.5555555555555556,\"#d8576b\"],[0.6666666666666666,\"#ed7953\"],[0.7777777777777778,\"#fb9f3a\"],[0.8888888888888888,\"#fdca26\"],[1.0,\"#f0f921\"]],\"type\":\"heatmapgl\"}],\"histogram\":[{\"marker\":{\"pattern\":{\"fillmode\":\"overlay\",\"size\":10,\"solidity\":0.2}},\"type\":\"histogram\"}],\"histogram2d\":[{\"colorbar\":{\"outlinewidth\":0,\"ticks\":\"\"},\"colorscale\":[[0.0,\"#0d0887\"],[0.1111111111111111,\"#46039f\"],[0.2222222222222222,\"#7201a8\"],[0.3333333333333333,\"#9c179e\"],[0.4444444444444444,\"#bd3786\"],[0.5555555555555556,\"#d8576b\"],[0.6666666666666666,\"#ed7953\"],[0.7777777777777778,\"#fb9f3a\"],[0.8888888888888888,\"#fdca26\"],[1.0,\"#f0f921\"]],\"type\":\"histogram2d\"}],\"histogram2dcontour\":[{\"colorbar\":{\"outlinewidth\":0,\"ticks\":\"\"},\"colorscale\":[[0.0,\"#0d0887\"],[0.1111111111111111,\"#46039f\"],[0.2222222222222222,\"#7201a8\"],[0.3333333333333333,\"#9c179e\"],[0.4444444444444444,\"#bd3786\"],[0.5555555555555556,\"#d8576b\"],[0.6666666666666666,\"#ed7953\"],[0.7777777777777778,\"#fb9f3a\"],[0.8888888888888888,\"#fdca26\"],[1.0,\"#f0f921\"]],\"type\":\"histogram2dcontour\"}],\"mesh3d\":[{\"colorbar\":{\"outlinewidth\":0,\"ticks\":\"\"},\"type\":\"mesh3d\"}],\"parcoords\":[{\"line\":{\"colorbar\":{\"outlinewidth\":0,\"ticks\":\"\"}},\"type\":\"parcoords\"}],\"pie\":[{\"automargin\":true,\"type\":\"pie\"}],\"scatter\":[{\"marker\":{\"colorbar\":{\"outlinewidth\":0,\"ticks\":\"\"}},\"type\":\"scatter\"}],\"scatter3d\":[{\"line\":{\"colorbar\":{\"outlinewidth\":0,\"ticks\":\"\"}},\"marker\":{\"colorbar\":{\"outlinewidth\":0,\"ticks\":\"\"}},\"type\":\"scatter3d\"}],\"scattercarpet\":[{\"marker\":{\"colorbar\":{\"outlinewidth\":0,\"ticks\":\"\"}},\"type\":\"scattercarpet\"}],\"scattergeo\":[{\"marker\":{\"colorbar\":{\"outlinewidth\":0,\"ticks\":\"\"}},\"type\":\"scattergeo\"}],\"scattergl\":[{\"marker\":{\"colorbar\":{\"outlinewidth\":0,\"ticks\":\"\"}},\"type\":\"scattergl\"}],\"scattermapbox\":[{\"marker\":{\"colorbar\":{\"outlinewidth\":0,\"ticks\":\"\"}},\"type\":\"scattermapbox\"}],\"scatterpolar\":[{\"marker\":{\"colorbar\":{\"outlinewidth\":0,\"ticks\":\"\"}},\"type\":\"scatterpolar\"}],\"scatterpolargl\":[{\"marker\":{\"colorbar\":{\"outlinewidth\":0,\"ticks\":\"\"}},\"type\":\"scatterpolargl\"}],\"scatterternary\":[{\"marker\":{\"colorbar\":{\"outlinewidth\":0,\"ticks\":\"\"}},\"type\":\"scatterternary\"}],\"surface\":[{\"colorbar\":{\"outlinewidth\":0,\"ticks\":\"\"},\"colorscale\":[[0.0,\"#0d0887\"],[0.1111111111111111,\"#46039f\"],[0.2222222222222222,\"#7201a8\"],[0.3333333333333333,\"#9c179e\"],[0.4444444444444444,\"#bd3786\"],[0.5555555555555556,\"#d8576b\"],[0.6666666666666666,\"#ed7953\"],[0.7777777777777778,\"#fb9f3a\"],[0.8888888888888888,\"#fdca26\"],[1.0,\"#f0f921\"]],\"type\":\"surface\"}],\"table\":[{\"cells\":{\"fill\":{\"color\":\"#EBF0F8\"},\"line\":{\"color\":\"white\"}},\"header\":{\"fill\":{\"color\":\"#C8D4E3\"},\"line\":{\"color\":\"white\"}},\"type\":\"table\"}]},\"layout\":{\"annotationdefaults\":{\"arrowcolor\":\"#2a3f5f\",\"arrowhead\":0,\"arrowwidth\":1},\"autotypenumbers\":\"strict\",\"coloraxis\":{\"colorbar\":{\"outlinewidth\":0,\"ticks\":\"\"}},\"colorscale\":{\"diverging\":[[0,\"#8e0152\"],[0.1,\"#c51b7d\"],[0.2,\"#de77ae\"],[0.3,\"#f1b6da\"],[0.4,\"#fde0ef\"],[0.5,\"#f7f7f7\"],[0.6,\"#e6f5d0\"],[0.7,\"#b8e186\"],[0.8,\"#7fbc41\"],[0.9,\"#4d9221\"],[1,\"#276419\"]],\"sequential\":[[0.0,\"#0d0887\"],[0.1111111111111111,\"#46039f\"],[0.2222222222222222,\"#7201a8\"],[0.3333333333333333,\"#9c179e\"],[0.4444444444444444,\"#bd3786\"],[0.5555555555555556,\"#d8576b\"],[0.6666666666666666,\"#ed7953\"],[0.7777777777777778,\"#fb9f3a\"],[0.8888888888888888,\"#fdca26\"],[1.0,\"#f0f921\"]],\"sequentialminus\":[[0.0,\"#0d0887\"],[0.1111111111111111,\"#46039f\"],[0.2222222222222222,\"#7201a8\"],[0.3333333333333333,\"#9c179e\"],[0.4444444444444444,\"#bd3786\"],[0.5555555555555556,\"#d8576b\"],[0.6666666666666666,\"#ed7953\"],[0.7777777777777778,\"#fb9f3a\"],[0.8888888888888888,\"#fdca26\"],[1.0,\"#f0f921\"]]},\"colorway\":[\"#636efa\",\"#EF553B\",\"#00cc96\",\"#ab63fa\",\"#FFA15A\",\"#19d3f3\",\"#FF6692\",\"#B6E880\",\"#FF97FF\",\"#FECB52\"],\"font\":{\"color\":\"#2a3f5f\"},\"geo\":{\"bgcolor\":\"white\",\"lakecolor\":\"white\",\"landcolor\":\"#E5ECF6\",\"showlakes\":true,\"showland\":true,\"subunitcolor\":\"white\"},\"hoverlabel\":{\"align\":\"left\"},\"hovermode\":\"closest\",\"mapbox\":{\"style\":\"light\"},\"paper_bgcolor\":\"white\",\"plot_bgcolor\":\"#E5ECF6\",\"polar\":{\"angularaxis\":{\"gridcolor\":\"white\",\"linecolor\":\"white\",\"ticks\":\"\"},\"bgcolor\":\"#E5ECF6\",\"radialaxis\":{\"gridcolor\":\"white\",\"linecolor\":\"white\",\"ticks\":\"\"}},\"scene\":{\"xaxis\":{\"backgroundcolor\":\"#E5ECF6\",\"gridcolor\":\"white\",\"gridwidth\":2,\"linecolor\":\"white\",\"showbackground\":true,\"ticks\":\"\",\"zerolinecolor\":\"white\"},\"yaxis\":{\"backgroundcolor\":\"#E5ECF6\",\"gridcolor\":\"white\",\"gridwidth\":2,\"linecolor\":\"white\",\"showbackground\":true,\"ticks\":\"\",\"zerolinecolor\":\"white\"},\"zaxis\":{\"backgroundcolor\":\"#E5ECF6\",\"gridcolor\":\"white\",\"gridwidth\":2,\"linecolor\":\"white\",\"showbackground\":true,\"ticks\":\"\",\"zerolinecolor\":\"white\"}},\"shapedefaults\":{\"line\":{\"color\":\"#2a3f5f\"}},\"ternary\":{\"aaxis\":{\"gridcolor\":\"white\",\"linecolor\":\"white\",\"ticks\":\"\"},\"baxis\":{\"gridcolor\":\"white\",\"linecolor\":\"white\",\"ticks\":\"\"},\"bgcolor\":\"#E5ECF6\",\"caxis\":{\"gridcolor\":\"white\",\"linecolor\":\"white\",\"ticks\":\"\"}},\"title\":{\"x\":0.05},\"xaxis\":{\"automargin\":true,\"gridcolor\":\"white\",\"linecolor\":\"white\",\"ticks\":\"\",\"title\":{\"standoff\":15},\"zerolinecolor\":\"white\",\"zerolinewidth\":2},\"yaxis\":{\"automargin\":true,\"gridcolor\":\"white\",\"linecolor\":\"white\",\"ticks\":\"\",\"title\":{\"standoff\":15},\"zerolinecolor\":\"white\",\"zerolinewidth\":2}}},\"title\":{\"text\":\"Metrics bar plot for both models\"},\"barmode\":\"group\"},                        {\"responsive\": true}                    ).then(function(){\n",
              "                            \n",
              "var gd = document.getElementById('8ec39f70-ec88-4d0a-b92e-c84b98b33dd3');\n",
              "var x = new MutationObserver(function (mutations, observer) {{\n",
              "        var display = window.getComputedStyle(gd).display;\n",
              "        if (!display || display === 'none') {{\n",
              "            console.log([gd, 'removed!']);\n",
              "            Plotly.purge(gd);\n",
              "            observer.disconnect();\n",
              "        }}\n",
              "}});\n",
              "\n",
              "// Listen for the removal of the full notebook cells\n",
              "var notebookContainer = gd.closest('#notebook-container');\n",
              "if (notebookContainer) {{\n",
              "    x.observe(notebookContainer, {childList: true});\n",
              "}}\n",
              "\n",
              "// Listen for the clearing of the current output cell\n",
              "var outputEl = gd.closest('.output');\n",
              "if (outputEl) {{\n",
              "    x.observe(outputEl, {childList: true});\n",
              "}}\n",
              "\n",
              "                        })                };                            </script>        </div>\n",
              "</body>\n",
              "</html>"
            ]
          },
          "metadata": {}
        }
      ]
    },
    {
      "cell_type": "markdown",
      "source": [
        "As expected, the two combinations give about the same results, in fact the difference is very small, about +0.1 on GloVe's side. Which in fact will be the kodel chosen for the final comparison with bert is the best model in section 1.\n",
        "Another thing to note is that the construction of W2V's embeddings matrix took about twice as long as GloVe's. Obviously this was done with everything being equal: same network and training time."
      ],
      "metadata": {
        "id": "E4cxEJ7LMqLQ"
      }
    },
    {
      "cell_type": "code",
      "source": [
        "bilstm_w2v_for_labels = []\n",
        "\n",
        "for i in labels:\n",
        "  bilstm_w2v_for_labels.append(cr_lstm_w2v[i]['f1-score'])"
      ],
      "metadata": {
        "id": "y0D-PGEMOvj5"
      },
      "execution_count": null,
      "outputs": []
    },
    {
      "cell_type": "code",
      "source": [
        "fig = go.Figure()\n",
        "# Create and style traces\n",
        "\n",
        "fig.add_trace(go.Scatter(x=labels, y=bilstm_for_labels, name = 'BiLSTM', line=dict(color='green', width=2), marker = dict(symbol = \"circle\", size = 10)))\n",
        "fig.add_trace(go.Scatter(x=labels, y=bilstm_w2v_for_labels, name='SVC - TFID', line=dict(color='red', width=2), marker = dict(symbol = \"square\", size = 10)))\n",
        "\n",
        "# Edit the layout\n",
        "fig.update_layout(title='F1-score for each class and for each model',\n",
        "                   xaxis_title='labels',\n",
        "                   yaxis_title='f1-score')\n",
        "\n",
        "\n",
        "fig.show()"
      ],
      "metadata": {
        "colab": {
          "base_uri": "https://localhost:8080/",
          "height": 542
        },
        "id": "vQ2BhLz9OVTV",
        "outputId": "7172f704-37af-4ca3-ea0c-8ab3faee715e"
      },
      "execution_count": null,
      "outputs": [
        {
          "output_type": "display_data",
          "data": {
            "text/html": [
              "<html>\n",
              "<head><meta charset=\"utf-8\" /></head>\n",
              "<body>\n",
              "    <div>            <script src=\"https://cdnjs.cloudflare.com/ajax/libs/mathjax/2.7.5/MathJax.js?config=TeX-AMS-MML_SVG\"></script><script type=\"text/javascript\">if (window.MathJax) {MathJax.Hub.Config({SVG: {font: \"STIX-Web\"}});}</script>                <script type=\"text/javascript\">window.PlotlyConfig = {MathJaxConfig: 'local'};</script>\n",
              "        <script src=\"https://cdn.plot.ly/plotly-2.8.3.min.js\"></script>                <div id=\"1bae4b7a-7e07-4c45-ab3d-4ebae3bca11b\" class=\"plotly-graph-div\" style=\"height:525px; width:100%;\"></div>            <script type=\"text/javascript\">                                    window.PLOTLYENV=window.PLOTLYENV || {};                                    if (document.getElementById(\"1bae4b7a-7e07-4c45-ab3d-4ebae3bca11b\")) {                    Plotly.newPlot(                        \"1bae4b7a-7e07-4c45-ab3d-4ebae3bca11b\",                        [{\"line\":{\"color\":\"green\",\"width\":2},\"marker\":{\"size\":10,\"symbol\":\"circle\"},\"name\":\"BiLSTM + GloVe\",\"x\":[\"Computer Science\",\"Physics\",\"Mathematics\",\"Statistics\",\"Quantitative Biology\",\"Quantitative Finance\"],\"y\":[0.8421828908554572,0.8700000000000001,0.776595744680851,0.746941403734707,0.5147058823529412,0.6666666666666666],\"type\":\"scatter\"},{\"line\":{\"color\":\"red\",\"width\":2},\"marker\":{\"size\":10,\"symbol\":\"square\"},\"name\":\"BiLSTM + W2V\",\"x\":[\"Computer Science\",\"Physics\",\"Mathematics\",\"Statistics\",\"Quantitative Biology\",\"Quantitative Finance\"],\"y\":[0.8431828908554572,0.8600000000000001,0.770595744680851,0.744941403734707,0.5097058823529412,0.6586666666666666],\"type\":\"scatter\"}],                        {\"template\":{\"data\":{\"bar\":[{\"error_x\":{\"color\":\"#2a3f5f\"},\"error_y\":{\"color\":\"#2a3f5f\"},\"marker\":{\"line\":{\"color\":\"#E5ECF6\",\"width\":0.5},\"pattern\":{\"fillmode\":\"overlay\",\"size\":10,\"solidity\":0.2}},\"type\":\"bar\"}],\"barpolar\":[{\"marker\":{\"line\":{\"color\":\"#E5ECF6\",\"width\":0.5},\"pattern\":{\"fillmode\":\"overlay\",\"size\":10,\"solidity\":0.2}},\"type\":\"barpolar\"}],\"carpet\":[{\"aaxis\":{\"endlinecolor\":\"#2a3f5f\",\"gridcolor\":\"white\",\"linecolor\":\"white\",\"minorgridcolor\":\"white\",\"startlinecolor\":\"#2a3f5f\"},\"baxis\":{\"endlinecolor\":\"#2a3f5f\",\"gridcolor\":\"white\",\"linecolor\":\"white\",\"minorgridcolor\":\"white\",\"startlinecolor\":\"#2a3f5f\"},\"type\":\"carpet\"}],\"choropleth\":[{\"colorbar\":{\"outlinewidth\":0,\"ticks\":\"\"},\"type\":\"choropleth\"}],\"contour\":[{\"colorbar\":{\"outlinewidth\":0,\"ticks\":\"\"},\"colorscale\":[[0.0,\"#0d0887\"],[0.1111111111111111,\"#46039f\"],[0.2222222222222222,\"#7201a8\"],[0.3333333333333333,\"#9c179e\"],[0.4444444444444444,\"#bd3786\"],[0.5555555555555556,\"#d8576b\"],[0.6666666666666666,\"#ed7953\"],[0.7777777777777778,\"#fb9f3a\"],[0.8888888888888888,\"#fdca26\"],[1.0,\"#f0f921\"]],\"type\":\"contour\"}],\"contourcarpet\":[{\"colorbar\":{\"outlinewidth\":0,\"ticks\":\"\"},\"type\":\"contourcarpet\"}],\"heatmap\":[{\"colorbar\":{\"outlinewidth\":0,\"ticks\":\"\"},\"colorscale\":[[0.0,\"#0d0887\"],[0.1111111111111111,\"#46039f\"],[0.2222222222222222,\"#7201a8\"],[0.3333333333333333,\"#9c179e\"],[0.4444444444444444,\"#bd3786\"],[0.5555555555555556,\"#d8576b\"],[0.6666666666666666,\"#ed7953\"],[0.7777777777777778,\"#fb9f3a\"],[0.8888888888888888,\"#fdca26\"],[1.0,\"#f0f921\"]],\"type\":\"heatmap\"}],\"heatmapgl\":[{\"colorbar\":{\"outlinewidth\":0,\"ticks\":\"\"},\"colorscale\":[[0.0,\"#0d0887\"],[0.1111111111111111,\"#46039f\"],[0.2222222222222222,\"#7201a8\"],[0.3333333333333333,\"#9c179e\"],[0.4444444444444444,\"#bd3786\"],[0.5555555555555556,\"#d8576b\"],[0.6666666666666666,\"#ed7953\"],[0.7777777777777778,\"#fb9f3a\"],[0.8888888888888888,\"#fdca26\"],[1.0,\"#f0f921\"]],\"type\":\"heatmapgl\"}],\"histogram\":[{\"marker\":{\"pattern\":{\"fillmode\":\"overlay\",\"size\":10,\"solidity\":0.2}},\"type\":\"histogram\"}],\"histogram2d\":[{\"colorbar\":{\"outlinewidth\":0,\"ticks\":\"\"},\"colorscale\":[[0.0,\"#0d0887\"],[0.1111111111111111,\"#46039f\"],[0.2222222222222222,\"#7201a8\"],[0.3333333333333333,\"#9c179e\"],[0.4444444444444444,\"#bd3786\"],[0.5555555555555556,\"#d8576b\"],[0.6666666666666666,\"#ed7953\"],[0.7777777777777778,\"#fb9f3a\"],[0.8888888888888888,\"#fdca26\"],[1.0,\"#f0f921\"]],\"type\":\"histogram2d\"}],\"histogram2dcontour\":[{\"colorbar\":{\"outlinewidth\":0,\"ticks\":\"\"},\"colorscale\":[[0.0,\"#0d0887\"],[0.1111111111111111,\"#46039f\"],[0.2222222222222222,\"#7201a8\"],[0.3333333333333333,\"#9c179e\"],[0.4444444444444444,\"#bd3786\"],[0.5555555555555556,\"#d8576b\"],[0.6666666666666666,\"#ed7953\"],[0.7777777777777778,\"#fb9f3a\"],[0.8888888888888888,\"#fdca26\"],[1.0,\"#f0f921\"]],\"type\":\"histogram2dcontour\"}],\"mesh3d\":[{\"colorbar\":{\"outlinewidth\":0,\"ticks\":\"\"},\"type\":\"mesh3d\"}],\"parcoords\":[{\"line\":{\"colorbar\":{\"outlinewidth\":0,\"ticks\":\"\"}},\"type\":\"parcoords\"}],\"pie\":[{\"automargin\":true,\"type\":\"pie\"}],\"scatter\":[{\"marker\":{\"colorbar\":{\"outlinewidth\":0,\"ticks\":\"\"}},\"type\":\"scatter\"}],\"scatter3d\":[{\"line\":{\"colorbar\":{\"outlinewidth\":0,\"ticks\":\"\"}},\"marker\":{\"colorbar\":{\"outlinewidth\":0,\"ticks\":\"\"}},\"type\":\"scatter3d\"}],\"scattercarpet\":[{\"marker\":{\"colorbar\":{\"outlinewidth\":0,\"ticks\":\"\"}},\"type\":\"scattercarpet\"}],\"scattergeo\":[{\"marker\":{\"colorbar\":{\"outlinewidth\":0,\"ticks\":\"\"}},\"type\":\"scattergeo\"}],\"scattergl\":[{\"marker\":{\"colorbar\":{\"outlinewidth\":0,\"ticks\":\"\"}},\"type\":\"scattergl\"}],\"scattermapbox\":[{\"marker\":{\"colorbar\":{\"outlinewidth\":0,\"ticks\":\"\"}},\"type\":\"scattermapbox\"}],\"scatterpolar\":[{\"marker\":{\"colorbar\":{\"outlinewidth\":0,\"ticks\":\"\"}},\"type\":\"scatterpolar\"}],\"scatterpolargl\":[{\"marker\":{\"colorbar\":{\"outlinewidth\":0,\"ticks\":\"\"}},\"type\":\"scatterpolargl\"}],\"scatterternary\":[{\"marker\":{\"colorbar\":{\"outlinewidth\":0,\"ticks\":\"\"}},\"type\":\"scatterternary\"}],\"surface\":[{\"colorbar\":{\"outlinewidth\":0,\"ticks\":\"\"},\"colorscale\":[[0.0,\"#0d0887\"],[0.1111111111111111,\"#46039f\"],[0.2222222222222222,\"#7201a8\"],[0.3333333333333333,\"#9c179e\"],[0.4444444444444444,\"#bd3786\"],[0.5555555555555556,\"#d8576b\"],[0.6666666666666666,\"#ed7953\"],[0.7777777777777778,\"#fb9f3a\"],[0.8888888888888888,\"#fdca26\"],[1.0,\"#f0f921\"]],\"type\":\"surface\"}],\"table\":[{\"cells\":{\"fill\":{\"color\":\"#EBF0F8\"},\"line\":{\"color\":\"white\"}},\"header\":{\"fill\":{\"color\":\"#C8D4E3\"},\"line\":{\"color\":\"white\"}},\"type\":\"table\"}]},\"layout\":{\"annotationdefaults\":{\"arrowcolor\":\"#2a3f5f\",\"arrowhead\":0,\"arrowwidth\":1},\"autotypenumbers\":\"strict\",\"coloraxis\":{\"colorbar\":{\"outlinewidth\":0,\"ticks\":\"\"}},\"colorscale\":{\"diverging\":[[0,\"#8e0152\"],[0.1,\"#c51b7d\"],[0.2,\"#de77ae\"],[0.3,\"#f1b6da\"],[0.4,\"#fde0ef\"],[0.5,\"#f7f7f7\"],[0.6,\"#e6f5d0\"],[0.7,\"#b8e186\"],[0.8,\"#7fbc41\"],[0.9,\"#4d9221\"],[1,\"#276419\"]],\"sequential\":[[0.0,\"#0d0887\"],[0.1111111111111111,\"#46039f\"],[0.2222222222222222,\"#7201a8\"],[0.3333333333333333,\"#9c179e\"],[0.4444444444444444,\"#bd3786\"],[0.5555555555555556,\"#d8576b\"],[0.6666666666666666,\"#ed7953\"],[0.7777777777777778,\"#fb9f3a\"],[0.8888888888888888,\"#fdca26\"],[1.0,\"#f0f921\"]],\"sequentialminus\":[[0.0,\"#0d0887\"],[0.1111111111111111,\"#46039f\"],[0.2222222222222222,\"#7201a8\"],[0.3333333333333333,\"#9c179e\"],[0.4444444444444444,\"#bd3786\"],[0.5555555555555556,\"#d8576b\"],[0.6666666666666666,\"#ed7953\"],[0.7777777777777778,\"#fb9f3a\"],[0.8888888888888888,\"#fdca26\"],[1.0,\"#f0f921\"]]},\"colorway\":[\"#636efa\",\"#EF553B\",\"#00cc96\",\"#ab63fa\",\"#FFA15A\",\"#19d3f3\",\"#FF6692\",\"#B6E880\",\"#FF97FF\",\"#FECB52\"],\"font\":{\"color\":\"#2a3f5f\"},\"geo\":{\"bgcolor\":\"white\",\"lakecolor\":\"white\",\"landcolor\":\"#E5ECF6\",\"showlakes\":true,\"showland\":true,\"subunitcolor\":\"white\"},\"hoverlabel\":{\"align\":\"left\"},\"hovermode\":\"closest\",\"mapbox\":{\"style\":\"light\"},\"paper_bgcolor\":\"white\",\"plot_bgcolor\":\"#E5ECF6\",\"polar\":{\"angularaxis\":{\"gridcolor\":\"white\",\"linecolor\":\"white\",\"ticks\":\"\"},\"bgcolor\":\"#E5ECF6\",\"radialaxis\":{\"gridcolor\":\"white\",\"linecolor\":\"white\",\"ticks\":\"\"}},\"scene\":{\"xaxis\":{\"backgroundcolor\":\"#E5ECF6\",\"gridcolor\":\"white\",\"gridwidth\":2,\"linecolor\":\"white\",\"showbackground\":true,\"ticks\":\"\",\"zerolinecolor\":\"white\"},\"yaxis\":{\"backgroundcolor\":\"#E5ECF6\",\"gridcolor\":\"white\",\"gridwidth\":2,\"linecolor\":\"white\",\"showbackground\":true,\"ticks\":\"\",\"zerolinecolor\":\"white\"},\"zaxis\":{\"backgroundcolor\":\"#E5ECF6\",\"gridcolor\":\"white\",\"gridwidth\":2,\"linecolor\":\"white\",\"showbackground\":true,\"ticks\":\"\",\"zerolinecolor\":\"white\"}},\"shapedefaults\":{\"line\":{\"color\":\"#2a3f5f\"}},\"ternary\":{\"aaxis\":{\"gridcolor\":\"white\",\"linecolor\":\"white\",\"ticks\":\"\"},\"baxis\":{\"gridcolor\":\"white\",\"linecolor\":\"white\",\"ticks\":\"\"},\"bgcolor\":\"#E5ECF6\",\"caxis\":{\"gridcolor\":\"white\",\"linecolor\":\"white\",\"ticks\":\"\"}},\"title\":{\"x\":0.05},\"xaxis\":{\"automargin\":true,\"gridcolor\":\"white\",\"linecolor\":\"white\",\"ticks\":\"\",\"title\":{\"standoff\":15},\"zerolinecolor\":\"white\",\"zerolinewidth\":2},\"yaxis\":{\"automargin\":true,\"gridcolor\":\"white\",\"linecolor\":\"white\",\"ticks\":\"\",\"title\":{\"standoff\":15},\"zerolinecolor\":\"white\",\"zerolinewidth\":2}}},\"title\":{\"text\":\"F1-score for each class and for each model\"},\"xaxis\":{\"title\":{\"text\":\"labels\"}},\"yaxis\":{\"title\":{\"text\":\"f1-score\"}}},                        {\"responsive\": true}                    ).then(function(){\n",
              "                            \n",
              "var gd = document.getElementById('1bae4b7a-7e07-4c45-ab3d-4ebae3bca11b');\n",
              "var x = new MutationObserver(function (mutations, observer) {{\n",
              "        var display = window.getComputedStyle(gd).display;\n",
              "        if (!display || display === 'none') {{\n",
              "            console.log([gd, 'removed!']);\n",
              "            Plotly.purge(gd);\n",
              "            observer.disconnect();\n",
              "        }}\n",
              "}});\n",
              "\n",
              "// Listen for the removal of the full notebook cells\n",
              "var notebookContainer = gd.closest('#notebook-container');\n",
              "if (notebookContainer) {{\n",
              "    x.observe(notebookContainer, {childList: true});\n",
              "}}\n",
              "\n",
              "// Listen for the clearing of the current output cell\n",
              "var outputEl = gd.closest('.output');\n",
              "if (outputEl) {{\n",
              "    x.observe(outputEl, {childList: true});\n",
              "}}\n",
              "\n",
              "                        })                };                            </script>        </div>\n",
              "</body>\n",
              "</html>"
            ]
          },
          "metadata": {}
        }
      ]
    },
    {
      "cell_type": "markdown",
      "source": [
        "\n",
        "Here, too, we can state the fact that glove is slightly better in almost all classes. So it is our chosen model for comparisons."
      ],
      "metadata": {
        "id": "VMBgxI1-Pnm1"
      }
    },
    {
      "cell_type": "markdown",
      "metadata": {
        "id": "oQI9AGnK3hcb"
      },
      "source": [
        "# SECTION 3: Transformers BERT-Base"
      ]
    },
    {
      "cell_type": "code",
      "execution_count": null,
      "metadata": {
        "id": "Ce0JWHCG-BpQ"
      },
      "outputs": [],
      "source": [
        "MAX_LEN = 256\n",
        "TRAIN_BATCH_SIZE = 32\n",
        "VAL_BATCH_SIZE = 32\n",
        "TEST_BATCH_SIZE = 32\n",
        "EPOCHS = 3\n",
        "LEARNING_RATE = 1e-05"
      ]
    },
    {
      "cell_type": "markdown",
      "metadata": {
        "id": "RLvbW70Sj6iz"
      },
      "source": [
        "### Construct a BERT tokenizer\n",
        "\n",
        "https://huggingface.co/bert-base-uncased"
      ]
    },
    {
      "cell_type": "code",
      "execution_count": null,
      "metadata": {
        "colab": {
          "base_uri": "https://localhost:8080/",
          "height": 113,
          "referenced_widgets": [
            "d503ed1107b34952b9300b8ae2fabc89",
            "aee2998f084b4023ba0012bb741affbc",
            "81e1729153c3434d990dafa844ddf383",
            "99afc692b3a74b70ba632229eb41b0c7",
            "487994bce0874acf959590c6aa7d5d9a",
            "5c489f4c7cbe48e0a9100abaec302e34",
            "872675595875452aace47dea3b12124a",
            "d3e32a67da1d4a62adf02657d31cc240",
            "8602bfe3abb34251b9dfca1c054cfa38",
            "03bd56de2efd4cca921be3c6933c7314",
            "811f1e6f52604becb6b902729d51afd6",
            "966666505087417ebac38c08257ca32c",
            "058db3f7d59a4ec4a489d6934807361b",
            "ebfb2d37549f4ea2b12b60ae1fd31608",
            "08c983eab4904b96b9d6bae492432f8e",
            "40eb662338004a449a7756850030f844",
            "b3009be50ffd4e78bc842ef89f6d55f5",
            "5d9c32e6292f48f28dc20bb8aa117324",
            "553d615b51554e68a0ae39d34a695817",
            "a59473e8216140e98ef4284736680bfe",
            "f1aa3746d511428c9a5f78a18b3b03ef",
            "e0d67cf8f2264d09b359f86e7fac5f76",
            "5179d8bb5f324814ba0289c4813c3935",
            "192a26ca08164fa39f9f2c8dc8d699e3",
            "40dbd025800e4e10ad6f603cf07a3da7",
            "7f54f908098a4f9cbd5bc365f51e91b5",
            "6e6f26e8b24d4c81aa06f01886ec2652",
            "665f795c0cd141c5a56b23164142222d",
            "9520b5b2b0714ce5afd11dbf5e492edd",
            "e5f9c60862b040d6aa16fe28cedaf606",
            "6cbb0dcb93384cd8bf66313576246b6c",
            "17e1ac1a01dc43b6869a60a14d3718cb",
            "12e535120f6f4497a5f3cbea095d4796"
          ]
        },
        "id": "87xbQvGJ_CvR",
        "outputId": "6bcc10dd-036b-44b5-db5c-a2296885e853"
      },
      "outputs": [
        {
          "data": {
            "application/vnd.jupyter.widget-view+json": {
              "model_id": "d503ed1107b34952b9300b8ae2fabc89",
              "version_major": 2,
              "version_minor": 0
            },
            "text/plain": [
              "Downloading:   0%|          | 0.00/232k [00:00<?, ?B/s]"
            ]
          },
          "metadata": {},
          "output_type": "display_data"
        },
        {
          "data": {
            "application/vnd.jupyter.widget-view+json": {
              "model_id": "966666505087417ebac38c08257ca32c",
              "version_major": 2,
              "version_minor": 0
            },
            "text/plain": [
              "Downloading:   0%|          | 0.00/28.0 [00:00<?, ?B/s]"
            ]
          },
          "metadata": {},
          "output_type": "display_data"
        },
        {
          "data": {
            "application/vnd.jupyter.widget-view+json": {
              "model_id": "5179d8bb5f324814ba0289c4813c3935",
              "version_major": 2,
              "version_minor": 0
            },
            "text/plain": [
              "Downloading:   0%|          | 0.00/570 [00:00<?, ?B/s]"
            ]
          },
          "metadata": {},
          "output_type": "display_data"
        }
      ],
      "source": [
        "tokenizer = BertTokenizer.from_pretrained(\"bert-base-uncased\")"
      ]
    },
    {
      "cell_type": "markdown",
      "metadata": {
        "id": "KkAzJA31kRee"
      },
      "source": [
        "### Custom dataset"
      ]
    },
    {
      "cell_type": "code",
      "execution_count": null,
      "metadata": {
        "id": "2BVGOqTtDB43"
      },
      "outputs": [],
      "source": [
        "class CustomDataset(torch.utils.data.Dataset):\n",
        "  def __init__(self, df, tokenizer, max_len):\n",
        "    self.df = df\n",
        "    self.tokenizer = tokenizer\n",
        "    self.max_len = max_len\n",
        "    self.title = self.df['paper']\n",
        "    self.targets = self.df[labels].values\n",
        "\n",
        "  def __len__(self):\n",
        "    return len(self.title)\n",
        "\n",
        "  def __getitem__(self, index):\n",
        "    title = str(self.title[index])\n",
        "    title = \" \".join(title.split())\n",
        "\n",
        "    inputs = self.tokenizer.encode_plus(\n",
        "        title,\n",
        "        None,\n",
        "        add_special_tokens = True,\n",
        "        max_length = self.max_len,\n",
        "        padding = 'max_length',\n",
        "        return_token_type_ids = True,\n",
        "        truncation = True,\n",
        "        return_attention_mask = True,\n",
        "        return_tensors = 'pt'\n",
        "    )\n",
        "\n",
        "    return {\n",
        "        'input_ids': inputs['input_ids'].flatten(),\n",
        "        'attention_mask': inputs['attention_mask'].flatten(),\n",
        "        'token_type_ids': inputs['token_type_ids'].flatten(),\n",
        "        'targets': torch.FloatTensor(self.targets[index])\n",
        "    }"
      ]
    },
    {
      "cell_type": "code",
      "execution_count": null,
      "metadata": {
        "id": "iMg9UV2rGmCh"
      },
      "outputs": [],
      "source": [
        "#train_size = 0.8\n",
        "train_df = pd.concat([X_train, y_train], axis=1).reset_index()\n",
        "val_df = pd.concat([X_val, y_val], axis=1).reset_index()\n",
        "test_df = pd.concat([X_test, y_test], axis=1).reset_index()"
      ]
    },
    {
      "cell_type": "code",
      "execution_count": null,
      "metadata": {
        "id": "zoOZCa8JBHye"
      },
      "outputs": [],
      "source": [
        "train_df = train_df.drop(['index'], axis=1)\n",
        "val_df = val_df.drop(['index'], axis=1)\n",
        "test_df = test_df.drop(['index'], axis=1)"
      ]
    },
    {
      "cell_type": "code",
      "execution_count": null,
      "metadata": {
        "id": "qTorrzbOJ2IA"
      },
      "outputs": [],
      "source": [
        "train_dataset = CustomDataset(train_df, tokenizer, MAX_LEN)\n",
        "val_dataset = CustomDataset(val_df, tokenizer, MAX_LEN)\n",
        "test_dataset = CustomDataset(test_df, tokenizer, MAX_LEN)"
      ]
    },
    {
      "cell_type": "markdown",
      "metadata": {
        "id": "3dw0cG6skKlx"
      },
      "source": [
        "### Data loaders"
      ]
    },
    {
      "cell_type": "code",
      "execution_count": null,
      "metadata": {
        "id": "94VtKm_UKLaC"
      },
      "outputs": [],
      "source": [
        "train_data_loader = torch.utils.data.DataLoader(\n",
        "    train_dataset,\n",
        "    shuffle = True,\n",
        "    batch_size = TRAIN_BATCH_SIZE,\n",
        "    num_workers = 0\n",
        ")\n",
        "\n",
        "val_data_loader = torch.utils.data.DataLoader(\n",
        "    val_dataset,\n",
        "    shuffle = True,\n",
        "    batch_size = VAL_BATCH_SIZE,\n",
        "    num_workers = 0\n",
        ")\n",
        "\n",
        "test_data_loader = torch.utils.data.DataLoader(\n",
        "    test_dataset,\n",
        "    shuffle = True,\n",
        "    batch_size = TEST_BATCH_SIZE,\n",
        "    num_workers = 0\n",
        ")"
      ]
    },
    {
      "cell_type": "code",
      "execution_count": null,
      "metadata": {
        "id": "AJalvRTGLuoJ"
      },
      "outputs": [],
      "source": [
        "device = torch.device('cuda') if torch.cuda.is_available() else torch.device('cpu')"
      ]
    },
    {
      "cell_type": "markdown",
      "metadata": {
        "id": "H-D2PYJ_kXkf"
      },
      "source": [
        "checkpoint"
      ]
    },
    {
      "cell_type": "code",
      "execution_count": null,
      "metadata": {
        "id": "rhgaKWalMNJ_"
      },
      "outputs": [],
      "source": [
        "def load_ckp(checkpoint_fpath, model, optimizer):\n",
        "  checkpoint = torch.load(checkpoint_fpath)\n",
        "  model.load_state_dict(checkpoint['state_dict'])\n",
        "  optimizer.load_state_dict(checkpoint['optimizer'])\n",
        "  valid_loss_min = checkpoint['valid_loss_min']\n",
        "  return model, optimizer, checkpoint['epoch'], valid_loss_min.item()\n",
        "\n",
        "def save_ckp(state, is_best, checkpoint_path, best_model_path):\n",
        "  f_path = checkpoint_path\n",
        "  torch.save(state, f_path)\n",
        "  if is_best:\n",
        "    best_fpath = best_model_path\n",
        "    shutil.copyfile(f_path, best_fpath)\n"
      ]
    },
    {
      "cell_type": "markdown",
      "metadata": {
        "id": "KrTJTSIYk9So"
      },
      "source": [
        "## Bert class\n"
      ]
    },
    {
      "cell_type": "code",
      "execution_count": null,
      "metadata": {
        "colab": {
          "base_uri": "https://localhost:8080/",
          "height": 1000,
          "referenced_widgets": [
            "9cde92853ac6452eb8fe1cd0b0f39403",
            "31e8f2500757428ea72316cf7db9c707",
            "df2cb5f65dcb4b99a811569748a36593",
            "61111049af0444a3902fedcdaeb45d91",
            "7368f0eac484418ca5bf46b11a35eee4",
            "f5b75877a8484a61a34cc3cec2a06240",
            "dbfb7360dd824121bf49a4354813c8c6",
            "a48b0117e76d42d4a0762b770549ca4b",
            "31865ef48d5c4840909717ab832fb66e",
            "365a7bc529e64209996d467365218c8d",
            "7f252172e6354fc583f330cc03a917cd"
          ]
        },
        "id": "79WLe8cZNFV2",
        "outputId": "e65d08e4-7f83-4438-c63e-17230cb815c7"
      },
      "outputs": [
        {
          "data": {
            "application/vnd.jupyter.widget-view+json": {
              "model_id": "9cde92853ac6452eb8fe1cd0b0f39403",
              "version_major": 2,
              "version_minor": 0
            },
            "text/plain": [
              "Downloading:   0%|          | 0.00/440M [00:00<?, ?B/s]"
            ]
          },
          "metadata": {},
          "output_type": "display_data"
        },
        {
          "name": "stderr",
          "output_type": "stream",
          "text": [
            "Some weights of the model checkpoint at bert-base-uncased were not used when initializing BertModel: ['cls.predictions.transform.dense.bias', 'cls.predictions.decoder.weight', 'cls.predictions.transform.dense.weight', 'cls.predictions.transform.LayerNorm.bias', 'cls.seq_relationship.bias', 'cls.predictions.bias', 'cls.seq_relationship.weight', 'cls.predictions.transform.LayerNorm.weight']\n",
            "- This IS expected if you are initializing BertModel from the checkpoint of a model trained on another task or with another architecture (e.g. initializing a BertForSequenceClassification model from a BertForPreTraining model).\n",
            "- This IS NOT expected if you are initializing BertModel from the checkpoint of a model that you expect to be exactly identical (initializing a BertForSequenceClassification model from a BertForSequenceClassification model).\n"
          ]
        },
        {
          "data": {
            "text/plain": [
              "BERTClass(\n",
              "  (bert_model): BertModel(\n",
              "    (embeddings): BertEmbeddings(\n",
              "      (word_embeddings): Embedding(30522, 768, padding_idx=0)\n",
              "      (position_embeddings): Embedding(512, 768)\n",
              "      (token_type_embeddings): Embedding(2, 768)\n",
              "      (LayerNorm): LayerNorm((768,), eps=1e-12, elementwise_affine=True)\n",
              "      (dropout): Dropout(p=0.1, inplace=False)\n",
              "    )\n",
              "    (encoder): BertEncoder(\n",
              "      (layer): ModuleList(\n",
              "        (0): BertLayer(\n",
              "          (attention): BertAttention(\n",
              "            (self): BertSelfAttention(\n",
              "              (query): Linear(in_features=768, out_features=768, bias=True)\n",
              "              (key): Linear(in_features=768, out_features=768, bias=True)\n",
              "              (value): Linear(in_features=768, out_features=768, bias=True)\n",
              "              (dropout): Dropout(p=0.1, inplace=False)\n",
              "            )\n",
              "            (output): BertSelfOutput(\n",
              "              (dense): Linear(in_features=768, out_features=768, bias=True)\n",
              "              (LayerNorm): LayerNorm((768,), eps=1e-12, elementwise_affine=True)\n",
              "              (dropout): Dropout(p=0.1, inplace=False)\n",
              "            )\n",
              "          )\n",
              "          (intermediate): BertIntermediate(\n",
              "            (dense): Linear(in_features=768, out_features=3072, bias=True)\n",
              "            (intermediate_act_fn): GELUActivation()\n",
              "          )\n",
              "          (output): BertOutput(\n",
              "            (dense): Linear(in_features=3072, out_features=768, bias=True)\n",
              "            (LayerNorm): LayerNorm((768,), eps=1e-12, elementwise_affine=True)\n",
              "            (dropout): Dropout(p=0.1, inplace=False)\n",
              "          )\n",
              "        )\n",
              "        (1): BertLayer(\n",
              "          (attention): BertAttention(\n",
              "            (self): BertSelfAttention(\n",
              "              (query): Linear(in_features=768, out_features=768, bias=True)\n",
              "              (key): Linear(in_features=768, out_features=768, bias=True)\n",
              "              (value): Linear(in_features=768, out_features=768, bias=True)\n",
              "              (dropout): Dropout(p=0.1, inplace=False)\n",
              "            )\n",
              "            (output): BertSelfOutput(\n",
              "              (dense): Linear(in_features=768, out_features=768, bias=True)\n",
              "              (LayerNorm): LayerNorm((768,), eps=1e-12, elementwise_affine=True)\n",
              "              (dropout): Dropout(p=0.1, inplace=False)\n",
              "            )\n",
              "          )\n",
              "          (intermediate): BertIntermediate(\n",
              "            (dense): Linear(in_features=768, out_features=3072, bias=True)\n",
              "            (intermediate_act_fn): GELUActivation()\n",
              "          )\n",
              "          (output): BertOutput(\n",
              "            (dense): Linear(in_features=3072, out_features=768, bias=True)\n",
              "            (LayerNorm): LayerNorm((768,), eps=1e-12, elementwise_affine=True)\n",
              "            (dropout): Dropout(p=0.1, inplace=False)\n",
              "          )\n",
              "        )\n",
              "        (2): BertLayer(\n",
              "          (attention): BertAttention(\n",
              "            (self): BertSelfAttention(\n",
              "              (query): Linear(in_features=768, out_features=768, bias=True)\n",
              "              (key): Linear(in_features=768, out_features=768, bias=True)\n",
              "              (value): Linear(in_features=768, out_features=768, bias=True)\n",
              "              (dropout): Dropout(p=0.1, inplace=False)\n",
              "            )\n",
              "            (output): BertSelfOutput(\n",
              "              (dense): Linear(in_features=768, out_features=768, bias=True)\n",
              "              (LayerNorm): LayerNorm((768,), eps=1e-12, elementwise_affine=True)\n",
              "              (dropout): Dropout(p=0.1, inplace=False)\n",
              "            )\n",
              "          )\n",
              "          (intermediate): BertIntermediate(\n",
              "            (dense): Linear(in_features=768, out_features=3072, bias=True)\n",
              "            (intermediate_act_fn): GELUActivation()\n",
              "          )\n",
              "          (output): BertOutput(\n",
              "            (dense): Linear(in_features=3072, out_features=768, bias=True)\n",
              "            (LayerNorm): LayerNorm((768,), eps=1e-12, elementwise_affine=True)\n",
              "            (dropout): Dropout(p=0.1, inplace=False)\n",
              "          )\n",
              "        )\n",
              "        (3): BertLayer(\n",
              "          (attention): BertAttention(\n",
              "            (self): BertSelfAttention(\n",
              "              (query): Linear(in_features=768, out_features=768, bias=True)\n",
              "              (key): Linear(in_features=768, out_features=768, bias=True)\n",
              "              (value): Linear(in_features=768, out_features=768, bias=True)\n",
              "              (dropout): Dropout(p=0.1, inplace=False)\n",
              "            )\n",
              "            (output): BertSelfOutput(\n",
              "              (dense): Linear(in_features=768, out_features=768, bias=True)\n",
              "              (LayerNorm): LayerNorm((768,), eps=1e-12, elementwise_affine=True)\n",
              "              (dropout): Dropout(p=0.1, inplace=False)\n",
              "            )\n",
              "          )\n",
              "          (intermediate): BertIntermediate(\n",
              "            (dense): Linear(in_features=768, out_features=3072, bias=True)\n",
              "            (intermediate_act_fn): GELUActivation()\n",
              "          )\n",
              "          (output): BertOutput(\n",
              "            (dense): Linear(in_features=3072, out_features=768, bias=True)\n",
              "            (LayerNorm): LayerNorm((768,), eps=1e-12, elementwise_affine=True)\n",
              "            (dropout): Dropout(p=0.1, inplace=False)\n",
              "          )\n",
              "        )\n",
              "        (4): BertLayer(\n",
              "          (attention): BertAttention(\n",
              "            (self): BertSelfAttention(\n",
              "              (query): Linear(in_features=768, out_features=768, bias=True)\n",
              "              (key): Linear(in_features=768, out_features=768, bias=True)\n",
              "              (value): Linear(in_features=768, out_features=768, bias=True)\n",
              "              (dropout): Dropout(p=0.1, inplace=False)\n",
              "            )\n",
              "            (output): BertSelfOutput(\n",
              "              (dense): Linear(in_features=768, out_features=768, bias=True)\n",
              "              (LayerNorm): LayerNorm((768,), eps=1e-12, elementwise_affine=True)\n",
              "              (dropout): Dropout(p=0.1, inplace=False)\n",
              "            )\n",
              "          )\n",
              "          (intermediate): BertIntermediate(\n",
              "            (dense): Linear(in_features=768, out_features=3072, bias=True)\n",
              "            (intermediate_act_fn): GELUActivation()\n",
              "          )\n",
              "          (output): BertOutput(\n",
              "            (dense): Linear(in_features=3072, out_features=768, bias=True)\n",
              "            (LayerNorm): LayerNorm((768,), eps=1e-12, elementwise_affine=True)\n",
              "            (dropout): Dropout(p=0.1, inplace=False)\n",
              "          )\n",
              "        )\n",
              "        (5): BertLayer(\n",
              "          (attention): BertAttention(\n",
              "            (self): BertSelfAttention(\n",
              "              (query): Linear(in_features=768, out_features=768, bias=True)\n",
              "              (key): Linear(in_features=768, out_features=768, bias=True)\n",
              "              (value): Linear(in_features=768, out_features=768, bias=True)\n",
              "              (dropout): Dropout(p=0.1, inplace=False)\n",
              "            )\n",
              "            (output): BertSelfOutput(\n",
              "              (dense): Linear(in_features=768, out_features=768, bias=True)\n",
              "              (LayerNorm): LayerNorm((768,), eps=1e-12, elementwise_affine=True)\n",
              "              (dropout): Dropout(p=0.1, inplace=False)\n",
              "            )\n",
              "          )\n",
              "          (intermediate): BertIntermediate(\n",
              "            (dense): Linear(in_features=768, out_features=3072, bias=True)\n",
              "            (intermediate_act_fn): GELUActivation()\n",
              "          )\n",
              "          (output): BertOutput(\n",
              "            (dense): Linear(in_features=3072, out_features=768, bias=True)\n",
              "            (LayerNorm): LayerNorm((768,), eps=1e-12, elementwise_affine=True)\n",
              "            (dropout): Dropout(p=0.1, inplace=False)\n",
              "          )\n",
              "        )\n",
              "        (6): BertLayer(\n",
              "          (attention): BertAttention(\n",
              "            (self): BertSelfAttention(\n",
              "              (query): Linear(in_features=768, out_features=768, bias=True)\n",
              "              (key): Linear(in_features=768, out_features=768, bias=True)\n",
              "              (value): Linear(in_features=768, out_features=768, bias=True)\n",
              "              (dropout): Dropout(p=0.1, inplace=False)\n",
              "            )\n",
              "            (output): BertSelfOutput(\n",
              "              (dense): Linear(in_features=768, out_features=768, bias=True)\n",
              "              (LayerNorm): LayerNorm((768,), eps=1e-12, elementwise_affine=True)\n",
              "              (dropout): Dropout(p=0.1, inplace=False)\n",
              "            )\n",
              "          )\n",
              "          (intermediate): BertIntermediate(\n",
              "            (dense): Linear(in_features=768, out_features=3072, bias=True)\n",
              "            (intermediate_act_fn): GELUActivation()\n",
              "          )\n",
              "          (output): BertOutput(\n",
              "            (dense): Linear(in_features=3072, out_features=768, bias=True)\n",
              "            (LayerNorm): LayerNorm((768,), eps=1e-12, elementwise_affine=True)\n",
              "            (dropout): Dropout(p=0.1, inplace=False)\n",
              "          )\n",
              "        )\n",
              "        (7): BertLayer(\n",
              "          (attention): BertAttention(\n",
              "            (self): BertSelfAttention(\n",
              "              (query): Linear(in_features=768, out_features=768, bias=True)\n",
              "              (key): Linear(in_features=768, out_features=768, bias=True)\n",
              "              (value): Linear(in_features=768, out_features=768, bias=True)\n",
              "              (dropout): Dropout(p=0.1, inplace=False)\n",
              "            )\n",
              "            (output): BertSelfOutput(\n",
              "              (dense): Linear(in_features=768, out_features=768, bias=True)\n",
              "              (LayerNorm): LayerNorm((768,), eps=1e-12, elementwise_affine=True)\n",
              "              (dropout): Dropout(p=0.1, inplace=False)\n",
              "            )\n",
              "          )\n",
              "          (intermediate): BertIntermediate(\n",
              "            (dense): Linear(in_features=768, out_features=3072, bias=True)\n",
              "            (intermediate_act_fn): GELUActivation()\n",
              "          )\n",
              "          (output): BertOutput(\n",
              "            (dense): Linear(in_features=3072, out_features=768, bias=True)\n",
              "            (LayerNorm): LayerNorm((768,), eps=1e-12, elementwise_affine=True)\n",
              "            (dropout): Dropout(p=0.1, inplace=False)\n",
              "          )\n",
              "        )\n",
              "        (8): BertLayer(\n",
              "          (attention): BertAttention(\n",
              "            (self): BertSelfAttention(\n",
              "              (query): Linear(in_features=768, out_features=768, bias=True)\n",
              "              (key): Linear(in_features=768, out_features=768, bias=True)\n",
              "              (value): Linear(in_features=768, out_features=768, bias=True)\n",
              "              (dropout): Dropout(p=0.1, inplace=False)\n",
              "            )\n",
              "            (output): BertSelfOutput(\n",
              "              (dense): Linear(in_features=768, out_features=768, bias=True)\n",
              "              (LayerNorm): LayerNorm((768,), eps=1e-12, elementwise_affine=True)\n",
              "              (dropout): Dropout(p=0.1, inplace=False)\n",
              "            )\n",
              "          )\n",
              "          (intermediate): BertIntermediate(\n",
              "            (dense): Linear(in_features=768, out_features=3072, bias=True)\n",
              "            (intermediate_act_fn): GELUActivation()\n",
              "          )\n",
              "          (output): BertOutput(\n",
              "            (dense): Linear(in_features=3072, out_features=768, bias=True)\n",
              "            (LayerNorm): LayerNorm((768,), eps=1e-12, elementwise_affine=True)\n",
              "            (dropout): Dropout(p=0.1, inplace=False)\n",
              "          )\n",
              "        )\n",
              "        (9): BertLayer(\n",
              "          (attention): BertAttention(\n",
              "            (self): BertSelfAttention(\n",
              "              (query): Linear(in_features=768, out_features=768, bias=True)\n",
              "              (key): Linear(in_features=768, out_features=768, bias=True)\n",
              "              (value): Linear(in_features=768, out_features=768, bias=True)\n",
              "              (dropout): Dropout(p=0.1, inplace=False)\n",
              "            )\n",
              "            (output): BertSelfOutput(\n",
              "              (dense): Linear(in_features=768, out_features=768, bias=True)\n",
              "              (LayerNorm): LayerNorm((768,), eps=1e-12, elementwise_affine=True)\n",
              "              (dropout): Dropout(p=0.1, inplace=False)\n",
              "            )\n",
              "          )\n",
              "          (intermediate): BertIntermediate(\n",
              "            (dense): Linear(in_features=768, out_features=3072, bias=True)\n",
              "            (intermediate_act_fn): GELUActivation()\n",
              "          )\n",
              "          (output): BertOutput(\n",
              "            (dense): Linear(in_features=3072, out_features=768, bias=True)\n",
              "            (LayerNorm): LayerNorm((768,), eps=1e-12, elementwise_affine=True)\n",
              "            (dropout): Dropout(p=0.1, inplace=False)\n",
              "          )\n",
              "        )\n",
              "        (10): BertLayer(\n",
              "          (attention): BertAttention(\n",
              "            (self): BertSelfAttention(\n",
              "              (query): Linear(in_features=768, out_features=768, bias=True)\n",
              "              (key): Linear(in_features=768, out_features=768, bias=True)\n",
              "              (value): Linear(in_features=768, out_features=768, bias=True)\n",
              "              (dropout): Dropout(p=0.1, inplace=False)\n",
              "            )\n",
              "            (output): BertSelfOutput(\n",
              "              (dense): Linear(in_features=768, out_features=768, bias=True)\n",
              "              (LayerNorm): LayerNorm((768,), eps=1e-12, elementwise_affine=True)\n",
              "              (dropout): Dropout(p=0.1, inplace=False)\n",
              "            )\n",
              "          )\n",
              "          (intermediate): BertIntermediate(\n",
              "            (dense): Linear(in_features=768, out_features=3072, bias=True)\n",
              "            (intermediate_act_fn): GELUActivation()\n",
              "          )\n",
              "          (output): BertOutput(\n",
              "            (dense): Linear(in_features=3072, out_features=768, bias=True)\n",
              "            (LayerNorm): LayerNorm((768,), eps=1e-12, elementwise_affine=True)\n",
              "            (dropout): Dropout(p=0.1, inplace=False)\n",
              "          )\n",
              "        )\n",
              "        (11): BertLayer(\n",
              "          (attention): BertAttention(\n",
              "            (self): BertSelfAttention(\n",
              "              (query): Linear(in_features=768, out_features=768, bias=True)\n",
              "              (key): Linear(in_features=768, out_features=768, bias=True)\n",
              "              (value): Linear(in_features=768, out_features=768, bias=True)\n",
              "              (dropout): Dropout(p=0.1, inplace=False)\n",
              "            )\n",
              "            (output): BertSelfOutput(\n",
              "              (dense): Linear(in_features=768, out_features=768, bias=True)\n",
              "              (LayerNorm): LayerNorm((768,), eps=1e-12, elementwise_affine=True)\n",
              "              (dropout): Dropout(p=0.1, inplace=False)\n",
              "            )\n",
              "          )\n",
              "          (intermediate): BertIntermediate(\n",
              "            (dense): Linear(in_features=768, out_features=3072, bias=True)\n",
              "            (intermediate_act_fn): GELUActivation()\n",
              "          )\n",
              "          (output): BertOutput(\n",
              "            (dense): Linear(in_features=3072, out_features=768, bias=True)\n",
              "            (LayerNorm): LayerNorm((768,), eps=1e-12, elementwise_affine=True)\n",
              "            (dropout): Dropout(p=0.1, inplace=False)\n",
              "          )\n",
              "        )\n",
              "      )\n",
              "    )\n",
              "    (pooler): BertPooler(\n",
              "      (dense): Linear(in_features=768, out_features=768, bias=True)\n",
              "      (activation): Tanh()\n",
              "    )\n",
              "  )\n",
              "  (dropout): Dropout(p=0.3, inplace=False)\n",
              "  (linear): Linear(in_features=768, out_features=6, bias=True)\n",
              ")"
            ]
          },
          "execution_count": 31,
          "metadata": {},
          "output_type": "execute_result"
        }
      ],
      "source": [
        "class BERTClass(nn.Module):\n",
        "  def __init__(self):\n",
        "    super(BERTClass, self).__init__()\n",
        "    self.bert_model = BertModel.from_pretrained('bert-base-uncased', return_dict = True)\n",
        "    self.dropout = nn.Dropout(0.3)\n",
        "    self.linear = nn.Linear(768, 6)\n",
        "\n",
        "  def forward(self, input_ids, attention_mask, token_type_ids):\n",
        "    output = self.bert_model(input_ids, attention_mask, token_type_ids)\n",
        "    output_dropout = self.dropout(output.pooler_output)\n",
        "    output = self.linear(output_dropout)\n",
        "    return output\n",
        "\n",
        "model = BERTClass()\n",
        "model.to(device)"
      ]
    },
    {
      "cell_type": "code",
      "execution_count": null,
      "metadata": {
        "id": "bGkZSDzuVYQ1"
      },
      "outputs": [],
      "source": [
        "def loss_fn(outputs, targets):\n",
        "  return nn.BCEWithLogitsLoss()(outputs, targets)\n",
        "\n",
        "optimizer = torch.optim.Adam(params=model.parameters(), lr = LEARNING_RATE)"
      ]
    },
    {
      "cell_type": "markdown",
      "metadata": {
        "id": "eihjR8Q_FnGr"
      },
      "source": [
        "### Training"
      ]
    },
    {
      "cell_type": "code",
      "execution_count": null,
      "metadata": {
        "id": "hERwTMSpWFAZ"
      },
      "outputs": [],
      "source": [
        "def train_model(n_epochs, training_loader, validation_loader, model, optimizer, checkpoint_path, best_model_path):\n",
        "  valid_loss_min = np.Inf\n",
        "\n",
        "  history = defaultdict(list)\n",
        "\n",
        "  for epoch in range(1, n_epochs+1):\n",
        "\n",
        "    print(f'Epoch {epoch}/{n_epochs}')\n",
        "    print('-' * 10)\n",
        "\n",
        "    train_loss = 0\n",
        "    valid_loss = 0\n",
        "    model.train()\n",
        "\n",
        "    # training loop\n",
        "    for index, batch in enumerate(training_loader):\n",
        "      input_ids = batch['input_ids'].to(device, dtype=torch.long)\n",
        "      attention_mask = batch['attention_mask'].to(device, dtype=torch.long)\n",
        "      token_type_ids = batch['token_type_ids'].to(device, dtype=torch.long)\n",
        "      targets = batch['targets'].to(device, dtype=torch.float)\n",
        "      outputs = model(input_ids, attention_mask, token_type_ids)\n",
        "      optimizer.zero_grad()\n",
        "      loss = loss_fn(outputs, targets)\n",
        "      optimizer.zero_grad()\n",
        "      loss.backward()\n",
        "      optimizer.step()\n",
        "      train_loss = train_loss + ((1/(index+1))*(loss.item() - train_loss))\n",
        "\n",
        "  print(f'Train loss {train_loss}')\n",
        "  print()\n",
        "\n",
        "  correct_predictions = 0\n",
        "\n",
        "  # validation loop\n",
        "  model.eval()\n",
        "  with torch.no_grad():\n",
        "    for index, batch in enumerate(validation_loader):\n",
        "      input_ids = batch['input_ids'].to(device, dtype=torch.long)\n",
        "      attention_mask = batch['attention_mask'].to(device, dtype=torch.long)\n",
        "      token_type_ids = batch['token_type_ids'].to(device, dtype=torch.long)\n",
        "      targets = batch['targets'].to(device, dtype=torch.float)\n",
        "      outputs = model(input_ids, attention_mask, token_type_ids)\n",
        "      loss = loss_fn(outputs, targets)\n",
        "      valid_loss = valid_loss + ((1/(index+1))*(loss.item()-valid_loss))\n",
        "\n",
        "    checkpoint = {\n",
        "        'epoch': epoch+1,\n",
        "        'valid_loss_min': valid_loss,\n",
        "        'state_dict': model.state_dict(),\n",
        "        'optimizer': optimizer.state_dict()\n",
        "    }\n",
        "\n",
        "    save_ckp(checkpoint, False, checkpoint_path, best_model_path)\n",
        "\n",
        "  print(f'Val   loss {valid_loss}')\n",
        "  print()\n",
        "\n",
        "  history['train_loss'].append(train_loss)\n",
        "  history['val_loss'].append(valid_loss)\n",
        "\n",
        "  return model, history"
      ]
    },
    {
      "cell_type": "code",
      "execution_count": null,
      "metadata": {
        "colab": {
          "base_uri": "https://localhost:8080/"
        },
        "id": "iGlihZSnbyov",
        "outputId": "90beacc4-72ca-4440-9b3a-b79e01da5291"
      },
      "outputs": [
        {
          "name": "stdout",
          "output_type": "stream",
          "text": [
            "Epoch 1/20\n",
            "----------\n",
            "Epoch 2/20\n",
            "----------\n",
            "Epoch 3/20\n",
            "----------\n",
            "Epoch 4/20\n",
            "----------\n",
            "Epoch 5/20\n",
            "----------\n",
            "Epoch 6/20\n",
            "----------\n",
            "Epoch 7/20\n",
            "----------\n",
            "Epoch 8/20\n",
            "----------\n",
            "Epoch 9/20\n",
            "----------\n",
            "Epoch 10/20\n",
            "----------\n",
            "Epoch 11/20\n",
            "----------\n",
            "Epoch 12/20\n",
            "----------\n",
            "Epoch 13/20\n",
            "----------\n",
            "Epoch 14/20\n",
            "----------\n",
            "Epoch 15/20\n",
            "----------\n",
            "Epoch 16/20\n",
            "----------\n",
            "Epoch 17/20\n",
            "----------\n",
            "Epoch 18/20\n",
            "----------\n",
            "Epoch 19/20\n",
            "----------\n",
            "Epoch 20/20\n",
            "----------\n",
            "Train loss 0.011367219330778323\n",
            "\n",
            "Val   loss 0.36643756247524706\n",
            "\n"
          ]
        }
      ],
      "source": [
        "trained_model, history = train_model(20, train_data_loader, val_data_loader, model, optimizer, \"/models\", \"/models\")"
      ]
    },
    {
      "cell_type": "markdown",
      "metadata": {
        "id": "Eogq4nkGFqy1"
      },
      "source": [
        "### Predictions"
      ]
    },
    {
      "cell_type": "code",
      "execution_count": null,
      "metadata": {
        "id": "0e1JkrgROMGY"
      },
      "outputs": [],
      "source": [
        "def get_predictions(model, data_loader):\n",
        "  model = model.eval()\n",
        "\n",
        "  predictions = []\n",
        "  prediction_probs = []\n",
        "  real_values = []\n",
        "\n",
        "  with torch.no_grad():\n",
        "    for d in data_loader:\n",
        "      #print(d)\n",
        "\n",
        "      #texts = d[\"review_text\"]\n",
        "      input_ids = d[\"input_ids\"].to(device)\n",
        "      attention_mask = d[\"attention_mask\"].to(device)\n",
        "      targets = d[\"targets\"].to(device)\n",
        "      token_type_ids = d[\"token_type_ids\"].to(device)\n",
        "\n",
        "      outputs = model(\n",
        "        input_ids=input_ids,\n",
        "        attention_mask=attention_mask,\n",
        "        token_type_ids=token_type_ids\n",
        "      )\n",
        "\n",
        "      #_, preds = torch.max(outputs, dim=1)\n",
        "      preds = outputs\n",
        "\n",
        "      probs = F.softmax(outputs, dim=1)\n",
        "\n",
        "      #review_texts.extend(texts)\n",
        "      predictions.extend(preds)\n",
        "      prediction_probs.extend(probs)\n",
        "      real_values.extend(targets)\n",
        "\n",
        "  predictions = torch.stack(predictions).cpu()\n",
        "  prediction_probs = torch.stack(prediction_probs).cpu()\n",
        "  real_values = torch.stack(real_values).cpu()\n",
        "  return predictions, prediction_probs, real_values"
      ]
    },
    {
      "cell_type": "code",
      "execution_count": null,
      "metadata": {
        "id": "5ri7kjOvrPZe"
      },
      "outputs": [],
      "source": [
        "y_pred, y_pred_probs, y_test = get_predictions(\n",
        "  trained_model,\n",
        "  test_data_loader\n",
        ")"
      ]
    },
    {
      "cell_type": "markdown",
      "metadata": {
        "id": "EE-I9oLqF0LE"
      },
      "source": [
        "### Thresholding the predictions"
      ]
    },
    {
      "cell_type": "code",
      "execution_count": null,
      "metadata": {
        "id": "ggfHOKs5z-TK"
      },
      "outputs": [],
      "source": [
        "def thresholding_transformers(l, threshold):\n",
        "    new_l = []\n",
        "    new_l1 = []\n",
        "    for l1 in l:\n",
        "        new_l1 = []\n",
        "        for element in l1:\n",
        "            if element >= threshold:\n",
        "                new_l1.append(1)\n",
        "            else:\n",
        "                new_l1.append(0)\n",
        "        new_l.append(new_l1)\n",
        "    return new_l"
      ]
    },
    {
      "cell_type": "code",
      "execution_count": null,
      "metadata": {
        "id": "sTinxvW7yeJ2"
      },
      "outputs": [],
      "source": [
        "y_pred_thresh = thresholding_transformers(y_pred, 0)"
      ]
    },
    {
      "cell_type": "code",
      "execution_count": null,
      "metadata": {
        "colab": {
          "base_uri": "https://localhost:8080/"
        },
        "id": "ANBUbDZxGHCY",
        "outputId": "9084d757-708c-4edf-eb2d-d487afec11e2"
      },
      "outputs": [
        {
          "name": "stdout",
          "output_type": "stream",
          "text": [
            "Thresholding predictions example:\n",
            "\n",
            "[1, 1, 0, 1, 0, 0]\n",
            "[1.0, 1.0, 0.0, 1.0, 0.0, 0.0]\n"
          ]
        }
      ],
      "source": [
        "print('Thresholding predictions example:\\n')\n",
        "print(y_pred_thresh[200])\n",
        "print(y_test[200].tolist())"
      ]
    },
    {
      "cell_type": "markdown",
      "metadata": {
        "id": "2NwUsmWcGXkL"
      },
      "source": [
        "### Evaluation"
      ]
    },
    {
      "cell_type": "code",
      "execution_count": null,
      "metadata": {
        "id": "VgVkgySn4A1y"
      },
      "outputs": [],
      "source": [
        "metric_bert = prfs(y_test, y_pred_thresh, average='macro', zero_division= 0)"
      ]
    },
    {
      "cell_type": "code",
      "execution_count": null,
      "metadata": {
        "colab": {
          "base_uri": "https://localhost:8080/"
        },
        "id": "SGAMZbZH4epN",
        "outputId": "6be60bef-ed2c-47d3-cd93-088dad5c1d49"
      },
      "outputs": [
        {
          "name": "stdout",
          "output_type": "stream",
          "text": [
            "[test] Model Bert-base macro precision:  0.7549163269065676\n",
            "[test] Model Bert-base macro recall:     0.7552461024737672\n",
            "[test] Model Bert-base macro f1_score:   0.7513980801647039\n"
          ]
        }
      ],
      "source": [
        "print(f\"{f'[test] Model Bert-base macro precision:':<40} {metric_bert[0]:>10}\")\n",
        "print(f\"{f'[test] Model Bert-base macro recall:':<40} {metric_bert[1]:>10}\")\n",
        "print(f\"{f'[test] Model Bert-base macro f1_score:':<40} {metric_bert[2]:>10}\")"
      ]
    },
    {
      "cell_type": "code",
      "execution_count": null,
      "metadata": {
        "colab": {
          "base_uri": "https://localhost:8080/"
        },
        "id": "WyBQiUR_rrjE",
        "outputId": "ddce3660-a0a6-46de-9011-959da6729ee9"
      },
      "outputs": [
        {
          "name": "stdout",
          "output_type": "stream",
          "text": [
            "                      precision    recall  f1-score   support\n",
            "\n",
            "    Computer Science       0.79      0.85      0.82      1282\n",
            "             Physics       0.88      0.89      0.89       932\n",
            "         Mathematics       0.79      0.79      0.79       843\n",
            "          Statistics       0.73      0.81      0.77       798\n",
            "Quantitative Biology       0.51      0.58      0.54        89\n",
            "Quantitative Finance       0.82      0.61      0.70        38\n",
            "\n",
            "           micro avg       0.79      0.83      0.81      3982\n",
            "           macro avg       0.75      0.76      0.75      3982\n",
            "        weighted avg       0.80      0.83      0.81      3982\n",
            "         samples avg       0.84      0.86      0.83      3982\n",
            "\n"
          ]
        },
        {
          "name": "stderr",
          "output_type": "stream",
          "text": [
            "/usr/local/lib/python3.8/dist-packages/sklearn/metrics/_classification.py:1318: UndefinedMetricWarning:\n",
            "\n",
            "Precision and F-score are ill-defined and being set to 0.0 in samples with no predicted labels. Use `zero_division` parameter to control this behavior.\n",
            "\n",
            "/usr/local/lib/python3.8/dist-packages/sklearn/metrics/_classification.py:1318: UndefinedMetricWarning:\n",
            "\n",
            "Precision and F-score are ill-defined and being set to 0.0 in samples with no predicted labels. Use `zero_division` parameter to control this behavior.\n",
            "\n"
          ]
        }
      ],
      "source": [
        "print(classification_report(y_test, y_pred_thresh, target_names=labels))\n",
        "cr_bert = classification_report(y_test, y_pred_thresh, target_names=labels, output_dict=True)"
      ]
    },
    {
      "cell_type": "code",
      "execution_count": null,
      "metadata": {
        "id": "6QV15PN3wESI"
      },
      "outputs": [],
      "source": [
        "bert_for_labels = []\n",
        "\n",
        "for i in labels:\n",
        "  bert_for_labels.append(cr_bert[i]['f1-score'])"
      ]
    },
    {
      "cell_type": "markdown",
      "metadata": {
        "id": "9GJNnc6iGZZ1"
      },
      "source": [
        "### Confusion matrix"
      ]
    },
    {
      "cell_type": "code",
      "execution_count": null,
      "metadata": {
        "id": "p4YbE6LN4sBm"
      },
      "outputs": [],
      "source": [
        "bert_dfpred = pd.DataFrame(y_pred_thresh)"
      ]
    },
    {
      "cell_type": "code",
      "execution_count": null,
      "metadata": {
        "colab": {
          "base_uri": "https://localhost:8080/",
          "height": 1000
        },
        "id": "tDNbbX_e4yiW",
        "outputId": "1e25159a-51f1-4680-917d-b50606b6598b"
      },
      "outputs": [
        {
          "data": {
            "text/html": [
              "<html>\n",
              "<head><meta charset=\"utf-8\" /></head>\n",
              "<body>\n",
              "    <div>            <script src=\"https://cdnjs.cloudflare.com/ajax/libs/mathjax/2.7.5/MathJax.js?config=TeX-AMS-MML_SVG\"></script><script type=\"text/javascript\">if (window.MathJax) {MathJax.Hub.Config({SVG: {font: \"STIX-Web\"}});}</script>                <script type=\"text/javascript\">window.PlotlyConfig = {MathJaxConfig: 'local'};</script>\n",
              "        <script src=\"https://cdn.plot.ly/plotly-2.8.3.min.js\"></script>                <div id=\"53e9df31-3c8b-4f2a-b81a-fda853addb2c\" class=\"plotly-graph-div\" style=\"height:1200px; width:1200px;\"></div>            <script type=\"text/javascript\">                                    window.PLOTLYENV=window.PLOTLYENV || {};                                    if (document.getElementById(\"53e9df31-3c8b-4f2a-b81a-fda853addb2c\")) {                    Plotly.newPlot(                        \"53e9df31-3c8b-4f2a-b81a-fda853addb2c\",                        [{\"text\":[[1579,285],[193,1089]],\"textfont\":{\"size\":20},\"texttemplate\":\"%{text}\",\"x\":[\"Pos\",\"Neg\"],\"y\":[\"Neg\",\"Pos\"],\"z\":[[285,1579],[1089,193]],\"type\":\"heatmap\",\"xaxis\":\"x\",\"yaxis\":\"y\",\"showscale\":false},{\"text\":[[2105,109],[102,830]],\"textfont\":{\"size\":20},\"texttemplate\":\"%{text}\",\"x\":[\"Pos\",\"Neg\"],\"y\":[\"Neg\",\"Pos\"],\"z\":[[109,2105],[830,102]],\"type\":\"heatmap\",\"xaxis\":\"x2\",\"yaxis\":\"y2\",\"showscale\":false},{\"text\":[[2130,173],[175,668]],\"textfont\":{\"size\":20},\"texttemplate\":\"%{text}\",\"x\":[\"Pos\",\"Neg\"],\"y\":[\"Neg\",\"Pos\"],\"z\":[[173,2130],[668,175]],\"type\":\"heatmap\",\"xaxis\":\"x3\",\"yaxis\":\"y3\",\"showscale\":false},{\"text\":[[2106,242],[152,646]],\"textfont\":{\"size\":20},\"texttemplate\":\"%{text}\",\"x\":[\"Pos\",\"Neg\"],\"y\":[\"Neg\",\"Pos\"],\"z\":[[242,2106],[646,152]],\"type\":\"heatmap\",\"xaxis\":\"x4\",\"yaxis\":\"y4\",\"showscale\":false},{\"text\":[[3007,50],[37,52]],\"textfont\":{\"size\":20},\"texttemplate\":\"%{text}\",\"x\":[\"Pos\",\"Neg\"],\"y\":[\"Neg\",\"Pos\"],\"z\":[[50,3007],[52,37]],\"type\":\"heatmap\",\"xaxis\":\"x5\",\"yaxis\":\"y5\",\"showscale\":false},{\"text\":[[3103,5],[15,23]],\"textfont\":{\"size\":20},\"texttemplate\":\"%{text}\",\"x\":[\"Pos\",\"Neg\"],\"y\":[\"Neg\",\"Pos\"],\"z\":[[5,3103],[23,15]],\"type\":\"heatmap\",\"xaxis\":\"x6\",\"yaxis\":\"y6\",\"showscale\":false}],                        {\"template\":{\"data\":{\"bar\":[{\"error_x\":{\"color\":\"#2a3f5f\"},\"error_y\":{\"color\":\"#2a3f5f\"},\"marker\":{\"line\":{\"color\":\"#E5ECF6\",\"width\":0.5},\"pattern\":{\"fillmode\":\"overlay\",\"size\":10,\"solidity\":0.2}},\"type\":\"bar\"}],\"barpolar\":[{\"marker\":{\"line\":{\"color\":\"#E5ECF6\",\"width\":0.5},\"pattern\":{\"fillmode\":\"overlay\",\"size\":10,\"solidity\":0.2}},\"type\":\"barpolar\"}],\"carpet\":[{\"aaxis\":{\"endlinecolor\":\"#2a3f5f\",\"gridcolor\":\"white\",\"linecolor\":\"white\",\"minorgridcolor\":\"white\",\"startlinecolor\":\"#2a3f5f\"},\"baxis\":{\"endlinecolor\":\"#2a3f5f\",\"gridcolor\":\"white\",\"linecolor\":\"white\",\"minorgridcolor\":\"white\",\"startlinecolor\":\"#2a3f5f\"},\"type\":\"carpet\"}],\"choropleth\":[{\"colorbar\":{\"outlinewidth\":0,\"ticks\":\"\"},\"type\":\"choropleth\"}],\"contour\":[{\"colorbar\":{\"outlinewidth\":0,\"ticks\":\"\"},\"colorscale\":[[0.0,\"#0d0887\"],[0.1111111111111111,\"#46039f\"],[0.2222222222222222,\"#7201a8\"],[0.3333333333333333,\"#9c179e\"],[0.4444444444444444,\"#bd3786\"],[0.5555555555555556,\"#d8576b\"],[0.6666666666666666,\"#ed7953\"],[0.7777777777777778,\"#fb9f3a\"],[0.8888888888888888,\"#fdca26\"],[1.0,\"#f0f921\"]],\"type\":\"contour\"}],\"contourcarpet\":[{\"colorbar\":{\"outlinewidth\":0,\"ticks\":\"\"},\"type\":\"contourcarpet\"}],\"heatmap\":[{\"colorbar\":{\"outlinewidth\":0,\"ticks\":\"\"},\"colorscale\":[[0.0,\"#0d0887\"],[0.1111111111111111,\"#46039f\"],[0.2222222222222222,\"#7201a8\"],[0.3333333333333333,\"#9c179e\"],[0.4444444444444444,\"#bd3786\"],[0.5555555555555556,\"#d8576b\"],[0.6666666666666666,\"#ed7953\"],[0.7777777777777778,\"#fb9f3a\"],[0.8888888888888888,\"#fdca26\"],[1.0,\"#f0f921\"]],\"type\":\"heatmap\"}],\"heatmapgl\":[{\"colorbar\":{\"outlinewidth\":0,\"ticks\":\"\"},\"colorscale\":[[0.0,\"#0d0887\"],[0.1111111111111111,\"#46039f\"],[0.2222222222222222,\"#7201a8\"],[0.3333333333333333,\"#9c179e\"],[0.4444444444444444,\"#bd3786\"],[0.5555555555555556,\"#d8576b\"],[0.6666666666666666,\"#ed7953\"],[0.7777777777777778,\"#fb9f3a\"],[0.8888888888888888,\"#fdca26\"],[1.0,\"#f0f921\"]],\"type\":\"heatmapgl\"}],\"histogram\":[{\"marker\":{\"pattern\":{\"fillmode\":\"overlay\",\"size\":10,\"solidity\":0.2}},\"type\":\"histogram\"}],\"histogram2d\":[{\"colorbar\":{\"outlinewidth\":0,\"ticks\":\"\"},\"colorscale\":[[0.0,\"#0d0887\"],[0.1111111111111111,\"#46039f\"],[0.2222222222222222,\"#7201a8\"],[0.3333333333333333,\"#9c179e\"],[0.4444444444444444,\"#bd3786\"],[0.5555555555555556,\"#d8576b\"],[0.6666666666666666,\"#ed7953\"],[0.7777777777777778,\"#fb9f3a\"],[0.8888888888888888,\"#fdca26\"],[1.0,\"#f0f921\"]],\"type\":\"histogram2d\"}],\"histogram2dcontour\":[{\"colorbar\":{\"outlinewidth\":0,\"ticks\":\"\"},\"colorscale\":[[0.0,\"#0d0887\"],[0.1111111111111111,\"#46039f\"],[0.2222222222222222,\"#7201a8\"],[0.3333333333333333,\"#9c179e\"],[0.4444444444444444,\"#bd3786\"],[0.5555555555555556,\"#d8576b\"],[0.6666666666666666,\"#ed7953\"],[0.7777777777777778,\"#fb9f3a\"],[0.8888888888888888,\"#fdca26\"],[1.0,\"#f0f921\"]],\"type\":\"histogram2dcontour\"}],\"mesh3d\":[{\"colorbar\":{\"outlinewidth\":0,\"ticks\":\"\"},\"type\":\"mesh3d\"}],\"parcoords\":[{\"line\":{\"colorbar\":{\"outlinewidth\":0,\"ticks\":\"\"}},\"type\":\"parcoords\"}],\"pie\":[{\"automargin\":true,\"type\":\"pie\"}],\"scatter\":[{\"marker\":{\"colorbar\":{\"outlinewidth\":0,\"ticks\":\"\"}},\"type\":\"scatter\"}],\"scatter3d\":[{\"line\":{\"colorbar\":{\"outlinewidth\":0,\"ticks\":\"\"}},\"marker\":{\"colorbar\":{\"outlinewidth\":0,\"ticks\":\"\"}},\"type\":\"scatter3d\"}],\"scattercarpet\":[{\"marker\":{\"colorbar\":{\"outlinewidth\":0,\"ticks\":\"\"}},\"type\":\"scattercarpet\"}],\"scattergeo\":[{\"marker\":{\"colorbar\":{\"outlinewidth\":0,\"ticks\":\"\"}},\"type\":\"scattergeo\"}],\"scattergl\":[{\"marker\":{\"colorbar\":{\"outlinewidth\":0,\"ticks\":\"\"}},\"type\":\"scattergl\"}],\"scattermapbox\":[{\"marker\":{\"colorbar\":{\"outlinewidth\":0,\"ticks\":\"\"}},\"type\":\"scattermapbox\"}],\"scatterpolar\":[{\"marker\":{\"colorbar\":{\"outlinewidth\":0,\"ticks\":\"\"}},\"type\":\"scatterpolar\"}],\"scatterpolargl\":[{\"marker\":{\"colorbar\":{\"outlinewidth\":0,\"ticks\":\"\"}},\"type\":\"scatterpolargl\"}],\"scatterternary\":[{\"marker\":{\"colorbar\":{\"outlinewidth\":0,\"ticks\":\"\"}},\"type\":\"scatterternary\"}],\"surface\":[{\"colorbar\":{\"outlinewidth\":0,\"ticks\":\"\"},\"colorscale\":[[0.0,\"#0d0887\"],[0.1111111111111111,\"#46039f\"],[0.2222222222222222,\"#7201a8\"],[0.3333333333333333,\"#9c179e\"],[0.4444444444444444,\"#bd3786\"],[0.5555555555555556,\"#d8576b\"],[0.6666666666666666,\"#ed7953\"],[0.7777777777777778,\"#fb9f3a\"],[0.8888888888888888,\"#fdca26\"],[1.0,\"#f0f921\"]],\"type\":\"surface\"}],\"table\":[{\"cells\":{\"fill\":{\"color\":\"#EBF0F8\"},\"line\":{\"color\":\"white\"}},\"header\":{\"fill\":{\"color\":\"#C8D4E3\"},\"line\":{\"color\":\"white\"}},\"type\":\"table\"}]},\"layout\":{\"annotationdefaults\":{\"arrowcolor\":\"#2a3f5f\",\"arrowhead\":0,\"arrowwidth\":1},\"autotypenumbers\":\"strict\",\"coloraxis\":{\"colorbar\":{\"outlinewidth\":0,\"ticks\":\"\"}},\"colorscale\":{\"diverging\":[[0,\"#8e0152\"],[0.1,\"#c51b7d\"],[0.2,\"#de77ae\"],[0.3,\"#f1b6da\"],[0.4,\"#fde0ef\"],[0.5,\"#f7f7f7\"],[0.6,\"#e6f5d0\"],[0.7,\"#b8e186\"],[0.8,\"#7fbc41\"],[0.9,\"#4d9221\"],[1,\"#276419\"]],\"sequential\":[[0.0,\"#0d0887\"],[0.1111111111111111,\"#46039f\"],[0.2222222222222222,\"#7201a8\"],[0.3333333333333333,\"#9c179e\"],[0.4444444444444444,\"#bd3786\"],[0.5555555555555556,\"#d8576b\"],[0.6666666666666666,\"#ed7953\"],[0.7777777777777778,\"#fb9f3a\"],[0.8888888888888888,\"#fdca26\"],[1.0,\"#f0f921\"]],\"sequentialminus\":[[0.0,\"#0d0887\"],[0.1111111111111111,\"#46039f\"],[0.2222222222222222,\"#7201a8\"],[0.3333333333333333,\"#9c179e\"],[0.4444444444444444,\"#bd3786\"],[0.5555555555555556,\"#d8576b\"],[0.6666666666666666,\"#ed7953\"],[0.7777777777777778,\"#fb9f3a\"],[0.8888888888888888,\"#fdca26\"],[1.0,\"#f0f921\"]]},\"colorway\":[\"#636efa\",\"#EF553B\",\"#00cc96\",\"#ab63fa\",\"#FFA15A\",\"#19d3f3\",\"#FF6692\",\"#B6E880\",\"#FF97FF\",\"#FECB52\"],\"font\":{\"color\":\"#2a3f5f\"},\"geo\":{\"bgcolor\":\"white\",\"lakecolor\":\"white\",\"landcolor\":\"#E5ECF6\",\"showlakes\":true,\"showland\":true,\"subunitcolor\":\"white\"},\"hoverlabel\":{\"align\":\"left\"},\"hovermode\":\"closest\",\"mapbox\":{\"style\":\"light\"},\"paper_bgcolor\":\"white\",\"plot_bgcolor\":\"#E5ECF6\",\"polar\":{\"angularaxis\":{\"gridcolor\":\"white\",\"linecolor\":\"white\",\"ticks\":\"\"},\"bgcolor\":\"#E5ECF6\",\"radialaxis\":{\"gridcolor\":\"white\",\"linecolor\":\"white\",\"ticks\":\"\"}},\"scene\":{\"xaxis\":{\"backgroundcolor\":\"#E5ECF6\",\"gridcolor\":\"white\",\"gridwidth\":2,\"linecolor\":\"white\",\"showbackground\":true,\"ticks\":\"\",\"zerolinecolor\":\"white\"},\"yaxis\":{\"backgroundcolor\":\"#E5ECF6\",\"gridcolor\":\"white\",\"gridwidth\":2,\"linecolor\":\"white\",\"showbackground\":true,\"ticks\":\"\",\"zerolinecolor\":\"white\"},\"zaxis\":{\"backgroundcolor\":\"#E5ECF6\",\"gridcolor\":\"white\",\"gridwidth\":2,\"linecolor\":\"white\",\"showbackground\":true,\"ticks\":\"\",\"zerolinecolor\":\"white\"}},\"shapedefaults\":{\"line\":{\"color\":\"#2a3f5f\"}},\"ternary\":{\"aaxis\":{\"gridcolor\":\"white\",\"linecolor\":\"white\",\"ticks\":\"\"},\"baxis\":{\"gridcolor\":\"white\",\"linecolor\":\"white\",\"ticks\":\"\"},\"bgcolor\":\"#E5ECF6\",\"caxis\":{\"gridcolor\":\"white\",\"linecolor\":\"white\",\"ticks\":\"\"}},\"title\":{\"x\":0.05},\"xaxis\":{\"automargin\":true,\"gridcolor\":\"white\",\"linecolor\":\"white\",\"ticks\":\"\",\"title\":{\"standoff\":15},\"zerolinecolor\":\"white\",\"zerolinewidth\":2},\"yaxis\":{\"automargin\":true,\"gridcolor\":\"white\",\"linecolor\":\"white\",\"ticks\":\"\",\"title\":{\"standoff\":15},\"zerolinecolor\":\"white\",\"zerolinewidth\":2}}},\"xaxis\":{\"anchor\":\"y\",\"domain\":[0.0,0.2888888888888889]},\"yaxis\":{\"anchor\":\"x\",\"domain\":[0.625,1.0]},\"xaxis2\":{\"anchor\":\"y2\",\"domain\":[0.35555555555555557,0.6444444444444445]},\"yaxis2\":{\"anchor\":\"x2\",\"domain\":[0.625,1.0]},\"xaxis3\":{\"anchor\":\"y3\",\"domain\":[0.7111111111111111,1.0]},\"yaxis3\":{\"anchor\":\"x3\",\"domain\":[0.625,1.0]},\"xaxis4\":{\"anchor\":\"y4\",\"domain\":[0.0,0.2888888888888889]},\"yaxis4\":{\"anchor\":\"x4\",\"domain\":[0.0,0.375]},\"xaxis5\":{\"anchor\":\"y5\",\"domain\":[0.35555555555555557,0.6444444444444445]},\"yaxis5\":{\"anchor\":\"x5\",\"domain\":[0.0,0.375]},\"xaxis6\":{\"anchor\":\"y6\",\"domain\":[0.7111111111111111,1.0]},\"yaxis6\":{\"anchor\":\"x6\",\"domain\":[0.0,0.375]},\"annotations\":[{\"font\":{\"size\":16},\"showarrow\":false,\"text\":\"Computer Science\",\"x\":0.14444444444444446,\"xanchor\":\"center\",\"xref\":\"paper\",\"y\":1.0,\"yanchor\":\"bottom\",\"yref\":\"paper\"},{\"font\":{\"size\":16},\"showarrow\":false,\"text\":\"Physics\",\"x\":0.5,\"xanchor\":\"center\",\"xref\":\"paper\",\"y\":1.0,\"yanchor\":\"bottom\",\"yref\":\"paper\"},{\"font\":{\"size\":16},\"showarrow\":false,\"text\":\"Mathematics\",\"x\":0.8555555555555556,\"xanchor\":\"center\",\"xref\":\"paper\",\"y\":1.0,\"yanchor\":\"bottom\",\"yref\":\"paper\"},{\"font\":{\"size\":16},\"showarrow\":false,\"text\":\"Statistics\",\"x\":0.14444444444444446,\"xanchor\":\"center\",\"xref\":\"paper\",\"y\":0.375,\"yanchor\":\"bottom\",\"yref\":\"paper\"},{\"font\":{\"size\":16},\"showarrow\":false,\"text\":\"Quantitative Biology\",\"x\":0.5,\"xanchor\":\"center\",\"xref\":\"paper\",\"y\":0.375,\"yanchor\":\"bottom\",\"yref\":\"paper\"},{\"font\":{\"size\":16},\"showarrow\":false,\"text\":\"Quantitative Finance\",\"x\":0.8555555555555556,\"xanchor\":\"center\",\"xref\":\"paper\",\"y\":0.375,\"yanchor\":\"bottom\",\"yref\":\"paper\"}],\"title\":{\"text\":\"Bert Confusion matrix\"},\"height\":1200,\"width\":1200},                        {\"responsive\": true}                    ).then(function(){\n",
              "                            \n",
              "var gd = document.getElementById('53e9df31-3c8b-4f2a-b81a-fda853addb2c');\n",
              "var x = new MutationObserver(function (mutations, observer) {{\n",
              "        var display = window.getComputedStyle(gd).display;\n",
              "        if (!display || display === 'none') {{\n",
              "            console.log([gd, 'removed!']);\n",
              "            Plotly.purge(gd);\n",
              "            observer.disconnect();\n",
              "        }}\n",
              "}});\n",
              "\n",
              "// Listen for the removal of the full notebook cells\n",
              "var notebookContainer = gd.closest('#notebook-container');\n",
              "if (notebookContainer) {{\n",
              "    x.observe(notebookContainer, {childList: true});\n",
              "}}\n",
              "\n",
              "// Listen for the clearing of the current output cell\n",
              "var outputEl = gd.closest('.output');\n",
              "if (outputEl) {{\n",
              "    x.observe(outputEl, {childList: true});\n",
              "}}\n",
              "\n",
              "                        })                };                            </script>        </div>\n",
              "</body>\n",
              "</html>"
            ]
          },
          "metadata": {},
          "output_type": "display_data"
        }
      ],
      "source": [
        "cm = multilabel_confusion_matrix(y_test.tolist(), bert_dfpred.to_numpy())\n",
        "fig = make_subplots(2, 3, subplot_titles=labels)\n",
        "\n",
        "for i in range(2):\n",
        "    for j in range(3):\n",
        "        current_map = cm[((j+1)+(i*3))-1]\n",
        "        TN = current_map[0][0]\n",
        "        FN = current_map[1][0]\n",
        "        TP = current_map[1][1]\n",
        "        FP = current_map[0][1]\n",
        "        fig.add_trace(\n",
        "            go.Heatmap(\n",
        "                z = [[FP, TN], [TP, FN]],\n",
        "                x = ['Pos', 'Neg'],\n",
        "                y = ['Neg', 'Pos'],\n",
        "                text = cm[((j+1)+(i*3))-1],\n",
        "                texttemplate=\"%{text}\",\n",
        "                textfont={\"size\":20}), (i+1), (j+1))\n",
        "fig.update_traces(showscale=False)\n",
        "fig.update_layout(height=1200, width=1200, title_text='Bert Confusion matrix')\n",
        "fig.show()"
      ]
    },
    {
      "cell_type": "markdown",
      "metadata": {
        "id": "kVcJ2cfeGdoF"
      },
      "source": [
        "### Score plot"
      ]
    },
    {
      "cell_type": "code",
      "execution_count": null,
      "metadata": {
        "colab": {
          "base_uri": "https://localhost:8080/",
          "height": 542
        },
        "id": "jiDAtCXR5Tf9",
        "outputId": "76bed41b-2c1e-4e93-934a-806a2a0fe988"
      },
      "outputs": [
        {
          "data": {
            "text/html": [
              "<html>\n",
              "<head><meta charset=\"utf-8\" /></head>\n",
              "<body>\n",
              "    <div>            <script src=\"https://cdnjs.cloudflare.com/ajax/libs/mathjax/2.7.5/MathJax.js?config=TeX-AMS-MML_SVG\"></script><script type=\"text/javascript\">if (window.MathJax) {MathJax.Hub.Config({SVG: {font: \"STIX-Web\"}});}</script>                <script type=\"text/javascript\">window.PlotlyConfig = {MathJaxConfig: 'local'};</script>\n",
              "        <script src=\"https://cdn.plot.ly/plotly-2.8.3.min.js\"></script>                <div id=\"bb0a1cea-9f1f-4513-8779-bf2c5acb1347\" class=\"plotly-graph-div\" style=\"height:525px; width:100%;\"></div>            <script type=\"text/javascript\">                                    window.PLOTLYENV=window.PLOTLYENV || {};                                    if (document.getElementById(\"bb0a1cea-9f1f-4513-8779-bf2c5acb1347\")) {                    Plotly.newPlot(                        \"bb0a1cea-9f1f-4513-8779-bf2c5acb1347\",                        [{\"name\":\"Bert-Base\",\"x\":[\"precision\",\"recall\",\"F1-score\"],\"y\":[0.7549163269065676,0.7552461024737672,0.7513980801647039,null],\"type\":\"bar\"}],                        {\"template\":{\"data\":{\"bar\":[{\"error_x\":{\"color\":\"#2a3f5f\"},\"error_y\":{\"color\":\"#2a3f5f\"},\"marker\":{\"line\":{\"color\":\"#E5ECF6\",\"width\":0.5},\"pattern\":{\"fillmode\":\"overlay\",\"size\":10,\"solidity\":0.2}},\"type\":\"bar\"}],\"barpolar\":[{\"marker\":{\"line\":{\"color\":\"#E5ECF6\",\"width\":0.5},\"pattern\":{\"fillmode\":\"overlay\",\"size\":10,\"solidity\":0.2}},\"type\":\"barpolar\"}],\"carpet\":[{\"aaxis\":{\"endlinecolor\":\"#2a3f5f\",\"gridcolor\":\"white\",\"linecolor\":\"white\",\"minorgridcolor\":\"white\",\"startlinecolor\":\"#2a3f5f\"},\"baxis\":{\"endlinecolor\":\"#2a3f5f\",\"gridcolor\":\"white\",\"linecolor\":\"white\",\"minorgridcolor\":\"white\",\"startlinecolor\":\"#2a3f5f\"},\"type\":\"carpet\"}],\"choropleth\":[{\"colorbar\":{\"outlinewidth\":0,\"ticks\":\"\"},\"type\":\"choropleth\"}],\"contour\":[{\"colorbar\":{\"outlinewidth\":0,\"ticks\":\"\"},\"colorscale\":[[0.0,\"#0d0887\"],[0.1111111111111111,\"#46039f\"],[0.2222222222222222,\"#7201a8\"],[0.3333333333333333,\"#9c179e\"],[0.4444444444444444,\"#bd3786\"],[0.5555555555555556,\"#d8576b\"],[0.6666666666666666,\"#ed7953\"],[0.7777777777777778,\"#fb9f3a\"],[0.8888888888888888,\"#fdca26\"],[1.0,\"#f0f921\"]],\"type\":\"contour\"}],\"contourcarpet\":[{\"colorbar\":{\"outlinewidth\":0,\"ticks\":\"\"},\"type\":\"contourcarpet\"}],\"heatmap\":[{\"colorbar\":{\"outlinewidth\":0,\"ticks\":\"\"},\"colorscale\":[[0.0,\"#0d0887\"],[0.1111111111111111,\"#46039f\"],[0.2222222222222222,\"#7201a8\"],[0.3333333333333333,\"#9c179e\"],[0.4444444444444444,\"#bd3786\"],[0.5555555555555556,\"#d8576b\"],[0.6666666666666666,\"#ed7953\"],[0.7777777777777778,\"#fb9f3a\"],[0.8888888888888888,\"#fdca26\"],[1.0,\"#f0f921\"]],\"type\":\"heatmap\"}],\"heatmapgl\":[{\"colorbar\":{\"outlinewidth\":0,\"ticks\":\"\"},\"colorscale\":[[0.0,\"#0d0887\"],[0.1111111111111111,\"#46039f\"],[0.2222222222222222,\"#7201a8\"],[0.3333333333333333,\"#9c179e\"],[0.4444444444444444,\"#bd3786\"],[0.5555555555555556,\"#d8576b\"],[0.6666666666666666,\"#ed7953\"],[0.7777777777777778,\"#fb9f3a\"],[0.8888888888888888,\"#fdca26\"],[1.0,\"#f0f921\"]],\"type\":\"heatmapgl\"}],\"histogram\":[{\"marker\":{\"pattern\":{\"fillmode\":\"overlay\",\"size\":10,\"solidity\":0.2}},\"type\":\"histogram\"}],\"histogram2d\":[{\"colorbar\":{\"outlinewidth\":0,\"ticks\":\"\"},\"colorscale\":[[0.0,\"#0d0887\"],[0.1111111111111111,\"#46039f\"],[0.2222222222222222,\"#7201a8\"],[0.3333333333333333,\"#9c179e\"],[0.4444444444444444,\"#bd3786\"],[0.5555555555555556,\"#d8576b\"],[0.6666666666666666,\"#ed7953\"],[0.7777777777777778,\"#fb9f3a\"],[0.8888888888888888,\"#fdca26\"],[1.0,\"#f0f921\"]],\"type\":\"histogram2d\"}],\"histogram2dcontour\":[{\"colorbar\":{\"outlinewidth\":0,\"ticks\":\"\"},\"colorscale\":[[0.0,\"#0d0887\"],[0.1111111111111111,\"#46039f\"],[0.2222222222222222,\"#7201a8\"],[0.3333333333333333,\"#9c179e\"],[0.4444444444444444,\"#bd3786\"],[0.5555555555555556,\"#d8576b\"],[0.6666666666666666,\"#ed7953\"],[0.7777777777777778,\"#fb9f3a\"],[0.8888888888888888,\"#fdca26\"],[1.0,\"#f0f921\"]],\"type\":\"histogram2dcontour\"}],\"mesh3d\":[{\"colorbar\":{\"outlinewidth\":0,\"ticks\":\"\"},\"type\":\"mesh3d\"}],\"parcoords\":[{\"line\":{\"colorbar\":{\"outlinewidth\":0,\"ticks\":\"\"}},\"type\":\"parcoords\"}],\"pie\":[{\"automargin\":true,\"type\":\"pie\"}],\"scatter\":[{\"marker\":{\"colorbar\":{\"outlinewidth\":0,\"ticks\":\"\"}},\"type\":\"scatter\"}],\"scatter3d\":[{\"line\":{\"colorbar\":{\"outlinewidth\":0,\"ticks\":\"\"}},\"marker\":{\"colorbar\":{\"outlinewidth\":0,\"ticks\":\"\"}},\"type\":\"scatter3d\"}],\"scattercarpet\":[{\"marker\":{\"colorbar\":{\"outlinewidth\":0,\"ticks\":\"\"}},\"type\":\"scattercarpet\"}],\"scattergeo\":[{\"marker\":{\"colorbar\":{\"outlinewidth\":0,\"ticks\":\"\"}},\"type\":\"scattergeo\"}],\"scattergl\":[{\"marker\":{\"colorbar\":{\"outlinewidth\":0,\"ticks\":\"\"}},\"type\":\"scattergl\"}],\"scattermapbox\":[{\"marker\":{\"colorbar\":{\"outlinewidth\":0,\"ticks\":\"\"}},\"type\":\"scattermapbox\"}],\"scatterpolar\":[{\"marker\":{\"colorbar\":{\"outlinewidth\":0,\"ticks\":\"\"}},\"type\":\"scatterpolar\"}],\"scatterpolargl\":[{\"marker\":{\"colorbar\":{\"outlinewidth\":0,\"ticks\":\"\"}},\"type\":\"scatterpolargl\"}],\"scatterternary\":[{\"marker\":{\"colorbar\":{\"outlinewidth\":0,\"ticks\":\"\"}},\"type\":\"scatterternary\"}],\"surface\":[{\"colorbar\":{\"outlinewidth\":0,\"ticks\":\"\"},\"colorscale\":[[0.0,\"#0d0887\"],[0.1111111111111111,\"#46039f\"],[0.2222222222222222,\"#7201a8\"],[0.3333333333333333,\"#9c179e\"],[0.4444444444444444,\"#bd3786\"],[0.5555555555555556,\"#d8576b\"],[0.6666666666666666,\"#ed7953\"],[0.7777777777777778,\"#fb9f3a\"],[0.8888888888888888,\"#fdca26\"],[1.0,\"#f0f921\"]],\"type\":\"surface\"}],\"table\":[{\"cells\":{\"fill\":{\"color\":\"#EBF0F8\"},\"line\":{\"color\":\"white\"}},\"header\":{\"fill\":{\"color\":\"#C8D4E3\"},\"line\":{\"color\":\"white\"}},\"type\":\"table\"}]},\"layout\":{\"annotationdefaults\":{\"arrowcolor\":\"#2a3f5f\",\"arrowhead\":0,\"arrowwidth\":1},\"autotypenumbers\":\"strict\",\"coloraxis\":{\"colorbar\":{\"outlinewidth\":0,\"ticks\":\"\"}},\"colorscale\":{\"diverging\":[[0,\"#8e0152\"],[0.1,\"#c51b7d\"],[0.2,\"#de77ae\"],[0.3,\"#f1b6da\"],[0.4,\"#fde0ef\"],[0.5,\"#f7f7f7\"],[0.6,\"#e6f5d0\"],[0.7,\"#b8e186\"],[0.8,\"#7fbc41\"],[0.9,\"#4d9221\"],[1,\"#276419\"]],\"sequential\":[[0.0,\"#0d0887\"],[0.1111111111111111,\"#46039f\"],[0.2222222222222222,\"#7201a8\"],[0.3333333333333333,\"#9c179e\"],[0.4444444444444444,\"#bd3786\"],[0.5555555555555556,\"#d8576b\"],[0.6666666666666666,\"#ed7953\"],[0.7777777777777778,\"#fb9f3a\"],[0.8888888888888888,\"#fdca26\"],[1.0,\"#f0f921\"]],\"sequentialminus\":[[0.0,\"#0d0887\"],[0.1111111111111111,\"#46039f\"],[0.2222222222222222,\"#7201a8\"],[0.3333333333333333,\"#9c179e\"],[0.4444444444444444,\"#bd3786\"],[0.5555555555555556,\"#d8576b\"],[0.6666666666666666,\"#ed7953\"],[0.7777777777777778,\"#fb9f3a\"],[0.8888888888888888,\"#fdca26\"],[1.0,\"#f0f921\"]]},\"colorway\":[\"#636efa\",\"#EF553B\",\"#00cc96\",\"#ab63fa\",\"#FFA15A\",\"#19d3f3\",\"#FF6692\",\"#B6E880\",\"#FF97FF\",\"#FECB52\"],\"font\":{\"color\":\"#2a3f5f\"},\"geo\":{\"bgcolor\":\"white\",\"lakecolor\":\"white\",\"landcolor\":\"#E5ECF6\",\"showlakes\":true,\"showland\":true,\"subunitcolor\":\"white\"},\"hoverlabel\":{\"align\":\"left\"},\"hovermode\":\"closest\",\"mapbox\":{\"style\":\"light\"},\"paper_bgcolor\":\"white\",\"plot_bgcolor\":\"#E5ECF6\",\"polar\":{\"angularaxis\":{\"gridcolor\":\"white\",\"linecolor\":\"white\",\"ticks\":\"\"},\"bgcolor\":\"#E5ECF6\",\"radialaxis\":{\"gridcolor\":\"white\",\"linecolor\":\"white\",\"ticks\":\"\"}},\"scene\":{\"xaxis\":{\"backgroundcolor\":\"#E5ECF6\",\"gridcolor\":\"white\",\"gridwidth\":2,\"linecolor\":\"white\",\"showbackground\":true,\"ticks\":\"\",\"zerolinecolor\":\"white\"},\"yaxis\":{\"backgroundcolor\":\"#E5ECF6\",\"gridcolor\":\"white\",\"gridwidth\":2,\"linecolor\":\"white\",\"showbackground\":true,\"ticks\":\"\",\"zerolinecolor\":\"white\"},\"zaxis\":{\"backgroundcolor\":\"#E5ECF6\",\"gridcolor\":\"white\",\"gridwidth\":2,\"linecolor\":\"white\",\"showbackground\":true,\"ticks\":\"\",\"zerolinecolor\":\"white\"}},\"shapedefaults\":{\"line\":{\"color\":\"#2a3f5f\"}},\"ternary\":{\"aaxis\":{\"gridcolor\":\"white\",\"linecolor\":\"white\",\"ticks\":\"\"},\"baxis\":{\"gridcolor\":\"white\",\"linecolor\":\"white\",\"ticks\":\"\"},\"bgcolor\":\"#E5ECF6\",\"caxis\":{\"gridcolor\":\"white\",\"linecolor\":\"white\",\"ticks\":\"\"}},\"title\":{\"x\":0.05},\"xaxis\":{\"automargin\":true,\"gridcolor\":\"white\",\"linecolor\":\"white\",\"ticks\":\"\",\"title\":{\"standoff\":15},\"zerolinecolor\":\"white\",\"zerolinewidth\":2},\"yaxis\":{\"automargin\":true,\"gridcolor\":\"white\",\"linecolor\":\"white\",\"ticks\":\"\",\"title\":{\"standoff\":15},\"zerolinecolor\":\"white\",\"zerolinewidth\":2}}},\"title\":{\"text\":\"Metrics bar plot\"},\"barmode\":\"group\"},                        {\"responsive\": true}                    ).then(function(){\n",
              "                            \n",
              "var gd = document.getElementById('bb0a1cea-9f1f-4513-8779-bf2c5acb1347');\n",
              "var x = new MutationObserver(function (mutations, observer) {{\n",
              "        var display = window.getComputedStyle(gd).display;\n",
              "        if (!display || display === 'none') {{\n",
              "            console.log([gd, 'removed!']);\n",
              "            Plotly.purge(gd);\n",
              "            observer.disconnect();\n",
              "        }}\n",
              "}});\n",
              "\n",
              "// Listen for the removal of the full notebook cells\n",
              "var notebookContainer = gd.closest('#notebook-container');\n",
              "if (notebookContainer) {{\n",
              "    x.observe(notebookContainer, {childList: true});\n",
              "}}\n",
              "\n",
              "// Listen for the clearing of the current output cell\n",
              "var outputEl = gd.closest('.output');\n",
              "if (outputEl) {{\n",
              "    x.observe(outputEl, {childList: true});\n",
              "}}\n",
              "\n",
              "                        })                };                            </script>        </div>\n",
              "</body>\n",
              "</html>"
            ]
          },
          "metadata": {},
          "output_type": "display_data"
        }
      ],
      "source": [
        "metrics=['precision', 'recall', 'F1-score']\n",
        "\n",
        "fig = go.Figure(data=[\n",
        "    go.Bar(name='Bert-Base', x=metrics, y=metric_bert),\n",
        "])\n",
        "\n",
        "# Change the bar mode\n",
        "fig.update_layout(barmode='group', title_text='Metrics bar plot')\n",
        "fig.show()"
      ]
    },
    {
      "cell_type": "markdown",
      "metadata": {
        "id": "B2pBFPnTsH9J"
      },
      "source": [
        "After a few many attempts and tests with hyperparameters, here is the result of Bert-base which is much better than the models seen in the section 1, and surprisingly better than BiLSTM by only 0.2 in the f1-score which is the one being considered most for this task."
      ]
    },
    {
      "cell_type": "markdown",
      "metadata": {
        "id": "W0cxSIB0d-oz"
      },
      "source": [
        "# SECTION 4: Final Conclusions\n",
        "\n"
      ]
    },
    {
      "cell_type": "markdown",
      "metadata": {
        "id": "-htiigsl2VQl"
      },
      "source": [
        "### Score plot"
      ]
    },
    {
      "cell_type": "code",
      "execution_count": null,
      "metadata": {
        "colab": {
          "base_uri": "https://localhost:8080/",
          "height": 542
        },
        "id": "8iEH7TQOtjwy",
        "outputId": "2100f30f-3542-4e80-ee82-440e4d77b530"
      },
      "outputs": [
        {
          "data": {
            "text/html": [
              "<html>\n",
              "<head><meta charset=\"utf-8\" /></head>\n",
              "<body>\n",
              "    <div>            <script src=\"https://cdnjs.cloudflare.com/ajax/libs/mathjax/2.7.5/MathJax.js?config=TeX-AMS-MML_SVG\"></script><script type=\"text/javascript\">if (window.MathJax) {MathJax.Hub.Config({SVG: {font: \"STIX-Web\"}});}</script>                <script type=\"text/javascript\">window.PlotlyConfig = {MathJaxConfig: 'local'};</script>\n",
              "        <script src=\"https://cdn.plot.ly/plotly-2.8.3.min.js\"></script>                <div id=\"27bd30c3-5f9e-4f00-836a-1e67d3cd3300\" class=\"plotly-graph-div\" style=\"height:525px; width:100%;\"></div>            <script type=\"text/javascript\">                                    window.PLOTLYENV=window.PLOTLYENV || {};                                    if (document.getElementById(\"27bd30c3-5f9e-4f00-836a-1e67d3cd3300\")) {                    Plotly.newPlot(                        \"27bd30c3-5f9e-4f00-836a-1e67d3cd3300\",                        [{\"name\":\"Bert-Base\",\"x\":[\"precision\",\"recall\",\"F1-score\"],\"y\":[0.7549163269065676,0.7552461024737672,0.7513980801647039,null],\"type\":\"bar\"},{\"name\":\"BiLSTM\",\"x\":[\"precision\",\"recall\",\"F1-score\"],\"y\":[0.8495129560832333,0.6739606325130714,0.7361820980484373],\"type\":\"bar\"},{\"name\":\"SVC - TFIDF\",\"x\":[\"precision\",\"recall\",\"F1-score\"],\"y\":[0.6928522711007767,0.8063790940303628,0.6339715551726862],\"type\":\"bar\"}],                        {\"template\":{\"data\":{\"bar\":[{\"error_x\":{\"color\":\"#2a3f5f\"},\"error_y\":{\"color\":\"#2a3f5f\"},\"marker\":{\"line\":{\"color\":\"#E5ECF6\",\"width\":0.5},\"pattern\":{\"fillmode\":\"overlay\",\"size\":10,\"solidity\":0.2}},\"type\":\"bar\"}],\"barpolar\":[{\"marker\":{\"line\":{\"color\":\"#E5ECF6\",\"width\":0.5},\"pattern\":{\"fillmode\":\"overlay\",\"size\":10,\"solidity\":0.2}},\"type\":\"barpolar\"}],\"carpet\":[{\"aaxis\":{\"endlinecolor\":\"#2a3f5f\",\"gridcolor\":\"white\",\"linecolor\":\"white\",\"minorgridcolor\":\"white\",\"startlinecolor\":\"#2a3f5f\"},\"baxis\":{\"endlinecolor\":\"#2a3f5f\",\"gridcolor\":\"white\",\"linecolor\":\"white\",\"minorgridcolor\":\"white\",\"startlinecolor\":\"#2a3f5f\"},\"type\":\"carpet\"}],\"choropleth\":[{\"colorbar\":{\"outlinewidth\":0,\"ticks\":\"\"},\"type\":\"choropleth\"}],\"contour\":[{\"colorbar\":{\"outlinewidth\":0,\"ticks\":\"\"},\"colorscale\":[[0.0,\"#0d0887\"],[0.1111111111111111,\"#46039f\"],[0.2222222222222222,\"#7201a8\"],[0.3333333333333333,\"#9c179e\"],[0.4444444444444444,\"#bd3786\"],[0.5555555555555556,\"#d8576b\"],[0.6666666666666666,\"#ed7953\"],[0.7777777777777778,\"#fb9f3a\"],[0.8888888888888888,\"#fdca26\"],[1.0,\"#f0f921\"]],\"type\":\"contour\"}],\"contourcarpet\":[{\"colorbar\":{\"outlinewidth\":0,\"ticks\":\"\"},\"type\":\"contourcarpet\"}],\"heatmap\":[{\"colorbar\":{\"outlinewidth\":0,\"ticks\":\"\"},\"colorscale\":[[0.0,\"#0d0887\"],[0.1111111111111111,\"#46039f\"],[0.2222222222222222,\"#7201a8\"],[0.3333333333333333,\"#9c179e\"],[0.4444444444444444,\"#bd3786\"],[0.5555555555555556,\"#d8576b\"],[0.6666666666666666,\"#ed7953\"],[0.7777777777777778,\"#fb9f3a\"],[0.8888888888888888,\"#fdca26\"],[1.0,\"#f0f921\"]],\"type\":\"heatmap\"}],\"heatmapgl\":[{\"colorbar\":{\"outlinewidth\":0,\"ticks\":\"\"},\"colorscale\":[[0.0,\"#0d0887\"],[0.1111111111111111,\"#46039f\"],[0.2222222222222222,\"#7201a8\"],[0.3333333333333333,\"#9c179e\"],[0.4444444444444444,\"#bd3786\"],[0.5555555555555556,\"#d8576b\"],[0.6666666666666666,\"#ed7953\"],[0.7777777777777778,\"#fb9f3a\"],[0.8888888888888888,\"#fdca26\"],[1.0,\"#f0f921\"]],\"type\":\"heatmapgl\"}],\"histogram\":[{\"marker\":{\"pattern\":{\"fillmode\":\"overlay\",\"size\":10,\"solidity\":0.2}},\"type\":\"histogram\"}],\"histogram2d\":[{\"colorbar\":{\"outlinewidth\":0,\"ticks\":\"\"},\"colorscale\":[[0.0,\"#0d0887\"],[0.1111111111111111,\"#46039f\"],[0.2222222222222222,\"#7201a8\"],[0.3333333333333333,\"#9c179e\"],[0.4444444444444444,\"#bd3786\"],[0.5555555555555556,\"#d8576b\"],[0.6666666666666666,\"#ed7953\"],[0.7777777777777778,\"#fb9f3a\"],[0.8888888888888888,\"#fdca26\"],[1.0,\"#f0f921\"]],\"type\":\"histogram2d\"}],\"histogram2dcontour\":[{\"colorbar\":{\"outlinewidth\":0,\"ticks\":\"\"},\"colorscale\":[[0.0,\"#0d0887\"],[0.1111111111111111,\"#46039f\"],[0.2222222222222222,\"#7201a8\"],[0.3333333333333333,\"#9c179e\"],[0.4444444444444444,\"#bd3786\"],[0.5555555555555556,\"#d8576b\"],[0.6666666666666666,\"#ed7953\"],[0.7777777777777778,\"#fb9f3a\"],[0.8888888888888888,\"#fdca26\"],[1.0,\"#f0f921\"]],\"type\":\"histogram2dcontour\"}],\"mesh3d\":[{\"colorbar\":{\"outlinewidth\":0,\"ticks\":\"\"},\"type\":\"mesh3d\"}],\"parcoords\":[{\"line\":{\"colorbar\":{\"outlinewidth\":0,\"ticks\":\"\"}},\"type\":\"parcoords\"}],\"pie\":[{\"automargin\":true,\"type\":\"pie\"}],\"scatter\":[{\"marker\":{\"colorbar\":{\"outlinewidth\":0,\"ticks\":\"\"}},\"type\":\"scatter\"}],\"scatter3d\":[{\"line\":{\"colorbar\":{\"outlinewidth\":0,\"ticks\":\"\"}},\"marker\":{\"colorbar\":{\"outlinewidth\":0,\"ticks\":\"\"}},\"type\":\"scatter3d\"}],\"scattercarpet\":[{\"marker\":{\"colorbar\":{\"outlinewidth\":0,\"ticks\":\"\"}},\"type\":\"scattercarpet\"}],\"scattergeo\":[{\"marker\":{\"colorbar\":{\"outlinewidth\":0,\"ticks\":\"\"}},\"type\":\"scattergeo\"}],\"scattergl\":[{\"marker\":{\"colorbar\":{\"outlinewidth\":0,\"ticks\":\"\"}},\"type\":\"scattergl\"}],\"scattermapbox\":[{\"marker\":{\"colorbar\":{\"outlinewidth\":0,\"ticks\":\"\"}},\"type\":\"scattermapbox\"}],\"scatterpolar\":[{\"marker\":{\"colorbar\":{\"outlinewidth\":0,\"ticks\":\"\"}},\"type\":\"scatterpolar\"}],\"scatterpolargl\":[{\"marker\":{\"colorbar\":{\"outlinewidth\":0,\"ticks\":\"\"}},\"type\":\"scatterpolargl\"}],\"scatterternary\":[{\"marker\":{\"colorbar\":{\"outlinewidth\":0,\"ticks\":\"\"}},\"type\":\"scatterternary\"}],\"surface\":[{\"colorbar\":{\"outlinewidth\":0,\"ticks\":\"\"},\"colorscale\":[[0.0,\"#0d0887\"],[0.1111111111111111,\"#46039f\"],[0.2222222222222222,\"#7201a8\"],[0.3333333333333333,\"#9c179e\"],[0.4444444444444444,\"#bd3786\"],[0.5555555555555556,\"#d8576b\"],[0.6666666666666666,\"#ed7953\"],[0.7777777777777778,\"#fb9f3a\"],[0.8888888888888888,\"#fdca26\"],[1.0,\"#f0f921\"]],\"type\":\"surface\"}],\"table\":[{\"cells\":{\"fill\":{\"color\":\"#EBF0F8\"},\"line\":{\"color\":\"white\"}},\"header\":{\"fill\":{\"color\":\"#C8D4E3\"},\"line\":{\"color\":\"white\"}},\"type\":\"table\"}]},\"layout\":{\"annotationdefaults\":{\"arrowcolor\":\"#2a3f5f\",\"arrowhead\":0,\"arrowwidth\":1},\"autotypenumbers\":\"strict\",\"coloraxis\":{\"colorbar\":{\"outlinewidth\":0,\"ticks\":\"\"}},\"colorscale\":{\"diverging\":[[0,\"#8e0152\"],[0.1,\"#c51b7d\"],[0.2,\"#de77ae\"],[0.3,\"#f1b6da\"],[0.4,\"#fde0ef\"],[0.5,\"#f7f7f7\"],[0.6,\"#e6f5d0\"],[0.7,\"#b8e186\"],[0.8,\"#7fbc41\"],[0.9,\"#4d9221\"],[1,\"#276419\"]],\"sequential\":[[0.0,\"#0d0887\"],[0.1111111111111111,\"#46039f\"],[0.2222222222222222,\"#7201a8\"],[0.3333333333333333,\"#9c179e\"],[0.4444444444444444,\"#bd3786\"],[0.5555555555555556,\"#d8576b\"],[0.6666666666666666,\"#ed7953\"],[0.7777777777777778,\"#fb9f3a\"],[0.8888888888888888,\"#fdca26\"],[1.0,\"#f0f921\"]],\"sequentialminus\":[[0.0,\"#0d0887\"],[0.1111111111111111,\"#46039f\"],[0.2222222222222222,\"#7201a8\"],[0.3333333333333333,\"#9c179e\"],[0.4444444444444444,\"#bd3786\"],[0.5555555555555556,\"#d8576b\"],[0.6666666666666666,\"#ed7953\"],[0.7777777777777778,\"#fb9f3a\"],[0.8888888888888888,\"#fdca26\"],[1.0,\"#f0f921\"]]},\"colorway\":[\"#636efa\",\"#EF553B\",\"#00cc96\",\"#ab63fa\",\"#FFA15A\",\"#19d3f3\",\"#FF6692\",\"#B6E880\",\"#FF97FF\",\"#FECB52\"],\"font\":{\"color\":\"#2a3f5f\"},\"geo\":{\"bgcolor\":\"white\",\"lakecolor\":\"white\",\"landcolor\":\"#E5ECF6\",\"showlakes\":true,\"showland\":true,\"subunitcolor\":\"white\"},\"hoverlabel\":{\"align\":\"left\"},\"hovermode\":\"closest\",\"mapbox\":{\"style\":\"light\"},\"paper_bgcolor\":\"white\",\"plot_bgcolor\":\"#E5ECF6\",\"polar\":{\"angularaxis\":{\"gridcolor\":\"white\",\"linecolor\":\"white\",\"ticks\":\"\"},\"bgcolor\":\"#E5ECF6\",\"radialaxis\":{\"gridcolor\":\"white\",\"linecolor\":\"white\",\"ticks\":\"\"}},\"scene\":{\"xaxis\":{\"backgroundcolor\":\"#E5ECF6\",\"gridcolor\":\"white\",\"gridwidth\":2,\"linecolor\":\"white\",\"showbackground\":true,\"ticks\":\"\",\"zerolinecolor\":\"white\"},\"yaxis\":{\"backgroundcolor\":\"#E5ECF6\",\"gridcolor\":\"white\",\"gridwidth\":2,\"linecolor\":\"white\",\"showbackground\":true,\"ticks\":\"\",\"zerolinecolor\":\"white\"},\"zaxis\":{\"backgroundcolor\":\"#E5ECF6\",\"gridcolor\":\"white\",\"gridwidth\":2,\"linecolor\":\"white\",\"showbackground\":true,\"ticks\":\"\",\"zerolinecolor\":\"white\"}},\"shapedefaults\":{\"line\":{\"color\":\"#2a3f5f\"}},\"ternary\":{\"aaxis\":{\"gridcolor\":\"white\",\"linecolor\":\"white\",\"ticks\":\"\"},\"baxis\":{\"gridcolor\":\"white\",\"linecolor\":\"white\",\"ticks\":\"\"},\"bgcolor\":\"#E5ECF6\",\"caxis\":{\"gridcolor\":\"white\",\"linecolor\":\"white\",\"ticks\":\"\"}},\"title\":{\"x\":0.05},\"xaxis\":{\"automargin\":true,\"gridcolor\":\"white\",\"linecolor\":\"white\",\"ticks\":\"\",\"title\":{\"standoff\":15},\"zerolinecolor\":\"white\",\"zerolinewidth\":2},\"yaxis\":{\"automargin\":true,\"gridcolor\":\"white\",\"linecolor\":\"white\",\"ticks\":\"\",\"title\":{\"standoff\":15},\"zerolinecolor\":\"white\",\"zerolinewidth\":2}}},\"title\":{\"text\":\"Metrics bar plot\"},\"barmode\":\"group\"},                        {\"responsive\": true}                    ).then(function(){\n",
              "                            \n",
              "var gd = document.getElementById('27bd30c3-5f9e-4f00-836a-1e67d3cd3300');\n",
              "var x = new MutationObserver(function (mutations, observer) {{\n",
              "        var display = window.getComputedStyle(gd).display;\n",
              "        if (!display || display === 'none') {{\n",
              "            console.log([gd, 'removed!']);\n",
              "            Plotly.purge(gd);\n",
              "            observer.disconnect();\n",
              "        }}\n",
              "}});\n",
              "\n",
              "// Listen for the removal of the full notebook cells\n",
              "var notebookContainer = gd.closest('#notebook-container');\n",
              "if (notebookContainer) {{\n",
              "    x.observe(notebookContainer, {childList: true});\n",
              "}}\n",
              "\n",
              "// Listen for the clearing of the current output cell\n",
              "var outputEl = gd.closest('.output');\n",
              "if (outputEl) {{\n",
              "    x.observe(outputEl, {childList: true});\n",
              "}}\n",
              "\n",
              "                        })                };                            </script>        </div>\n",
              "</body>\n",
              "</html>"
            ]
          },
          "metadata": {},
          "output_type": "display_data"
        }
      ],
      "source": [
        "metrics=['precision', 'recall', 'F1-score']\n",
        "\n",
        "fig = go.Figure(data=[\n",
        "    go.Bar(name='Bert-Base', x=metrics, y=metric_bert),\n",
        "    go.Bar(name='BiLSTM', x=metrics, y=metric_bilstm),\n",
        "    go.Bar(name='SVC - TFIDF', x=metrics, y=tfidf_svc_scores),\n",
        "])\n",
        "\n",
        "# Change the bar mode\n",
        "fig.update_layout(barmode='group', title_text='Metrics bar plot')\n",
        "fig.show()"
      ]
    },
    {
      "cell_type": "markdown",
      "metadata": {
        "id": "5fN1SNkmvOH2"
      },
      "source": [
        "Here we can see the best of the models in Section 1, i.e. SVC with TF-IDF, the simple neural architecture, i.e. BiLSTM, and the tranformers, i.e. Bert-Base, compared. As expected SVC is the worst, while Bert is the best. Although the BiLSTM in between has a surprisingly close result to Bert's."
      ]
    },
    {
      "cell_type": "markdown",
      "metadata": {
        "id": "0J23fQtKvPnm"
      },
      "source": [
        "### F1-score for each class and for each model"
      ]
    },
    {
      "cell_type": "code",
      "execution_count": null,
      "metadata": {
        "colab": {
          "base_uri": "https://localhost:8080/",
          "height": 542
        },
        "id": "WKfFcnquvPK_",
        "outputId": "deeb21c7-2a68-4bd0-cd62-851fe825eade"
      },
      "outputs": [
        {
          "data": {
            "text/html": [
              "<html>\n",
              "<head><meta charset=\"utf-8\" /></head>\n",
              "<body>\n",
              "    <div>            <script src=\"https://cdnjs.cloudflare.com/ajax/libs/mathjax/2.7.5/MathJax.js?config=TeX-AMS-MML_SVG\"></script><script type=\"text/javascript\">if (window.MathJax) {MathJax.Hub.Config({SVG: {font: \"STIX-Web\"}});}</script>                <script type=\"text/javascript\">window.PlotlyConfig = {MathJaxConfig: 'local'};</script>\n",
              "        <script src=\"https://cdn.plot.ly/plotly-2.8.3.min.js\"></script>                <div id=\"b9b562de-9752-4dab-947d-dc70a0ae65a9\" class=\"plotly-graph-div\" style=\"height:525px; width:100%;\"></div>            <script type=\"text/javascript\">                                    window.PLOTLYENV=window.PLOTLYENV || {};                                    if (document.getElementById(\"b9b562de-9752-4dab-947d-dc70a0ae65a9\")) {                    Plotly.newPlot(                        \"b9b562de-9752-4dab-947d-dc70a0ae65a9\",                        [{\"line\":{\"color\":\"blue\",\"width\":2},\"marker\":{\"size\":10,\"symbol\":\"triangle-up\"},\"name\":\"Bert-Base\",\"x\":[\"Computer Science\",\"Physics\",\"Mathematics\",\"Statistics\",\"Quantitative Biology\",\"Quantitative Finance\"],\"y\":[0.8200301204819277,0.8872260823089256,0.7933491686460807,0.7663107947805458,0.544502617801047,0.6969696969696969],\"type\":\"scatter\"},{\"line\":{\"color\":\"green\",\"width\":2},\"marker\":{\"size\":10,\"symbol\":\"circle\"},\"name\":\"BiLSTM\",\"x\":[\"Computer Science\",\"Physics\",\"Mathematics\",\"Statistics\",\"Quantitative Biology\",\"Quantitative Finance\"],\"y\":[0.8421828908554572,0.8700000000000001,0.776595744680851,0.746941403734707,0.5147058823529412,0.6666666666666666],\"type\":\"scatter\"},{\"line\":{\"color\":\"red\",\"width\":2},\"marker\":{\"size\":10,\"symbol\":\"square\"},\"name\":\"SVC - TFID\",\"x\":[\"Computer Science\",\"Physics\",\"Mathematics\",\"Statistics\",\"Quantitative Biology\",\"Quantitative Finance\"],\"y\":[0.8157894736842105,0.8719101123595506,0.7950617283950616,0.747209455022981,0.32,0.6071428571428572],\"type\":\"scatter\"}],                        {\"template\":{\"data\":{\"bar\":[{\"error_x\":{\"color\":\"#2a3f5f\"},\"error_y\":{\"color\":\"#2a3f5f\"},\"marker\":{\"line\":{\"color\":\"#E5ECF6\",\"width\":0.5},\"pattern\":{\"fillmode\":\"overlay\",\"size\":10,\"solidity\":0.2}},\"type\":\"bar\"}],\"barpolar\":[{\"marker\":{\"line\":{\"color\":\"#E5ECF6\",\"width\":0.5},\"pattern\":{\"fillmode\":\"overlay\",\"size\":10,\"solidity\":0.2}},\"type\":\"barpolar\"}],\"carpet\":[{\"aaxis\":{\"endlinecolor\":\"#2a3f5f\",\"gridcolor\":\"white\",\"linecolor\":\"white\",\"minorgridcolor\":\"white\",\"startlinecolor\":\"#2a3f5f\"},\"baxis\":{\"endlinecolor\":\"#2a3f5f\",\"gridcolor\":\"white\",\"linecolor\":\"white\",\"minorgridcolor\":\"white\",\"startlinecolor\":\"#2a3f5f\"},\"type\":\"carpet\"}],\"choropleth\":[{\"colorbar\":{\"outlinewidth\":0,\"ticks\":\"\"},\"type\":\"choropleth\"}],\"contour\":[{\"colorbar\":{\"outlinewidth\":0,\"ticks\":\"\"},\"colorscale\":[[0.0,\"#0d0887\"],[0.1111111111111111,\"#46039f\"],[0.2222222222222222,\"#7201a8\"],[0.3333333333333333,\"#9c179e\"],[0.4444444444444444,\"#bd3786\"],[0.5555555555555556,\"#d8576b\"],[0.6666666666666666,\"#ed7953\"],[0.7777777777777778,\"#fb9f3a\"],[0.8888888888888888,\"#fdca26\"],[1.0,\"#f0f921\"]],\"type\":\"contour\"}],\"contourcarpet\":[{\"colorbar\":{\"outlinewidth\":0,\"ticks\":\"\"},\"type\":\"contourcarpet\"}],\"heatmap\":[{\"colorbar\":{\"outlinewidth\":0,\"ticks\":\"\"},\"colorscale\":[[0.0,\"#0d0887\"],[0.1111111111111111,\"#46039f\"],[0.2222222222222222,\"#7201a8\"],[0.3333333333333333,\"#9c179e\"],[0.4444444444444444,\"#bd3786\"],[0.5555555555555556,\"#d8576b\"],[0.6666666666666666,\"#ed7953\"],[0.7777777777777778,\"#fb9f3a\"],[0.8888888888888888,\"#fdca26\"],[1.0,\"#f0f921\"]],\"type\":\"heatmap\"}],\"heatmapgl\":[{\"colorbar\":{\"outlinewidth\":0,\"ticks\":\"\"},\"colorscale\":[[0.0,\"#0d0887\"],[0.1111111111111111,\"#46039f\"],[0.2222222222222222,\"#7201a8\"],[0.3333333333333333,\"#9c179e\"],[0.4444444444444444,\"#bd3786\"],[0.5555555555555556,\"#d8576b\"],[0.6666666666666666,\"#ed7953\"],[0.7777777777777778,\"#fb9f3a\"],[0.8888888888888888,\"#fdca26\"],[1.0,\"#f0f921\"]],\"type\":\"heatmapgl\"}],\"histogram\":[{\"marker\":{\"pattern\":{\"fillmode\":\"overlay\",\"size\":10,\"solidity\":0.2}},\"type\":\"histogram\"}],\"histogram2d\":[{\"colorbar\":{\"outlinewidth\":0,\"ticks\":\"\"},\"colorscale\":[[0.0,\"#0d0887\"],[0.1111111111111111,\"#46039f\"],[0.2222222222222222,\"#7201a8\"],[0.3333333333333333,\"#9c179e\"],[0.4444444444444444,\"#bd3786\"],[0.5555555555555556,\"#d8576b\"],[0.6666666666666666,\"#ed7953\"],[0.7777777777777778,\"#fb9f3a\"],[0.8888888888888888,\"#fdca26\"],[1.0,\"#f0f921\"]],\"type\":\"histogram2d\"}],\"histogram2dcontour\":[{\"colorbar\":{\"outlinewidth\":0,\"ticks\":\"\"},\"colorscale\":[[0.0,\"#0d0887\"],[0.1111111111111111,\"#46039f\"],[0.2222222222222222,\"#7201a8\"],[0.3333333333333333,\"#9c179e\"],[0.4444444444444444,\"#bd3786\"],[0.5555555555555556,\"#d8576b\"],[0.6666666666666666,\"#ed7953\"],[0.7777777777777778,\"#fb9f3a\"],[0.8888888888888888,\"#fdca26\"],[1.0,\"#f0f921\"]],\"type\":\"histogram2dcontour\"}],\"mesh3d\":[{\"colorbar\":{\"outlinewidth\":0,\"ticks\":\"\"},\"type\":\"mesh3d\"}],\"parcoords\":[{\"line\":{\"colorbar\":{\"outlinewidth\":0,\"ticks\":\"\"}},\"type\":\"parcoords\"}],\"pie\":[{\"automargin\":true,\"type\":\"pie\"}],\"scatter\":[{\"marker\":{\"colorbar\":{\"outlinewidth\":0,\"ticks\":\"\"}},\"type\":\"scatter\"}],\"scatter3d\":[{\"line\":{\"colorbar\":{\"outlinewidth\":0,\"ticks\":\"\"}},\"marker\":{\"colorbar\":{\"outlinewidth\":0,\"ticks\":\"\"}},\"type\":\"scatter3d\"}],\"scattercarpet\":[{\"marker\":{\"colorbar\":{\"outlinewidth\":0,\"ticks\":\"\"}},\"type\":\"scattercarpet\"}],\"scattergeo\":[{\"marker\":{\"colorbar\":{\"outlinewidth\":0,\"ticks\":\"\"}},\"type\":\"scattergeo\"}],\"scattergl\":[{\"marker\":{\"colorbar\":{\"outlinewidth\":0,\"ticks\":\"\"}},\"type\":\"scattergl\"}],\"scattermapbox\":[{\"marker\":{\"colorbar\":{\"outlinewidth\":0,\"ticks\":\"\"}},\"type\":\"scattermapbox\"}],\"scatterpolar\":[{\"marker\":{\"colorbar\":{\"outlinewidth\":0,\"ticks\":\"\"}},\"type\":\"scatterpolar\"}],\"scatterpolargl\":[{\"marker\":{\"colorbar\":{\"outlinewidth\":0,\"ticks\":\"\"}},\"type\":\"scatterpolargl\"}],\"scatterternary\":[{\"marker\":{\"colorbar\":{\"outlinewidth\":0,\"ticks\":\"\"}},\"type\":\"scatterternary\"}],\"surface\":[{\"colorbar\":{\"outlinewidth\":0,\"ticks\":\"\"},\"colorscale\":[[0.0,\"#0d0887\"],[0.1111111111111111,\"#46039f\"],[0.2222222222222222,\"#7201a8\"],[0.3333333333333333,\"#9c179e\"],[0.4444444444444444,\"#bd3786\"],[0.5555555555555556,\"#d8576b\"],[0.6666666666666666,\"#ed7953\"],[0.7777777777777778,\"#fb9f3a\"],[0.8888888888888888,\"#fdca26\"],[1.0,\"#f0f921\"]],\"type\":\"surface\"}],\"table\":[{\"cells\":{\"fill\":{\"color\":\"#EBF0F8\"},\"line\":{\"color\":\"white\"}},\"header\":{\"fill\":{\"color\":\"#C8D4E3\"},\"line\":{\"color\":\"white\"}},\"type\":\"table\"}]},\"layout\":{\"annotationdefaults\":{\"arrowcolor\":\"#2a3f5f\",\"arrowhead\":0,\"arrowwidth\":1},\"autotypenumbers\":\"strict\",\"coloraxis\":{\"colorbar\":{\"outlinewidth\":0,\"ticks\":\"\"}},\"colorscale\":{\"diverging\":[[0,\"#8e0152\"],[0.1,\"#c51b7d\"],[0.2,\"#de77ae\"],[0.3,\"#f1b6da\"],[0.4,\"#fde0ef\"],[0.5,\"#f7f7f7\"],[0.6,\"#e6f5d0\"],[0.7,\"#b8e186\"],[0.8,\"#7fbc41\"],[0.9,\"#4d9221\"],[1,\"#276419\"]],\"sequential\":[[0.0,\"#0d0887\"],[0.1111111111111111,\"#46039f\"],[0.2222222222222222,\"#7201a8\"],[0.3333333333333333,\"#9c179e\"],[0.4444444444444444,\"#bd3786\"],[0.5555555555555556,\"#d8576b\"],[0.6666666666666666,\"#ed7953\"],[0.7777777777777778,\"#fb9f3a\"],[0.8888888888888888,\"#fdca26\"],[1.0,\"#f0f921\"]],\"sequentialminus\":[[0.0,\"#0d0887\"],[0.1111111111111111,\"#46039f\"],[0.2222222222222222,\"#7201a8\"],[0.3333333333333333,\"#9c179e\"],[0.4444444444444444,\"#bd3786\"],[0.5555555555555556,\"#d8576b\"],[0.6666666666666666,\"#ed7953\"],[0.7777777777777778,\"#fb9f3a\"],[0.8888888888888888,\"#fdca26\"],[1.0,\"#f0f921\"]]},\"colorway\":[\"#636efa\",\"#EF553B\",\"#00cc96\",\"#ab63fa\",\"#FFA15A\",\"#19d3f3\",\"#FF6692\",\"#B6E880\",\"#FF97FF\",\"#FECB52\"],\"font\":{\"color\":\"#2a3f5f\"},\"geo\":{\"bgcolor\":\"white\",\"lakecolor\":\"white\",\"landcolor\":\"#E5ECF6\",\"showlakes\":true,\"showland\":true,\"subunitcolor\":\"white\"},\"hoverlabel\":{\"align\":\"left\"},\"hovermode\":\"closest\",\"mapbox\":{\"style\":\"light\"},\"paper_bgcolor\":\"white\",\"plot_bgcolor\":\"#E5ECF6\",\"polar\":{\"angularaxis\":{\"gridcolor\":\"white\",\"linecolor\":\"white\",\"ticks\":\"\"},\"bgcolor\":\"#E5ECF6\",\"radialaxis\":{\"gridcolor\":\"white\",\"linecolor\":\"white\",\"ticks\":\"\"}},\"scene\":{\"xaxis\":{\"backgroundcolor\":\"#E5ECF6\",\"gridcolor\":\"white\",\"gridwidth\":2,\"linecolor\":\"white\",\"showbackground\":true,\"ticks\":\"\",\"zerolinecolor\":\"white\"},\"yaxis\":{\"backgroundcolor\":\"#E5ECF6\",\"gridcolor\":\"white\",\"gridwidth\":2,\"linecolor\":\"white\",\"showbackground\":true,\"ticks\":\"\",\"zerolinecolor\":\"white\"},\"zaxis\":{\"backgroundcolor\":\"#E5ECF6\",\"gridcolor\":\"white\",\"gridwidth\":2,\"linecolor\":\"white\",\"showbackground\":true,\"ticks\":\"\",\"zerolinecolor\":\"white\"}},\"shapedefaults\":{\"line\":{\"color\":\"#2a3f5f\"}},\"ternary\":{\"aaxis\":{\"gridcolor\":\"white\",\"linecolor\":\"white\",\"ticks\":\"\"},\"baxis\":{\"gridcolor\":\"white\",\"linecolor\":\"white\",\"ticks\":\"\"},\"bgcolor\":\"#E5ECF6\",\"caxis\":{\"gridcolor\":\"white\",\"linecolor\":\"white\",\"ticks\":\"\"}},\"title\":{\"x\":0.05},\"xaxis\":{\"automargin\":true,\"gridcolor\":\"white\",\"linecolor\":\"white\",\"ticks\":\"\",\"title\":{\"standoff\":15},\"zerolinecolor\":\"white\",\"zerolinewidth\":2},\"yaxis\":{\"automargin\":true,\"gridcolor\":\"white\",\"linecolor\":\"white\",\"ticks\":\"\",\"title\":{\"standoff\":15},\"zerolinecolor\":\"white\",\"zerolinewidth\":2}}},\"title\":{\"text\":\"F1-score for each class and for each model\"},\"xaxis\":{\"title\":{\"text\":\"labels\"}},\"yaxis\":{\"title\":{\"text\":\"f1-score\"}}},                        {\"responsive\": true}                    ).then(function(){\n",
              "                            \n",
              "var gd = document.getElementById('b9b562de-9752-4dab-947d-dc70a0ae65a9');\n",
              "var x = new MutationObserver(function (mutations, observer) {{\n",
              "        var display = window.getComputedStyle(gd).display;\n",
              "        if (!display || display === 'none') {{\n",
              "            console.log([gd, 'removed!']);\n",
              "            Plotly.purge(gd);\n",
              "            observer.disconnect();\n",
              "        }}\n",
              "}});\n",
              "\n",
              "// Listen for the removal of the full notebook cells\n",
              "var notebookContainer = gd.closest('#notebook-container');\n",
              "if (notebookContainer) {{\n",
              "    x.observe(notebookContainer, {childList: true});\n",
              "}}\n",
              "\n",
              "// Listen for the clearing of the current output cell\n",
              "var outputEl = gd.closest('.output');\n",
              "if (outputEl) {{\n",
              "    x.observe(outputEl, {childList: true});\n",
              "}}\n",
              "\n",
              "                        })                };                            </script>        </div>\n",
              "</body>\n",
              "</html>"
            ]
          },
          "metadata": {},
          "output_type": "display_data"
        }
      ],
      "source": [
        "fig = go.Figure()\n",
        "# Create and style traces\n",
        "fig.add_trace(go.Scatter(x=labels, y=bert_for_labels, name='Bert-Base', line=dict(color='blue', width=2), marker = dict(symbol = \"triangle-up\", size = 10)))\n",
        "fig.add_trace(go.Scatter(x=labels, y=bilstm_for_labels, name = 'BiLSTM', line=dict(color='green', width=2), marker = dict(symbol = \"circle\", size = 10)))\n",
        "fig.add_trace(go.Scatter(x=labels, y=tfidf_svc_for_labels, name='SVC - TFID', line=dict(color='red', width=2), marker = dict(symbol = \"square\", size = 10)))\n",
        "\n",
        "# Edit the layout\n",
        "fig.update_layout(title='F1-score for each class and for each model',\n",
        "                   xaxis_title='labels',\n",
        "                   yaxis_title='f1-score')\n",
        "\n",
        "\n",
        "fig.show()"
      ]
    },
    {
      "cell_type": "markdown",
      "metadata": {
        "id": "_WNQOvbNvQH0"
      },
      "source": [
        "In this very interesting graph, it is remarked that Bert is better than BiLSTM, but the two are very close, even in the prediction of the first class BiLSTM is better than Bert. But the most surprising thing is the SVC-IDF which is better than BiLSTM for the most represented classes and is just below Bert. It only falls in the two least represented classes and especially in 'Quantitative Biology' where NN and transformers are significantly more accurate."
      ]
    },
    {
      "cell_type": "markdown",
      "metadata": {
        "id": "cPrXUU7u5KjL"
      },
      "source": [
        "## Conclusion"
      ]
    },
    {
      "cell_type": "markdown",
      "metadata": {
        "id": "5M4r6y_79cBh"
      },
      "source": [
        "All the models in section 1 had roughly the same performance, but the best was definitely SVC TF-IDF, which was in fact then chosen for comparison with the next two architectures.\n",
        "Between BiLSTM and Bert-Base, both exploit pre-trained embeddings. The simpler neural architecture and all combinations in section 1 proved to be less efficient than Bert-Base, however, the performance of BiLSTM is very close to transformers. Bert showed clear signs of overfitting in the early stages, the reduction of the learning rate resulted in slower learning, longer times and no significant improvement. The BiLSTM model performed significantly better than all the solutions in section 1 and almost at Bert-Base levels. This method shows great potential, but is hardly scalable and lacks the generalisation provided by large language models; it is therefore interesting to observe it with respect to large language models, but should not be preferred given its size."
      ]
    }
  ],
  "metadata": {
    "colab": {
      "collapsed_sections": [
        "hpgoO8PAoQeM",
        "ddaClngWoQeg",
        "rRna2Fk6wDpc",
        "MjYoZ5tZMGqJ",
        "YONhRCV645pu",
        "Zf7rJ9Q15uG-",
        "htvPQHPegBo2",
        "LAjnA9QGghAk",
        "aNx8QfnhNK55",
        "oQI9AGnK3hcb",
        "W0cxSIB0d-oz"
      ],
      "machine_shape": "hm",
      "provenance": []
    },
    "gpuClass": "standard",
    "kernelspec": {
      "display_name": "Python 3",
      "language": "python",
      "name": "python3"
    },
    "language_info": {
      "codemirror_mode": {
        "name": "ipython",
        "version": 3
      },
      "file_extension": ".py",
      "mimetype": "text/x-python",
      "name": "python",
      "nbconvert_exporter": "python",
      "pygments_lexer": "ipython3",
      "version": "3.10.7"
    },
    "vscode": {
      "interpreter": {
        "hash": "ca39f88a2d38a95affbacc4b81fd00a2dd957c0206b925676ce258144ab36f3b"
      }
    },
    "widgets": {
      "application/vnd.jupyter.widget-state+json": {
        "03bd56de2efd4cca921be3c6933c7314": {
          "model_module": "@jupyter-widgets/base",
          "model_module_version": "1.2.0",
          "model_name": "LayoutModel",
          "state": {
            "_model_module": "@jupyter-widgets/base",
            "_model_module_version": "1.2.0",
            "_model_name": "LayoutModel",
            "_view_count": null,
            "_view_module": "@jupyter-widgets/base",
            "_view_module_version": "1.2.0",
            "_view_name": "LayoutView",
            "align_content": null,
            "align_items": null,
            "align_self": null,
            "border": null,
            "bottom": null,
            "display": null,
            "flex": null,
            "flex_flow": null,
            "grid_area": null,
            "grid_auto_columns": null,
            "grid_auto_flow": null,
            "grid_auto_rows": null,
            "grid_column": null,
            "grid_gap": null,
            "grid_row": null,
            "grid_template_areas": null,
            "grid_template_columns": null,
            "grid_template_rows": null,
            "height": null,
            "justify_content": null,
            "justify_items": null,
            "left": null,
            "margin": null,
            "max_height": null,
            "max_width": null,
            "min_height": null,
            "min_width": null,
            "object_fit": null,
            "object_position": null,
            "order": null,
            "overflow": null,
            "overflow_x": null,
            "overflow_y": null,
            "padding": null,
            "right": null,
            "top": null,
            "visibility": null,
            "width": null
          }
        },
        "058db3f7d59a4ec4a489d6934807361b": {
          "model_module": "@jupyter-widgets/controls",
          "model_module_version": "1.5.0",
          "model_name": "HTMLModel",
          "state": {
            "_dom_classes": [],
            "_model_module": "@jupyter-widgets/controls",
            "_model_module_version": "1.5.0",
            "_model_name": "HTMLModel",
            "_view_count": null,
            "_view_module": "@jupyter-widgets/controls",
            "_view_module_version": "1.5.0",
            "_view_name": "HTMLView",
            "description": "",
            "description_tooltip": null,
            "layout": "IPY_MODEL_b3009be50ffd4e78bc842ef89f6d55f5",
            "placeholder": "​",
            "style": "IPY_MODEL_5d9c32e6292f48f28dc20bb8aa117324",
            "value": "Downloading: 100%"
          }
        },
        "08c983eab4904b96b9d6bae492432f8e": {
          "model_module": "@jupyter-widgets/controls",
          "model_module_version": "1.5.0",
          "model_name": "HTMLModel",
          "state": {
            "_dom_classes": [],
            "_model_module": "@jupyter-widgets/controls",
            "_model_module_version": "1.5.0",
            "_model_name": "HTMLModel",
            "_view_count": null,
            "_view_module": "@jupyter-widgets/controls",
            "_view_module_version": "1.5.0",
            "_view_name": "HTMLView",
            "description": "",
            "description_tooltip": null,
            "layout": "IPY_MODEL_f1aa3746d511428c9a5f78a18b3b03ef",
            "placeholder": "​",
            "style": "IPY_MODEL_e0d67cf8f2264d09b359f86e7fac5f76",
            "value": " 28.0/28.0 [00:00&lt;00:00, 2.12kB/s]"
          }
        },
        "12e535120f6f4497a5f3cbea095d4796": {
          "model_module": "@jupyter-widgets/controls",
          "model_module_version": "1.5.0",
          "model_name": "DescriptionStyleModel",
          "state": {
            "_model_module": "@jupyter-widgets/controls",
            "_model_module_version": "1.5.0",
            "_model_name": "DescriptionStyleModel",
            "_view_count": null,
            "_view_module": "@jupyter-widgets/base",
            "_view_module_version": "1.2.0",
            "_view_name": "StyleView",
            "description_width": ""
          }
        },
        "17e1ac1a01dc43b6869a60a14d3718cb": {
          "model_module": "@jupyter-widgets/base",
          "model_module_version": "1.2.0",
          "model_name": "LayoutModel",
          "state": {
            "_model_module": "@jupyter-widgets/base",
            "_model_module_version": "1.2.0",
            "_model_name": "LayoutModel",
            "_view_count": null,
            "_view_module": "@jupyter-widgets/base",
            "_view_module_version": "1.2.0",
            "_view_name": "LayoutView",
            "align_content": null,
            "align_items": null,
            "align_self": null,
            "border": null,
            "bottom": null,
            "display": null,
            "flex": null,
            "flex_flow": null,
            "grid_area": null,
            "grid_auto_columns": null,
            "grid_auto_flow": null,
            "grid_auto_rows": null,
            "grid_column": null,
            "grid_gap": null,
            "grid_row": null,
            "grid_template_areas": null,
            "grid_template_columns": null,
            "grid_template_rows": null,
            "height": null,
            "justify_content": null,
            "justify_items": null,
            "left": null,
            "margin": null,
            "max_height": null,
            "max_width": null,
            "min_height": null,
            "min_width": null,
            "object_fit": null,
            "object_position": null,
            "order": null,
            "overflow": null,
            "overflow_x": null,
            "overflow_y": null,
            "padding": null,
            "right": null,
            "top": null,
            "visibility": null,
            "width": null
          }
        },
        "192a26ca08164fa39f9f2c8dc8d699e3": {
          "model_module": "@jupyter-widgets/controls",
          "model_module_version": "1.5.0",
          "model_name": "HTMLModel",
          "state": {
            "_dom_classes": [],
            "_model_module": "@jupyter-widgets/controls",
            "_model_module_version": "1.5.0",
            "_model_name": "HTMLModel",
            "_view_count": null,
            "_view_module": "@jupyter-widgets/controls",
            "_view_module_version": "1.5.0",
            "_view_name": "HTMLView",
            "description": "",
            "description_tooltip": null,
            "layout": "IPY_MODEL_665f795c0cd141c5a56b23164142222d",
            "placeholder": "​",
            "style": "IPY_MODEL_9520b5b2b0714ce5afd11dbf5e492edd",
            "value": "Downloading: 100%"
          }
        },
        "31865ef48d5c4840909717ab832fb66e": {
          "model_module": "@jupyter-widgets/controls",
          "model_module_version": "1.5.0",
          "model_name": "ProgressStyleModel",
          "state": {
            "_model_module": "@jupyter-widgets/controls",
            "_model_module_version": "1.5.0",
            "_model_name": "ProgressStyleModel",
            "_view_count": null,
            "_view_module": "@jupyter-widgets/base",
            "_view_module_version": "1.2.0",
            "_view_name": "StyleView",
            "bar_color": null,
            "description_width": ""
          }
        },
        "31e8f2500757428ea72316cf7db9c707": {
          "model_module": "@jupyter-widgets/controls",
          "model_module_version": "1.5.0",
          "model_name": "HTMLModel",
          "state": {
            "_dom_classes": [],
            "_model_module": "@jupyter-widgets/controls",
            "_model_module_version": "1.5.0",
            "_model_name": "HTMLModel",
            "_view_count": null,
            "_view_module": "@jupyter-widgets/controls",
            "_view_module_version": "1.5.0",
            "_view_name": "HTMLView",
            "description": "",
            "description_tooltip": null,
            "layout": "IPY_MODEL_f5b75877a8484a61a34cc3cec2a06240",
            "placeholder": "​",
            "style": "IPY_MODEL_dbfb7360dd824121bf49a4354813c8c6",
            "value": "Downloading: 100%"
          }
        },
        "365a7bc529e64209996d467365218c8d": {
          "model_module": "@jupyter-widgets/base",
          "model_module_version": "1.2.0",
          "model_name": "LayoutModel",
          "state": {
            "_model_module": "@jupyter-widgets/base",
            "_model_module_version": "1.2.0",
            "_model_name": "LayoutModel",
            "_view_count": null,
            "_view_module": "@jupyter-widgets/base",
            "_view_module_version": "1.2.0",
            "_view_name": "LayoutView",
            "align_content": null,
            "align_items": null,
            "align_self": null,
            "border": null,
            "bottom": null,
            "display": null,
            "flex": null,
            "flex_flow": null,
            "grid_area": null,
            "grid_auto_columns": null,
            "grid_auto_flow": null,
            "grid_auto_rows": null,
            "grid_column": null,
            "grid_gap": null,
            "grid_row": null,
            "grid_template_areas": null,
            "grid_template_columns": null,
            "grid_template_rows": null,
            "height": null,
            "justify_content": null,
            "justify_items": null,
            "left": null,
            "margin": null,
            "max_height": null,
            "max_width": null,
            "min_height": null,
            "min_width": null,
            "object_fit": null,
            "object_position": null,
            "order": null,
            "overflow": null,
            "overflow_x": null,
            "overflow_y": null,
            "padding": null,
            "right": null,
            "top": null,
            "visibility": null,
            "width": null
          }
        },
        "40dbd025800e4e10ad6f603cf07a3da7": {
          "model_module": "@jupyter-widgets/controls",
          "model_module_version": "1.5.0",
          "model_name": "FloatProgressModel",
          "state": {
            "_dom_classes": [],
            "_model_module": "@jupyter-widgets/controls",
            "_model_module_version": "1.5.0",
            "_model_name": "FloatProgressModel",
            "_view_count": null,
            "_view_module": "@jupyter-widgets/controls",
            "_view_module_version": "1.5.0",
            "_view_name": "ProgressView",
            "bar_style": "success",
            "description": "",
            "description_tooltip": null,
            "layout": "IPY_MODEL_e5f9c60862b040d6aa16fe28cedaf606",
            "max": 570,
            "min": 0,
            "orientation": "horizontal",
            "style": "IPY_MODEL_6cbb0dcb93384cd8bf66313576246b6c",
            "value": 570
          }
        },
        "40eb662338004a449a7756850030f844": {
          "model_module": "@jupyter-widgets/base",
          "model_module_version": "1.2.0",
          "model_name": "LayoutModel",
          "state": {
            "_model_module": "@jupyter-widgets/base",
            "_model_module_version": "1.2.0",
            "_model_name": "LayoutModel",
            "_view_count": null,
            "_view_module": "@jupyter-widgets/base",
            "_view_module_version": "1.2.0",
            "_view_name": "LayoutView",
            "align_content": null,
            "align_items": null,
            "align_self": null,
            "border": null,
            "bottom": null,
            "display": null,
            "flex": null,
            "flex_flow": null,
            "grid_area": null,
            "grid_auto_columns": null,
            "grid_auto_flow": null,
            "grid_auto_rows": null,
            "grid_column": null,
            "grid_gap": null,
            "grid_row": null,
            "grid_template_areas": null,
            "grid_template_columns": null,
            "grid_template_rows": null,
            "height": null,
            "justify_content": null,
            "justify_items": null,
            "left": null,
            "margin": null,
            "max_height": null,
            "max_width": null,
            "min_height": null,
            "min_width": null,
            "object_fit": null,
            "object_position": null,
            "order": null,
            "overflow": null,
            "overflow_x": null,
            "overflow_y": null,
            "padding": null,
            "right": null,
            "top": null,
            "visibility": null,
            "width": null
          }
        },
        "487994bce0874acf959590c6aa7d5d9a": {
          "model_module": "@jupyter-widgets/base",
          "model_module_version": "1.2.0",
          "model_name": "LayoutModel",
          "state": {
            "_model_module": "@jupyter-widgets/base",
            "_model_module_version": "1.2.0",
            "_model_name": "LayoutModel",
            "_view_count": null,
            "_view_module": "@jupyter-widgets/base",
            "_view_module_version": "1.2.0",
            "_view_name": "LayoutView",
            "align_content": null,
            "align_items": null,
            "align_self": null,
            "border": null,
            "bottom": null,
            "display": null,
            "flex": null,
            "flex_flow": null,
            "grid_area": null,
            "grid_auto_columns": null,
            "grid_auto_flow": null,
            "grid_auto_rows": null,
            "grid_column": null,
            "grid_gap": null,
            "grid_row": null,
            "grid_template_areas": null,
            "grid_template_columns": null,
            "grid_template_rows": null,
            "height": null,
            "justify_content": null,
            "justify_items": null,
            "left": null,
            "margin": null,
            "max_height": null,
            "max_width": null,
            "min_height": null,
            "min_width": null,
            "object_fit": null,
            "object_position": null,
            "order": null,
            "overflow": null,
            "overflow_x": null,
            "overflow_y": null,
            "padding": null,
            "right": null,
            "top": null,
            "visibility": null,
            "width": null
          }
        },
        "5179d8bb5f324814ba0289c4813c3935": {
          "model_module": "@jupyter-widgets/controls",
          "model_module_version": "1.5.0",
          "model_name": "HBoxModel",
          "state": {
            "_dom_classes": [],
            "_model_module": "@jupyter-widgets/controls",
            "_model_module_version": "1.5.0",
            "_model_name": "HBoxModel",
            "_view_count": null,
            "_view_module": "@jupyter-widgets/controls",
            "_view_module_version": "1.5.0",
            "_view_name": "HBoxView",
            "box_style": "",
            "children": [
              "IPY_MODEL_192a26ca08164fa39f9f2c8dc8d699e3",
              "IPY_MODEL_40dbd025800e4e10ad6f603cf07a3da7",
              "IPY_MODEL_7f54f908098a4f9cbd5bc365f51e91b5"
            ],
            "layout": "IPY_MODEL_6e6f26e8b24d4c81aa06f01886ec2652"
          }
        },
        "553d615b51554e68a0ae39d34a695817": {
          "model_module": "@jupyter-widgets/base",
          "model_module_version": "1.2.0",
          "model_name": "LayoutModel",
          "state": {
            "_model_module": "@jupyter-widgets/base",
            "_model_module_version": "1.2.0",
            "_model_name": "LayoutModel",
            "_view_count": null,
            "_view_module": "@jupyter-widgets/base",
            "_view_module_version": "1.2.0",
            "_view_name": "LayoutView",
            "align_content": null,
            "align_items": null,
            "align_self": null,
            "border": null,
            "bottom": null,
            "display": null,
            "flex": null,
            "flex_flow": null,
            "grid_area": null,
            "grid_auto_columns": null,
            "grid_auto_flow": null,
            "grid_auto_rows": null,
            "grid_column": null,
            "grid_gap": null,
            "grid_row": null,
            "grid_template_areas": null,
            "grid_template_columns": null,
            "grid_template_rows": null,
            "height": null,
            "justify_content": null,
            "justify_items": null,
            "left": null,
            "margin": null,
            "max_height": null,
            "max_width": null,
            "min_height": null,
            "min_width": null,
            "object_fit": null,
            "object_position": null,
            "order": null,
            "overflow": null,
            "overflow_x": null,
            "overflow_y": null,
            "padding": null,
            "right": null,
            "top": null,
            "visibility": null,
            "width": null
          }
        },
        "5c489f4c7cbe48e0a9100abaec302e34": {
          "model_module": "@jupyter-widgets/base",
          "model_module_version": "1.2.0",
          "model_name": "LayoutModel",
          "state": {
            "_model_module": "@jupyter-widgets/base",
            "_model_module_version": "1.2.0",
            "_model_name": "LayoutModel",
            "_view_count": null,
            "_view_module": "@jupyter-widgets/base",
            "_view_module_version": "1.2.0",
            "_view_name": "LayoutView",
            "align_content": null,
            "align_items": null,
            "align_self": null,
            "border": null,
            "bottom": null,
            "display": null,
            "flex": null,
            "flex_flow": null,
            "grid_area": null,
            "grid_auto_columns": null,
            "grid_auto_flow": null,
            "grid_auto_rows": null,
            "grid_column": null,
            "grid_gap": null,
            "grid_row": null,
            "grid_template_areas": null,
            "grid_template_columns": null,
            "grid_template_rows": null,
            "height": null,
            "justify_content": null,
            "justify_items": null,
            "left": null,
            "margin": null,
            "max_height": null,
            "max_width": null,
            "min_height": null,
            "min_width": null,
            "object_fit": null,
            "object_position": null,
            "order": null,
            "overflow": null,
            "overflow_x": null,
            "overflow_y": null,
            "padding": null,
            "right": null,
            "top": null,
            "visibility": null,
            "width": null
          }
        },
        "5d9c32e6292f48f28dc20bb8aa117324": {
          "model_module": "@jupyter-widgets/controls",
          "model_module_version": "1.5.0",
          "model_name": "DescriptionStyleModel",
          "state": {
            "_model_module": "@jupyter-widgets/controls",
            "_model_module_version": "1.5.0",
            "_model_name": "DescriptionStyleModel",
            "_view_count": null,
            "_view_module": "@jupyter-widgets/base",
            "_view_module_version": "1.2.0",
            "_view_name": "StyleView",
            "description_width": ""
          }
        },
        "61111049af0444a3902fedcdaeb45d91": {
          "model_module": "@jupyter-widgets/controls",
          "model_module_version": "1.5.0",
          "model_name": "HTMLModel",
          "state": {
            "_dom_classes": [],
            "_model_module": "@jupyter-widgets/controls",
            "_model_module_version": "1.5.0",
            "_model_name": "HTMLModel",
            "_view_count": null,
            "_view_module": "@jupyter-widgets/controls",
            "_view_module_version": "1.5.0",
            "_view_name": "HTMLView",
            "description": "",
            "description_tooltip": null,
            "layout": "IPY_MODEL_365a7bc529e64209996d467365218c8d",
            "placeholder": "​",
            "style": "IPY_MODEL_7f252172e6354fc583f330cc03a917cd",
            "value": " 440M/440M [00:06&lt;00:00, 60.9MB/s]"
          }
        },
        "665f795c0cd141c5a56b23164142222d": {
          "model_module": "@jupyter-widgets/base",
          "model_module_version": "1.2.0",
          "model_name": "LayoutModel",
          "state": {
            "_model_module": "@jupyter-widgets/base",
            "_model_module_version": "1.2.0",
            "_model_name": "LayoutModel",
            "_view_count": null,
            "_view_module": "@jupyter-widgets/base",
            "_view_module_version": "1.2.0",
            "_view_name": "LayoutView",
            "align_content": null,
            "align_items": null,
            "align_self": null,
            "border": null,
            "bottom": null,
            "display": null,
            "flex": null,
            "flex_flow": null,
            "grid_area": null,
            "grid_auto_columns": null,
            "grid_auto_flow": null,
            "grid_auto_rows": null,
            "grid_column": null,
            "grid_gap": null,
            "grid_row": null,
            "grid_template_areas": null,
            "grid_template_columns": null,
            "grid_template_rows": null,
            "height": null,
            "justify_content": null,
            "justify_items": null,
            "left": null,
            "margin": null,
            "max_height": null,
            "max_width": null,
            "min_height": null,
            "min_width": null,
            "object_fit": null,
            "object_position": null,
            "order": null,
            "overflow": null,
            "overflow_x": null,
            "overflow_y": null,
            "padding": null,
            "right": null,
            "top": null,
            "visibility": null,
            "width": null
          }
        },
        "6cbb0dcb93384cd8bf66313576246b6c": {
          "model_module": "@jupyter-widgets/controls",
          "model_module_version": "1.5.0",
          "model_name": "ProgressStyleModel",
          "state": {
            "_model_module": "@jupyter-widgets/controls",
            "_model_module_version": "1.5.0",
            "_model_name": "ProgressStyleModel",
            "_view_count": null,
            "_view_module": "@jupyter-widgets/base",
            "_view_module_version": "1.2.0",
            "_view_name": "StyleView",
            "bar_color": null,
            "description_width": ""
          }
        },
        "6e6f26e8b24d4c81aa06f01886ec2652": {
          "model_module": "@jupyter-widgets/base",
          "model_module_version": "1.2.0",
          "model_name": "LayoutModel",
          "state": {
            "_model_module": "@jupyter-widgets/base",
            "_model_module_version": "1.2.0",
            "_model_name": "LayoutModel",
            "_view_count": null,
            "_view_module": "@jupyter-widgets/base",
            "_view_module_version": "1.2.0",
            "_view_name": "LayoutView",
            "align_content": null,
            "align_items": null,
            "align_self": null,
            "border": null,
            "bottom": null,
            "display": null,
            "flex": null,
            "flex_flow": null,
            "grid_area": null,
            "grid_auto_columns": null,
            "grid_auto_flow": null,
            "grid_auto_rows": null,
            "grid_column": null,
            "grid_gap": null,
            "grid_row": null,
            "grid_template_areas": null,
            "grid_template_columns": null,
            "grid_template_rows": null,
            "height": null,
            "justify_content": null,
            "justify_items": null,
            "left": null,
            "margin": null,
            "max_height": null,
            "max_width": null,
            "min_height": null,
            "min_width": null,
            "object_fit": null,
            "object_position": null,
            "order": null,
            "overflow": null,
            "overflow_x": null,
            "overflow_y": null,
            "padding": null,
            "right": null,
            "top": null,
            "visibility": null,
            "width": null
          }
        },
        "7368f0eac484418ca5bf46b11a35eee4": {
          "model_module": "@jupyter-widgets/base",
          "model_module_version": "1.2.0",
          "model_name": "LayoutModel",
          "state": {
            "_model_module": "@jupyter-widgets/base",
            "_model_module_version": "1.2.0",
            "_model_name": "LayoutModel",
            "_view_count": null,
            "_view_module": "@jupyter-widgets/base",
            "_view_module_version": "1.2.0",
            "_view_name": "LayoutView",
            "align_content": null,
            "align_items": null,
            "align_self": null,
            "border": null,
            "bottom": null,
            "display": null,
            "flex": null,
            "flex_flow": null,
            "grid_area": null,
            "grid_auto_columns": null,
            "grid_auto_flow": null,
            "grid_auto_rows": null,
            "grid_column": null,
            "grid_gap": null,
            "grid_row": null,
            "grid_template_areas": null,
            "grid_template_columns": null,
            "grid_template_rows": null,
            "height": null,
            "justify_content": null,
            "justify_items": null,
            "left": null,
            "margin": null,
            "max_height": null,
            "max_width": null,
            "min_height": null,
            "min_width": null,
            "object_fit": null,
            "object_position": null,
            "order": null,
            "overflow": null,
            "overflow_x": null,
            "overflow_y": null,
            "padding": null,
            "right": null,
            "top": null,
            "visibility": null,
            "width": null
          }
        },
        "7f252172e6354fc583f330cc03a917cd": {
          "model_module": "@jupyter-widgets/controls",
          "model_module_version": "1.5.0",
          "model_name": "DescriptionStyleModel",
          "state": {
            "_model_module": "@jupyter-widgets/controls",
            "_model_module_version": "1.5.0",
            "_model_name": "DescriptionStyleModel",
            "_view_count": null,
            "_view_module": "@jupyter-widgets/base",
            "_view_module_version": "1.2.0",
            "_view_name": "StyleView",
            "description_width": ""
          }
        },
        "7f54f908098a4f9cbd5bc365f51e91b5": {
          "model_module": "@jupyter-widgets/controls",
          "model_module_version": "1.5.0",
          "model_name": "HTMLModel",
          "state": {
            "_dom_classes": [],
            "_model_module": "@jupyter-widgets/controls",
            "_model_module_version": "1.5.0",
            "_model_name": "HTMLModel",
            "_view_count": null,
            "_view_module": "@jupyter-widgets/controls",
            "_view_module_version": "1.5.0",
            "_view_name": "HTMLView",
            "description": "",
            "description_tooltip": null,
            "layout": "IPY_MODEL_17e1ac1a01dc43b6869a60a14d3718cb",
            "placeholder": "​",
            "style": "IPY_MODEL_12e535120f6f4497a5f3cbea095d4796",
            "value": " 570/570 [00:00&lt;00:00, 41.7kB/s]"
          }
        },
        "811f1e6f52604becb6b902729d51afd6": {
          "model_module": "@jupyter-widgets/controls",
          "model_module_version": "1.5.0",
          "model_name": "DescriptionStyleModel",
          "state": {
            "_model_module": "@jupyter-widgets/controls",
            "_model_module_version": "1.5.0",
            "_model_name": "DescriptionStyleModel",
            "_view_count": null,
            "_view_module": "@jupyter-widgets/base",
            "_view_module_version": "1.2.0",
            "_view_name": "StyleView",
            "description_width": ""
          }
        },
        "81e1729153c3434d990dafa844ddf383": {
          "model_module": "@jupyter-widgets/controls",
          "model_module_version": "1.5.0",
          "model_name": "FloatProgressModel",
          "state": {
            "_dom_classes": [],
            "_model_module": "@jupyter-widgets/controls",
            "_model_module_version": "1.5.0",
            "_model_name": "FloatProgressModel",
            "_view_count": null,
            "_view_module": "@jupyter-widgets/controls",
            "_view_module_version": "1.5.0",
            "_view_name": "ProgressView",
            "bar_style": "success",
            "description": "",
            "description_tooltip": null,
            "layout": "IPY_MODEL_d3e32a67da1d4a62adf02657d31cc240",
            "max": 231508,
            "min": 0,
            "orientation": "horizontal",
            "style": "IPY_MODEL_8602bfe3abb34251b9dfca1c054cfa38",
            "value": 231508
          }
        },
        "8602bfe3abb34251b9dfca1c054cfa38": {
          "model_module": "@jupyter-widgets/controls",
          "model_module_version": "1.5.0",
          "model_name": "ProgressStyleModel",
          "state": {
            "_model_module": "@jupyter-widgets/controls",
            "_model_module_version": "1.5.0",
            "_model_name": "ProgressStyleModel",
            "_view_count": null,
            "_view_module": "@jupyter-widgets/base",
            "_view_module_version": "1.2.0",
            "_view_name": "StyleView",
            "bar_color": null,
            "description_width": ""
          }
        },
        "872675595875452aace47dea3b12124a": {
          "model_module": "@jupyter-widgets/controls",
          "model_module_version": "1.5.0",
          "model_name": "DescriptionStyleModel",
          "state": {
            "_model_module": "@jupyter-widgets/controls",
            "_model_module_version": "1.5.0",
            "_model_name": "DescriptionStyleModel",
            "_view_count": null,
            "_view_module": "@jupyter-widgets/base",
            "_view_module_version": "1.2.0",
            "_view_name": "StyleView",
            "description_width": ""
          }
        },
        "9520b5b2b0714ce5afd11dbf5e492edd": {
          "model_module": "@jupyter-widgets/controls",
          "model_module_version": "1.5.0",
          "model_name": "DescriptionStyleModel",
          "state": {
            "_model_module": "@jupyter-widgets/controls",
            "_model_module_version": "1.5.0",
            "_model_name": "DescriptionStyleModel",
            "_view_count": null,
            "_view_module": "@jupyter-widgets/base",
            "_view_module_version": "1.2.0",
            "_view_name": "StyleView",
            "description_width": ""
          }
        },
        "966666505087417ebac38c08257ca32c": {
          "model_module": "@jupyter-widgets/controls",
          "model_module_version": "1.5.0",
          "model_name": "HBoxModel",
          "state": {
            "_dom_classes": [],
            "_model_module": "@jupyter-widgets/controls",
            "_model_module_version": "1.5.0",
            "_model_name": "HBoxModel",
            "_view_count": null,
            "_view_module": "@jupyter-widgets/controls",
            "_view_module_version": "1.5.0",
            "_view_name": "HBoxView",
            "box_style": "",
            "children": [
              "IPY_MODEL_058db3f7d59a4ec4a489d6934807361b",
              "IPY_MODEL_ebfb2d37549f4ea2b12b60ae1fd31608",
              "IPY_MODEL_08c983eab4904b96b9d6bae492432f8e"
            ],
            "layout": "IPY_MODEL_40eb662338004a449a7756850030f844"
          }
        },
        "99afc692b3a74b70ba632229eb41b0c7": {
          "model_module": "@jupyter-widgets/controls",
          "model_module_version": "1.5.0",
          "model_name": "HTMLModel",
          "state": {
            "_dom_classes": [],
            "_model_module": "@jupyter-widgets/controls",
            "_model_module_version": "1.5.0",
            "_model_name": "HTMLModel",
            "_view_count": null,
            "_view_module": "@jupyter-widgets/controls",
            "_view_module_version": "1.5.0",
            "_view_name": "HTMLView",
            "description": "",
            "description_tooltip": null,
            "layout": "IPY_MODEL_03bd56de2efd4cca921be3c6933c7314",
            "placeholder": "​",
            "style": "IPY_MODEL_811f1e6f52604becb6b902729d51afd6",
            "value": " 232k/232k [00:00&lt;00:00, 360kB/s]"
          }
        },
        "9cde92853ac6452eb8fe1cd0b0f39403": {
          "model_module": "@jupyter-widgets/controls",
          "model_module_version": "1.5.0",
          "model_name": "HBoxModel",
          "state": {
            "_dom_classes": [],
            "_model_module": "@jupyter-widgets/controls",
            "_model_module_version": "1.5.0",
            "_model_name": "HBoxModel",
            "_view_count": null,
            "_view_module": "@jupyter-widgets/controls",
            "_view_module_version": "1.5.0",
            "_view_name": "HBoxView",
            "box_style": "",
            "children": [
              "IPY_MODEL_31e8f2500757428ea72316cf7db9c707",
              "IPY_MODEL_df2cb5f65dcb4b99a811569748a36593",
              "IPY_MODEL_61111049af0444a3902fedcdaeb45d91"
            ],
            "layout": "IPY_MODEL_7368f0eac484418ca5bf46b11a35eee4"
          }
        },
        "a48b0117e76d42d4a0762b770549ca4b": {
          "model_module": "@jupyter-widgets/base",
          "model_module_version": "1.2.0",
          "model_name": "LayoutModel",
          "state": {
            "_model_module": "@jupyter-widgets/base",
            "_model_module_version": "1.2.0",
            "_model_name": "LayoutModel",
            "_view_count": null,
            "_view_module": "@jupyter-widgets/base",
            "_view_module_version": "1.2.0",
            "_view_name": "LayoutView",
            "align_content": null,
            "align_items": null,
            "align_self": null,
            "border": null,
            "bottom": null,
            "display": null,
            "flex": null,
            "flex_flow": null,
            "grid_area": null,
            "grid_auto_columns": null,
            "grid_auto_flow": null,
            "grid_auto_rows": null,
            "grid_column": null,
            "grid_gap": null,
            "grid_row": null,
            "grid_template_areas": null,
            "grid_template_columns": null,
            "grid_template_rows": null,
            "height": null,
            "justify_content": null,
            "justify_items": null,
            "left": null,
            "margin": null,
            "max_height": null,
            "max_width": null,
            "min_height": null,
            "min_width": null,
            "object_fit": null,
            "object_position": null,
            "order": null,
            "overflow": null,
            "overflow_x": null,
            "overflow_y": null,
            "padding": null,
            "right": null,
            "top": null,
            "visibility": null,
            "width": null
          }
        },
        "a59473e8216140e98ef4284736680bfe": {
          "model_module": "@jupyter-widgets/controls",
          "model_module_version": "1.5.0",
          "model_name": "ProgressStyleModel",
          "state": {
            "_model_module": "@jupyter-widgets/controls",
            "_model_module_version": "1.5.0",
            "_model_name": "ProgressStyleModel",
            "_view_count": null,
            "_view_module": "@jupyter-widgets/base",
            "_view_module_version": "1.2.0",
            "_view_name": "StyleView",
            "bar_color": null,
            "description_width": ""
          }
        },
        "aee2998f084b4023ba0012bb741affbc": {
          "model_module": "@jupyter-widgets/controls",
          "model_module_version": "1.5.0",
          "model_name": "HTMLModel",
          "state": {
            "_dom_classes": [],
            "_model_module": "@jupyter-widgets/controls",
            "_model_module_version": "1.5.0",
            "_model_name": "HTMLModel",
            "_view_count": null,
            "_view_module": "@jupyter-widgets/controls",
            "_view_module_version": "1.5.0",
            "_view_name": "HTMLView",
            "description": "",
            "description_tooltip": null,
            "layout": "IPY_MODEL_5c489f4c7cbe48e0a9100abaec302e34",
            "placeholder": "​",
            "style": "IPY_MODEL_872675595875452aace47dea3b12124a",
            "value": "Downloading: 100%"
          }
        },
        "b3009be50ffd4e78bc842ef89f6d55f5": {
          "model_module": "@jupyter-widgets/base",
          "model_module_version": "1.2.0",
          "model_name": "LayoutModel",
          "state": {
            "_model_module": "@jupyter-widgets/base",
            "_model_module_version": "1.2.0",
            "_model_name": "LayoutModel",
            "_view_count": null,
            "_view_module": "@jupyter-widgets/base",
            "_view_module_version": "1.2.0",
            "_view_name": "LayoutView",
            "align_content": null,
            "align_items": null,
            "align_self": null,
            "border": null,
            "bottom": null,
            "display": null,
            "flex": null,
            "flex_flow": null,
            "grid_area": null,
            "grid_auto_columns": null,
            "grid_auto_flow": null,
            "grid_auto_rows": null,
            "grid_column": null,
            "grid_gap": null,
            "grid_row": null,
            "grid_template_areas": null,
            "grid_template_columns": null,
            "grid_template_rows": null,
            "height": null,
            "justify_content": null,
            "justify_items": null,
            "left": null,
            "margin": null,
            "max_height": null,
            "max_width": null,
            "min_height": null,
            "min_width": null,
            "object_fit": null,
            "object_position": null,
            "order": null,
            "overflow": null,
            "overflow_x": null,
            "overflow_y": null,
            "padding": null,
            "right": null,
            "top": null,
            "visibility": null,
            "width": null
          }
        },
        "d3e32a67da1d4a62adf02657d31cc240": {
          "model_module": "@jupyter-widgets/base",
          "model_module_version": "1.2.0",
          "model_name": "LayoutModel",
          "state": {
            "_model_module": "@jupyter-widgets/base",
            "_model_module_version": "1.2.0",
            "_model_name": "LayoutModel",
            "_view_count": null,
            "_view_module": "@jupyter-widgets/base",
            "_view_module_version": "1.2.0",
            "_view_name": "LayoutView",
            "align_content": null,
            "align_items": null,
            "align_self": null,
            "border": null,
            "bottom": null,
            "display": null,
            "flex": null,
            "flex_flow": null,
            "grid_area": null,
            "grid_auto_columns": null,
            "grid_auto_flow": null,
            "grid_auto_rows": null,
            "grid_column": null,
            "grid_gap": null,
            "grid_row": null,
            "grid_template_areas": null,
            "grid_template_columns": null,
            "grid_template_rows": null,
            "height": null,
            "justify_content": null,
            "justify_items": null,
            "left": null,
            "margin": null,
            "max_height": null,
            "max_width": null,
            "min_height": null,
            "min_width": null,
            "object_fit": null,
            "object_position": null,
            "order": null,
            "overflow": null,
            "overflow_x": null,
            "overflow_y": null,
            "padding": null,
            "right": null,
            "top": null,
            "visibility": null,
            "width": null
          }
        },
        "d503ed1107b34952b9300b8ae2fabc89": {
          "model_module": "@jupyter-widgets/controls",
          "model_module_version": "1.5.0",
          "model_name": "HBoxModel",
          "state": {
            "_dom_classes": [],
            "_model_module": "@jupyter-widgets/controls",
            "_model_module_version": "1.5.0",
            "_model_name": "HBoxModel",
            "_view_count": null,
            "_view_module": "@jupyter-widgets/controls",
            "_view_module_version": "1.5.0",
            "_view_name": "HBoxView",
            "box_style": "",
            "children": [
              "IPY_MODEL_aee2998f084b4023ba0012bb741affbc",
              "IPY_MODEL_81e1729153c3434d990dafa844ddf383",
              "IPY_MODEL_99afc692b3a74b70ba632229eb41b0c7"
            ],
            "layout": "IPY_MODEL_487994bce0874acf959590c6aa7d5d9a"
          }
        },
        "dbfb7360dd824121bf49a4354813c8c6": {
          "model_module": "@jupyter-widgets/controls",
          "model_module_version": "1.5.0",
          "model_name": "DescriptionStyleModel",
          "state": {
            "_model_module": "@jupyter-widgets/controls",
            "_model_module_version": "1.5.0",
            "_model_name": "DescriptionStyleModel",
            "_view_count": null,
            "_view_module": "@jupyter-widgets/base",
            "_view_module_version": "1.2.0",
            "_view_name": "StyleView",
            "description_width": ""
          }
        },
        "df2cb5f65dcb4b99a811569748a36593": {
          "model_module": "@jupyter-widgets/controls",
          "model_module_version": "1.5.0",
          "model_name": "FloatProgressModel",
          "state": {
            "_dom_classes": [],
            "_model_module": "@jupyter-widgets/controls",
            "_model_module_version": "1.5.0",
            "_model_name": "FloatProgressModel",
            "_view_count": null,
            "_view_module": "@jupyter-widgets/controls",
            "_view_module_version": "1.5.0",
            "_view_name": "ProgressView",
            "bar_style": "success",
            "description": "",
            "description_tooltip": null,
            "layout": "IPY_MODEL_a48b0117e76d42d4a0762b770549ca4b",
            "max": 440473133,
            "min": 0,
            "orientation": "horizontal",
            "style": "IPY_MODEL_31865ef48d5c4840909717ab832fb66e",
            "value": 440473133
          }
        },
        "e0d67cf8f2264d09b359f86e7fac5f76": {
          "model_module": "@jupyter-widgets/controls",
          "model_module_version": "1.5.0",
          "model_name": "DescriptionStyleModel",
          "state": {
            "_model_module": "@jupyter-widgets/controls",
            "_model_module_version": "1.5.0",
            "_model_name": "DescriptionStyleModel",
            "_view_count": null,
            "_view_module": "@jupyter-widgets/base",
            "_view_module_version": "1.2.0",
            "_view_name": "StyleView",
            "description_width": ""
          }
        },
        "e5f9c60862b040d6aa16fe28cedaf606": {
          "model_module": "@jupyter-widgets/base",
          "model_module_version": "1.2.0",
          "model_name": "LayoutModel",
          "state": {
            "_model_module": "@jupyter-widgets/base",
            "_model_module_version": "1.2.0",
            "_model_name": "LayoutModel",
            "_view_count": null,
            "_view_module": "@jupyter-widgets/base",
            "_view_module_version": "1.2.0",
            "_view_name": "LayoutView",
            "align_content": null,
            "align_items": null,
            "align_self": null,
            "border": null,
            "bottom": null,
            "display": null,
            "flex": null,
            "flex_flow": null,
            "grid_area": null,
            "grid_auto_columns": null,
            "grid_auto_flow": null,
            "grid_auto_rows": null,
            "grid_column": null,
            "grid_gap": null,
            "grid_row": null,
            "grid_template_areas": null,
            "grid_template_columns": null,
            "grid_template_rows": null,
            "height": null,
            "justify_content": null,
            "justify_items": null,
            "left": null,
            "margin": null,
            "max_height": null,
            "max_width": null,
            "min_height": null,
            "min_width": null,
            "object_fit": null,
            "object_position": null,
            "order": null,
            "overflow": null,
            "overflow_x": null,
            "overflow_y": null,
            "padding": null,
            "right": null,
            "top": null,
            "visibility": null,
            "width": null
          }
        },
        "ebfb2d37549f4ea2b12b60ae1fd31608": {
          "model_module": "@jupyter-widgets/controls",
          "model_module_version": "1.5.0",
          "model_name": "FloatProgressModel",
          "state": {
            "_dom_classes": [],
            "_model_module": "@jupyter-widgets/controls",
            "_model_module_version": "1.5.0",
            "_model_name": "FloatProgressModel",
            "_view_count": null,
            "_view_module": "@jupyter-widgets/controls",
            "_view_module_version": "1.5.0",
            "_view_name": "ProgressView",
            "bar_style": "success",
            "description": "",
            "description_tooltip": null,
            "layout": "IPY_MODEL_553d615b51554e68a0ae39d34a695817",
            "max": 28,
            "min": 0,
            "orientation": "horizontal",
            "style": "IPY_MODEL_a59473e8216140e98ef4284736680bfe",
            "value": 28
          }
        },
        "f1aa3746d511428c9a5f78a18b3b03ef": {
          "model_module": "@jupyter-widgets/base",
          "model_module_version": "1.2.0",
          "model_name": "LayoutModel",
          "state": {
            "_model_module": "@jupyter-widgets/base",
            "_model_module_version": "1.2.0",
            "_model_name": "LayoutModel",
            "_view_count": null,
            "_view_module": "@jupyter-widgets/base",
            "_view_module_version": "1.2.0",
            "_view_name": "LayoutView",
            "align_content": null,
            "align_items": null,
            "align_self": null,
            "border": null,
            "bottom": null,
            "display": null,
            "flex": null,
            "flex_flow": null,
            "grid_area": null,
            "grid_auto_columns": null,
            "grid_auto_flow": null,
            "grid_auto_rows": null,
            "grid_column": null,
            "grid_gap": null,
            "grid_row": null,
            "grid_template_areas": null,
            "grid_template_columns": null,
            "grid_template_rows": null,
            "height": null,
            "justify_content": null,
            "justify_items": null,
            "left": null,
            "margin": null,
            "max_height": null,
            "max_width": null,
            "min_height": null,
            "min_width": null,
            "object_fit": null,
            "object_position": null,
            "order": null,
            "overflow": null,
            "overflow_x": null,
            "overflow_y": null,
            "padding": null,
            "right": null,
            "top": null,
            "visibility": null,
            "width": null
          }
        },
        "f5b75877a8484a61a34cc3cec2a06240": {
          "model_module": "@jupyter-widgets/base",
          "model_module_version": "1.2.0",
          "model_name": "LayoutModel",
          "state": {
            "_model_module": "@jupyter-widgets/base",
            "_model_module_version": "1.2.0",
            "_model_name": "LayoutModel",
            "_view_count": null,
            "_view_module": "@jupyter-widgets/base",
            "_view_module_version": "1.2.0",
            "_view_name": "LayoutView",
            "align_content": null,
            "align_items": null,
            "align_self": null,
            "border": null,
            "bottom": null,
            "display": null,
            "flex": null,
            "flex_flow": null,
            "grid_area": null,
            "grid_auto_columns": null,
            "grid_auto_flow": null,
            "grid_auto_rows": null,
            "grid_column": null,
            "grid_gap": null,
            "grid_row": null,
            "grid_template_areas": null,
            "grid_template_columns": null,
            "grid_template_rows": null,
            "height": null,
            "justify_content": null,
            "justify_items": null,
            "left": null,
            "margin": null,
            "max_height": null,
            "max_width": null,
            "min_height": null,
            "min_width": null,
            "object_fit": null,
            "object_position": null,
            "order": null,
            "overflow": null,
            "overflow_x": null,
            "overflow_y": null,
            "padding": null,
            "right": null,
            "top": null,
            "visibility": null,
            "width": null
          }
        }
      }
    }
  },
  "nbformat": 4,
  "nbformat_minor": 0
}